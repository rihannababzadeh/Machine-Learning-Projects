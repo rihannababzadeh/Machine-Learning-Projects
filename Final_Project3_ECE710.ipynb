{
  "nbformat": 4,
  "nbformat_minor": 0,
  "metadata": {
    "colab": {
      "provenance": [],
      "collapsed_sections": [],
      "toc_visible": true,
      "include_colab_link": true
    },
    "kernelspec": {
      "display_name": "Python 3",
      "name": "python3"
    },
    "language_info": {
      "name": "python"
    }
  },
  "cells": [
    {
      "cell_type": "markdown",
      "metadata": {
        "id": "view-in-github",
        "colab_type": "text"
      },
      "source": [
        "<a href=\"https://colab.research.google.com/github/rihannababzadeh/Machine-Learning-Projects/blob/main/Final_Project3_ECE710.ipynb\" target=\"_parent\"><img src=\"https://colab.research.google.com/assets/colab-badge.svg\" alt=\"Open In Colab\"/></a>"
      ]
    },
    {
      "cell_type": "code",
      "metadata": {
        "id": "Jq500Qo48NXD"
      },
      "source": [
        "# Importing libraries\n",
        "import numpy as np\n",
        "import pandas as pd\n",
        "import seaborn as sns\n",
        "import sklearn\n",
        "import matplotlib.pyplot as plt\n",
        "from scipy import stats\n",
        "pd.set_option('display.max_rows', 20) # number of rows for printing\n",
        "import pickle"
      ],
      "execution_count": null,
      "outputs": []
    },
    {
      "cell_type": "code",
      "metadata": {
        "colab": {
          "resources": {
            "http://localhost:8080/nbextensions/google.colab/files.js": {
              "data": "Ly8gQ29weXJpZ2h0IDIwMTcgR29vZ2xlIExMQwovLwovLyBMaWNlbnNlZCB1bmRlciB0aGUgQXBhY2hlIExpY2Vuc2UsIFZlcnNpb24gMi4wICh0aGUgIkxpY2Vuc2UiKTsKLy8geW91IG1heSBub3QgdXNlIHRoaXMgZmlsZSBleGNlcHQgaW4gY29tcGxpYW5jZSB3aXRoIHRoZSBMaWNlbnNlLgovLyBZb3UgbWF5IG9idGFpbiBhIGNvcHkgb2YgdGhlIExpY2Vuc2UgYXQKLy8KLy8gICAgICBodHRwOi8vd3d3LmFwYWNoZS5vcmcvbGljZW5zZXMvTElDRU5TRS0yLjAKLy8KLy8gVW5sZXNzIHJlcXVpcmVkIGJ5IGFwcGxpY2FibGUgbGF3IG9yIGFncmVlZCB0byBpbiB3cml0aW5nLCBzb2Z0d2FyZQovLyBkaXN0cmlidXRlZCB1bmRlciB0aGUgTGljZW5zZSBpcyBkaXN0cmlidXRlZCBvbiBhbiAiQVMgSVMiIEJBU0lTLAovLyBXSVRIT1VUIFdBUlJBTlRJRVMgT1IgQ09ORElUSU9OUyBPRiBBTlkgS0lORCwgZWl0aGVyIGV4cHJlc3Mgb3IgaW1wbGllZC4KLy8gU2VlIHRoZSBMaWNlbnNlIGZvciB0aGUgc3BlY2lmaWMgbGFuZ3VhZ2UgZ292ZXJuaW5nIHBlcm1pc3Npb25zIGFuZAovLyBsaW1pdGF0aW9ucyB1bmRlciB0aGUgTGljZW5zZS4KCi8qKgogKiBAZmlsZW92ZXJ2aWV3IEhlbHBlcnMgZm9yIGdvb2dsZS5jb2xhYiBQeXRob24gbW9kdWxlLgogKi8KKGZ1bmN0aW9uKHNjb3BlKSB7CmZ1bmN0aW9uIHNwYW4odGV4dCwgc3R5bGVBdHRyaWJ1dGVzID0ge30pIHsKICBjb25zdCBlbGVtZW50ID0gZG9jdW1lbnQuY3JlYXRlRWxlbWVudCgnc3BhbicpOwogIGVsZW1lbnQudGV4dENvbnRlbnQgPSB0ZXh0OwogIGZvciAoY29uc3Qga2V5IG9mIE9iamVjdC5rZXlzKHN0eWxlQXR0cmlidXRlcykpIHsKICAgIGVsZW1lbnQuc3R5bGVba2V5XSA9IHN0eWxlQXR0cmlidXRlc1trZXldOwogIH0KICByZXR1cm4gZWxlbWVudDsKfQoKLy8gTWF4IG51bWJlciBvZiBieXRlcyB3aGljaCB3aWxsIGJlIHVwbG9hZGVkIGF0IGEgdGltZS4KY29uc3QgTUFYX1BBWUxPQURfU0laRSA9IDEwMCAqIDEwMjQ7CgpmdW5jdGlvbiBfdXBsb2FkRmlsZXMoaW5wdXRJZCwgb3V0cHV0SWQpIHsKICBjb25zdCBzdGVwcyA9IHVwbG9hZEZpbGVzU3RlcChpbnB1dElkLCBvdXRwdXRJZCk7CiAgY29uc3Qgb3V0cHV0RWxlbWVudCA9IGRvY3VtZW50LmdldEVsZW1lbnRCeUlkKG91dHB1dElkKTsKICAvLyBDYWNoZSBzdGVwcyBvbiB0aGUgb3V0cHV0RWxlbWVudCB0byBtYWtlIGl0IGF2YWlsYWJsZSBmb3IgdGhlIG5leHQgY2FsbAogIC8vIHRvIHVwbG9hZEZpbGVzQ29udGludWUgZnJvbSBQeXRob24uCiAgb3V0cHV0RWxlbWVudC5zdGVwcyA9IHN0ZXBzOwoKICByZXR1cm4gX3VwbG9hZEZpbGVzQ29udGludWUob3V0cHV0SWQpOwp9CgovLyBUaGlzIGlzIHJvdWdobHkgYW4gYXN5bmMgZ2VuZXJhdG9yIChub3Qgc3VwcG9ydGVkIGluIHRoZSBicm93c2VyIHlldCksCi8vIHdoZXJlIHRoZXJlIGFyZSBtdWx0aXBsZSBhc3luY2hyb25vdXMgc3RlcHMgYW5kIHRoZSBQeXRob24gc2lkZSBpcyBnb2luZwovLyB0byBwb2xsIGZvciBjb21wbGV0aW9uIG9mIGVhY2ggc3RlcC4KLy8gVGhpcyB1c2VzIGEgUHJvbWlzZSB0byBibG9jayB0aGUgcHl0aG9uIHNpZGUgb24gY29tcGxldGlvbiBvZiBlYWNoIHN0ZXAsCi8vIHRoZW4gcGFzc2VzIHRoZSByZXN1bHQgb2YgdGhlIHByZXZpb3VzIHN0ZXAgYXMgdGhlIGlucHV0IHRvIHRoZSBuZXh0IHN0ZXAuCmZ1bmN0aW9uIF91cGxvYWRGaWxlc0NvbnRpbnVlKG91dHB1dElkKSB7CiAgY29uc3Qgb3V0cHV0RWxlbWVudCA9IGRvY3VtZW50LmdldEVsZW1lbnRCeUlkKG91dHB1dElkKTsKICBjb25zdCBzdGVwcyA9IG91dHB1dEVsZW1lbnQuc3RlcHM7CgogIGNvbnN0IG5leHQgPSBzdGVwcy5uZXh0KG91dHB1dEVsZW1lbnQubGFzdFByb21pc2VWYWx1ZSk7CiAgcmV0dXJuIFByb21pc2UucmVzb2x2ZShuZXh0LnZhbHVlLnByb21pc2UpLnRoZW4oKHZhbHVlKSA9PiB7CiAgICAvLyBDYWNoZSB0aGUgbGFzdCBwcm9taXNlIHZhbHVlIHRvIG1ha2UgaXQgYXZhaWxhYmxlIHRvIHRoZSBuZXh0CiAgICAvLyBzdGVwIG9mIHRoZSBnZW5lcmF0b3IuCiAgICBvdXRwdXRFbGVtZW50Lmxhc3RQcm9taXNlVmFsdWUgPSB2YWx1ZTsKICAgIHJldHVybiBuZXh0LnZhbHVlLnJlc3BvbnNlOwogIH0pOwp9CgovKioKICogR2VuZXJhdG9yIGZ1bmN0aW9uIHdoaWNoIGlzIGNhbGxlZCBiZXR3ZWVuIGVhY2ggYXN5bmMgc3RlcCBvZiB0aGUgdXBsb2FkCiAqIHByb2Nlc3MuCiAqIEBwYXJhbSB7c3RyaW5nfSBpbnB1dElkIEVsZW1lbnQgSUQgb2YgdGhlIGlucHV0IGZpbGUgcGlja2VyIGVsZW1lbnQuCiAqIEBwYXJhbSB7c3RyaW5nfSBvdXRwdXRJZCBFbGVtZW50IElEIG9mIHRoZSBvdXRwdXQgZGlzcGxheS4KICogQHJldHVybiB7IUl0ZXJhYmxlPCFPYmplY3Q+fSBJdGVyYWJsZSBvZiBuZXh0IHN0ZXBzLgogKi8KZnVuY3Rpb24qIHVwbG9hZEZpbGVzU3RlcChpbnB1dElkLCBvdXRwdXRJZCkgewogIGNvbnN0IGlucHV0RWxlbWVudCA9IGRvY3VtZW50LmdldEVsZW1lbnRCeUlkKGlucHV0SWQpOwogIGlucHV0RWxlbWVudC5kaXNhYmxlZCA9IGZhbHNlOwoKICBjb25zdCBvdXRwdXRFbGVtZW50ID0gZG9jdW1lbnQuZ2V0RWxlbWVudEJ5SWQob3V0cHV0SWQpOwogIG91dHB1dEVsZW1lbnQuaW5uZXJIVE1MID0gJyc7CgogIGNvbnN0IHBpY2tlZFByb21pc2UgPSBuZXcgUHJvbWlzZSgocmVzb2x2ZSkgPT4gewogICAgaW5wdXRFbGVtZW50LmFkZEV2ZW50TGlzdGVuZXIoJ2NoYW5nZScsIChlKSA9PiB7CiAgICAgIHJlc29sdmUoZS50YXJnZXQuZmlsZXMpOwogICAgfSk7CiAgfSk7CgogIGNvbnN0IGNhbmNlbCA9IGRvY3VtZW50LmNyZWF0ZUVsZW1lbnQoJ2J1dHRvbicpOwogIGlucHV0RWxlbWVudC5wYXJlbnRFbGVtZW50LmFwcGVuZENoaWxkKGNhbmNlbCk7CiAgY2FuY2VsLnRleHRDb250ZW50ID0gJ0NhbmNlbCB1cGxvYWQnOwogIGNvbnN0IGNhbmNlbFByb21pc2UgPSBuZXcgUHJvbWlzZSgocmVzb2x2ZSkgPT4gewogICAgY2FuY2VsLm9uY2xpY2sgPSAoKSA9PiB7CiAgICAgIHJlc29sdmUobnVsbCk7CiAgICB9OwogIH0pOwoKICAvLyBXYWl0IGZvciB0aGUgdXNlciB0byBwaWNrIHRoZSBmaWxlcy4KICBjb25zdCBmaWxlcyA9IHlpZWxkIHsKICAgIHByb21pc2U6IFByb21pc2UucmFjZShbcGlja2VkUHJvbWlzZSwgY2FuY2VsUHJvbWlzZV0pLAogICAgcmVzcG9uc2U6IHsKICAgICAgYWN0aW9uOiAnc3RhcnRpbmcnLAogICAgfQogIH07CgogIGNhbmNlbC5yZW1vdmUoKTsKCiAgLy8gRGlzYWJsZSB0aGUgaW5wdXQgZWxlbWVudCBzaW5jZSBmdXJ0aGVyIHBpY2tzIGFyZSBub3QgYWxsb3dlZC4KICBpbnB1dEVsZW1lbnQuZGlzYWJsZWQgPSB0cnVlOwoKICBpZiAoIWZpbGVzKSB7CiAgICByZXR1cm4gewogICAgICByZXNwb25zZTogewogICAgICAgIGFjdGlvbjogJ2NvbXBsZXRlJywKICAgICAgfQogICAgfTsKICB9CgogIGZvciAoY29uc3QgZmlsZSBvZiBmaWxlcykgewogICAgY29uc3QgbGkgPSBkb2N1bWVudC5jcmVhdGVFbGVtZW50KCdsaScpOwogICAgbGkuYXBwZW5kKHNwYW4oZmlsZS5uYW1lLCB7Zm9udFdlaWdodDogJ2JvbGQnfSkpOwogICAgbGkuYXBwZW5kKHNwYW4oCiAgICAgICAgYCgke2ZpbGUudHlwZSB8fCAnbi9hJ30pIC0gJHtmaWxlLnNpemV9IGJ5dGVzLCBgICsKICAgICAgICBgbGFzdCBtb2RpZmllZDogJHsKICAgICAgICAgICAgZmlsZS5sYXN0TW9kaWZpZWREYXRlID8gZmlsZS5sYXN0TW9kaWZpZWREYXRlLnRvTG9jYWxlRGF0ZVN0cmluZygpIDoKICAgICAgICAgICAgICAgICAgICAgICAgICAgICAgICAgICAgJ24vYSd9IC0gYCkpOwogICAgY29uc3QgcGVyY2VudCA9IHNwYW4oJzAlIGRvbmUnKTsKICAgIGxpLmFwcGVuZENoaWxkKHBlcmNlbnQpOwoKICAgIG91dHB1dEVsZW1lbnQuYXBwZW5kQ2hpbGQobGkpOwoKICAgIGNvbnN0IGZpbGVEYXRhUHJvbWlzZSA9IG5ldyBQcm9taXNlKChyZXNvbHZlKSA9PiB7CiAgICAgIGNvbnN0IHJlYWRlciA9IG5ldyBGaWxlUmVhZGVyKCk7CiAgICAgIHJlYWRlci5vbmxvYWQgPSAoZSkgPT4gewogICAgICAgIHJlc29sdmUoZS50YXJnZXQucmVzdWx0KTsKICAgICAgfTsKICAgICAgcmVhZGVyLnJlYWRBc0FycmF5QnVmZmVyKGZpbGUpOwogICAgfSk7CiAgICAvLyBXYWl0IGZvciB0aGUgZGF0YSB0byBiZSByZWFkeS4KICAgIGxldCBmaWxlRGF0YSA9IHlpZWxkIHsKICAgICAgcHJvbWlzZTogZmlsZURhdGFQcm9taXNlLAogICAgICByZXNwb25zZTogewogICAgICAgIGFjdGlvbjogJ2NvbnRpbnVlJywKICAgICAgfQogICAgfTsKCiAgICAvLyBVc2UgYSBjaHVua2VkIHNlbmRpbmcgdG8gYXZvaWQgbWVzc2FnZSBzaXplIGxpbWl0cy4gU2VlIGIvNjIxMTU2NjAuCiAgICBsZXQgcG9zaXRpb24gPSAwOwogICAgd2hpbGUgKHBvc2l0aW9uIDwgZmlsZURhdGEuYnl0ZUxlbmd0aCkgewogICAgICBjb25zdCBsZW5ndGggPSBNYXRoLm1pbihmaWxlRGF0YS5ieXRlTGVuZ3RoIC0gcG9zaXRpb24sIE1BWF9QQVlMT0FEX1NJWkUpOwogICAgICBjb25zdCBjaHVuayA9IG5ldyBVaW50OEFycmF5KGZpbGVEYXRhLCBwb3NpdGlvbiwgbGVuZ3RoKTsKICAgICAgcG9zaXRpb24gKz0gbGVuZ3RoOwoKICAgICAgY29uc3QgYmFzZTY0ID0gYnRvYShTdHJpbmcuZnJvbUNoYXJDb2RlLmFwcGx5KG51bGwsIGNodW5rKSk7CiAgICAgIHlpZWxkIHsKICAgICAgICByZXNwb25zZTogewogICAgICAgICAgYWN0aW9uOiAnYXBwZW5kJywKICAgICAgICAgIGZpbGU6IGZpbGUubmFtZSwKICAgICAgICAgIGRhdGE6IGJhc2U2NCwKICAgICAgICB9LAogICAgICB9OwogICAgICBwZXJjZW50LnRleHRDb250ZW50ID0KICAgICAgICAgIGAke01hdGgucm91bmQoKHBvc2l0aW9uIC8gZmlsZURhdGEuYnl0ZUxlbmd0aCkgKiAxMDApfSUgZG9uZWA7CiAgICB9CiAgfQoKICAvLyBBbGwgZG9uZS4KICB5aWVsZCB7CiAgICByZXNwb25zZTogewogICAgICBhY3Rpb246ICdjb21wbGV0ZScsCiAgICB9CiAgfTsKfQoKc2NvcGUuZ29vZ2xlID0gc2NvcGUuZ29vZ2xlIHx8IHt9OwpzY29wZS5nb29nbGUuY29sYWIgPSBzY29wZS5nb29nbGUuY29sYWIgfHwge307CnNjb3BlLmdvb2dsZS5jb2xhYi5fZmlsZXMgPSB7CiAgX3VwbG9hZEZpbGVzLAogIF91cGxvYWRGaWxlc0NvbnRpbnVlLAp9Owp9KShzZWxmKTsK",
              "ok": true,
              "headers": [
                [
                  "content-type",
                  "application/javascript"
                ]
              ],
              "status": 200,
              "status_text": ""
            }
          },
          "base_uri": "https://localhost:8080/",
          "height": 73
        },
        "id": "Xx6jxedH-_3i",
        "outputId": "72568f0d-88f6-4d23-8e74-bdc0d7a2fa89"
      },
      "source": [
        "# Loading the dataset in a pandas dataframe from a CSV file in Google Colab\n",
        "from google.colab import files\n",
        "uploaded = files.upload()\n",
        "import io\n",
        "data = pd.read_csv(io.BytesIO(uploaded['data.csv']))\n",
        "#if you are not using Google Colab please use the following line to read the csv file\n",
        "#data=pd.read_csv('data.csv')"
      ],
      "execution_count": null,
      "outputs": [
        {
          "output_type": "display_data",
          "data": {
            "text/html": [
              "\n",
              "     <input type=\"file\" id=\"files-c5842933-226a-4981-93ad-51640369cbda\" name=\"files[]\" multiple disabled\n",
              "        style=\"border:none\" />\n",
              "     <output id=\"result-c5842933-226a-4981-93ad-51640369cbda\">\n",
              "      Upload widget is only available when the cell has been executed in the\n",
              "      current browser session. Please rerun this cell to enable.\n",
              "      </output>\n",
              "      <script src=\"/nbextensions/google.colab/files.js\"></script> "
            ],
            "text/plain": [
              "<IPython.core.display.HTML object>"
            ]
          },
          "metadata": {
            "tags": []
          }
        },
        {
          "output_type": "stream",
          "text": [
            "Saving data.csv to data.csv\n"
          ],
          "name": "stdout"
        }
      ]
    },
    {
      "cell_type": "code",
      "metadata": {
        "colab": {
          "base_uri": "https://localhost:8080/",
          "height": 195
        },
        "id": "QqMbgUTU_oYL",
        "outputId": "eec9e92c-e8f7-4552-e196-9088889c13ea"
      },
      "source": [
        "#looking at the loaded dataset\n",
        "data.head()"
      ],
      "execution_count": null,
      "outputs": [
        {
          "output_type": "execute_result",
          "data": {
            "text/html": [
              "<div>\n",
              "<style scoped>\n",
              "    .dataframe tbody tr th:only-of-type {\n",
              "        vertical-align: middle;\n",
              "    }\n",
              "\n",
              "    .dataframe tbody tr th {\n",
              "        vertical-align: top;\n",
              "    }\n",
              "\n",
              "    .dataframe thead th {\n",
              "        text-align: right;\n",
              "    }\n",
              "</style>\n",
              "<table border=\"1\" class=\"dataframe\">\n",
              "  <thead>\n",
              "    <tr style=\"text-align: right;\">\n",
              "      <th></th>\n",
              "      <th>Change</th>\n",
              "      <th>AVR</th>\n",
              "      <th>Torsion</th>\n",
              "      <th>RC</th>\n",
              "      <th>Curve</th>\n",
              "      <th>Unnamed: 5</th>\n",
              "    </tr>\n",
              "  </thead>\n",
              "  <tbody>\n",
              "    <tr>\n",
              "      <th>0</th>\n",
              "      <td>-8.0</td>\n",
              "      <td>1.7</td>\n",
              "      <td>2.53</td>\n",
              "      <td>0.10</td>\n",
              "      <td>20.0</td>\n",
              "      <td>0</td>\n",
              "    </tr>\n",
              "    <tr>\n",
              "      <th>1</th>\n",
              "      <td>-10.0</td>\n",
              "      <td>-3.1</td>\n",
              "      <td>-1.03</td>\n",
              "      <td>0.09</td>\n",
              "      <td>35.0</td>\n",
              "      <td>0</td>\n",
              "    </tr>\n",
              "    <tr>\n",
              "      <th>2</th>\n",
              "      <td>8.0</td>\n",
              "      <td>-4.2</td>\n",
              "      <td>0.00</td>\n",
              "      <td>0.08</td>\n",
              "      <td>24.0</td>\n",
              "      <td>0</td>\n",
              "    </tr>\n",
              "    <tr>\n",
              "      <th>3</th>\n",
              "      <td>1.0</td>\n",
              "      <td>4.4</td>\n",
              "      <td>2.27</td>\n",
              "      <td>0.09</td>\n",
              "      <td>14.0</td>\n",
              "      <td>0</td>\n",
              "    </tr>\n",
              "    <tr>\n",
              "      <th>4</th>\n",
              "      <td>7.0</td>\n",
              "      <td>7.9</td>\n",
              "      <td>3.37</td>\n",
              "      <td>0.06</td>\n",
              "      <td>38.0</td>\n",
              "      <td>0</td>\n",
              "    </tr>\n",
              "  </tbody>\n",
              "</table>\n",
              "</div>"
            ],
            "text/plain": [
              "   Change  AVR  Torsion    RC  Curve  Unnamed: 5\n",
              "0    -8.0  1.7     2.53  0.10   20.0           0\n",
              "1   -10.0 -3.1    -1.03  0.09   35.0           0\n",
              "2     8.0 -4.2     0.00  0.08   24.0           0\n",
              "3     1.0  4.4     2.27  0.09   14.0           0\n",
              "4     7.0  7.9     3.37  0.06   38.0           0"
            ]
          },
          "metadata": {
            "tags": []
          },
          "execution_count": 3
        }
      ]
    },
    {
      "cell_type": "markdown",
      "metadata": {
        "id": "f7-9ecyJmIgr"
      },
      "source": [
        "# Pre-processing"
      ]
    },
    {
      "cell_type": "code",
      "metadata": {
        "id": "__rMe4UaFahz"
      },
      "source": [
        "# g = sns.pairplot(data, hue = 'Output')"
      ],
      "execution_count": null,
      "outputs": []
    },
    {
      "cell_type": "code",
      "metadata": {
        "colab": {
          "base_uri": "https://localhost:8080/",
          "height": 354
        },
        "id": "WChZtSL-zKkD",
        "outputId": "b618f912-81bf-492f-fa89-86e4c79e1458"
      },
      "source": [
        "#Relationship between features and the output\n",
        "#features = ['Change','AVR','Torsion','RC','Curve']\n",
        "features = ['Change','AVR','Torsion','RC','Curve']\n",
        "\n",
        "for f in features:\n",
        "    sns.countplot(x = f, data = data, palette = 'Set3', hue = 'Output')\n",
        "    plt.show()"
      ],
      "execution_count": null,
      "outputs": [
        {
          "output_type": "error",
          "ename": "ValueError",
          "evalue": "ignored",
          "traceback": [
            "\u001b[0;31m---------------------------------------------------------------------------\u001b[0m",
            "\u001b[0;31mValueError\u001b[0m                                Traceback (most recent call last)",
            "\u001b[0;32m<ipython-input-4-0a094e4bcc8d>\u001b[0m in \u001b[0;36m<module>\u001b[0;34m()\u001b[0m\n\u001b[1;32m      4\u001b[0m \u001b[0;34m\u001b[0m\u001b[0m\n\u001b[1;32m      5\u001b[0m \u001b[0;32mfor\u001b[0m \u001b[0mf\u001b[0m \u001b[0;32min\u001b[0m \u001b[0mfeatures\u001b[0m\u001b[0;34m:\u001b[0m\u001b[0;34m\u001b[0m\u001b[0;34m\u001b[0m\u001b[0m\n\u001b[0;32m----> 6\u001b[0;31m     \u001b[0msns\u001b[0m\u001b[0;34m.\u001b[0m\u001b[0mcountplot\u001b[0m\u001b[0;34m(\u001b[0m\u001b[0mx\u001b[0m \u001b[0;34m=\u001b[0m \u001b[0mf\u001b[0m\u001b[0;34m,\u001b[0m \u001b[0mdata\u001b[0m \u001b[0;34m=\u001b[0m \u001b[0mdata\u001b[0m\u001b[0;34m,\u001b[0m \u001b[0mpalette\u001b[0m \u001b[0;34m=\u001b[0m \u001b[0;34m'Set3'\u001b[0m\u001b[0;34m,\u001b[0m \u001b[0mhue\u001b[0m \u001b[0;34m=\u001b[0m \u001b[0;34m'Output'\u001b[0m\u001b[0;34m)\u001b[0m\u001b[0;34m\u001b[0m\u001b[0;34m\u001b[0m\u001b[0m\n\u001b[0m\u001b[1;32m      7\u001b[0m     \u001b[0mplt\u001b[0m\u001b[0;34m.\u001b[0m\u001b[0mshow\u001b[0m\u001b[0;34m(\u001b[0m\u001b[0;34m)\u001b[0m\u001b[0;34m\u001b[0m\u001b[0;34m\u001b[0m\u001b[0m\n",
            "\u001b[0;32m/usr/local/lib/python3.7/dist-packages/seaborn/_decorators.py\u001b[0m in \u001b[0;36minner_f\u001b[0;34m(*args, **kwargs)\u001b[0m\n\u001b[1;32m     44\u001b[0m             )\n\u001b[1;32m     45\u001b[0m         \u001b[0mkwargs\u001b[0m\u001b[0;34m.\u001b[0m\u001b[0mupdate\u001b[0m\u001b[0;34m(\u001b[0m\u001b[0;34m{\u001b[0m\u001b[0mk\u001b[0m\u001b[0;34m:\u001b[0m \u001b[0marg\u001b[0m \u001b[0;32mfor\u001b[0m \u001b[0mk\u001b[0m\u001b[0;34m,\u001b[0m \u001b[0marg\u001b[0m \u001b[0;32min\u001b[0m \u001b[0mzip\u001b[0m\u001b[0;34m(\u001b[0m\u001b[0msig\u001b[0m\u001b[0;34m.\u001b[0m\u001b[0mparameters\u001b[0m\u001b[0;34m,\u001b[0m \u001b[0margs\u001b[0m\u001b[0;34m)\u001b[0m\u001b[0;34m}\u001b[0m\u001b[0;34m)\u001b[0m\u001b[0;34m\u001b[0m\u001b[0;34m\u001b[0m\u001b[0m\n\u001b[0;32m---> 46\u001b[0;31m         \u001b[0;32mreturn\u001b[0m \u001b[0mf\u001b[0m\u001b[0;34m(\u001b[0m\u001b[0;34m**\u001b[0m\u001b[0mkwargs\u001b[0m\u001b[0;34m)\u001b[0m\u001b[0;34m\u001b[0m\u001b[0;34m\u001b[0m\u001b[0m\n\u001b[0m\u001b[1;32m     47\u001b[0m     \u001b[0;32mreturn\u001b[0m \u001b[0minner_f\u001b[0m\u001b[0;34m\u001b[0m\u001b[0;34m\u001b[0m\u001b[0m\n\u001b[1;32m     48\u001b[0m \u001b[0;34m\u001b[0m\u001b[0m\n",
            "\u001b[0;32m/usr/local/lib/python3.7/dist-packages/seaborn/categorical.py\u001b[0m in \u001b[0;36mcountplot\u001b[0;34m(x, y, hue, data, order, hue_order, orient, color, palette, saturation, dodge, ax, **kwargs)\u001b[0m\n\u001b[1;32m   3597\u001b[0m         \u001b[0mestimator\u001b[0m\u001b[0;34m,\u001b[0m \u001b[0mci\u001b[0m\u001b[0;34m,\u001b[0m \u001b[0mn_boot\u001b[0m\u001b[0;34m,\u001b[0m \u001b[0munits\u001b[0m\u001b[0;34m,\u001b[0m \u001b[0mseed\u001b[0m\u001b[0;34m,\u001b[0m\u001b[0;34m\u001b[0m\u001b[0;34m\u001b[0m\u001b[0m\n\u001b[1;32m   3598\u001b[0m         \u001b[0morient\u001b[0m\u001b[0;34m,\u001b[0m \u001b[0mcolor\u001b[0m\u001b[0;34m,\u001b[0m \u001b[0mpalette\u001b[0m\u001b[0;34m,\u001b[0m \u001b[0msaturation\u001b[0m\u001b[0;34m,\u001b[0m\u001b[0;34m\u001b[0m\u001b[0;34m\u001b[0m\u001b[0m\n\u001b[0;32m-> 3599\u001b[0;31m         \u001b[0merrcolor\u001b[0m\u001b[0;34m,\u001b[0m \u001b[0merrwidth\u001b[0m\u001b[0;34m,\u001b[0m \u001b[0mcapsize\u001b[0m\u001b[0;34m,\u001b[0m \u001b[0mdodge\u001b[0m\u001b[0;34m\u001b[0m\u001b[0;34m\u001b[0m\u001b[0m\n\u001b[0m\u001b[1;32m   3600\u001b[0m     )\n\u001b[1;32m   3601\u001b[0m \u001b[0;34m\u001b[0m\u001b[0m\n",
            "\u001b[0;32m/usr/local/lib/python3.7/dist-packages/seaborn/categorical.py\u001b[0m in \u001b[0;36m__init__\u001b[0;34m(self, x, y, hue, data, order, hue_order, estimator, ci, n_boot, units, seed, orient, color, palette, saturation, errcolor, errwidth, capsize, dodge)\u001b[0m\n\u001b[1;32m   1583\u001b[0m         \u001b[0;34m\"\"\"Initialize the plotter.\"\"\"\u001b[0m\u001b[0;34m\u001b[0m\u001b[0;34m\u001b[0m\u001b[0m\n\u001b[1;32m   1584\u001b[0m         self.establish_variables(x, y, hue, data, orient,\n\u001b[0;32m-> 1585\u001b[0;31m                                  order, hue_order, units)\n\u001b[0m\u001b[1;32m   1586\u001b[0m         \u001b[0mself\u001b[0m\u001b[0;34m.\u001b[0m\u001b[0mestablish_colors\u001b[0m\u001b[0;34m(\u001b[0m\u001b[0mcolor\u001b[0m\u001b[0;34m,\u001b[0m \u001b[0mpalette\u001b[0m\u001b[0;34m,\u001b[0m \u001b[0msaturation\u001b[0m\u001b[0;34m)\u001b[0m\u001b[0;34m\u001b[0m\u001b[0;34m\u001b[0m\u001b[0m\n\u001b[1;32m   1587\u001b[0m         \u001b[0mself\u001b[0m\u001b[0;34m.\u001b[0m\u001b[0mestimate_statistic\u001b[0m\u001b[0;34m(\u001b[0m\u001b[0mestimator\u001b[0m\u001b[0;34m,\u001b[0m \u001b[0mci\u001b[0m\u001b[0;34m,\u001b[0m \u001b[0mn_boot\u001b[0m\u001b[0;34m,\u001b[0m \u001b[0mseed\u001b[0m\u001b[0;34m)\u001b[0m\u001b[0;34m\u001b[0m\u001b[0;34m\u001b[0m\u001b[0m\n",
            "\u001b[0;32m/usr/local/lib/python3.7/dist-packages/seaborn/categorical.py\u001b[0m in \u001b[0;36mestablish_variables\u001b[0;34m(self, x, y, hue, data, orient, order, hue_order, units)\u001b[0m\n\u001b[1;32m    151\u001b[0m                 \u001b[0;32mif\u001b[0m \u001b[0misinstance\u001b[0m\u001b[0;34m(\u001b[0m\u001b[0mvar\u001b[0m\u001b[0;34m,\u001b[0m \u001b[0mstr\u001b[0m\u001b[0;34m)\u001b[0m\u001b[0;34m:\u001b[0m\u001b[0;34m\u001b[0m\u001b[0;34m\u001b[0m\u001b[0m\n\u001b[1;32m    152\u001b[0m                     \u001b[0merr\u001b[0m \u001b[0;34m=\u001b[0m \u001b[0;34m\"Could not interpret input '{}'\"\u001b[0m\u001b[0;34m.\u001b[0m\u001b[0mformat\u001b[0m\u001b[0;34m(\u001b[0m\u001b[0mvar\u001b[0m\u001b[0;34m)\u001b[0m\u001b[0;34m\u001b[0m\u001b[0;34m\u001b[0m\u001b[0m\n\u001b[0;32m--> 153\u001b[0;31m                     \u001b[0;32mraise\u001b[0m \u001b[0mValueError\u001b[0m\u001b[0;34m(\u001b[0m\u001b[0merr\u001b[0m\u001b[0;34m)\u001b[0m\u001b[0;34m\u001b[0m\u001b[0;34m\u001b[0m\u001b[0m\n\u001b[0m\u001b[1;32m    154\u001b[0m \u001b[0;34m\u001b[0m\u001b[0m\n\u001b[1;32m    155\u001b[0m             \u001b[0;31m# Figure out the plotting orientation\u001b[0m\u001b[0;34m\u001b[0m\u001b[0;34m\u001b[0m\u001b[0;34m\u001b[0m\u001b[0m\n",
            "\u001b[0;31mValueError\u001b[0m: Could not interpret input 'Output'"
          ]
        }
      ]
    },
    {
      "cell_type": "code",
      "metadata": {
        "colab": {
          "base_uri": "https://localhost:8080/",
          "height": 402
        },
        "id": "w5F8stX0WY_P",
        "outputId": "7c34ba4d-a53a-4549-e7b8-f8a64a7e2747"
      },
      "source": [
        "#we need to make the Output column numerican\n",
        "data[\"Output\"].unique()#P is going to be 1 and NP is going to be 0 \n",
        "class_dict = {\"P\": 1, \"NP\": 0}\n",
        "data['Class'] = data['Output'].map(class_dict)\n",
        "data"
      ],
      "execution_count": null,
      "outputs": [
        {
          "output_type": "execute_result",
          "data": {
            "text/html": [
              "<div>\n",
              "<style scoped>\n",
              "    .dataframe tbody tr th:only-of-type {\n",
              "        vertical-align: middle;\n",
              "    }\n",
              "\n",
              "    .dataframe tbody tr th {\n",
              "        vertical-align: top;\n",
              "    }\n",
              "\n",
              "    .dataframe thead th {\n",
              "        text-align: right;\n",
              "    }\n",
              "</style>\n",
              "<table border=\"1\" class=\"dataframe\">\n",
              "  <thead>\n",
              "    <tr style=\"text-align: right;\">\n",
              "      <th></th>\n",
              "      <th>ID</th>\n",
              "      <th>Output</th>\n",
              "      <th>Change</th>\n",
              "      <th>AVR</th>\n",
              "      <th>Torsion</th>\n",
              "      <th>RC</th>\n",
              "      <th>Curve</th>\n",
              "      <th>Class</th>\n",
              "    </tr>\n",
              "  </thead>\n",
              "  <tbody>\n",
              "    <tr>\n",
              "      <th>0</th>\n",
              "      <td>SRS85</td>\n",
              "      <td>NP</td>\n",
              "      <td>-8.0</td>\n",
              "      <td>1.7</td>\n",
              "      <td>2.53</td>\n",
              "      <td>0.10</td>\n",
              "      <td>20</td>\n",
              "      <td>0</td>\n",
              "    </tr>\n",
              "    <tr>\n",
              "      <th>1</th>\n",
              "      <td>SRS87</td>\n",
              "      <td>NP</td>\n",
              "      <td>-10.0</td>\n",
              "      <td>-3.1</td>\n",
              "      <td>-1.03</td>\n",
              "      <td>0.09</td>\n",
              "      <td>35</td>\n",
              "      <td>0</td>\n",
              "    </tr>\n",
              "    <tr>\n",
              "      <th>2</th>\n",
              "      <td>US17</td>\n",
              "      <td>NP</td>\n",
              "      <td>8.0</td>\n",
              "      <td>-4.2</td>\n",
              "      <td>0.00</td>\n",
              "      <td>0.08</td>\n",
              "      <td>24</td>\n",
              "      <td>0</td>\n",
              "    </tr>\n",
              "    <tr>\n",
              "      <th>3</th>\n",
              "      <td>US83</td>\n",
              "      <td>NP</td>\n",
              "      <td>1.0</td>\n",
              "      <td>4.4</td>\n",
              "      <td>2.27</td>\n",
              "      <td>0.09</td>\n",
              "      <td>14</td>\n",
              "      <td>0</td>\n",
              "    </tr>\n",
              "    <tr>\n",
              "      <th>4</th>\n",
              "      <td>US19</td>\n",
              "      <td>NP</td>\n",
              "      <td>7.0</td>\n",
              "      <td>7.9</td>\n",
              "      <td>3.37</td>\n",
              "      <td>0.06</td>\n",
              "      <td>38</td>\n",
              "      <td>0</td>\n",
              "    </tr>\n",
              "    <tr>\n",
              "      <th>...</th>\n",
              "      <td>...</td>\n",
              "      <td>...</td>\n",
              "      <td>...</td>\n",
              "      <td>...</td>\n",
              "      <td>...</td>\n",
              "      <td>...</td>\n",
              "      <td>...</td>\n",
              "      <td>...</td>\n",
              "    </tr>\n",
              "    <tr>\n",
              "      <th>150</th>\n",
              "      <td>SRS84</td>\n",
              "      <td>NP</td>\n",
              "      <td>-4.0</td>\n",
              "      <td>2.3</td>\n",
              "      <td>-2.57</td>\n",
              "      <td>0.05</td>\n",
              "      <td>20</td>\n",
              "      <td>0</td>\n",
              "    </tr>\n",
              "    <tr>\n",
              "      <th>151</th>\n",
              "      <td>SRS117</td>\n",
              "      <td>P</td>\n",
              "      <td>-1.0</td>\n",
              "      <td>1.5</td>\n",
              "      <td>0.43</td>\n",
              "      <td>0.07</td>\n",
              "      <td>14</td>\n",
              "      <td>1</td>\n",
              "    </tr>\n",
              "    <tr>\n",
              "      <th>152</th>\n",
              "      <td>SRS120</td>\n",
              "      <td>NP</td>\n",
              "      <td>-5.0</td>\n",
              "      <td>-4.2</td>\n",
              "      <td>-3.70</td>\n",
              "      <td>0.10</td>\n",
              "      <td>10</td>\n",
              "      <td>0</td>\n",
              "    </tr>\n",
              "    <tr>\n",
              "      <th>153</th>\n",
              "      <td>SRS133</td>\n",
              "      <td>P</td>\n",
              "      <td>7.0</td>\n",
              "      <td>10.2</td>\n",
              "      <td>2.60</td>\n",
              "      <td>0.08</td>\n",
              "      <td>33</td>\n",
              "      <td>1</td>\n",
              "    </tr>\n",
              "    <tr>\n",
              "      <th>154</th>\n",
              "      <td>SRS155</td>\n",
              "      <td>NP</td>\n",
              "      <td>-3.0</td>\n",
              "      <td>-2.0</td>\n",
              "      <td>0.70</td>\n",
              "      <td>0.10</td>\n",
              "      <td>19</td>\n",
              "      <td>0</td>\n",
              "    </tr>\n",
              "  </tbody>\n",
              "</table>\n",
              "<p>155 rows × 8 columns</p>\n",
              "</div>"
            ],
            "text/plain": [
              "         ID Output  Change   AVR  Torsion    RC  Curve  Class\n",
              "0     SRS85     NP    -8.0   1.7     2.53  0.10     20      0\n",
              "1     SRS87     NP   -10.0  -3.1    -1.03  0.09     35      0\n",
              "2      US17     NP     8.0  -4.2     0.00  0.08     24      0\n",
              "3      US83     NP     1.0   4.4     2.27  0.09     14      0\n",
              "4      US19     NP     7.0   7.9     3.37  0.06     38      0\n",
              "..      ...    ...     ...   ...      ...   ...    ...    ...\n",
              "150   SRS84     NP    -4.0   2.3    -2.57  0.05     20      0\n",
              "151  SRS117      P    -1.0   1.5     0.43  0.07     14      1\n",
              "152  SRS120     NP    -5.0  -4.2    -3.70  0.10     10      0\n",
              "153  SRS133      P     7.0  10.2     2.60  0.08     33      1\n",
              "154  SRS155     NP    -3.0  -2.0     0.70  0.10     19      0\n",
              "\n",
              "[155 rows x 8 columns]"
            ]
          },
          "metadata": {
            "tags": []
          },
          "execution_count": 110
        }
      ]
    },
    {
      "cell_type": "code",
      "metadata": {
        "colab": {
          "base_uri": "https://localhost:8080/",
          "height": 596
        },
        "id": "PRo-lq53nIe5",
        "outputId": "d939a941-5367-43fc-c689-97ceb7207f0d"
      },
      "source": [
        "import seaborn as sns\n",
        "#Using Pearson Correlation between featurs and output\n",
        "plt.figure(figsize=(12,10))\n",
        "cor = data.corr()\n",
        "sns.heatmap(cor, annot=True, cmap=plt.cm.CMRmap_r)\n",
        "plt.show()"
      ],
      "execution_count": null,
      "outputs": [
        {
          "output_type": "display_data",
          "data": {
            "image/png": "[encoded data removed]",
            "text/plain": [
              "<Figure size 864x720 with 2 Axes>"
            ]
          },
          "metadata": {
            "tags": [],
            "needs_background": "light"
          }
        }
      ]
    },
    {
      "cell_type": "code",
      "metadata": {
        "colab": {
          "base_uri": "https://localhost:8080/"
        },
        "id": "vvsDX_-j_5oY",
        "outputId": "2cfc141f-7585-4ff1-b95b-b89023c53237"
      },
      "source": [
        "#we need to check the dataset to see what information we have and if there are null cells\n",
        "data.info()"
      ],
      "execution_count": null,
      "outputs": [
        {
          "output_type": "stream",
          "text": [
            "<class 'pandas.core.frame.DataFrame'>\n",
            "RangeIndex: 244 entries, 0 to 243\n",
            "Data columns (total 6 columns):\n",
            " #   Column      Non-Null Count  Dtype  \n",
            "---  ------      --------------  -----  \n",
            " 0   Change      244 non-null    float64\n",
            " 1   AVR         244 non-null    float64\n",
            " 2   Torsion     244 non-null    float64\n",
            " 3   RC          244 non-null    float64\n",
            " 4   Curve       244 non-null    float64\n",
            " 5   Unnamed: 5  244 non-null    int64  \n",
            "dtypes: float64(5), int64(1)\n",
            "memory usage: 11.6 KB\n"
          ],
          "name": "stdout"
        }
      ]
    },
    {
      "cell_type": "code",
      "metadata": {
        "colab": {
          "base_uri": "https://localhost:8080/",
          "height": 402
        },
        "id": "ud1bKcn7Aj8Z",
        "outputId": "576643fd-56b6-4dfd-8aa4-c686c42440f6"
      },
      "source": [
        "#there is only one row containing one null cell(US Cobb Change) and we can delete it\n",
        "data.isnull()"
      ],
      "execution_count": null,
      "outputs": [
        {
          "output_type": "execute_result",
          "data": {
            "text/html": [
              "<div>\n",
              "<style scoped>\n",
              "    .dataframe tbody tr th:only-of-type {\n",
              "        vertical-align: middle;\n",
              "    }\n",
              "\n",
              "    .dataframe tbody tr th {\n",
              "        vertical-align: top;\n",
              "    }\n",
              "\n",
              "    .dataframe thead th {\n",
              "        text-align: right;\n",
              "    }\n",
              "</style>\n",
              "<table border=\"1\" class=\"dataframe\">\n",
              "  <thead>\n",
              "    <tr style=\"text-align: right;\">\n",
              "      <th></th>\n",
              "      <th>Change</th>\n",
              "      <th>AVR</th>\n",
              "      <th>Torsion</th>\n",
              "      <th>RC</th>\n",
              "      <th>Curve</th>\n",
              "      <th>Unnamed: 5</th>\n",
              "    </tr>\n",
              "  </thead>\n",
              "  <tbody>\n",
              "    <tr>\n",
              "      <th>0</th>\n",
              "      <td>False</td>\n",
              "      <td>False</td>\n",
              "      <td>False</td>\n",
              "      <td>False</td>\n",
              "      <td>False</td>\n",
              "      <td>False</td>\n",
              "    </tr>\n",
              "    <tr>\n",
              "      <th>1</th>\n",
              "      <td>False</td>\n",
              "      <td>False</td>\n",
              "      <td>False</td>\n",
              "      <td>False</td>\n",
              "      <td>False</td>\n",
              "      <td>False</td>\n",
              "    </tr>\n",
              "    <tr>\n",
              "      <th>2</th>\n",
              "      <td>False</td>\n",
              "      <td>False</td>\n",
              "      <td>False</td>\n",
              "      <td>False</td>\n",
              "      <td>False</td>\n",
              "      <td>False</td>\n",
              "    </tr>\n",
              "    <tr>\n",
              "      <th>3</th>\n",
              "      <td>False</td>\n",
              "      <td>False</td>\n",
              "      <td>False</td>\n",
              "      <td>False</td>\n",
              "      <td>False</td>\n",
              "      <td>False</td>\n",
              "    </tr>\n",
              "    <tr>\n",
              "      <th>4</th>\n",
              "      <td>False</td>\n",
              "      <td>False</td>\n",
              "      <td>False</td>\n",
              "      <td>False</td>\n",
              "      <td>False</td>\n",
              "      <td>False</td>\n",
              "    </tr>\n",
              "    <tr>\n",
              "      <th>...</th>\n",
              "      <td>...</td>\n",
              "      <td>...</td>\n",
              "      <td>...</td>\n",
              "      <td>...</td>\n",
              "      <td>...</td>\n",
              "      <td>...</td>\n",
              "    </tr>\n",
              "    <tr>\n",
              "      <th>239</th>\n",
              "      <td>False</td>\n",
              "      <td>False</td>\n",
              "      <td>False</td>\n",
              "      <td>False</td>\n",
              "      <td>False</td>\n",
              "      <td>False</td>\n",
              "    </tr>\n",
              "    <tr>\n",
              "      <th>240</th>\n",
              "      <td>False</td>\n",
              "      <td>False</td>\n",
              "      <td>False</td>\n",
              "      <td>False</td>\n",
              "      <td>False</td>\n",
              "      <td>False</td>\n",
              "    </tr>\n",
              "    <tr>\n",
              "      <th>241</th>\n",
              "      <td>False</td>\n",
              "      <td>False</td>\n",
              "      <td>False</td>\n",
              "      <td>False</td>\n",
              "      <td>False</td>\n",
              "      <td>False</td>\n",
              "    </tr>\n",
              "    <tr>\n",
              "      <th>242</th>\n",
              "      <td>False</td>\n",
              "      <td>False</td>\n",
              "      <td>False</td>\n",
              "      <td>False</td>\n",
              "      <td>False</td>\n",
              "      <td>False</td>\n",
              "    </tr>\n",
              "    <tr>\n",
              "      <th>243</th>\n",
              "      <td>False</td>\n",
              "      <td>False</td>\n",
              "      <td>False</td>\n",
              "      <td>False</td>\n",
              "      <td>False</td>\n",
              "      <td>False</td>\n",
              "    </tr>\n",
              "  </tbody>\n",
              "</table>\n",
              "<p>244 rows × 6 columns</p>\n",
              "</div>"
            ],
            "text/plain": [
              "     Change    AVR  Torsion     RC  Curve  Unnamed: 5\n",
              "0     False  False    False  False  False       False\n",
              "1     False  False    False  False  False       False\n",
              "2     False  False    False  False  False       False\n",
              "3     False  False    False  False  False       False\n",
              "4     False  False    False  False  False       False\n",
              "..      ...    ...      ...    ...    ...         ...\n",
              "239   False  False    False  False  False       False\n",
              "240   False  False    False  False  False       False\n",
              "241   False  False    False  False  False       False\n",
              "242   False  False    False  False  False       False\n",
              "243   False  False    False  False  False       False\n",
              "\n",
              "[244 rows x 6 columns]"
            ]
          },
          "metadata": {
            "tags": []
          },
          "execution_count": 7
        }
      ]
    },
    {
      "cell_type": "code",
      "metadata": {
        "id": "mBkPMTNABd8O"
      },
      "source": [
        "#the result is a dataset with no null cell\n",
        "df = data.dropna(how='any',axis=0) \n",
        "#we do not need to keep \"Output\" as we have added a 0/1 class instead\n",
        "#rhe ID column is not useful for us in the predition model"
      ],
      "execution_count": null,
      "outputs": []
    },
    {
      "cell_type": "code",
      "metadata": {
        "colab": {
          "base_uri": "https://localhost:8080/",
          "height": 402
        },
        "id": "8LGAQxdhYqKt",
        "outputId": "fe02a1ea-90e0-46de-fd04-dc3132326184"
      },
      "source": [
        "# removing outliers\n",
        "z= np.abs(stats.zscore(df[\"Curve\"])) # Utilizing zscore to remove outliers\n",
        "#we tried all features and none of them was removed\n",
        "filtered_df = (z < 3) # Removing values with zscore greater than 3 standard deviation\n",
        "df = df[filtered_df] # Filtered data set with removed outliers\n",
        "df"
      ],
      "execution_count": null,
      "outputs": [
        {
          "output_type": "execute_result",
          "data": {
            "text/html": [
              "<div>\n",
              "<style scoped>\n",
              "    .dataframe tbody tr th:only-of-type {\n",
              "        vertical-align: middle;\n",
              "    }\n",
              "\n",
              "    .dataframe tbody tr th {\n",
              "        vertical-align: top;\n",
              "    }\n",
              "\n",
              "    .dataframe thead th {\n",
              "        text-align: right;\n",
              "    }\n",
              "</style>\n",
              "<table border=\"1\" class=\"dataframe\">\n",
              "  <thead>\n",
              "    <tr style=\"text-align: right;\">\n",
              "      <th></th>\n",
              "      <th>Change</th>\n",
              "      <th>AVR</th>\n",
              "      <th>Torsion</th>\n",
              "      <th>RC</th>\n",
              "      <th>Curve</th>\n",
              "      <th>Class</th>\n",
              "    </tr>\n",
              "  </thead>\n",
              "  <tbody>\n",
              "    <tr>\n",
              "      <th>0</th>\n",
              "      <td>-8.0</td>\n",
              "      <td>1.7</td>\n",
              "      <td>2.53</td>\n",
              "      <td>0.10</td>\n",
              "      <td>20</td>\n",
              "      <td>0</td>\n",
              "    </tr>\n",
              "    <tr>\n",
              "      <th>1</th>\n",
              "      <td>-10.0</td>\n",
              "      <td>-3.1</td>\n",
              "      <td>-1.03</td>\n",
              "      <td>0.09</td>\n",
              "      <td>35</td>\n",
              "      <td>0</td>\n",
              "    </tr>\n",
              "    <tr>\n",
              "      <th>2</th>\n",
              "      <td>8.0</td>\n",
              "      <td>-4.2</td>\n",
              "      <td>0.00</td>\n",
              "      <td>0.08</td>\n",
              "      <td>24</td>\n",
              "      <td>0</td>\n",
              "    </tr>\n",
              "    <tr>\n",
              "      <th>3</th>\n",
              "      <td>1.0</td>\n",
              "      <td>4.4</td>\n",
              "      <td>2.27</td>\n",
              "      <td>0.09</td>\n",
              "      <td>14</td>\n",
              "      <td>0</td>\n",
              "    </tr>\n",
              "    <tr>\n",
              "      <th>4</th>\n",
              "      <td>7.0</td>\n",
              "      <td>7.9</td>\n",
              "      <td>3.37</td>\n",
              "      <td>0.06</td>\n",
              "      <td>38</td>\n",
              "      <td>0</td>\n",
              "    </tr>\n",
              "    <tr>\n",
              "      <th>...</th>\n",
              "      <td>...</td>\n",
              "      <td>...</td>\n",
              "      <td>...</td>\n",
              "      <td>...</td>\n",
              "      <td>...</td>\n",
              "      <td>...</td>\n",
              "    </tr>\n",
              "    <tr>\n",
              "      <th>150</th>\n",
              "      <td>-4.0</td>\n",
              "      <td>2.3</td>\n",
              "      <td>-2.57</td>\n",
              "      <td>0.05</td>\n",
              "      <td>20</td>\n",
              "      <td>0</td>\n",
              "    </tr>\n",
              "    <tr>\n",
              "      <th>151</th>\n",
              "      <td>-1.0</td>\n",
              "      <td>1.5</td>\n",
              "      <td>0.43</td>\n",
              "      <td>0.07</td>\n",
              "      <td>14</td>\n",
              "      <td>1</td>\n",
              "    </tr>\n",
              "    <tr>\n",
              "      <th>152</th>\n",
              "      <td>-5.0</td>\n",
              "      <td>-4.2</td>\n",
              "      <td>-3.70</td>\n",
              "      <td>0.10</td>\n",
              "      <td>10</td>\n",
              "      <td>0</td>\n",
              "    </tr>\n",
              "    <tr>\n",
              "      <th>153</th>\n",
              "      <td>7.0</td>\n",
              "      <td>10.2</td>\n",
              "      <td>2.60</td>\n",
              "      <td>0.08</td>\n",
              "      <td>33</td>\n",
              "      <td>1</td>\n",
              "    </tr>\n",
              "    <tr>\n",
              "      <th>154</th>\n",
              "      <td>-3.0</td>\n",
              "      <td>-2.0</td>\n",
              "      <td>0.70</td>\n",
              "      <td>0.10</td>\n",
              "      <td>19</td>\n",
              "      <td>0</td>\n",
              "    </tr>\n",
              "  </tbody>\n",
              "</table>\n",
              "<p>154 rows × 6 columns</p>\n",
              "</div>"
            ],
            "text/plain": [
              "     Change   AVR  Torsion    RC  Curve  Class\n",
              "0      -8.0   1.7     2.53  0.10     20      0\n",
              "1     -10.0  -3.1    -1.03  0.09     35      0\n",
              "2       8.0  -4.2     0.00  0.08     24      0\n",
              "3       1.0   4.4     2.27  0.09     14      0\n",
              "4       7.0   7.9     3.37  0.06     38      0\n",
              "..      ...   ...      ...   ...    ...    ...\n",
              "150    -4.0   2.3    -2.57  0.05     20      0\n",
              "151    -1.0   1.5     0.43  0.07     14      1\n",
              "152    -5.0  -4.2    -3.70  0.10     10      0\n",
              "153     7.0  10.2     2.60  0.08     33      1\n",
              "154    -3.0  -2.0     0.70  0.10     19      0\n",
              "\n",
              "[154 rows x 6 columns]"
            ]
          },
          "metadata": {
            "tags": []
          },
          "execution_count": 115
        }
      ]
    },
    {
      "cell_type": "code",
      "metadata": {
        "colab": {
          "base_uri": "https://localhost:8080/"
        },
        "id": "7BhoEVVcBrLq",
        "outputId": "538c0f7e-b6e9-4a98-cdb7-af8f66d9f00f"
      },
      "source": [
        "#How the data will look like after splitting to x and y\n",
        "print(df.iloc[:,:5]) #First five columns are the input data\n",
        "print(df.iloc[:,5])  #The last column is the output data"
      ],
      "execution_count": null,
      "outputs": [
        {
          "output_type": "stream",
          "text": [
            "        Change        AVR   Torsion        RC      Curve\n",
            "0    -8.000000   1.700000  2.530000  0.100000  20.000000\n",
            "1   -10.000000  -3.100000 -1.030000  0.090000  35.000000\n",
            "2     8.000000  -4.200000  0.000000  0.080000  24.000000\n",
            "3     1.000000   4.400000  2.270000  0.090000  14.000000\n",
            "4     7.000000   7.900000  3.370000  0.060000  38.000000\n",
            "..         ...        ...       ...       ...        ...\n",
            "239   3.646895  13.305931  3.515848  0.046766  20.970343\n",
            "240  -1.000000   3.900118  4.904506  0.112859  18.285925\n",
            "241   6.449120   9.153329  2.374139  0.077246  35.203519\n",
            "242   7.408632  12.337986  3.398561  0.023942  22.197123\n",
            "243  -1.171424  -4.142881 -1.730865  0.058286  11.828576\n",
            "\n",
            "[244 rows x 5 columns]\n",
            "0      0\n",
            "1      0\n",
            "2      0\n",
            "3      0\n",
            "4      0\n",
            "      ..\n",
            "239    1\n",
            "240    1\n",
            "241    1\n",
            "242    1\n",
            "243    1\n",
            "Name: Unnamed: 5, Length: 244, dtype: int64\n"
          ],
          "name": "stdout"
        }
      ]
    },
    {
      "cell_type": "code",
      "metadata": {
        "id": "QJhwVAu0BaTT"
      },
      "source": [
        "# Splitting dataset into inputs(x) and output(y)\n",
        "X_df = df.iloc[:,:5]\n",
        "y_df = df.iloc[:,5]"
      ],
      "execution_count": null,
      "outputs": []
    },
    {
      "cell_type": "code",
      "metadata": {
        "colab": {
          "base_uri": "https://localhost:8080/"
        },
        "id": "z-DQ6kMCu0QC",
        "outputId": "ca00445b-13a7-4129-b1e5-2edc94644fea"
      },
      "source": [
        "print(X_df)\n",
        "print(y_df)"
      ],
      "execution_count": null,
      "outputs": [
        {
          "output_type": "stream",
          "text": [
            "     Change   AVR  Torsion    RC  Curve\n",
            "0      -8.0   1.7     2.53  0.10     20\n",
            "1     -10.0  -3.1    -1.03  0.09     35\n",
            "2       8.0  -4.2     0.00  0.08     24\n",
            "3       1.0   4.4     2.27  0.09     14\n",
            "4       7.0   7.9     3.37  0.06     38\n",
            "..      ...   ...      ...   ...    ...\n",
            "150    -4.0   2.3    -2.57  0.05     20\n",
            "151    -1.0   1.5     0.43  0.07     14\n",
            "152    -5.0  -4.2    -3.70  0.10     10\n",
            "153     7.0  10.2     2.60  0.08     33\n",
            "154    -3.0  -2.0     0.70  0.10     19\n",
            "\n",
            "[154 rows x 5 columns]\n",
            "0      0\n",
            "1      0\n",
            "2      0\n",
            "3      0\n",
            "4      0\n",
            "      ..\n",
            "150    0\n",
            "151    1\n",
            "152    0\n",
            "153    1\n",
            "154    0\n",
            "Name: Class, Length: 154, dtype: int64\n"
          ],
          "name": "stdout"
        }
      ]
    },
    {
      "cell_type": "markdown",
      "metadata": {
        "id": "sfoR4gxKVCaM"
      },
      "source": [
        "## Oversampling with SMOTEENN"
      ]
    },
    {
      "cell_type": "code",
      "metadata": {
        "colab": {
          "base_uri": "https://localhost:8080/"
        },
        "id": "trRxNch9Sxca",
        "outputId": "7c74152b-964d-4fa7-b3e9-e9cb03843e77"
      },
      "source": [
        "from collections import Counter\n",
        "from sklearn.datasets import make_classification\n",
        "from matplotlib import pyplot\n",
        "from numpy import where\n",
        "# summarize the new class distribution\n",
        "counter = Counter(y_df)\n",
        "print(counter)"
      ],
      "execution_count": null,
      "outputs": [
        {
          "output_type": "stream",
          "text": [
            "Counter({0: 122, 1: 32})\n"
          ],
          "name": "stdout"
        }
      ]
    },
    {
      "cell_type": "code",
      "metadata": {
        "colab": {
          "base_uri": "https://localhost:8080/"
        },
        "id": "nq67E_mQTei1",
        "outputId": "46b04b41-9a03-4158-97f2-2581207e28b0"
      },
      "source": [
        "pip install imbalanced-learn"
      ],
      "execution_count": null,
      "outputs": [
        {
          "output_type": "stream",
          "text": [
            "Requirement already satisfied: imbalanced-learn in /usr/local/lib/python3.7/dist-packages (0.4.3)\n",
            "Requirement already satisfied: numpy>=1.8.2 in /usr/local/lib/python3.7/dist-packages (from imbalanced-learn) (1.19.5)\n",
            "Requirement already satisfied: scipy>=0.13.3 in /usr/local/lib/python3.7/dist-packages (from imbalanced-learn) (1.4.1)\n",
            "Requirement already satisfied: scikit-learn>=0.20 in /usr/local/lib/python3.7/dist-packages (from imbalanced-learn) (0.22.2.post1)\n",
            "Requirement already satisfied: joblib>=0.11 in /usr/local/lib/python3.7/dist-packages (from scikit-learn>=0.20->imbalanced-learn) (1.0.1)\n"
          ],
          "name": "stdout"
        }
      ]
    },
    {
      "cell_type": "code",
      "metadata": {
        "id": "gv2CfhEeTGY-"
      },
      "source": [
        "# # transform the dataset\n",
        "# from imblearn.over_sampling import SMOTE\n",
        "# oversample = SMOTE()\n",
        "# X_dfs, y_dfs = oversample.fit_resample(X_df, y_df)"
      ],
      "execution_count": null,
      "outputs": []
    },
    {
      "cell_type": "code",
      "metadata": {
        "colab": {
          "base_uri": "https://localhost:8080/"
        },
        "id": "44iwjXib2plc",
        "outputId": "a3e14fe9-b930-4ebc-d4ef-567eb81f68a8"
      },
      "source": [
        "\n",
        "from collections import Counter\n",
        "from sklearn.datasets import make_classification\n",
        "from imblearn.combine import SMOTEENN\n",
        "\n",
        "oversample = SMOTEENN(random_state=42)\n",
        "X_dfs, y_dfs = oversample.fit_resample(X_df, y_df)"
      ],
      "execution_count": null,
      "outputs": [
        {
          "output_type": "stream",
          "text": [
            "/usr/local/lib/python3.7/dist-packages/sklearn/utils/deprecation.py:87: FutureWarning: Function safe_indexing is deprecated; safe_indexing is deprecated in version 0.22 and will be removed in version 0.24.\n",
            "  warnings.warn(msg, category=FutureWarning)\n",
            "/usr/local/lib/python3.7/dist-packages/sklearn/utils/deprecation.py:87: FutureWarning: Function safe_indexing is deprecated; safe_indexing is deprecated in version 0.22 and will be removed in version 0.24.\n",
            "  warnings.warn(msg, category=FutureWarning)\n",
            "/usr/local/lib/python3.7/dist-packages/sklearn/utils/deprecation.py:87: FutureWarning: Function safe_indexing is deprecated; safe_indexing is deprecated in version 0.22 and will be removed in version 0.24.\n",
            "  warnings.warn(msg, category=FutureWarning)\n",
            "/usr/local/lib/python3.7/dist-packages/sklearn/utils/deprecation.py:87: FutureWarning: Function safe_indexing is deprecated; safe_indexing is deprecated in version 0.22 and will be removed in version 0.24.\n",
            "  warnings.warn(msg, category=FutureWarning)\n"
          ],
          "name": "stderr"
        }
      ]
    },
    {
      "cell_type": "code",
      "metadata": {
        "id": "pObOkKZ34WZ0"
      },
      "source": [
        "X_df.to_csv('final_data.csv') #save X-data"
      ],
      "execution_count": null,
      "outputs": []
    },
    {
      "cell_type": "code",
      "metadata": {
        "colab": {
          "base_uri": "https://localhost:8080/"
        },
        "id": "d0VD0uQ2T6vq",
        "outputId": "bc744149-edfd-4d3c-abe8-9aa7394cd8b0"
      },
      "source": [
        "# summarize the new class distribution\n",
        "counter = Counter(y_dfs)\n",
        "print(counter)"
      ],
      "execution_count": null,
      "outputs": [
        {
          "output_type": "stream",
          "text": [
            "Counter({1: 68, 0: 59})\n"
          ],
          "name": "stdout"
        }
      ]
    },
    {
      "cell_type": "code",
      "metadata": {
        "colab": {
          "base_uri": "https://localhost:8080/"
        },
        "id": "zANJMQsWYnnG",
        "outputId": "50d3d9ad-903f-4d3e-81b8-7f71a4211665"
      },
      "source": [
        "#y_df = pd.DataFrame(data= y_dfs)\n",
        "X_dfs"
      ],
      "execution_count": null,
      "outputs": [
        {
          "output_type": "execute_result",
          "data": {
            "text/plain": [
              "array([[-8.00000000e+00,  1.70000000e+00,  2.53000000e+00,\n",
              "         1.00000000e-01,  2.00000000e+01],\n",
              "       [-1.00000000e+01, -3.10000000e+00, -1.03000000e+00,\n",
              "         9.00000000e-02,  3.50000000e+01],\n",
              "       [ 1.00000000e+00,  4.40000000e+00,  2.27000000e+00,\n",
              "         9.00000000e-02,  1.40000000e+01],\n",
              "       [-1.00000000e+00,  1.15000000e+01,  3.83000000e+00,\n",
              "         7.00000000e-02,  3.20000000e+01],\n",
              "       [-1.20000000e+01,  1.10000000e+00,  3.10000000e-01,\n",
              "         8.00000000e-02,  2.20000000e+01],\n",
              "       [-7.00000000e+00, -4.70000000e+00,  3.16000000e+00,\n",
              "         7.00000000e-02,  3.80000000e+01],\n",
              "       [ 0.00000000e+00, -1.50000000e+00, -2.27000000e+00,\n",
              "         9.00000000e-02,  2.30000000e+01],\n",
              "       [-9.00000000e+00, -1.20000000e+00, -1.32000000e+00,\n",
              "         9.00000000e-02,  1.70000000e+01],\n",
              "       [ 4.00000000e+00,  1.17000000e+01,  3.34000000e+00,\n",
              "         8.00000000e-02,  1.20000000e+01],\n",
              "       [-1.30000000e+01, -2.20000000e+00, -2.25000000e+00,\n",
              "         1.00000000e-01,  1.20000000e+01],\n",
              "       [-6.00000000e+00, -3.20000000e+00, -1.07000000e+00,\n",
              "         6.00000000e-02,  1.70000000e+01],\n",
              "       [-3.00000000e+00, -1.50000000e+00,  7.00000000e-01,\n",
              "         9.00000000e-02,  1.80000000e+01],\n",
              "       [-2.00000000e+00,  1.17000000e+01,  3.34000000e+00,\n",
              "         5.00000000e-02,  3.40000000e+01],\n",
              "       [-2.00000000e+00,  4.80000000e+00,  1.20000000e+00,\n",
              "         9.00000000e-02,  1.20000000e+01],\n",
              "       [ 0.00000000e+00,  6.80000000e+00,  1.70000000e+00,\n",
              "         1.00000000e-01,  1.50000000e+01],\n",
              "       [-4.00000000e+00,  1.43000000e+01,  4.09000000e+00,\n",
              "         4.00000000e-02,  2.80000000e+01],\n",
              "       [ 2.00000000e+00, -1.00000000e+00,  1.00000000e+00,\n",
              "         6.00000000e-02,  2.50000000e+01],\n",
              "       [ 2.00000000e+00,  1.26000000e+01,  4.47000000e+00,\n",
              "         1.00000000e-01,  2.90000000e+01],\n",
              "       [-6.00000000e+00, -1.07000000e+01, -4.28000000e+00,\n",
              "         8.00000000e-02,  2.70000000e+01],\n",
              "       [-1.00000000e+00, -4.20000000e+00, -3.47000000e+00,\n",
              "         8.00000000e-02,  2.90000000e+01],\n",
              "       [-1.00000000e+00,  2.30000000e+00, -2.52000000e+00,\n",
              "         6.00000000e-02,  3.00000000e+01],\n",
              "       [ 3.00000000e+00,  1.91000000e+01,  4.78000000e+00,\n",
              "         6.00000000e-02,  3.30000000e+01],\n",
              "       [ 2.00000000e+00,  1.58000000e+01,  4.51000000e+00,\n",
              "         8.00000000e-02,  3.50000000e+01],\n",
              "       [-1.40000000e+01,  2.65000000e+01,  7.57000000e+00,\n",
              "         6.00000000e-02,  3.30000000e+01],\n",
              "       [ 4.00000000e+00,  1.64000000e+01,  5.47000000e+00,\n",
              "         8.00000000e-02,  1.40000000e+01],\n",
              "       [-1.00000000e+00,  0.00000000e+00,  5.20000000e-01,\n",
              "         5.00000000e-02,  2.20000000e+01],\n",
              "       [-7.00000000e+00,  1.70000000e+00,  7.50000000e-01,\n",
              "         3.00000000e-02,  2.10000000e+01],\n",
              "       [-1.10000000e+01,  2.37000000e+01,  6.77000000e+00,\n",
              "         5.00000000e-02,  2.80000000e+01],\n",
              "       [-1.30000000e+01,  1.37000000e+01,  4.57000000e+00,\n",
              "         5.00000000e-02,  4.20000000e+01],\n",
              "       [-1.10000000e+01,  1.36000000e+01,  3.89000000e+00,\n",
              "         9.00000000e-02,  4.10000000e+01],\n",
              "       [-6.00000000e+00, -6.20000000e+00, -2.97000000e+00,\n",
              "         5.00000000e-02,  3.10000000e+01],\n",
              "       [ 4.00000000e+00,  1.48000000e+01,  4.10000000e+00,\n",
              "         6.00000000e-02,  3.60000000e+01],\n",
              "       [-1.00000000e+01, -1.40000000e+00, -2.84000000e+00,\n",
              "         6.00000000e-02,  2.10000000e+01],\n",
              "       [-6.00000000e+00,  2.10000000e+01,  6.69000000e+00,\n",
              "         6.00000000e-02,  2.60000000e+01],\n",
              "       [ 1.00000000e+00,  1.13000000e+01,  4.26000000e+00,\n",
              "         6.00000000e-02,  1.20000000e+01],\n",
              "       [-1.00000000e+00,  8.50000000e+00,  3.80000000e+00,\n",
              "         4.00000000e-02,  1.30000000e+01],\n",
              "       [-1.30000000e+01,  6.00000000e+00,  2.40000000e+00,\n",
              "         9.00000000e-02,  3.80000000e+01],\n",
              "       [-1.00000000e+00,  4.60000000e+00,  2.57000000e+00,\n",
              "         6.00000000e-02,  1.10000000e+01],\n",
              "       [-6.00000000e+00,  1.83000000e+01,  6.87000000e+00,\n",
              "         5.00000000e-02,  3.20000000e+01],\n",
              "       [ 4.00000000e+00,  2.00000000e+01,  5.00000000e+00,\n",
              "         8.00000000e-02,  4.40000000e+01],\n",
              "       [-8.00000000e+00,  3.50000000e+00,  1.00000000e+00,\n",
              "         8.00000000e-02,  2.50000000e+01],\n",
              "       [ 1.00000000e+00,  3.00000000e+00,  1.72000000e+00,\n",
              "         6.00000000e-02,  1.10000000e+01],\n",
              "       [-6.00000000e+00, -1.16000000e+01, -4.64000000e+00,\n",
              "         6.00000000e-02,  2.00000000e+01],\n",
              "       [-1.00000000e+00,  1.57000000e+01,  5.23000000e+00,\n",
              "         7.00000000e-02,  3.10000000e+01],\n",
              "       [-2.00000000e+00, -1.30000000e+00, -3.84000000e+00,\n",
              "         1.00000000e-01,  2.30000000e+01],\n",
              "       [-8.00000000e+00, -2.80000000e+00, -2.32000000e+00,\n",
              "         1.00000000e-01,  2.70000000e+01],\n",
              "       [ 1.00000000e+00,  6.90000000e+00,  2.93000000e+00,\n",
              "         5.00000000e-02,  1.30000000e+01],\n",
              "       [-1.00000000e+00, -7.10000000e+00, -4.44000000e+00,\n",
              "         8.00000000e-02,  3.50000000e+01],\n",
              "       [-6.00000000e+00,  1.07000000e+01,  3.29000000e+00,\n",
              "         8.00000000e-02,  1.90000000e+01],\n",
              "       [-1.10000000e+01, -3.40000000e+00, -8.50000000e-01,\n",
              "         5.00000000e-02,  2.80000000e+01],\n",
              "       [ 1.00000000e+00, -2.50000000e+00, -1.56000000e+00,\n",
              "         9.00000000e-02,  2.10000000e+01],\n",
              "       [ 5.00000000e+00,  0.00000000e+00, -2.26000000e+00,\n",
              "         4.00000000e-02,  1.70000000e+01],\n",
              "       [-8.00000000e+00,  1.50000000e+00, -1.40000000e+00,\n",
              "         7.00000000e-02,  2.00000000e+01],\n",
              "       [ 0.00000000e+00,  2.20000000e+00,  1.03000000e+00,\n",
              "         7.00000000e-02,  2.00000000e+01],\n",
              "       [-5.00000000e+00,  1.47000000e+01,  5.06000000e+00,\n",
              "         1.10000000e-01,  3.70000000e+01],\n",
              "       [-3.00000000e+00,  4.20000000e+00,  2.30000000e+00,\n",
              "         1.10000000e-01,  1.20000000e+01],\n",
              "       [-7.00000000e+00,  3.40000000e+00,  3.30000000e+00,\n",
              "         9.00000000e-02,  2.00000000e+01],\n",
              "       [-4.00000000e+00,  2.30000000e+00, -2.57000000e+00,\n",
              "         5.00000000e-02,  2.00000000e+01],\n",
              "       [-3.00000000e+00, -2.00000000e+00,  7.00000000e-01,\n",
              "         1.00000000e-01,  1.90000000e+01],\n",
              "       [ 1.10000000e+01,  4.20000000e+00,  1.40000000e+00,\n",
              "         1.10000000e-01,  2.90000000e+01],\n",
              "       [ 1.00000000e+00,  8.40000000e+00,  3.64000000e+00,\n",
              "         1.00000000e-01,  3.80000000e+01],\n",
              "       [ 6.00000000e+00, -7.40000000e+00, -3.70000000e+00,\n",
              "         4.00000000e-02,  2.50000000e+01],\n",
              "       [-2.00000000e+00,  5.60000000e+00,  3.03000000e+00,\n",
              "         1.10000000e-01,  3.90000000e+01],\n",
              "       [ 5.00000000e+00,  1.29000000e+01,  3.80000000e+00,\n",
              "         4.00000000e-02,  2.30000000e+01],\n",
              "       [ 3.00000000e+00,  5.80000000e+00,  1.93000000e+00,\n",
              "         6.00000000e-02,  9.00000000e+00],\n",
              "       [ 1.00000000e+01,  1.10000000e+00,  3.80000000e+00,\n",
              "         5.00000000e-02,  1.40000000e+01],\n",
              "       [ 3.00000000e+00,  4.60000000e+00,  2.36000000e+00,\n",
              "         5.00000000e-02,  1.90000000e+01],\n",
              "       [ 1.70000000e+01,  1.28000000e+01,  3.20000000e+00,\n",
              "         5.00000000e-02,  2.20000000e+01],\n",
              "       [ 1.00000000e+01, -1.13000000e+01, -3.23000000e+00,\n",
              "         5.00000000e-02,  4.10000000e+01],\n",
              "       [ 1.40000000e+01, -8.40000000e+00, -4.12000000e+00,\n",
              "         4.00000000e-02,  1.80000000e+01],\n",
              "       [ 1.10000000e+01, -1.02000000e+01, -4.94000000e+00,\n",
              "         6.00000000e-02,  4.10000000e+01],\n",
              "       [ 8.00000000e+00,  1.22000000e+01,  3.30000000e+00,\n",
              "         2.00000000e-02,  2.20000000e+01],\n",
              "       [ 3.00000000e+00,  1.35000000e+01,  3.38000000e+00,\n",
              "         5.00000000e-02,  2.00000000e+01],\n",
              "       [-1.00000000e+00, -5.00000000e+00, -2.00000000e+00,\n",
              "         6.00000000e-02,  1.20000000e+01],\n",
              "       [ 2.62595699e+00,  3.22061004e+00,  2.43713695e+00,\n",
              "         9.08397133e-02,  2.83740430e+01],\n",
              "       [ 1.26276221e+01, -9.68088606e+00, -4.09255244e+00,\n",
              "         3.77127035e-02,  1.91436483e+01],\n",
              "       [ 1.00000000e+00,  8.04458567e+00,  3.57039803e+00,\n",
              "         9.85191070e-02,  3.74076428e+01],\n",
              "       [ 1.18492056e+01, -1.04074081e+01, -4.07698411e+00,\n",
              "         3.64153427e-02,  1.97923286e+01],\n",
              "       [ 8.33089802e+00,  1.33581431e+01,  3.69376865e+00,\n",
              "         3.65449012e-02,  2.33235921e+01],\n",
              "       [ 8.75607071e+00, -1.00871689e+01, -3.37616169e+00,\n",
              "         4.68901768e-02,  3.60242829e+01],\n",
              "       [ 3.37408339e+00,  7.37554997e+00,  2.31655248e+00,\n",
              "         6.34963336e-02,  4.16503666e+01],\n",
              "       [-1.00000000e+00, -4.26688283e+00, -1.72592696e+00,\n",
              "         6.11278726e-02,  1.22255745e+01],\n",
              "       [ 4.72214925e-01,  8.92778507e+00,  3.52916513e+00,\n",
              "         7.36107463e-02,  4.06389254e+01],\n",
              "       [ 1.00000000e+00,  7.02357498e+00,  3.37045010e+00,\n",
              "         9.42648957e-02,  3.57059583e+01],\n",
              "       [ 7.75489121e+00, -9.11101893e+00, -3.49380028e+00,\n",
              "         4.43872280e-02,  3.20195648e+01],\n",
              "       [ 6.42754102e+00, -7.35724590e+00, -3.67862295e+00,\n",
              "         6.99278713e-02,  2.32898359e+01],\n",
              "       [ 3.20335301e+00,  5.73645218e+00,  1.90203896e+00,\n",
              "         6.02541913e-02,  9.12709563e+00],\n",
              "       [ 6.00000000e+00, -7.13027143e+00, -3.51982132e+00,\n",
              "         3.89210857e-02,  2.55394571e+01],\n",
              "       [ 9.93714163e+00, -1.13848588e+01, -3.25420047e+00,\n",
              "         4.93714163e-02,  4.04342747e+01],\n",
              "       [ 5.45487288e+00,  1.61267676e+01,  4.48893796e+00,\n",
              "         5.63589589e-02,  2.20000000e+01],\n",
              "       [ 1.00000000e+00,  5.95886068e+00,  3.16194355e+00,\n",
              "         8.98285862e-02,  3.39314345e+01],\n",
              "       [ 1.20056622e+01, -8.15070777e+00, -4.01529726e+00,\n",
              "         4.00000000e-02,  1.97450456e+01],\n",
              "       [-2.31148769e-01,  4.42076585e+00,  2.83542636e+00,\n",
              "         9.23114877e-02,  3.36934463e+01],\n",
              "       [ 2.28798165e-01,  9.17120183e+00,  3.47804761e+00,\n",
              "         6.14399083e-02,  4.18560092e+01],\n",
              "       [ 2.89751453e-01,  7.71944157e+00,  3.21848144e+00,\n",
              "         5.86925436e-02,  3.92332311e+01],\n",
              "       [ 6.16122129e+00, -7.38387787e+00, -3.69193894e+00,\n",
              "         5.12854901e-02,  2.43551149e+01],\n",
              "       [ 3.49211643e+00,  4.35394178e+00,  2.46123538e+00,\n",
              "         5.00000000e-02,  1.86484883e+01],\n",
              "       [ 1.26568427e+01, -8.18893242e+00, -4.02981658e+00,\n",
              "         5.34315734e-02,  1.85756389e+01],\n",
              "       [ 3.00000000e+00,  4.83559351e+00,  2.27557899e+00,\n",
              "         5.19632792e-02,  1.70367208e+01],\n",
              "       [ 2.11942035e+00,  8.73582611e+00,  3.44596714e+00,\n",
              "         9.62685988e-02,  3.70671497e+01],\n",
              "       [ 3.85952801e+00,  5.53139750e+00,  1.81181490e+00,\n",
              "         6.10744100e-02,  9.53720501e+00],\n",
              "       [ 1.00000000e+00,  7.47571274e+00,  3.45899375e+00,\n",
              "         9.61488031e-02,  3.64595212e+01],\n",
              "       [ 3.00000000e+00,  5.52478743e+00,  2.46598687e+00,\n",
              "         5.00000000e-02,  1.91039087e+01],\n",
              "       [ 1.50919792e+01,  1.00651701e+01,  2.62759375e+00,\n",
              "         6.90802085e-02,  2.42260243e+01],\n",
              "       [ 1.07720648e+01, -1.04507287e+01, -4.55023087e+00,\n",
              "         5.77206484e-02,  4.10000000e+01],\n",
              "       [ 2.09007383e+00,  3.76286792e+00,  1.85226120e+00,\n",
              "         5.00000000e-02,  1.75441181e+01],\n",
              "       [ 9.25342475e+00,  1.22835617e+01,  3.28607306e+00,\n",
              "         2.41780825e-02,  2.20000000e+01],\n",
              "       [ 1.01115688e+01,  5.53264686e+00,  1.66652937e+00,\n",
              "         1.03336766e-01,  2.98884312e+01],\n",
              "       [ 8.39057571e-01,  9.49589229e+00,  3.33051175e+00,\n",
              "         5.35959610e-02,  4.18013463e+01],\n",
              "       [ 1.81207584e+00,  4.51090569e+00,  3.33706763e+00,\n",
              "         7.07886729e-02,  1.90000000e+01],\n",
              "       [ 1.00000000e+00,  6.01320717e+00,  3.17258640e+00,\n",
              "         9.00550299e-02,  3.40220120e+01],\n",
              "       [ 1.47212760e+01,  1.36260374e+01,  3.56744424e+00,\n",
              "         5.56968099e-02,  2.31393620e+01],\n",
              "       [ 1.09631131e+01, -1.02405756e+01, -4.87692332e+00,\n",
              "         5.96311305e-02,  4.10000000e+01],\n",
              "       [ 1.00000000e+00,  6.52590880e+00,  3.27299047e+00,\n",
              "         9.21912867e-02,  3.48765147e+01],\n",
              "       [ 5.77082829e+00,  1.14476545e+01,  3.13559859e+00,\n",
              "         3.11458586e-02,  2.25572929e+01],\n",
              "       [ 7.72479766e+00,  1.22642139e+01,  3.34586706e+00,\n",
              "         2.18346823e-02,  2.20917341e+01],\n",
              "       [ 1.00000000e+00,  7.70450461e+00,  3.50379882e+00,\n",
              "         9.71021026e-02,  3.68408410e+01],\n",
              "       [ 4.02109448e+00,  8.83754209e+00,  3.09518803e+00,\n",
              "         4.48945276e-02,  2.10421890e+01],\n",
              "       [ 1.68852036e+01,  1.28416137e+01,  3.21851091e+00,\n",
              "         5.02869909e-02,  2.20573982e+01],\n",
              "       [ 9.51588946e+00, -1.19535492e+01, -3.41638256e+00,\n",
              "         4.51588946e-02,  3.66430051e+01],\n",
              "       [ 1.06721355e+01,  2.57869820e+00,  1.80375742e+00,\n",
              "         6.34427109e-02,  1.40000000e+01],\n",
              "       [ 4.90704308e+00,  5.20404904e+00,  1.66778158e+00,\n",
              "         6.23838038e-02,  1.01919019e+01],\n",
              "       [ 9.04944982e+00, -1.03732136e+01, -3.34168965e+00,\n",
              "         4.76236246e-02,  3.71977993e+01],\n",
              "       [-1.36778313e+00, -3.16108434e+00, -1.42258048e+00,\n",
              "         5.63221687e-02,  1.16322169e+01],\n",
              "       [ 5.20616502e+00,  1.43089272e+01,  3.78814053e+00,\n",
              "         5.73538834e-02,  2.22061650e+01],\n",
              "       [ 4.06823769e+00, -6.45711833e+00, -3.04532402e+00,\n",
              "         9.16764855e-02,  1.77017674e+01],\n",
              "       [-1.09028977e+00, -4.54855115e+00, -1.85824506e+00,\n",
              "         5.90971023e-02,  1.19097102e+01]])"
            ]
          },
          "metadata": {
            "tags": []
          },
          "execution_count": 125
        }
      ]
    },
    {
      "cell_type": "code",
      "metadata": {
        "colab": {
          "base_uri": "https://localhost:8080/",
          "height": 402
        },
        "id": "xGBIDrQNUKzD",
        "outputId": "f8f9b9f7-fc5f-4610-9791-92d375ca4ddf"
      },
      "source": [
        "#convert back to dataframe\n",
        "X_df=pd.DataFrame(data=X_dfs, columns=X_df.columns)\n",
        "X_df"
      ],
      "execution_count": null,
      "outputs": [
        {
          "output_type": "execute_result",
          "data": {
            "text/html": [
              "<div>\n",
              "<style scoped>\n",
              "    .dataframe tbody tr th:only-of-type {\n",
              "        vertical-align: middle;\n",
              "    }\n",
              "\n",
              "    .dataframe tbody tr th {\n",
              "        vertical-align: top;\n",
              "    }\n",
              "\n",
              "    .dataframe thead th {\n",
              "        text-align: right;\n",
              "    }\n",
              "</style>\n",
              "<table border=\"1\" class=\"dataframe\">\n",
              "  <thead>\n",
              "    <tr style=\"text-align: right;\">\n",
              "      <th></th>\n",
              "      <th>Change</th>\n",
              "      <th>AVR</th>\n",
              "      <th>Torsion</th>\n",
              "      <th>RC</th>\n",
              "      <th>Curve</th>\n",
              "    </tr>\n",
              "  </thead>\n",
              "  <tbody>\n",
              "    <tr>\n",
              "      <th>0</th>\n",
              "      <td>-8.000000</td>\n",
              "      <td>1.700000</td>\n",
              "      <td>2.530000</td>\n",
              "      <td>0.100000</td>\n",
              "      <td>20.000000</td>\n",
              "    </tr>\n",
              "    <tr>\n",
              "      <th>1</th>\n",
              "      <td>-10.000000</td>\n",
              "      <td>-3.100000</td>\n",
              "      <td>-1.030000</td>\n",
              "      <td>0.090000</td>\n",
              "      <td>35.000000</td>\n",
              "    </tr>\n",
              "    <tr>\n",
              "      <th>2</th>\n",
              "      <td>1.000000</td>\n",
              "      <td>4.400000</td>\n",
              "      <td>2.270000</td>\n",
              "      <td>0.090000</td>\n",
              "      <td>14.000000</td>\n",
              "    </tr>\n",
              "    <tr>\n",
              "      <th>3</th>\n",
              "      <td>-1.000000</td>\n",
              "      <td>11.500000</td>\n",
              "      <td>3.830000</td>\n",
              "      <td>0.070000</td>\n",
              "      <td>32.000000</td>\n",
              "    </tr>\n",
              "    <tr>\n",
              "      <th>4</th>\n",
              "      <td>-12.000000</td>\n",
              "      <td>1.100000</td>\n",
              "      <td>0.310000</td>\n",
              "      <td>0.080000</td>\n",
              "      <td>22.000000</td>\n",
              "    </tr>\n",
              "    <tr>\n",
              "      <th>...</th>\n",
              "      <td>...</td>\n",
              "      <td>...</td>\n",
              "      <td>...</td>\n",
              "      <td>...</td>\n",
              "      <td>...</td>\n",
              "    </tr>\n",
              "    <tr>\n",
              "      <th>122</th>\n",
              "      <td>9.049450</td>\n",
              "      <td>-10.373214</td>\n",
              "      <td>-3.341690</td>\n",
              "      <td>0.047624</td>\n",
              "      <td>37.197799</td>\n",
              "    </tr>\n",
              "    <tr>\n",
              "      <th>123</th>\n",
              "      <td>-1.367783</td>\n",
              "      <td>-3.161084</td>\n",
              "      <td>-1.422580</td>\n",
              "      <td>0.056322</td>\n",
              "      <td>11.632217</td>\n",
              "    </tr>\n",
              "    <tr>\n",
              "      <th>124</th>\n",
              "      <td>5.206165</td>\n",
              "      <td>14.308927</td>\n",
              "      <td>3.788141</td>\n",
              "      <td>0.057354</td>\n",
              "      <td>22.206165</td>\n",
              "    </tr>\n",
              "    <tr>\n",
              "      <th>125</th>\n",
              "      <td>4.068238</td>\n",
              "      <td>-6.457118</td>\n",
              "      <td>-3.045324</td>\n",
              "      <td>0.091676</td>\n",
              "      <td>17.701767</td>\n",
              "    </tr>\n",
              "    <tr>\n",
              "      <th>126</th>\n",
              "      <td>-1.090290</td>\n",
              "      <td>-4.548551</td>\n",
              "      <td>-1.858245</td>\n",
              "      <td>0.059097</td>\n",
              "      <td>11.909710</td>\n",
              "    </tr>\n",
              "  </tbody>\n",
              "</table>\n",
              "<p>127 rows × 5 columns</p>\n",
              "</div>"
            ],
            "text/plain": [
              "        Change        AVR   Torsion        RC      Curve\n",
              "0    -8.000000   1.700000  2.530000  0.100000  20.000000\n",
              "1   -10.000000  -3.100000 -1.030000  0.090000  35.000000\n",
              "2     1.000000   4.400000  2.270000  0.090000  14.000000\n",
              "3    -1.000000  11.500000  3.830000  0.070000  32.000000\n",
              "4   -12.000000   1.100000  0.310000  0.080000  22.000000\n",
              "..         ...        ...       ...       ...        ...\n",
              "122   9.049450 -10.373214 -3.341690  0.047624  37.197799\n",
              "123  -1.367783  -3.161084 -1.422580  0.056322  11.632217\n",
              "124   5.206165  14.308927  3.788141  0.057354  22.206165\n",
              "125   4.068238  -6.457118 -3.045324  0.091676  17.701767\n",
              "126  -1.090290  -4.548551 -1.858245  0.059097  11.909710\n",
              "\n",
              "[127 rows x 5 columns]"
            ]
          },
          "metadata": {
            "tags": []
          },
          "execution_count": 126
        }
      ]
    },
    {
      "cell_type": "code",
      "metadata": {
        "id": "11Gn7W9yYcDq"
      },
      "source": [
        "y_df=pd.DataFrame(data=y_dfs)\n",
        "y_df\n",
        "y_df.to_csv('y_data.csv')"
      ],
      "execution_count": null,
      "outputs": []
    },
    {
      "cell_type": "markdown",
      "metadata": {
        "id": "lZLh4QbxAUgX"
      },
      "source": [
        "## **Standardization**"
      ]
    },
    {
      "cell_type": "code",
      "metadata": {
        "colab": {
          "base_uri": "https://localhost:8080/",
          "height": 229
        },
        "id": "kbB6chMICOjt",
        "outputId": "807818fc-0ea0-48bf-877f-a244917d4acd"
      },
      "source": [
        "#standardizing data\n",
        "from sklearn.preprocessing import StandardScaler\n",
        "scaler = StandardScaler()\n",
        "print(scaler.fit(X_df))\n",
        "StandardScaler()\n",
        "print(scaler.mean_)\n",
        "X_df_s=scaler.transform(X_df)\n",
        "X_df_sd = pd.DataFrame(data= X_df_s, columns=X_df.columns)  # Converting back the standardized dataset to a pandas dataframe\n",
        "X_df_sd.head()"
      ],
      "execution_count": null,
      "outputs": [
        {
          "output_type": "error",
          "ename": "NameError",
          "evalue": "ignored",
          "traceback": [
            "\u001b[0;31m---------------------------------------------------------------------------\u001b[0m",
            "\u001b[0;31mNameError\u001b[0m                                 Traceback (most recent call last)",
            "\u001b[0;32m<ipython-input-12-521bd7b59fc8>\u001b[0m in \u001b[0;36m<module>\u001b[0;34m()\u001b[0m\n\u001b[1;32m      2\u001b[0m \u001b[0;32mfrom\u001b[0m \u001b[0msklearn\u001b[0m\u001b[0;34m.\u001b[0m\u001b[0mpreprocessing\u001b[0m \u001b[0;32mimport\u001b[0m \u001b[0mStandardScaler\u001b[0m\u001b[0;34m\u001b[0m\u001b[0;34m\u001b[0m\u001b[0m\n\u001b[1;32m      3\u001b[0m \u001b[0mscaler\u001b[0m \u001b[0;34m=\u001b[0m \u001b[0mStandardScaler\u001b[0m\u001b[0;34m(\u001b[0m\u001b[0;34m)\u001b[0m\u001b[0;34m\u001b[0m\u001b[0;34m\u001b[0m\u001b[0m\n\u001b[0;32m----> 4\u001b[0;31m \u001b[0mprint\u001b[0m\u001b[0;34m(\u001b[0m\u001b[0mscaler\u001b[0m\u001b[0;34m.\u001b[0m\u001b[0mfit\u001b[0m\u001b[0;34m(\u001b[0m\u001b[0mX_df\u001b[0m\u001b[0;34m)\u001b[0m\u001b[0;34m)\u001b[0m\u001b[0;34m\u001b[0m\u001b[0;34m\u001b[0m\u001b[0m\n\u001b[0m\u001b[1;32m      5\u001b[0m \u001b[0mStandardScaler\u001b[0m\u001b[0;34m(\u001b[0m\u001b[0;34m)\u001b[0m\u001b[0;34m\u001b[0m\u001b[0;34m\u001b[0m\u001b[0m\n\u001b[1;32m      6\u001b[0m \u001b[0mprint\u001b[0m\u001b[0;34m(\u001b[0m\u001b[0mscaler\u001b[0m\u001b[0;34m.\u001b[0m\u001b[0mmean_\u001b[0m\u001b[0;34m)\u001b[0m\u001b[0;34m\u001b[0m\u001b[0;34m\u001b[0m\u001b[0m\n",
            "\u001b[0;31mNameError\u001b[0m: name 'X_df' is not defined"
          ]
        }
      ]
    },
    {
      "cell_type": "markdown",
      "metadata": {
        "id": "Cd79JhqiWFGA"
      },
      "source": [
        "## Feature Selection"
      ]
    },
    {
      "cell_type": "code",
      "metadata": {
        "colab": {
          "base_uri": "https://localhost:8080/",
          "height": 595
        },
        "id": "xDsqnsemYqMe",
        "outputId": "69323c14-9616-42bd-9d43-d79d0817268b"
      },
      "source": [
        "import seaborn as sns\n",
        "#Using Pearson Correlation\n",
        "plt.figure(figsize=(12,10))\n",
        "cor = X_df_sd.corr()\n",
        "sns.heatmap(cor, annot=True, cmap=plt.cm.CMRmap_r)\n",
        "plt.show()"
      ],
      "execution_count": null,
      "outputs": [
        {
          "output_type": "display_data",
          "data": {
            "image/png": "[encoded data removed]",
            "text/plain": [
              "<Figure size 864x720 with 2 Axes>"
            ]
          },
          "metadata": {
            "tags": [],
            "needs_background": "light"
          }
        }
      ]
    },
    {
      "cell_type": "code",
      "metadata": {
        "colab": {
          "base_uri": "https://localhost:8080/"
        },
        "id": "tJNuXhHevvdB",
        "outputId": "1d922d62-8d73-4d17-f395-be910a608bc6"
      },
      "source": [
        "from scipy.stats import pearsonr         #calculate the correlation for the dataset so we can remove the features that have high correlation\n",
        "\n",
        "x_df=X_df_sd\n",
        "correlation,p_value=pearsonr(x_df.iloc[:,0],x_df.iloc[:,1])\n",
        "correlation,p_value=pearsonr(x_df.iloc[:,0],x_df.iloc[:,2])\n",
        "correlation,p_value=pearsonr(x_df.iloc[:,0],x_df.iloc[:,3])\n",
        "correlation,p_value=pearsonr(x_df.iloc[:,0],x_df.iloc[:,4])\n",
        "correlation,p_value=pearsonr(x_df.iloc[:,1],x_df.iloc[:,2]) #This has a great correlation equal to 0.898\n",
        "correlation,p_value=pearsonr(x_df.iloc[:,1],x_df.iloc[:,3])\n",
        "correlation,p_value=pearsonr(x_df.iloc[:,1],x_df.iloc[:,4])\n",
        "correlation,p_value=pearsonr(x_df.iloc[:,2],x_df.iloc[:,3])\n",
        "correlation,p_value=pearsonr(x_df.iloc[:,2],x_df.iloc[:,4])\n",
        "correlation,p_value=pearsonr(x_df.iloc[:,3],x_df.iloc[:,4])\n",
        "\n",
        "np.std(x_df.iloc[:,2])    #Second column has higher standard deviation so we drop column1"
      ],
      "execution_count": null,
      "outputs": [
        {
          "output_type": "execute_result",
          "data": {
            "text/plain": [
              "0.9999999999999999"
            ]
          },
          "metadata": {
            "tags": []
          },
          "execution_count": 130
        }
      ]
    },
    {
      "cell_type": "code",
      "metadata": {
        "colab": {
          "base_uri": "https://localhost:8080/",
          "height": 402
        },
        "id": "lHSZrOM1aL2g",
        "outputId": "1575e698-fdf5-43d4-936e-167f4819991a"
      },
      "source": [
        "x_df"
      ],
      "execution_count": null,
      "outputs": [
        {
          "output_type": "execute_result",
          "data": {
            "text/html": [
              "<div>\n",
              "<style scoped>\n",
              "    .dataframe tbody tr th:only-of-type {\n",
              "        vertical-align: middle;\n",
              "    }\n",
              "\n",
              "    .dataframe tbody tr th {\n",
              "        vertical-align: top;\n",
              "    }\n",
              "\n",
              "    .dataframe thead th {\n",
              "        text-align: right;\n",
              "    }\n",
              "</style>\n",
              "<table border=\"1\" class=\"dataframe\">\n",
              "  <thead>\n",
              "    <tr style=\"text-align: right;\">\n",
              "      <th></th>\n",
              "      <th>Change</th>\n",
              "      <th>AVR</th>\n",
              "      <th>Torsion</th>\n",
              "      <th>RC</th>\n",
              "      <th>Curve</th>\n",
              "    </tr>\n",
              "  </thead>\n",
              "  <tbody>\n",
              "    <tr>\n",
              "      <th>0</th>\n",
              "      <td>-1.354429</td>\n",
              "      <td>-0.242596</td>\n",
              "      <td>0.449607</td>\n",
              "      <td>1.541941</td>\n",
              "      <td>-0.561756</td>\n",
              "    </tr>\n",
              "    <tr>\n",
              "      <th>1</th>\n",
              "      <td>-1.645381</td>\n",
              "      <td>-0.795423</td>\n",
              "      <td>-0.665991</td>\n",
              "      <td>1.081640</td>\n",
              "      <td>1.006201</td>\n",
              "    </tr>\n",
              "    <tr>\n",
              "      <th>2</th>\n",
              "      <td>-0.045147</td>\n",
              "      <td>0.068368</td>\n",
              "      <td>0.368131</td>\n",
              "      <td>1.081640</td>\n",
              "      <td>-1.188939</td>\n",
              "    </tr>\n",
              "    <tr>\n",
              "      <th>3</th>\n",
              "      <td>-0.336099</td>\n",
              "      <td>0.886091</td>\n",
              "      <td>0.856989</td>\n",
              "      <td>0.161038</td>\n",
              "      <td>0.692610</td>\n",
              "    </tr>\n",
              "    <tr>\n",
              "      <th>4</th>\n",
              "      <td>-1.936333</td>\n",
              "      <td>-0.311700</td>\n",
              "      <td>-0.246075</td>\n",
              "      <td>0.621339</td>\n",
              "      <td>-0.352695</td>\n",
              "    </tr>\n",
              "    <tr>\n",
              "      <th>...</th>\n",
              "      <td>...</td>\n",
              "      <td>...</td>\n",
              "      <td>...</td>\n",
              "      <td>...</td>\n",
              "      <td>...</td>\n",
              "    </tr>\n",
              "    <tr>\n",
              "      <th>122</th>\n",
              "      <td>1.125853</td>\n",
              "      <td>-1.633095</td>\n",
              "      <td>-1.390406</td>\n",
              "      <td>-0.868948</td>\n",
              "      <td>1.235938</td>\n",
              "    </tr>\n",
              "    <tr>\n",
              "      <th>123</th>\n",
              "      <td>-0.389602</td>\n",
              "      <td>-0.802458</td>\n",
              "      <td>-0.789014</td>\n",
              "      <td>-0.468553</td>\n",
              "      <td>-1.436445</td>\n",
              "    </tr>\n",
              "    <tr>\n",
              "      <th>124</th>\n",
              "      <td>0.566748</td>\n",
              "      <td>1.209601</td>\n",
              "      <td>0.843871</td>\n",
              "      <td>-0.421064</td>\n",
              "      <td>-0.331145</td>\n",
              "    </tr>\n",
              "    <tr>\n",
              "      <th>125</th>\n",
              "      <td>0.401207</td>\n",
              "      <td>-1.182070</td>\n",
              "      <td>-1.297534</td>\n",
              "      <td>1.158809</td>\n",
              "      <td>-0.801992</td>\n",
              "    </tr>\n",
              "    <tr>\n",
              "      <th>126</th>\n",
              "      <td>-0.349234</td>\n",
              "      <td>-0.962256</td>\n",
              "      <td>-0.925539</td>\n",
              "      <td>-0.340823</td>\n",
              "      <td>-1.407438</td>\n",
              "    </tr>\n",
              "  </tbody>\n",
              "</table>\n",
              "<p>127 rows × 5 columns</p>\n",
              "</div>"
            ],
            "text/plain": [
              "       Change       AVR   Torsion        RC     Curve\n",
              "0   -1.354429 -0.242596  0.449607  1.541941 -0.561756\n",
              "1   -1.645381 -0.795423 -0.665991  1.081640  1.006201\n",
              "2   -0.045147  0.068368  0.368131  1.081640 -1.188939\n",
              "3   -0.336099  0.886091  0.856989  0.161038  0.692610\n",
              "4   -1.936333 -0.311700 -0.246075  0.621339 -0.352695\n",
              "..        ...       ...       ...       ...       ...\n",
              "122  1.125853 -1.633095 -1.390406 -0.868948  1.235938\n",
              "123 -0.389602 -0.802458 -0.789014 -0.468553 -1.436445\n",
              "124  0.566748  1.209601  0.843871 -0.421064 -0.331145\n",
              "125  0.401207 -1.182070 -1.297534  1.158809 -0.801992\n",
              "126 -0.349234 -0.962256 -0.925539 -0.340823 -1.407438\n",
              "\n",
              "[127 rows x 5 columns]"
            ]
          },
          "metadata": {
            "tags": []
          },
          "execution_count": 131
        }
      ]
    },
    {
      "cell_type": "code",
      "metadata": {
        "colab": {
          "base_uri": "https://localhost:8080/",
          "height": 402
        },
        "id": "YQGjYWFhv0d_",
        "outputId": "80ce1e2e-3d83-4c8c-ae15-7df3dbe826c5"
      },
      "source": [
        "X_df_sd = X_df_sd.drop(columns=[\"AVR\"])       #drop the feature that has high correlation with torsion\n",
        "X_df_sd"
      ],
      "execution_count": null,
      "outputs": [
        {
          "output_type": "execute_result",
          "data": {
            "text/html": [
              "<div>\n",
              "<style scoped>\n",
              "    .dataframe tbody tr th:only-of-type {\n",
              "        vertical-align: middle;\n",
              "    }\n",
              "\n",
              "    .dataframe tbody tr th {\n",
              "        vertical-align: top;\n",
              "    }\n",
              "\n",
              "    .dataframe thead th {\n",
              "        text-align: right;\n",
              "    }\n",
              "</style>\n",
              "<table border=\"1\" class=\"dataframe\">\n",
              "  <thead>\n",
              "    <tr style=\"text-align: right;\">\n",
              "      <th></th>\n",
              "      <th>Change</th>\n",
              "      <th>Torsion</th>\n",
              "      <th>RC</th>\n",
              "      <th>Curve</th>\n",
              "    </tr>\n",
              "  </thead>\n",
              "  <tbody>\n",
              "    <tr>\n",
              "      <th>0</th>\n",
              "      <td>-1.354429</td>\n",
              "      <td>0.449607</td>\n",
              "      <td>1.541941</td>\n",
              "      <td>-0.561756</td>\n",
              "    </tr>\n",
              "    <tr>\n",
              "      <th>1</th>\n",
              "      <td>-1.645381</td>\n",
              "      <td>-0.665991</td>\n",
              "      <td>1.081640</td>\n",
              "      <td>1.006201</td>\n",
              "    </tr>\n",
              "    <tr>\n",
              "      <th>2</th>\n",
              "      <td>-0.045147</td>\n",
              "      <td>0.368131</td>\n",
              "      <td>1.081640</td>\n",
              "      <td>-1.188939</td>\n",
              "    </tr>\n",
              "    <tr>\n",
              "      <th>3</th>\n",
              "      <td>-0.336099</td>\n",
              "      <td>0.856989</td>\n",
              "      <td>0.161038</td>\n",
              "      <td>0.692610</td>\n",
              "    </tr>\n",
              "    <tr>\n",
              "      <th>4</th>\n",
              "      <td>-1.936333</td>\n",
              "      <td>-0.246075</td>\n",
              "      <td>0.621339</td>\n",
              "      <td>-0.352695</td>\n",
              "    </tr>\n",
              "    <tr>\n",
              "      <th>...</th>\n",
              "      <td>...</td>\n",
              "      <td>...</td>\n",
              "      <td>...</td>\n",
              "      <td>...</td>\n",
              "    </tr>\n",
              "    <tr>\n",
              "      <th>122</th>\n",
              "      <td>1.125853</td>\n",
              "      <td>-1.390406</td>\n",
              "      <td>-0.868948</td>\n",
              "      <td>1.235938</td>\n",
              "    </tr>\n",
              "    <tr>\n",
              "      <th>123</th>\n",
              "      <td>-0.389602</td>\n",
              "      <td>-0.789014</td>\n",
              "      <td>-0.468553</td>\n",
              "      <td>-1.436445</td>\n",
              "    </tr>\n",
              "    <tr>\n",
              "      <th>124</th>\n",
              "      <td>0.566748</td>\n",
              "      <td>0.843871</td>\n",
              "      <td>-0.421064</td>\n",
              "      <td>-0.331145</td>\n",
              "    </tr>\n",
              "    <tr>\n",
              "      <th>125</th>\n",
              "      <td>0.401207</td>\n",
              "      <td>-1.297534</td>\n",
              "      <td>1.158809</td>\n",
              "      <td>-0.801992</td>\n",
              "    </tr>\n",
              "    <tr>\n",
              "      <th>126</th>\n",
              "      <td>-0.349234</td>\n",
              "      <td>-0.925539</td>\n",
              "      <td>-0.340823</td>\n",
              "      <td>-1.407438</td>\n",
              "    </tr>\n",
              "  </tbody>\n",
              "</table>\n",
              "<p>127 rows × 4 columns</p>\n",
              "</div>"
            ],
            "text/plain": [
              "       Change   Torsion        RC     Curve\n",
              "0   -1.354429  0.449607  1.541941 -0.561756\n",
              "1   -1.645381 -0.665991  1.081640  1.006201\n",
              "2   -0.045147  0.368131  1.081640 -1.188939\n",
              "3   -0.336099  0.856989  0.161038  0.692610\n",
              "4   -1.936333 -0.246075  0.621339 -0.352695\n",
              "..        ...       ...       ...       ...\n",
              "122  1.125853 -1.390406 -0.868948  1.235938\n",
              "123 -0.389602 -0.789014 -0.468553 -1.436445\n",
              "124  0.566748  0.843871 -0.421064 -0.331145\n",
              "125  0.401207 -1.297534  1.158809 -0.801992\n",
              "126 -0.349234 -0.925539 -0.340823 -1.407438\n",
              "\n",
              "[127 rows x 4 columns]"
            ]
          },
          "metadata": {
            "tags": []
          },
          "execution_count": 132
        }
      ]
    },
    {
      "cell_type": "code",
      "metadata": {
        "id": "dkqT6FkFWPG5"
      },
      "source": [
        "#trying to classify with two features\n",
        "# X_df_sd = X_df_sd.drop(columns=[\"AVR\",\"RC\",\"Curve\",'Torsion'])       #drop the feature that has high correlation with torsion\n",
        "# X_df_sd"
      ],
      "execution_count": null,
      "outputs": []
    },
    {
      "cell_type": "code",
      "metadata": {
        "colab": {
          "base_uri": "https://localhost:8080/"
        },
        "id": "so-nsgbEK2Kj",
        "outputId": "78062da4-4942-44d2-9832-0547636968b4"
      },
      "source": [
        "#feature selection before logistic regression\n",
        "from sklearn.feature_selection import VarianceThreshold\n",
        "\n",
        "sel = VarianceThreshold(threshold=.85)\n",
        "sel.fit_transform(X_df_sd)\n",
        "X_df_sd = pd.DataFrame(data= X_df_sd, columns=X_df_sd.columns)  # Converting back the standardized dataset to a pandas dataframe\n",
        "X_df_sd.shape\n",
        "#as we see that there is no low variance featue and we have only five feature, we keep all of them"
      ],
      "execution_count": null,
      "outputs": [
        {
          "output_type": "execute_result",
          "data": {
            "text/plain": [
              "(127, 4)"
            ]
          },
          "metadata": {
            "tags": []
          },
          "execution_count": 134
        }
      ]
    },
    {
      "cell_type": "code",
      "metadata": {
        "id": "aGv3PD0BRX8d"
      },
      "source": [
        "#Uncomment this if you want to have validation set\n",
        "# from sklearn.model_selection import train_test_split\n",
        "# X_train, X_test, y_train, y_test = train_test_split(X_df_sd, y_df, test_size=0.2, random_state=1)\n",
        "\n",
        "# X_train, X_val, y_train, y_val = train_test_split(X_train, y_train, test_size=0.25, random_state=1) # 0.25 x 0.8 = 0.2\n",
        "#    60% - train set\n",
        "#    20% - validation set\n",
        "#    20% - test set"
      ],
      "execution_count": null,
      "outputs": []
    },
    {
      "cell_type": "markdown",
      "metadata": {
        "id": "dgWiaRwpnsyQ"
      },
      "source": [
        "## Removing Outliers"
      ]
    },
    {
      "cell_type": "code",
      "metadata": {
        "id": "j_WF2hooVlcv"
      },
      "source": [
        "#comment this if you want to have validation set\n",
        "from sklearn.model_selection import train_test_split\n",
        "X_train, X_test, y_train, y_test = train_test_split(X_df_sd, y_df, test_size=0.2, random_state=10)\n",
        "X_train = X_train.to_numpy()\n",
        "y_train = y_train.to_numpy()"
      ],
      "execution_count": null,
      "outputs": []
    },
    {
      "cell_type": "code",
      "metadata": {
        "colab": {
          "base_uri": "https://localhost:8080/"
        },
        "id": "fOCCt9K43Oqz",
        "outputId": "149aa885-3166-4745-e84c-fb5678c5050c"
      },
      "source": [
        "# identify outliers in the training dataset using One-Class SVM\n",
        "from sklearn.svm import OneClassSVM\n",
        "from sklearn.metrics import mean_absolute_error\n",
        "ee = OneClassSVM(nu=0.01)\n",
        "yhat = ee.fit_predict(X_train)\n",
        "mask = yhat != -1\n",
        "X_train, y_train = X_train[mask, :], y_train[mask]\n",
        "print(X_train.shape, y_train.shape)"
      ],
      "execution_count": null,
      "outputs": [
        {
          "output_type": "stream",
          "text": [
            "(92, 4) (92, 1)\n"
          ],
          "name": "stdout"
        }
      ]
    },
    {
      "cell_type": "code",
      "metadata": {
        "colab": {
          "base_uri": "https://localhost:8080/"
        },
        "id": "To9yptJRZRIi",
        "outputId": "d3903985-7341-4277-b0cf-d18fa52d7ef6"
      },
      "source": [
        "#DATA CONVERSION \n",
        "X_train=pd.DataFrame(data=X_train, columns=X_df_sd.columns) #numpy to dataframe\n",
        "y_test=y_test.squeeze() #dataframe to series\n",
        "y_train=pd.Series(y_train.ravel()) #numpy to 1dimension to series \n",
        "X_train\n",
        "y_train"
      ],
      "execution_count": null,
      "outputs": [
        {
          "output_type": "execute_result",
          "data": {
            "text/plain": [
              "0     0\n",
              "1     0\n",
              "2     1\n",
              "3     0\n",
              "4     0\n",
              "     ..\n",
              "87    1\n",
              "88    0\n",
              "89    1\n",
              "90    1\n",
              "91    0\n",
              "Length: 92, dtype: int64"
            ]
          },
          "metadata": {
            "tags": []
          },
          "execution_count": 138
        }
      ]
    },
    {
      "cell_type": "code",
      "metadata": {
        "colab": {
          "base_uri": "https://localhost:8080/"
        },
        "id": "xek8dmto2PcO",
        "outputId": "42e91ba4-b778-449d-d59d-3869b825d4c7"
      },
      "source": [
        "type(y_train)"
      ],
      "execution_count": null,
      "outputs": [
        {
          "output_type": "execute_result",
          "data": {
            "text/plain": [
              "pandas.core.series.Series"
            ]
          },
          "metadata": {
            "tags": []
          },
          "execution_count": 139
        }
      ]
    },
    {
      "cell_type": "markdown",
      "metadata": {
        "id": "kLbjOFD4a5GC"
      },
      "source": [
        "# **Logistic Regression**"
      ]
    },
    {
      "cell_type": "code",
      "metadata": {
        "id": "3rf4iVAQsmCM"
      },
      "source": [
        "#y_train=y_train.values.ravel()"
      ],
      "execution_count": null,
      "outputs": []
    },
    {
      "cell_type": "code",
      "metadata": {
        "id": "GsCUrzgwHYfB"
      },
      "source": [
        "from sklearn.linear_model import LogisticRegression\n",
        "from sklearn.model_selection import train_test_split\n",
        "\n",
        "# X_train, X_test, y_train, y_test = train_test_split(X_df_sd, y_df, test_size=0.2, random_state=42)\n",
        "# X_train, X_val, y_train, y_val = train_test_split(X_train, y_train, test_size=0.25, random_state=42) # 0.25 x 0.8 = 0.2\n",
        "\n",
        "#X_train, X_test, y_train, y_test = train_test_split(X_df_sd, y_df, test_size=0.2, random_state=42)\n",
        "  # 60% - train set\n",
        "  # 20% - validation set\n",
        "  # 20% - test set\n",
        "lr_classifier = LogisticRegression(random_state=10, solver = 'lbfgs')\n",
        "lr_classifier.fit(X_train, y_train)\n",
        "y_predict_lr = lr_classifier.predict(X_test)"
      ],
      "execution_count": null,
      "outputs": []
    },
    {
      "cell_type": "code",
      "metadata": {
        "colab": {
          "base_uri": "https://localhost:8080/"
        },
        "id": "uYgeoB4b0QQr",
        "outputId": "bc2370e2-0c29-405f-82ef-cc9f0ff098c1"
      },
      "source": [
        "type(y_test) #y train to panda"
      ],
      "execution_count": null,
      "outputs": [
        {
          "output_type": "execute_result",
          "data": {
            "text/plain": [
              "pandas.core.series.Series"
            ]
          },
          "metadata": {
            "tags": []
          },
          "execution_count": 142
        }
      ]
    },
    {
      "cell_type": "code",
      "metadata": {
        "colab": {
          "base_uri": "https://localhost:8080/"
        },
        "id": "9rJIq7XHUas_",
        "outputId": "eb8d5ad4-3df4-4b1d-873e-4d8bd3bbd5dc"
      },
      "source": [
        "predictions = lr_classifier.predict(X_test)# Calculate the absolute errors\n",
        "errors = abs(predictions - y_test)# Print out the mean absolute error (mae)\n",
        "print('Mean Absolute Error:', round(np.mean(errors), 2))\n",
        "#https://towardsdatascience.com/random-forest-in-python-24d0893d51c0"
      ],
      "execution_count": null,
      "outputs": [
        {
          "output_type": "stream",
          "text": [
            "Mean Absolute Error: 0.04\n"
          ],
          "name": "stdout"
        }
      ]
    },
    {
      "cell_type": "code",
      "metadata": {
        "colab": {
          "base_uri": "https://localhost:8080/"
        },
        "id": "n4V2fZ6gUslo",
        "outputId": "ffb44bbb-7625-4ce0-9dbc-371410358b17"
      },
      "source": [
        "from sklearn.metrics import r2_score, explained_variance_score, confusion_matrix, accuracy_score, classification_report, log_loss\n",
        "print('\\n')\n",
        "# Accuracy on Train\n",
        "print(\"The Training Accuracy is: \", lr_classifier.score(X_train, y_train))\n",
        "\n",
        "# Accuracy on Test\n",
        "print(\"The Testing Accuracy is: \", lr_classifier.score(X_test, y_test))\n",
        "print('\\n')\n",
        "# Classification Report\n",
        "print(classification_report(y_test, predictions))"
      ],
      "execution_count": null,
      "outputs": [
        {
          "output_type": "stream",
          "text": [
            "\n",
            "\n",
            "The Training Accuracy is:  0.8695652173913043\n",
            "The Testing Accuracy is:  0.9615384615384616\n",
            "\n",
            "\n",
            "              precision    recall  f1-score   support\n",
            "\n",
            "           0       1.00      0.93      0.96        14\n",
            "           1       0.92      1.00      0.96        12\n",
            "\n",
            "    accuracy                           0.96        26\n",
            "   macro avg       0.96      0.96      0.96        26\n",
            "weighted avg       0.96      0.96      0.96        26\n",
            "\n"
          ],
          "name": "stdout"
        }
      ]
    },
    {
      "cell_type": "code",
      "metadata": {
        "colab": {
          "base_uri": "https://localhost:8080/"
        },
        "id": "6g7pf8iI6cd1",
        "outputId": "dff3c07f-418d-4d1f-d983-f23ca10da3b4"
      },
      "source": [
        "tn, fp, fn, tp=confusion_matrix(y_test, predictions).ravel()\n",
        "specificity=tn/(tn+fp)\n",
        "print(\"specificity\",specificity)\n",
        "sensitivity=tp/(tp+fn)\n",
        "print(\"sensitivity\",sensitivity)"
      ],
      "execution_count": null,
      "outputs": [
        {
          "output_type": "stream",
          "text": [
            "specificity 0.9285714285714286\n",
            "sensitivity 1.0\n"
          ],
          "name": "stdout"
        }
      ]
    },
    {
      "cell_type": "code",
      "metadata": {
        "colab": {
          "base_uri": "https://localhost:8080/",
          "height": 312
        },
        "id": "gZDu6bI5U8WB",
        "outputId": "e7255f26-e313-463f-c0ef-69c1749f754c"
      },
      "source": [
        "import numpy as np\n",
        "from sklearn.metrics import roc_curve\n",
        "from sklearn.metrics import auc\n",
        "\n",
        "fpr, tpr, thresholds = roc_curve(y_test, predictions)\n",
        "roc_auc = auc(fpr, tpr)\n",
        "\n",
        "plt.plot(fpr, tpr, label='ROC curve (area = %0.3f)' % roc_auc)\n",
        "plt.plot([0, 1], [0, 1], 'k--')  # random predictions curve\n",
        "plt.xlim([0.0, 1.0])\n",
        "plt.ylim([0.0, 1.0])\n",
        "plt.xlabel('False Positive Rate or (1 - Specifity)')\n",
        "plt.ylabel('True Positive Rate or (Sensitivity)')\n",
        "plt.title('Receiver Operating Characteristic')\n",
        "plt.legend(loc=\"lower right\")\n",
        "#helped from stackoverflow.com"
      ],
      "execution_count": null,
      "outputs": [
        {
          "output_type": "execute_result",
          "data": {
            "text/plain": [
              "<matplotlib.legend.Legend at 0x7ff424e76510>"
            ]
          },
          "metadata": {
            "tags": []
          },
          "execution_count": 146
        },
        {
          "output_type": "display_data",
          "data": {
            "image/png": "[encoded data removed]",
            "text/plain": [
              "<Figure size 432x288 with 1 Axes>"
            ]
          },
          "metadata": {
            "tags": [],
            "needs_background": "light"
          }
        }
      ]
    },
    {
      "cell_type": "code",
      "metadata": {
        "colab": {
          "base_uri": "https://localhost:8080/",
          "height": 402
        },
        "id": "mU82NqgSI-Fb",
        "outputId": "beec741c-ec50-41b4-b272-b37c8e45594b"
      },
      "source": [
        "final_ion_set = pd.concat([X_df_sd, y_df], axis=1) # Merging inputs matrix and output vector for performing a 10-fold test.\n",
        "final_ion_set\n",
        "final_ion_set = final_ion_set.dropna(how='any',axis=0) \n",
        "final_ion_set"
      ],
      "execution_count": null,
      "outputs": [
        {
          "output_type": "execute_result",
          "data": {
            "text/html": [
              "<div>\n",
              "<style scoped>\n",
              "    .dataframe tbody tr th:only-of-type {\n",
              "        vertical-align: middle;\n",
              "    }\n",
              "\n",
              "    .dataframe tbody tr th {\n",
              "        vertical-align: top;\n",
              "    }\n",
              "\n",
              "    .dataframe thead th {\n",
              "        text-align: right;\n",
              "    }\n",
              "</style>\n",
              "<table border=\"1\" class=\"dataframe\">\n",
              "  <thead>\n",
              "    <tr style=\"text-align: right;\">\n",
              "      <th></th>\n",
              "      <th>Change</th>\n",
              "      <th>Torsion</th>\n",
              "      <th>RC</th>\n",
              "      <th>Curve</th>\n",
              "      <th>0</th>\n",
              "    </tr>\n",
              "  </thead>\n",
              "  <tbody>\n",
              "    <tr>\n",
              "      <th>0</th>\n",
              "      <td>-1.354429</td>\n",
              "      <td>0.449607</td>\n",
              "      <td>1.541941</td>\n",
              "      <td>-0.561756</td>\n",
              "      <td>0</td>\n",
              "    </tr>\n",
              "    <tr>\n",
              "      <th>1</th>\n",
              "      <td>-1.645381</td>\n",
              "      <td>-0.665991</td>\n",
              "      <td>1.081640</td>\n",
              "      <td>1.006201</td>\n",
              "      <td>0</td>\n",
              "    </tr>\n",
              "    <tr>\n",
              "      <th>2</th>\n",
              "      <td>-0.045147</td>\n",
              "      <td>0.368131</td>\n",
              "      <td>1.081640</td>\n",
              "      <td>-1.188939</td>\n",
              "      <td>0</td>\n",
              "    </tr>\n",
              "    <tr>\n",
              "      <th>3</th>\n",
              "      <td>-0.336099</td>\n",
              "      <td>0.856989</td>\n",
              "      <td>0.161038</td>\n",
              "      <td>0.692610</td>\n",
              "      <td>0</td>\n",
              "    </tr>\n",
              "    <tr>\n",
              "      <th>4</th>\n",
              "      <td>-1.936333</td>\n",
              "      <td>-0.246075</td>\n",
              "      <td>0.621339</td>\n",
              "      <td>-0.352695</td>\n",
              "      <td>0</td>\n",
              "    </tr>\n",
              "    <tr>\n",
              "      <th>...</th>\n",
              "      <td>...</td>\n",
              "      <td>...</td>\n",
              "      <td>...</td>\n",
              "      <td>...</td>\n",
              "      <td>...</td>\n",
              "    </tr>\n",
              "    <tr>\n",
              "      <th>122</th>\n",
              "      <td>1.125853</td>\n",
              "      <td>-1.390406</td>\n",
              "      <td>-0.868948</td>\n",
              "      <td>1.235938</td>\n",
              "      <td>1</td>\n",
              "    </tr>\n",
              "    <tr>\n",
              "      <th>123</th>\n",
              "      <td>-0.389602</td>\n",
              "      <td>-0.789014</td>\n",
              "      <td>-0.468553</td>\n",
              "      <td>-1.436445</td>\n",
              "      <td>1</td>\n",
              "    </tr>\n",
              "    <tr>\n",
              "      <th>124</th>\n",
              "      <td>0.566748</td>\n",
              "      <td>0.843871</td>\n",
              "      <td>-0.421064</td>\n",
              "      <td>-0.331145</td>\n",
              "      <td>1</td>\n",
              "    </tr>\n",
              "    <tr>\n",
              "      <th>125</th>\n",
              "      <td>0.401207</td>\n",
              "      <td>-1.297534</td>\n",
              "      <td>1.158809</td>\n",
              "      <td>-0.801992</td>\n",
              "      <td>1</td>\n",
              "    </tr>\n",
              "    <tr>\n",
              "      <th>126</th>\n",
              "      <td>-0.349234</td>\n",
              "      <td>-0.925539</td>\n",
              "      <td>-0.340823</td>\n",
              "      <td>-1.407438</td>\n",
              "      <td>1</td>\n",
              "    </tr>\n",
              "  </tbody>\n",
              "</table>\n",
              "<p>127 rows × 5 columns</p>\n",
              "</div>"
            ],
            "text/plain": [
              "       Change   Torsion        RC     Curve  0\n",
              "0   -1.354429  0.449607  1.541941 -0.561756  0\n",
              "1   -1.645381 -0.665991  1.081640  1.006201  0\n",
              "2   -0.045147  0.368131  1.081640 -1.188939  0\n",
              "3   -0.336099  0.856989  0.161038  0.692610  0\n",
              "4   -1.936333 -0.246075  0.621339 -0.352695  0\n",
              "..        ...       ...       ...       ... ..\n",
              "122  1.125853 -1.390406 -0.868948  1.235938  1\n",
              "123 -0.389602 -0.789014 -0.468553 -1.436445  1\n",
              "124  0.566748  0.843871 -0.421064 -0.331145  1\n",
              "125  0.401207 -1.297534  1.158809 -0.801992  1\n",
              "126 -0.349234 -0.925539 -0.340823 -1.407438  1\n",
              "\n",
              "[127 rows x 5 columns]"
            ]
          },
          "metadata": {
            "tags": []
          },
          "execution_count": 147
        }
      ]
    },
    {
      "cell_type": "code",
      "metadata": {
        "id": "nBm5PWdE7TFL"
      },
      "source": [
        "# save the model \n",
        "filename = 'lr.sav'\n",
        "pickle.dump(lr_classifier, open(filename, 'wb'))"
      ],
      "execution_count": null,
      "outputs": []
    },
    {
      "cell_type": "markdown",
      "metadata": {
        "id": "oJtbB9cXlug1"
      },
      "source": [
        "### 10 fold Cross Validation"
      ]
    },
    {
      "cell_type": "code",
      "metadata": {
        "colab": {
          "base_uri": "https://localhost:8080/"
        },
        "id": "zFGux2CdJf-U",
        "outputId": "eb07944b-6def-42a6-b545-a045c8bd0d45"
      },
      "source": [
        "from sklearn.model_selection import KFold\n",
        "from sklearn.metrics import average_precision_score as APS\n",
        "from sklearn.metrics import accuracy_score as AS\n",
        "from sklearn.metrics import f1_score as f1\n",
        "from sklearn.metrics import recall_score as RS\n",
        "\n",
        "APS_score_lr, AS_score_lr, f1_score_lr, RS_score_lr = [], [], [], []\n",
        "\n",
        "kfold = KFold(10, True, 10)\n",
        "\n",
        "for train, test in kfold.split(final_ion_set.values):\n",
        "  Xi_train_kfold, Xi_test_kfold, yi_train_kfold, yi_test_kfold = final_ion_set.iloc[:,:4].values[train], final_ion_set.iloc[:,:4].values[test], \\\n",
        "                                                              final_ion_set.iloc[:,4].values[train], final_ion_set.iloc[:,4].values[test]\n",
        "  \n",
        "  ee = OneClassSVM(nu=0.01)\n",
        "  yhat = ee.fit_predict(Xi_train_kfold)\n",
        "  mask = yhat != -1\n",
        "  Xi_train_kfold, yi_train_kfold = Xi_train_kfold[mask, :], yi_train_kfold[mask]\n",
        "\n",
        "  lr_classifier.fit(Xi_train_kfold,yi_train_kfold) # Fitting the model.\n",
        "  yi_pred_fold = lr_classifier.predict(Xi_test_kfold)  # Predicting output of the model by inputting x_test subset.\n",
        "  APS_score_lr.append(APS(yi_test_kfold,yi_pred_fold))\n",
        "  AS_score_lr.append(AS(yi_test_kfold,yi_pred_fold))\n",
        "  f1_score_lr.append(f1(yi_test_kfold,yi_pred_fold))\n",
        "  RS_score_lr.append(RS(yi_test_kfold,yi_pred_fold))\n",
        "\n",
        "\n",
        "for i in range(10):\n",
        "  print(f\"For fold {i+1}, Average precision: {'%0.3f' %(APS_score_lr[i]*100)}%\\t\\tAccuracy: {'%0.3f' %(AS_score_lr[i]*100)}%\\t\\tF1:\\\n",
        "   {'%0.3f' %(f1_score_lr[i]*100)}%\\t\\tRecall: {'%0.3f' %(RS_score_lr[i]*100)}%\\n\")\n",
        "\n",
        "print(f\"\\n\\nThe max scores for Logistic regression are: \\nAverage precision score: {'%0.3f' %(max(APS_score_lr)*100)}%\\nAccuracy score:\\\n",
        " {'%0.3f' %(max(AS_score_lr)*100)}%\\nF1 s1ore: {'%0.3f' %(max(f1_score_lr)*100)}%\\nRecall score: {'%0.3f' %(max(RS_score_lr)*100)}%\")"
      ],
      "execution_count": null,
      "outputs": [
        {
          "output_type": "stream",
          "text": [
            "For fold 1, Average precision: 88.889%\t\tAccuracy: 92.308%\t\tF1:   94.118%\t\tRecall: 100.000%\n",
            "\n",
            "For fold 2, Average precision: 100.000%\t\tAccuracy: 100.000%\t\tF1:   100.000%\t\tRecall: 100.000%\n",
            "\n",
            "For fold 3, Average precision: 75.748%\t\tAccuracy: 76.923%\t\tF1:   82.353%\t\tRecall: 87.500%\n",
            "\n",
            "For fold 4, Average precision: 85.714%\t\tAccuracy: 92.308%\t\tF1:   92.308%\t\tRecall: 100.000%\n",
            "\n",
            "For fold 5, Average precision: 77.778%\t\tAccuracy: 84.615%\t\tF1:   87.500%\t\tRecall: 100.000%\n",
            "\n",
            "For fold 6, Average precision: 84.327%\t\tAccuracy: 69.231%\t\tF1:   77.778%\t\tRecall: 70.000%\n",
            "\n",
            "For fold 7, Average precision: 62.500%\t\tAccuracy: 76.923%\t\tF1:   76.923%\t\tRecall: 100.000%\n",
            "\n",
            "For fold 8, Average precision: 87.500%\t\tAccuracy: 91.667%\t\tF1:   93.333%\t\tRecall: 100.000%\n",
            "\n",
            "For fold 9, Average precision: 52.667%\t\tAccuracy: 66.667%\t\tF1:   60.000%\t\tRecall: 60.000%\n",
            "\n",
            "For fold 10, Average precision: 100.000%\t\tAccuracy: 100.000%\t\tF1:   100.000%\t\tRecall: 100.000%\n",
            "\n",
            "\n",
            "\n",
            "The max scores for Logistic regression are: \n",
            "Average precision score: 100.000%\n",
            "Accuracy score: 100.000%\n",
            "F1 s1ore: 100.000%\n",
            "Recall score: 100.000%\n"
          ],
          "name": "stdout"
        }
      ]
    },
    {
      "cell_type": "markdown",
      "metadata": {
        "id": "zai0qxGeFWEo"
      },
      "source": [
        "### Confusion Matrix"
      ]
    },
    {
      "cell_type": "code",
      "metadata": {
        "id": "ZgPp4wQeFUDH"
      },
      "source": [
        "# Confusion Matrix function\n",
        "#adopted from https://github.com/Pitsillides91/Python-Tutorials/blob/master/Introduction%20to%20ML%20-%20Logistic%20Regression%20Example/Introduction%20to%20Machine%20Learning%20-%20Logistic%20Regression%20Example%20(Complete).ipynb\n",
        "\n",
        "def plot_confusion_matrix(cm, classes=None, title='Confusion matrix'):\n",
        "    \"\"\"Plots a confusion matrix.\"\"\"\n",
        "    if classes is not None:\n",
        "        sns.heatmap(cm, cmap=\"YlGnBu\", xticklabels=classes, yticklabels=classes, vmin=0., vmax=1., annot=True, annot_kws={'size':50})\n",
        "    else:\n",
        "        sns.heatmap(cm, vmin=0., vmax=1.)\n",
        "    plt.title(title)\n",
        "    plt.ylabel('True label')\n",
        "    plt.xlabel('Predicted label')"
      ],
      "execution_count": null,
      "outputs": []
    },
    {
      "cell_type": "code",
      "metadata": {
        "colab": {
          "base_uri": "https://localhost:8080/",
          "height": 329
        },
        "id": "hPITH7lVFf_6",
        "outputId": "67f402fc-4137-43aa-8133-80883bff91a5"
      },
      "source": [
        "#confusion matrix\n",
        "from sklearn.metrics import confusion_matrix\n",
        "import matplotlib.pyplot as plt\n",
        "from sklearn import metrics\n",
        "cm = metrics.confusion_matrix(y_test, predictions)\n",
        "print(cm)\n",
        "cm_norm = cm / cm.sum(axis=1).reshape(-1,1)\n",
        "\n",
        "plot_confusion_matrix(cm_norm, classes = lr_classifier.classes_, title='Confusion matrix')"
      ],
      "execution_count": null,
      "outputs": [
        {
          "output_type": "stream",
          "text": [
            "[[13  1]\n",
            " [ 0 12]]\n"
          ],
          "name": "stdout"
        },
        {
          "output_type": "display_data",
          "data": {
            "image/png": "[encoded data removed]",
            "text/plain": [
              "<Figure size 432x288 with 2 Axes>"
            ]
          },
          "metadata": {
            "tags": [],
            "needs_background": "light"
          }
        }
      ]
    },
    {
      "cell_type": "code",
      "metadata": {
        "colab": {
          "base_uri": "https://localhost:8080/"
        },
        "id": "rWLl_ySm6TSA",
        "outputId": "02ac397e-2415-420a-89d6-4b2a0e989c1e"
      },
      "source": [
        "tn, fp, fn, tp=confusion_matrix(y_test, predictions).ravel()\n",
        "specificity=tn/(tn+fp)\n",
        "print(\"specificity\",specificity)\n",
        "sensitivity=tp/(tp+fn)\n",
        "print(\"sensitivity\",sensitivity)"
      ],
      "execution_count": null,
      "outputs": [
        {
          "output_type": "stream",
          "text": [
            "specificity 0.9285714285714286\n",
            "sensitivity 1.0\n"
          ],
          "name": "stdout"
        }
      ]
    },
    {
      "cell_type": "markdown",
      "metadata": {
        "id": "-VPbTdyka941"
      },
      "source": [
        "# **SVM**"
      ]
    },
    {
      "cell_type": "code",
      "metadata": {
        "id": "xG7THS2BXPcO"
      },
      "source": [
        "#Support Vector Machine\n",
        "from sklearn.svm import SVC\n",
        "\n",
        "svm_classifier = SVC(kernel= 'rbf', gamma='auto') #after some research, we chose rbf\n",
        "svm_classifier.fit(X_train, y_train)\n",
        "y_predict_svm = svm_classifier.predict(X_test)"
      ],
      "execution_count": null,
      "outputs": []
    },
    {
      "cell_type": "code",
      "metadata": {
        "colab": {
          "base_uri": "https://localhost:8080/"
        },
        "id": "Wbzu4-UTXgfu",
        "outputId": "1c269e93-e541-40a1-cf3c-aaf6c7a2a71d"
      },
      "source": [
        "# Use the predict method on the test data\n",
        "errors = abs(y_predict_svm - y_test)# Print out the mean absolute error (mae)\n",
        "print('Mean Absolute Error:', round(np.mean(errors), 2))\n",
        "#https://towardsdatascience.com/random-forest-in-python-24d0893d51c0"
      ],
      "execution_count": null,
      "outputs": [
        {
          "output_type": "stream",
          "text": [
            "Mean Absolute Error: 0.12\n"
          ],
          "name": "stdout"
        }
      ]
    },
    {
      "cell_type": "code",
      "metadata": {
        "colab": {
          "base_uri": "https://localhost:8080/"
        },
        "id": "8byzMx5IXsB3",
        "outputId": "fd05499a-c56f-4bd9-d2ac-c1e5d5b8d013"
      },
      "source": [
        "print('\\n')\n",
        "# Accuracy on Train\n",
        "print(\"The Training Accuracy is: \", svm_classifier.score(X_train, y_train))\n",
        "\n",
        "# Accuracy on Test\n",
        "print(\"The Testing Accuracy is: \", svm_classifier.score(X_test, y_test))\n",
        "print('\\n')\n",
        "# Classification Report\n",
        "print(classification_report(y_test, y_predict_svm))"
      ],
      "execution_count": null,
      "outputs": [
        {
          "output_type": "stream",
          "text": [
            "\n",
            "\n",
            "The Training Accuracy is:  0.8913043478260869\n",
            "The Testing Accuracy is:  0.8846153846153846\n",
            "\n",
            "\n",
            "              precision    recall  f1-score   support\n",
            "\n",
            "           0       1.00      0.79      0.88        14\n",
            "           1       0.80      1.00      0.89        12\n",
            "\n",
            "    accuracy                           0.88        26\n",
            "   macro avg       0.90      0.89      0.88        26\n",
            "weighted avg       0.91      0.88      0.88        26\n",
            "\n"
          ],
          "name": "stdout"
        }
      ]
    },
    {
      "cell_type": "code",
      "metadata": {
        "colab": {
          "base_uri": "https://localhost:8080/"
        },
        "id": "C3eCxZc7o3Oh",
        "outputId": "312e75bb-e538-4db2-c652-98fb09767e4a"
      },
      "source": [
        "tn, fp, fn, tp=confusion_matrix(y_test, y_predict_svm).ravel()\n",
        "specificity=tn/(tn+fp)\n",
        "print(\"specificity\",specificity)\n",
        "sensitivity=tp/(tp+fn)\n",
        "print(\"sensitivity\",sensitivity)"
      ],
      "execution_count": null,
      "outputs": [
        {
          "output_type": "stream",
          "text": [
            "specificity 0.7857142857142857\n",
            "sensitivity 1.0\n"
          ],
          "name": "stdout"
        }
      ]
    },
    {
      "cell_type": "code",
      "metadata": {
        "colab": {
          "base_uri": "https://localhost:8080/",
          "height": 312
        },
        "id": "shvBPtOZX3b4",
        "outputId": "519d9321-171f-4a41-8c74-f36137233c56"
      },
      "source": [
        "fpr, tpr, thresholds = roc_curve(y_test, y_predict_svm)\n",
        "roc_auc = auc(fpr, tpr)\n",
        "\n",
        "plt.plot(fpr, tpr, label='ROC curve (area = %0.3f)' % roc_auc)\n",
        "plt.plot([0, 1], [0, 1], 'k--')  # random predictions curve\n",
        "plt.xlim([0.0, 1.0])\n",
        "plt.ylim([0.0, 1.0])\n",
        "plt.xlabel('False Positive Rate or (1 - Specifity)')\n",
        "plt.ylabel('True Positive Rate or (Sensitivity)')\n",
        "plt.title('Receiver Operating Characteristic')\n",
        "plt.legend(loc=\"lower right\")\n",
        "#helped from stackoverflow.com"
      ],
      "execution_count": null,
      "outputs": [
        {
          "output_type": "execute_result",
          "data": {
            "text/plain": [
              "<matplotlib.legend.Legend at 0x7ff424974cd0>"
            ]
          },
          "metadata": {
            "tags": []
          },
          "execution_count": 157
        },
        {
          "output_type": "display_data",
          "data": {
            "image/png": "[encoded data removed]",
            "text/plain": [
              "<Figure size 432x288 with 1 Axes>"
            ]
          },
          "metadata": {
            "tags": [],
            "needs_background": "light"
          }
        }
      ]
    },
    {
      "cell_type": "code",
      "metadata": {
        "id": "WBwqPaVO7g_9"
      },
      "source": [
        "# save the model \n",
        "filename = 'svm.sav'\n",
        "pickle.dump(svm_classifier, open(filename, 'wb'))"
      ],
      "execution_count": null,
      "outputs": []
    },
    {
      "cell_type": "markdown",
      "metadata": {
        "id": "czJbmcO8wyYK"
      },
      "source": [
        "### Confusion Matrix"
      ]
    },
    {
      "cell_type": "code",
      "metadata": {
        "colab": {
          "base_uri": "https://localhost:8080/",
          "height": 329
        },
        "id": "UDMomzFAwxp7",
        "outputId": "1abf400a-a57a-4d29-ecce-b11a03b98ea4"
      },
      "source": [
        "#confusion matrix\n",
        "from sklearn.metrics import confusion_matrix\n",
        "import matplotlib.pyplot as plt\n",
        "from sklearn import metrics\n",
        "cm = metrics.confusion_matrix(y_test, y_predict_svm)\n",
        "print(cm)\n",
        "cm_norm = cm / cm.sum(axis=1).reshape(-1,1)\n",
        "\n",
        "plot_confusion_matrix(cm_norm, classes = svm_classifier.classes_, title='Confusion matrix')"
      ],
      "execution_count": null,
      "outputs": [
        {
          "output_type": "stream",
          "text": [
            "[[11  3]\n",
            " [ 0 12]]\n"
          ],
          "name": "stdout"
        },
        {
          "output_type": "display_data",
          "data": {
            "image/png": "[encoded data removed]",
            "text/plain": [
              "<Figure size 432x288 with 2 Axes>"
            ]
          },
          "metadata": {
            "tags": [],
            "needs_background": "light"
          }
        }
      ]
    },
    {
      "cell_type": "markdown",
      "metadata": {
        "id": "efG9Mp3wa_Kt"
      },
      "source": [
        "# **Random forest**"
      ]
    },
    {
      "cell_type": "code",
      "metadata": {
        "id": "koOEcoxAbFgP"
      },
      "source": [
        "from sklearn.ensemble import RandomForestClassifier\n",
        "from sklearn.datasets import make_classification\n",
        "\n",
        "rf_classifier = RandomForestClassifier(max_depth=2, random_state=42)\n",
        "rf_classifier.fit( X_train, y_train)\n",
        "y_predict_rf = rf_classifier.predict(X_test)\n"
      ],
      "execution_count": null,
      "outputs": []
    },
    {
      "cell_type": "code",
      "metadata": {
        "colab": {
          "base_uri": "https://localhost:8080/"
        },
        "id": "KHi8nrAtbRxo",
        "outputId": "9d3db3d6-4b00-4ece-fa63-ae0959f591da"
      },
      "source": [
        "errors = abs(y_predict_rf - y_test)# Print out the mean absolute error (mae)\n",
        "print('Mean Absolute Error:', round(np.mean(errors), 2), 'degrees.')\n",
        "#https://towardsdatascience.com/random-forest-in-python-24d0893d51c0"
      ],
      "execution_count": null,
      "outputs": [
        {
          "output_type": "stream",
          "text": [
            "Mean Absolute Error: 0.08 degrees.\n"
          ],
          "name": "stdout"
        }
      ]
    },
    {
      "cell_type": "code",
      "metadata": {
        "colab": {
          "base_uri": "https://localhost:8080/"
        },
        "id": "VrKY4wCObVk4",
        "outputId": "967b650d-6e04-464c-c70e-85d80a376747"
      },
      "source": [
        "print('\\n')\n",
        "# Accuracy on Train\n",
        "print(\"The Training Accuracy is: \", rf_classifier.score(X_train, y_train))\n",
        "\n",
        "# Accuracy on Test\n",
        "print(\"The Testing Accuracy is: \", rf_classifier.score(X_test, y_test))\n",
        "print('\\n')\n",
        "# Classification Report\n",
        "print(classification_report(y_test, y_predict_rf))"
      ],
      "execution_count": null,
      "outputs": [
        {
          "output_type": "stream",
          "text": [
            "\n",
            "\n",
            "The Training Accuracy is:  0.9021739130434783\n",
            "The Testing Accuracy is:  0.9230769230769231\n",
            "\n",
            "\n",
            "              precision    recall  f1-score   support\n",
            "\n",
            "           0       1.00      0.86      0.92        14\n",
            "           1       0.86      1.00      0.92        12\n",
            "\n",
            "    accuracy                           0.92        26\n",
            "   macro avg       0.93      0.93      0.92        26\n",
            "weighted avg       0.93      0.92      0.92        26\n",
            "\n"
          ],
          "name": "stdout"
        }
      ]
    },
    {
      "cell_type": "code",
      "metadata": {
        "colab": {
          "base_uri": "https://localhost:8080/"
        },
        "id": "zCbJJvvko9rV",
        "outputId": "76406a12-d889-4a99-ffec-ee263da92366"
      },
      "source": [
        "tn, fp, fn, tp=confusion_matrix(y_test, y_predict_rf).ravel()\n",
        "specificity=tn/(tn+fp)\n",
        "print(\"specificity\",specificity)\n",
        "sensitivity=tp/(tp+fn)\n",
        "print(\"sensitivity\",sensitivity)"
      ],
      "execution_count": null,
      "outputs": [
        {
          "output_type": "stream",
          "text": [
            "specificity 0.8571428571428571\n",
            "sensitivity 1.0\n"
          ],
          "name": "stdout"
        }
      ]
    },
    {
      "cell_type": "code",
      "metadata": {
        "colab": {
          "base_uri": "https://localhost:8080/",
          "height": 312
        },
        "id": "X-aPl4iFbhCo",
        "outputId": "486a91e6-c52a-42fd-9c7c-4ef712ba90ca"
      },
      "source": [
        "fpr, tpr, thresholds = roc_curve(y_test, y_predict_rf)\n",
        "roc_auc = auc(fpr, tpr)\n",
        "\n",
        "plt.plot(fpr, tpr, label='ROC curve (area = %0.3f)' % roc_auc)\n",
        "plt.plot([0, 1], [0, 1], 'k--')  # random predictions curve\n",
        "plt.xlim([0.0, 1.0])\n",
        "plt.ylim([0.0, 1.0])\n",
        "plt.xlabel('False Positive Rate or (1 - Specifity)')\n",
        "plt.ylabel('True Positive Rate or (Sensitivity)')\n",
        "plt.title('Receiver Operating Characteristic')\n",
        "plt.legend(loc=\"lower right\")\n",
        "#helped from stackoverflow.com"
      ],
      "execution_count": null,
      "outputs": [
        {
          "output_type": "execute_result",
          "data": {
            "text/plain": [
              "<matplotlib.legend.Legend at 0x7ff425120f90>"
            ]
          },
          "metadata": {
            "tags": []
          },
          "execution_count": 164
        },
        {
          "output_type": "display_data",
          "data": {
            "image/png": "[encoded data removed]",
            "text/plain": [
              "<Figure size 432x288 with 1 Axes>"
            ]
          },
          "metadata": {
            "tags": [],
            "needs_background": "light"
          }
        }
      ]
    },
    {
      "cell_type": "code",
      "metadata": {
        "id": "KY_MP62o7oRe"
      },
      "source": [
        "# save the model \n",
        "filename = 'rf.sav'\n",
        "pickle.dump(rf_classifier, open(filename, 'wb'))"
      ],
      "execution_count": null,
      "outputs": []
    },
    {
      "cell_type": "markdown",
      "metadata": {
        "id": "Z_tbpxSbw7Yu"
      },
      "source": [
        "### Confusion Matrix"
      ]
    },
    {
      "cell_type": "code",
      "metadata": {
        "colab": {
          "base_uri": "https://localhost:8080/",
          "height": 329
        },
        "id": "uIq1Ly8Ww_YF",
        "outputId": "2243c38e-3340-4ae5-97cf-e24c8282f25c"
      },
      "source": [
        "#confusion matrix\n",
        "from sklearn.metrics import confusion_matrix\n",
        "import matplotlib.pyplot as plt\n",
        "from sklearn import metrics\n",
        "cm = metrics.confusion_matrix(y_test, y_predict_rf)\n",
        "print(cm)\n",
        "cm_norm = cm / cm.sum(axis=1).reshape(-1,1)\n",
        "\n",
        "plot_confusion_matrix(cm_norm, classes = rf_classifier.classes_, title='Confusion matrix')"
      ],
      "execution_count": null,
      "outputs": [
        {
          "output_type": "stream",
          "text": [
            "[[12  2]\n",
            " [ 0 12]]\n"
          ],
          "name": "stdout"
        },
        {
          "output_type": "display_data",
          "data": {
            "image/png": "[encoded data removed]",
            "text/plain": [
              "<Figure size 432x288 with 2 Axes>"
            ]
          },
          "metadata": {
            "tags": [],
            "needs_background": "light"
          }
        }
      ]
    },
    {
      "cell_type": "markdown",
      "metadata": {
        "id": "mNO-aXqZb4h7"
      },
      "source": [
        "# **DecisionTree**"
      ]
    },
    {
      "cell_type": "code",
      "metadata": {
        "id": "WsO8YCVBb4-8"
      },
      "source": [
        "from sklearn.tree import DecisionTreeClassifier\n",
        "decision_tree = DecisionTreeClassifier( max_depth=2)\n",
        "decision_tree = decision_tree.fit(X_train, y_train)\n",
        "y_predict_dt = decision_tree.predict(X_test)"
      ],
      "execution_count": null,
      "outputs": []
    },
    {
      "cell_type": "code",
      "metadata": {
        "colab": {
          "base_uri": "https://localhost:8080/"
        },
        "id": "H06yD1gEcgYt",
        "outputId": "cfbaac1f-1738-42a5-e4ee-3c9dc2f90c48"
      },
      "source": [
        "errors = abs(y_predict_dt - y_test)# Print out the mean absolute error (mae)\n",
        "print('Mean Absolute Error:', round(np.mean(errors), 2))\n",
        "#https://towardsdatascience.com/random-forest-in-python-24d0893d51c0"
      ],
      "execution_count": null,
      "outputs": [
        {
          "output_type": "stream",
          "text": [
            "Mean Absolute Error: 0.15\n"
          ],
          "name": "stdout"
        }
      ]
    },
    {
      "cell_type": "code",
      "metadata": {
        "colab": {
          "base_uri": "https://localhost:8080/"
        },
        "id": "Qbsq2FWtcjff",
        "outputId": "293d4ee1-1b6a-4181-b551-430b25f7d2e5"
      },
      "source": [
        "print('\\n')\n",
        "# Accuracy on Train\n",
        "print(\"The Training Accuracy is: \", decision_tree.score(X_train, y_train))\n",
        "\n",
        "# Accuracy on Test\n",
        "print(\"The Testing Accuracy is: \", decision_tree.score(X_test, y_test))\n",
        "print('\\n')\n",
        "# Classification Report\n",
        "print(classification_report(y_test, y_predict_dt))"
      ],
      "execution_count": null,
      "outputs": [
        {
          "output_type": "stream",
          "text": [
            "\n",
            "\n",
            "The Training Accuracy is:  0.9021739130434783\n",
            "The Testing Accuracy is:  0.8461538461538461\n",
            "\n",
            "\n",
            "              precision    recall  f1-score   support\n",
            "\n",
            "           0       1.00      0.71      0.83        14\n",
            "           1       0.75      1.00      0.86        12\n",
            "\n",
            "    accuracy                           0.85        26\n",
            "   macro avg       0.88      0.86      0.85        26\n",
            "weighted avg       0.88      0.85      0.84        26\n",
            "\n"
          ],
          "name": "stdout"
        }
      ]
    },
    {
      "cell_type": "code",
      "metadata": {
        "colab": {
          "base_uri": "https://localhost:8080/"
        },
        "id": "Uj1YeiNppDEZ",
        "outputId": "13e019a0-3d86-4f7a-8c83-928d220e0335"
      },
      "source": [
        "tn, fp, fn, tp=confusion_matrix(y_test, y_predict_dt).ravel()\n",
        "specificity=tn/(tn+fp)\n",
        "print(\"specificity\",specificity)\n",
        "sensitivity=tp/(tp+fn)\n",
        "print(\"sensitivity\",sensitivity)"
      ],
      "execution_count": null,
      "outputs": [
        {
          "output_type": "stream",
          "text": [
            "specificity 0.7142857142857143\n",
            "sensitivity 1.0\n"
          ],
          "name": "stdout"
        }
      ]
    },
    {
      "cell_type": "code",
      "metadata": {
        "colab": {
          "base_uri": "https://localhost:8080/",
          "height": 312
        },
        "id": "R_3i-r5Mct-9",
        "outputId": "1763a84e-d45b-4b7f-b1d2-901ae4f131b1"
      },
      "source": [
        "fpr, tpr, thresholds = roc_curve(y_test, y_predict_dt)\n",
        "roc_auc = auc(fpr, tpr)\n",
        "\n",
        "plt.plot(fpr, tpr, label='ROC curve (area = %0.3f)' % roc_auc)\n",
        "plt.plot([0, 1], [0, 1], 'k--')  # random predictions curve\n",
        "plt.xlim([0.0, 1.0])\n",
        "plt.ylim([0.0, 1.0])\n",
        "plt.xlabel('False Positive Rate or (1 - Specifity)')\n",
        "plt.ylabel('True Positive Rate or (Sensitivity)')\n",
        "plt.title('Receiver Operating Characteristic')\n",
        "plt.legend(loc=\"lower right\")\n",
        "#helped from stackoverflow.com"
      ],
      "execution_count": null,
      "outputs": [
        {
          "output_type": "execute_result",
          "data": {
            "text/plain": [
              "<matplotlib.legend.Legend at 0x7ff434b34e90>"
            ]
          },
          "metadata": {
            "tags": []
          },
          "execution_count": 171
        },
        {
          "output_type": "display_data",
          "data": {
            "image/png": "[encoded data removed]",
            "text/plain": [
              "<Figure size 432x288 with 1 Axes>"
            ]
          },
          "metadata": {
            "tags": [],
            "needs_background": "light"
          }
        }
      ]
    },
    {
      "cell_type": "code",
      "metadata": {
        "id": "nRUFSRCg7vd6"
      },
      "source": [
        "# save the model \n",
        "filename = 'dt.sav'\n",
        "pickle.dump(decision_tree, open(filename, 'wb'))"
      ],
      "execution_count": null,
      "outputs": []
    },
    {
      "cell_type": "markdown",
      "metadata": {
        "id": "0T8IBrBBmtPg"
      },
      "source": [
        "### 10 fold Cross Validation"
      ]
    },
    {
      "cell_type": "code",
      "metadata": {
        "colab": {
          "base_uri": "https://localhost:8080/"
        },
        "id": "OBV0vmrMKcpo",
        "outputId": "54bdc792-c209-4c79-cdaa-035572db267c"
      },
      "source": [
        "from sklearn.model_selection import KFold\n",
        "from sklearn.metrics import average_precision_score as APS\n",
        "from sklearn.metrics import accuracy_score as AS\n",
        "from sklearn.metrics import f1_score as f1\n",
        "from sklearn.metrics import recall_score as RS\n",
        "\n",
        "APS_score_dt, AS_score_dt, f1_score_dt, RS_score_dt = [], [], [], []\n",
        "\n",
        "kfold = KFold(10, True, 10)\n",
        "\n",
        "for train, test in kfold.split(final_ion_set.values):\n",
        "  Xi_train_kfold, Xi_test_kfold, yi_train_kfold, yi_test_kfold = final_ion_set.iloc[:,:4].values[train], final_ion_set.iloc[:,:4].values[test], \\\n",
        "                                                              final_ion_set.iloc[:,4].values[train], final_ion_set.iloc[:,4].values[test]\n",
        "  decision_tree.fit(Xi_train_kfold,yi_train_kfold) # Fitting the model.\n",
        "  yi_pred_fold = decision_tree.predict(Xi_test_kfold)  # Predicting output of the model by inputting x_test subset.\n",
        "  APS_score_dt.append(APS(yi_test_kfold,yi_pred_fold))\n",
        "  AS_score_dt.append(AS(yi_test_kfold,yi_pred_fold))\n",
        "  f1_score_dt.append(f1(yi_test_kfold,yi_pred_fold))\n",
        "  RS_score_dt.append(RS(yi_test_kfold,yi_pred_fold))\n",
        "\n",
        "\n",
        "for i in range(10):\n",
        "  print(f\"For fold {i+1}, Average precision: {'%0.3f' %(APS_score_dt[i]*100)}%\\t\\tAccuracy: {'%0.3f' %(AS_score_dt[i]*100)}%\\t\\tF1:\\\n",
        "   {'%0.3f' %(f1_score_dt[i]*100)}%\\t\\tRecall: {'%0.3f' %(RS_score_dt[i]*100)}%\\n\")\n",
        "\n",
        "print(f\"\\n\\nThe max scores for decision tree are: \\nAverage precision score: {'%0.3f' %(max(APS_score_lr)*100)}%\\nAccuracy score:\\\n",
        " {'%0.3f' %(max(AS_score_dt)*100)}%\\nF1 s1ore: {'%0.3f' %(max(f1_score_dt)*100)}%\\nRecall score: {'%0.3f' %(max(RS_score_dt)*100)}%\")"
      ],
      "execution_count": null,
      "outputs": [
        {
          "output_type": "stream",
          "text": [
            "For fold 1, Average precision: 88.889%\t\tAccuracy: 92.308%\t\tF1:   94.118%\t\tRecall: 100.000%\n",
            "\n",
            "For fold 2, Average precision: 57.143%\t\tAccuracy: 76.923%\t\tF1:   72.727%\t\tRecall: 100.000%\n",
            "\n",
            "For fold 3, Average precision: 95.192%\t\tAccuracy: 92.308%\t\tF1:   93.333%\t\tRecall: 87.500%\n",
            "\n",
            "For fold 4, Average precision: 75.000%\t\tAccuracy: 84.615%\t\tF1:   85.714%\t\tRecall: 100.000%\n",
            "\n",
            "For fold 5, Average precision: 87.500%\t\tAccuracy: 92.308%\t\tF1:   93.333%\t\tRecall: 100.000%\n",
            "\n",
            "For fold 6, Average precision: 84.327%\t\tAccuracy: 69.231%\t\tF1:   77.778%\t\tRecall: 70.000%\n",
            "\n",
            "For fold 7, Average precision: 100.000%\t\tAccuracy: 100.000%\t\tF1:   100.000%\t\tRecall: 100.000%\n",
            "\n",
            "For fold 8, Average precision: 77.778%\t\tAccuracy: 83.333%\t\tF1:   87.500%\t\tRecall: 100.000%\n",
            "\n",
            "For fold 9, Average precision: 52.667%\t\tAccuracy: 66.667%\t\tF1:   60.000%\t\tRecall: 60.000%\n",
            "\n",
            "For fold 10, Average precision: 84.896%\t\tAccuracy: 83.333%\t\tF1:   87.500%\t\tRecall: 87.500%\n",
            "\n",
            "\n",
            "\n",
            "The max scores for decision tree are: \n",
            "Average precision score: 100.000%\n",
            "Accuracy score: 100.000%\n",
            "F1 s1ore: 100.000%\n",
            "Recall score: 100.000%\n"
          ],
          "name": "stdout"
        }
      ]
    },
    {
      "cell_type": "markdown",
      "metadata": {
        "id": "H1yJlmswnpUu"
      },
      "source": [
        "### Confusion Matrix"
      ]
    },
    {
      "cell_type": "code",
      "metadata": {
        "id": "1JjfqbhOnwV7"
      },
      "source": [
        "# Confusion Matrix function\n",
        "#adopted from https://github.com/Pitsillides91/Python-Tutorials/blob/master/Introduction%20to%20ML%20-%20Logistic%20Regression%20Example/Introduction%20to%20Machine%20Learning%20-%20Logistic%20Regression%20Example%20(Complete).ipynb\n",
        "\n",
        "def plot_confusion_matrix(cm, classes=None, title='Confusion matrix'):\n",
        "    \"\"\"Plots a confusion matrix.\"\"\"\n",
        "    if classes is not None:\n",
        "        sns.heatmap(cm, cmap=\"YlGnBu\", xticklabels=classes, yticklabels=classes, vmin=0., vmax=1., annot=True, annot_kws={'size':50})\n",
        "    else:\n",
        "        sns.heatmap(cm, vmin=0., vmax=1.)\n",
        "    plt.title(title)\n",
        "    plt.ylabel('True label')\n",
        "    plt.xlabel('Predicted label')"
      ],
      "execution_count": null,
      "outputs": []
    },
    {
      "cell_type": "code",
      "metadata": {
        "colab": {
          "base_uri": "https://localhost:8080/",
          "height": 329
        },
        "id": "LILK3ehgn0Qy",
        "outputId": "307acce4-dbc8-4e72-a6f8-1ae6edc668d0"
      },
      "source": [
        "#confusion matrix\n",
        "from sklearn.metrics import confusion_matrix\n",
        "import matplotlib.pyplot as plt\n",
        "from sklearn import metrics\n",
        "cm = metrics.confusion_matrix(y_test, y_predict_dt)\n",
        "print(cm)\n",
        "cm_norm = cm / cm.sum(axis=1).reshape(-1,1)\n",
        "\n",
        "plot_confusion_matrix(cm_norm, classes = decision_tree.classes_, title='Confusion matrix')"
      ],
      "execution_count": null,
      "outputs": [
        {
          "output_type": "stream",
          "text": [
            "[[10  4]\n",
            " [ 0 12]]\n"
          ],
          "name": "stdout"
        },
        {
          "output_type": "display_data",
          "data": {
            "image/png": "[encoded data removed]",
            "text/plain": [
              "<Figure size 432x288 with 2 Axes>"
            ]
          },
          "metadata": {
            "tags": [],
            "needs_background": "light"
          }
        }
      ]
    },
    {
      "cell_type": "code",
      "metadata": {
        "colab": {
          "base_uri": "https://localhost:8080/"
        },
        "id": "fjwRlGP9haNm",
        "outputId": "3f3b67aa-062d-44b1-fc0d-e3e141cc6cc5"
      },
      "source": [
        "tn, fp, fn, tp=confusion_matrix(y_test, y_predict_dt).ravel()\n",
        "specificity=tn/(tn+fp)\n",
        "print(\"specificity\",specificity)\n",
        "sensitivity=tp/(tp+fn)\n",
        "print(\"sensitivity\",sensitivity)"
      ],
      "execution_count": null,
      "outputs": [
        {
          "output_type": "stream",
          "text": [
            "specificity 0.7142857142857143\n",
            "sensitivity 1.0\n"
          ],
          "name": "stdout"
        }
      ]
    },
    {
      "cell_type": "markdown",
      "metadata": {
        "id": "rv7QAZVPOCDA"
      },
      "source": [
        "# **KNN**"
      ]
    },
    {
      "cell_type": "code",
      "metadata": {
        "id": "jWwy6K3Ew05y"
      },
      "source": [
        "from sklearn.neighbors import KNeighborsClassifier              #we want to try learning through KNN\n",
        "from sklearn.model_selection import train_test_split  \n",
        "#x_train,x_test,y_train,y_test=train_test_split(x_df,y_df,test_size=0.2,random_state=42)      #split the data to training and testing set\n",
        "#x_train,x_test,y_train,y_test = train_test_split(X_df_sd, y_df, test_size=0.2, random_state=10)\n",
        "x_train=X_train\n",
        "y_train=y_train\n",
        "x_test=X_test\n",
        "\n",
        "knn=KNeighborsClassifier(n_neighbors=2,metric='minkowski',p=2)                   #first set these parameters and check the performance, we will later fine tune the parameters\n",
        "knn=knn.fit(x_train,y_train)                       #fit the model to our train data\n",
        "y_predict_kn = knn.predict(x_test)"
      ],
      "execution_count": null,
      "outputs": []
    },
    {
      "cell_type": "code",
      "metadata": {
        "colab": {
          "base_uri": "https://localhost:8080/"
        },
        "id": "-2oCxZaYK0XM",
        "outputId": "41c1c83a-e1c9-4f92-c422-10614b9b335e"
      },
      "source": [
        "errors = abs(y_predict_kn - y_test)# Print out the mean absolute error (mae)\n",
        "print('Mean Absolute Error:', round(np.mean(errors), 2))\n",
        "#https://towardsdatascience.com/random-forest-in-python-24d0893d51c0"
      ],
      "execution_count": null,
      "outputs": [
        {
          "output_type": "stream",
          "text": [
            "Mean Absolute Error: 0.04\n"
          ],
          "name": "stdout"
        }
      ]
    },
    {
      "cell_type": "code",
      "metadata": {
        "colab": {
          "base_uri": "https://localhost:8080/"
        },
        "id": "UO3CGrkzK6RD",
        "outputId": "18182565-e09c-4fd7-f1ba-dd1c5dda2d38"
      },
      "source": [
        "print('\\n')\n",
        "# Accuracy on Train\n",
        "print(\"The Training Accuracy is: \", knn.score(x_train, y_train))\n",
        "\n",
        "# Accuracy on Test\n",
        "print(\"The Testing Accuracy is: \", knn.score(x_test, y_test))\n",
        "print('\\n')\n",
        "# Classification Report\n",
        "print(classification_report(y_test, y_predict_kn))"
      ],
      "execution_count": null,
      "outputs": [
        {
          "output_type": "stream",
          "text": [
            "\n",
            "\n",
            "The Training Accuracy is:  0.9782608695652174\n",
            "The Testing Accuracy is:  0.9615384615384616\n",
            "\n",
            "\n",
            "              precision    recall  f1-score   support\n",
            "\n",
            "           0       1.00      0.93      0.96        14\n",
            "           1       0.92      1.00      0.96        12\n",
            "\n",
            "    accuracy                           0.96        26\n",
            "   macro avg       0.96      0.96      0.96        26\n",
            "weighted avg       0.96      0.96      0.96        26\n",
            "\n"
          ],
          "name": "stdout"
        }
      ]
    },
    {
      "cell_type": "code",
      "metadata": {
        "colab": {
          "base_uri": "https://localhost:8080/"
        },
        "id": "ChD43Qc7pKCu",
        "outputId": "10406fc0-134b-44bb-f7d4-39b0f278ef8b"
      },
      "source": [
        "tn, fp, fn, tp=confusion_matrix(y_test, y_predict_kn).ravel()\n",
        "specificity=tn/(tn+fp)\n",
        "print(\"specificity\",specificity)\n",
        "sensitivity=tp/(tp+fn)\n",
        "print(\"sensitivity\",sensitivity)"
      ],
      "execution_count": null,
      "outputs": [
        {
          "output_type": "stream",
          "text": [
            "specificity 0.9285714285714286\n",
            "sensitivity 1.0\n"
          ],
          "name": "stdout"
        }
      ]
    },
    {
      "cell_type": "code",
      "metadata": {
        "colab": {
          "base_uri": "https://localhost:8080/"
        },
        "id": "cZumhsSVNo7K",
        "outputId": "16e5fc7b-decb-4609-92b1-2519f8e1f959"
      },
      "source": [
        "from sklearn.model_selection import GridSearchCV       #This section is for tuning the parameters of the model using cross validation\n",
        "\n",
        "knn2=KNeighborsClassifier()\n",
        "param_grid = {'n_neighbors': np.arange(2, 3), 'weights':['uniform', 'distance'], 'algorithm':['auto', 'ball_tree', 'kd_tree', 'brute'],'leaf_size':np.arange(20, 35),'p': np.arange(1, 8), 'metric':['minkowski','manhattan','chebyshev']}\n",
        "knn_gscv = GridSearchCV(knn2, param_grid, cv=5)\n",
        "knn_gscv.fit(x_train, y_train)\n",
        "knn_gscv.best_params_\n",
        "knn_gscv.best_score_\n",
        "\n",
        "\n",
        "\n",
        "knn_gscv.score(x_test,y_test)"
      ],
      "execution_count": null,
      "outputs": [
        {
          "output_type": "execute_result",
          "data": {
            "text/plain": [
              "0.9615384615384616"
            ]
          },
          "metadata": {
            "tags": []
          },
          "execution_count": 181
        }
      ]
    },
    {
      "cell_type": "code",
      "metadata": {
        "colab": {
          "base_uri": "https://localhost:8080/",
          "height": 312
        },
        "id": "OddZxeTELgpG",
        "outputId": "fcbc33a4-bd29-470f-8e1b-9736c77f3535"
      },
      "source": [
        "fpr, tpr, thresholds = roc_curve(y_test, y_predict_kn)\n",
        "roc_auc = auc(fpr, tpr)\n",
        "\n",
        "plt.plot(fpr, tpr, label='ROC curve (area = %0.3f)' % roc_auc)\n",
        "plt.plot([0, 1], [0, 1], 'k--')  # random predictions curve\n",
        "plt.xlim([0.0, 1.0])\n",
        "plt.ylim([0.0, 1.0])\n",
        "plt.xlabel('False Positive Rate or (1 - Specifity)')\n",
        "plt.ylabel('True Positive Rate or (Sensitivity)')\n",
        "plt.title('Receiver Operating Characteristic')\n",
        "plt.legend(loc=\"lower right\")\n",
        "#helped from stackoverflow.com"
      ],
      "execution_count": null,
      "outputs": [
        {
          "output_type": "execute_result",
          "data": {
            "text/plain": [
              "<matplotlib.legend.Legend at 0x7ff434b606d0>"
            ]
          },
          "metadata": {
            "tags": []
          },
          "execution_count": 182
        },
        {
          "output_type": "display_data",
          "data": {
            "image/png": "[encoded data removed]",
            "text/plain": [
              "<Figure size 432x288 with 1 Axes>"
            ]
          },
          "metadata": {
            "tags": [],
            "needs_background": "light"
          }
        }
      ]
    },
    {
      "cell_type": "code",
      "metadata": {
        "id": "2ln46PnQ78yC"
      },
      "source": [
        "# save the model \n",
        "filename = 'knn.sav'\n",
        "pickle.dump(knn, open(filename, 'wb'))"
      ],
      "execution_count": null,
      "outputs": []
    },
    {
      "cell_type": "markdown",
      "metadata": {
        "id": "WKDOXn6o-eS8"
      },
      "source": [
        "# 10 fold Cross Validation"
      ]
    },
    {
      "cell_type": "code",
      "metadata": {
        "colab": {
          "base_uri": "https://localhost:8080/"
        },
        "id": "J0_aj6ELO-L4",
        "outputId": "789bba4a-0024-4f7a-87a1-8056b1518ecd"
      },
      "source": [
        "from sklearn.model_selection import KFold\n",
        "from sklearn.metrics import average_precision_score as APS\n",
        "from sklearn.metrics import accuracy_score as AS\n",
        "from sklearn.metrics import f1_score as f1\n",
        "from sklearn.metrics import recall_score as RS\n",
        "\n",
        "APS_score_knn, AS_score_knn, f1_score_knn, RS_score_knn = [], [], [], []\n",
        "\n",
        "kfold = KFold(10, True, 10)\n",
        "\n",
        "for train, test in kfold.split(final_ion_set.values):\n",
        "  Xi_train_kfold, Xi_test_kfold, yi_train_kfold, yi_test_kfold = final_ion_set.iloc[:,:4].values[train], final_ion_set.iloc[:,:4].values[test], \\\n",
        "                                                              final_ion_set.iloc[:,4].values[train], final_ion_set.iloc[:,4].values[test]\n",
        "  ee = OneClassSVM(nu=0.01)\n",
        "  yhat = ee.fit_predict(Xi_train_kfold)\n",
        "  mask = yhat != -1\n",
        "  Xi_train_kfold, yi_train_kfold = Xi_train_kfold[mask, :], yi_train_kfold[mask]\n",
        "  \n",
        "  \n",
        "  knn.fit(Xi_train_kfold,yi_train_kfold) # Fitting the model.\n",
        "  yi_pred_fold = knn.predict(Xi_test_kfold)  # Predicting output of the model by inputting x_test subset.\n",
        "  APS_score_knn.append(APS(yi_test_kfold,yi_pred_fold))\n",
        "  AS_score_knn.append(AS(yi_test_kfold,yi_pred_fold))\n",
        "  f1_score_knn.append(f1(yi_test_kfold,yi_pred_fold))\n",
        "  RS_score_knn.append(RS(yi_test_kfold,yi_pred_fold))\n",
        "\n",
        "\n",
        "for i in range(10):\n",
        "  print(f\"For fold {i+1}, Average precision: {'%0.3f' %(APS_score_knn[i]*100)}%\\t\\tAccuracy: {'%0.3f' %(AS_score_knn[i]*100)}%\\t\\tF1:\\\n",
        "   {'%0.3f' %(f1_score_dt[i]*100)}%\\t\\tRecall: {'%0.3f' %(RS_score_knn[i]*100)}%\\n\")\n",
        "\n",
        "print(f\"\\n\\nThe max scores for knn are: \\nAverage precision score: {'%0.3f' %(max(APS_score_knn)*100)}%\\nAccuracy score:\\\n",
        " {'%0.3f' %(max(AS_score_knn)*100)}%\\nF1 s1ore: {'%0.3f' %(max(f1_score_knn)*100)}%\\nRecall score: {'%0.3f' %(max(RS_score_knn)*100)}%\")"
      ],
      "execution_count": null,
      "outputs": [
        {
          "output_type": "stream",
          "text": [
            "For fold 1, Average precision: 100.000%\t\tAccuracy: 100.000%\t\tF1:   94.118%\t\tRecall: 100.000%\n",
            "\n",
            "For fold 2, Average precision: 80.000%\t\tAccuracy: 92.308%\t\tF1:   72.727%\t\tRecall: 100.000%\n",
            "\n",
            "For fold 3, Average precision: 100.000%\t\tAccuracy: 100.000%\t\tF1:   93.333%\t\tRecall: 100.000%\n",
            "\n",
            "For fold 4, Average precision: 100.000%\t\tAccuracy: 100.000%\t\tF1:   85.714%\t\tRecall: 100.000%\n",
            "\n",
            "For fold 5, Average precision: 100.000%\t\tAccuracy: 100.000%\t\tF1:   93.333%\t\tRecall: 100.000%\n",
            "\n",
            "For fold 6, Average precision: 84.327%\t\tAccuracy: 69.231%\t\tF1:   77.778%\t\tRecall: 70.000%\n",
            "\n",
            "For fold 7, Average precision: 71.692%\t\tAccuracy: 84.615%\t\tF1:   100.000%\t\tRecall: 80.000%\n",
            "\n",
            "For fold 8, Average precision: 87.500%\t\tAccuracy: 91.667%\t\tF1:   87.500%\t\tRecall: 100.000%\n",
            "\n",
            "For fold 9, Average precision: 83.333%\t\tAccuracy: 91.667%\t\tF1:   60.000%\t\tRecall: 100.000%\n",
            "\n",
            "For fold 10, Average precision: 83.333%\t\tAccuracy: 66.667%\t\tF1:   87.500%\t\tRecall: 50.000%\n",
            "\n",
            "\n",
            "\n",
            "The max scores for knn are: \n",
            "Average precision score: 100.000%\n",
            "Accuracy score: 100.000%\n",
            "F1 s1ore: 100.000%\n",
            "Recall score: 100.000%\n"
          ],
          "name": "stdout"
        }
      ]
    },
    {
      "cell_type": "markdown",
      "metadata": {
        "id": "dHcY9vxJobe7"
      },
      "source": [
        "### Confusion Matrix"
      ]
    },
    {
      "cell_type": "code",
      "metadata": {
        "id": "AGm9TGSQoiql",
        "colab": {
          "base_uri": "https://localhost:8080/",
          "height": 329
        },
        "outputId": "3361a1ab-8a89-47d8-a08e-575d1bc93ac8"
      },
      "source": [
        "#confusion matrix\n",
        "from sklearn.metrics import confusion_matrix\n",
        "import matplotlib.pyplot as plt\n",
        "from sklearn import metrics\n",
        "cm = metrics.confusion_matrix(y_test, y_predict_kn)\n",
        "print(cm)\n",
        "cm_norm = cm / cm.sum(axis=1).reshape(-1,1)\n",
        "\n",
        "plot_confusion_matrix(cm_norm, classes = knn.classes_, title='Confusion matrix')"
      ],
      "execution_count": null,
      "outputs": [
        {
          "output_type": "stream",
          "text": [
            "[[13  1]\n",
            " [ 0 12]]\n"
          ],
          "name": "stdout"
        },
        {
          "output_type": "display_data",
          "data": {
            "image/png": "[encoded data removed]",
            "text/plain": [
              "<Figure size 432x288 with 2 Axes>"
            ]
          },
          "metadata": {
            "tags": [],
            "needs_background": "light"
          }
        }
      ]
    },
    {
      "cell_type": "code",
      "metadata": {
        "id": "xRmrRj29f0Xq",
        "colab": {
          "base_uri": "https://localhost:8080/"
        },
        "outputId": "fbd0aa47-93bd-438d-9f1d-038ecceeaf4b"
      },
      "source": [
        "tn, fp, fn, tp=confusion_matrix(y_test, y_predict_kn).ravel()\n",
        "specificity=tn/(tn+fp)\n",
        "print(\"specificity\",specificity)\n",
        "sensitivity=tp/(tp+fn)\n",
        "print(\"sensitivity\",sensitivity)"
      ],
      "execution_count": null,
      "outputs": [
        {
          "output_type": "stream",
          "text": [
            "specificity 0.9285714285714286\n",
            "sensitivity 1.0\n"
          ],
          "name": "stdout"
        }
      ]
    },
    {
      "cell_type": "markdown",
      "metadata": {
        "id": "zZ3K7wUPOEtk"
      },
      "source": [
        "# **Naive Bayes**"
      ]
    },
    {
      "cell_type": "code",
      "metadata": {
        "id": "abKorgNMyjLv"
      },
      "source": [
        "###############Naive Bayes\n",
        "from sklearn.naive_bayes import GaussianNB\n",
        "gnb=GaussianNB()\n",
        "gnb= gnb.fit(x_train,y_train)\n",
        "gnb.score(x_test,y_test)                 #fit the model to our train data\n",
        "y_predict_gnb = gnb.predict(x_test)"
      ],
      "execution_count": null,
      "outputs": []
    },
    {
      "cell_type": "code",
      "metadata": {
        "id": "kU7bC2FjPclB",
        "colab": {
          "base_uri": "https://localhost:8080/"
        },
        "outputId": "62f1d2e9-d456-4021-e0ec-1120f87898be"
      },
      "source": [
        "errors = abs(y_predict_gnb - y_test)# Print out the mean absolute error (mae)\n",
        "print('Mean Absolute Error:', round(np.mean(errors), 2))\n",
        "#https://towardsdatascience.com/random-forest-in-python-24d0893d51c0"
      ],
      "execution_count": null,
      "outputs": [
        {
          "output_type": "stream",
          "text": [
            "Mean Absolute Error: 0.12\n"
          ],
          "name": "stdout"
        }
      ]
    },
    {
      "cell_type": "code",
      "metadata": {
        "id": "22K8MQrpPmeL",
        "colab": {
          "base_uri": "https://localhost:8080/"
        },
        "outputId": "0ed7fc2f-9d39-43b8-c2ce-12272a8786e2"
      },
      "source": [
        "print('\\n')\n",
        "# Accuracy on Train\n",
        "print(\"The Training Accuracy is: \", gnb.score(x_train, y_train))\n",
        "\n",
        "# Accuracy on Test\n",
        "print(\"The Testing Accuracy is: \", gnb.score(x_test, y_test))\n",
        "print('\\n')\n",
        "# Classification Report\n",
        "print(classification_report(y_test, y_predict_gnb))"
      ],
      "execution_count": null,
      "outputs": [
        {
          "output_type": "stream",
          "text": [
            "\n",
            "\n",
            "The Training Accuracy is:  0.7934782608695652\n",
            "The Testing Accuracy is:  0.8846153846153846\n",
            "\n",
            "\n",
            "              precision    recall  f1-score   support\n",
            "\n",
            "           0       0.92      0.86      0.89        14\n",
            "           1       0.85      0.92      0.88        12\n",
            "\n",
            "    accuracy                           0.88        26\n",
            "   macro avg       0.88      0.89      0.88        26\n",
            "weighted avg       0.89      0.88      0.88        26\n",
            "\n"
          ],
          "name": "stdout"
        }
      ]
    },
    {
      "cell_type": "code",
      "metadata": {
        "id": "AA8b8yBFpNv2",
        "colab": {
          "base_uri": "https://localhost:8080/"
        },
        "outputId": "37162c40-082f-4a4b-9497-08cd71e3580f"
      },
      "source": [
        "tn, fp, fn, tp=confusion_matrix(y_test, y_predict_gnb).ravel()\n",
        "specificity=tn/(tn+fp)\n",
        "print(\"specificity\",specificity)\n",
        "sensitivity=tp/(tp+fn)\n",
        "print(\"sensitivity\",sensitivity)"
      ],
      "execution_count": null,
      "outputs": [
        {
          "output_type": "stream",
          "text": [
            "specificity 0.8571428571428571\n",
            "sensitivity 0.9166666666666666\n"
          ],
          "name": "stdout"
        }
      ]
    },
    {
      "cell_type": "code",
      "metadata": {
        "id": "zsnFMgPdzK7f",
        "colab": {
          "base_uri": "https://localhost:8080/"
        },
        "outputId": "835f4f8c-fc3d-4983-f234-0ea73836f3a6"
      },
      "source": [
        "from sklearn.model_selection import GridSearchCV          #This section is for tuning the parameters of the model using cross validation\n",
        "\n",
        "gnb2=GaussianNB()\n",
        "param_grid = {'var_smoothing': [1e-5,1e-6,1e-7,1e-8,1e-9,1e-10,1e-11]}\n",
        "gnb_gscv = GridSearchCV(gnb2, param_grid, cv=10)\n",
        "gnb_gscv.fit(x_train, y_train)\n",
        "gnb_gscv.best_params_\n",
        "gnb_gscv.best_score_\n",
        "\n",
        "\n",
        "\n",
        "gnb_gscv.score(x_test,y_test)"
      ],
      "execution_count": null,
      "outputs": [
        {
          "output_type": "execute_result",
          "data": {
            "text/plain": [
              "0.8846153846153846"
            ]
          },
          "metadata": {
            "tags": []
          },
          "execution_count": 191
        }
      ]
    },
    {
      "cell_type": "code",
      "metadata": {
        "id": "7Oz5wvR-P6CJ",
        "colab": {
          "base_uri": "https://localhost:8080/",
          "height": 312
        },
        "outputId": "ca33b688-9c93-4d27-ce9c-c225152fda13"
      },
      "source": [
        "fpr, tpr, thresholds = roc_curve(y_test, y_predict_gnb)\n",
        "roc_auc = auc(fpr, tpr)\n",
        "\n",
        "plt.plot(fpr, tpr, label='ROC curve (area = %0.3f)' % roc_auc)\n",
        "plt.plot([0, 1], [0, 1], 'k--')  # random predictions curve\n",
        "plt.xlim([0.0, 1.0])\n",
        "plt.ylim([0.0, 1.0])\n",
        "plt.xlabel('False Positive Rate or (1 - Specifity)')\n",
        "plt.ylabel('True Positive Rate or (Sensitivity)')\n",
        "plt.title('Receiver Operating Characteristic')\n",
        "plt.legend(loc=\"lower right\")\n",
        "#helped from stackoverflow.com"
      ],
      "execution_count": null,
      "outputs": [
        {
          "output_type": "execute_result",
          "data": {
            "text/plain": [
              "<matplotlib.legend.Legend at 0x7ff434a1bb10>"
            ]
          },
          "metadata": {
            "tags": []
          },
          "execution_count": 192
        },
        {
          "output_type": "display_data",
          "data": {
            "image/png": "[encoded data removed]",
            "text/plain": [
              "<Figure size 432x288 with 1 Axes>"
            ]
          },
          "metadata": {
            "tags": [],
            "needs_background": "light"
          }
        }
      ]
    },
    {
      "cell_type": "code",
      "metadata": {
        "id": "LqwbJWRB8Cuo"
      },
      "source": [
        "# save the model \n",
        "filename = 'gnb_gscv.sav'\n",
        "pickle.dump(gnb_gscv, open(filename, 'wb'))"
      ],
      "execution_count": null,
      "outputs": []
    },
    {
      "cell_type": "markdown",
      "metadata": {
        "id": "Z3r_fcFcxUIn"
      },
      "source": [
        "### Confusion Matrix"
      ]
    },
    {
      "cell_type": "code",
      "metadata": {
        "id": "7UGPeZB2xW9I",
        "colab": {
          "base_uri": "https://localhost:8080/",
          "height": 329
        },
        "outputId": "bc25a55c-8bce-4ce1-a6dc-3a2410b08f8f"
      },
      "source": [
        "#confusion matrix\n",
        "from sklearn.metrics import confusion_matrix\n",
        "import matplotlib.pyplot as plt\n",
        "from sklearn import metrics\n",
        "cm = metrics.confusion_matrix(y_test, y_predict_gnb)\n",
        "print(cm)\n",
        "cm_norm = cm / cm.sum(axis=1).reshape(-1,1)\n",
        "\n",
        "plot_confusion_matrix(cm_norm, classes = gnb.classes_, title='Confusion matrix')"
      ],
      "execution_count": null,
      "outputs": [
        {
          "output_type": "stream",
          "text": [
            "[[12  2]\n",
            " [ 1 11]]\n"
          ],
          "name": "stdout"
        },
        {
          "output_type": "display_data",
          "data": {
            "image/png": "[encoded data removed]",
            "text/plain": [
              "<Figure size 432x288 with 2 Axes>"
            ]
          },
          "metadata": {
            "tags": [],
            "needs_background": "light"
          }
        }
      ]
    },
    {
      "cell_type": "markdown",
      "metadata": {
        "id": "kdEZpoIjOqgq"
      },
      "source": [
        "# KMeans"
      ]
    },
    {
      "cell_type": "code",
      "metadata": {
        "id": "Pw2gwz7BsWQ8",
        "colab": {
          "base_uri": "https://localhost:8080/"
        },
        "outputId": "cae2a2ff-d407-458d-af4d-cadcfc26337a"
      },
      "source": [
        "from sklearn.cluster import KMeans\n",
        "import sklearn.metrics as metrics\n",
        "\n",
        "kmn=KMeans(n_clusters=2)\n",
        "kmn=kmn.fit(x_train)\n",
        "y_predict_kmn=kmn.predict(x_train)\n",
        "\n",
        "kmn.score(x_test,y_test)\n",
        "score = metrics.silhouette_score(x_train, kmn.labels_, metric='euclidean')\n",
        "score\n",
        "\n",
        "score2 = metrics.silhouette_score(x_train, kmn.labels_, metric='euclidean')\n",
        "score2"
      ],
      "execution_count": null,
      "outputs": [
        {
          "output_type": "execute_result",
          "data": {
            "text/plain": [
              "0.2640896481890339"
            ]
          },
          "metadata": {
            "tags": []
          },
          "execution_count": 195
        }
      ]
    },
    {
      "cell_type": "markdown",
      "metadata": {
        "id": "iUXYk3LjS4V0"
      },
      "source": [
        "# **PCA**"
      ]
    },
    {
      "cell_type": "code",
      "metadata": {
        "id": "9bTMe1jHx5j9",
        "colab": {
          "base_uri": "https://localhost:8080/",
          "height": 282
        },
        "outputId": "febb0d26-8559-4058-f57a-9fa79c81a527"
      },
      "source": [
        "from sklearn.decomposition import PCA\n",
        "pca=PCA()    #define pca\n",
        "pca.fit(X_df_sd)    #fit the data to pca\n",
        "transformed=pca.transform(X_df_sd)  #transform the data using pca\n",
        "nfeatures=range(pca.n_components_) \n",
        "var_features=pca.explained_variance_\n",
        "plt.bar(nfeatures,var_features)"
      ],
      "execution_count": null,
      "outputs": [
        {
          "output_type": "execute_result",
          "data": {
            "text/plain": [
              "<BarContainer object of 4 artists>"
            ]
          },
          "metadata": {
            "tags": []
          },
          "execution_count": 196
        },
        {
          "output_type": "display_data",
          "data": {
            "image/png": "[encoded data removed]",
            "text/plain": [
              "<Figure size 432x288 with 1 Axes>"
            ]
          },
          "metadata": {
            "tags": [],
            "needs_background": "light"
          }
        }
      ]
    },
    {
      "cell_type": "code",
      "metadata": {
        "id": "EDjPW20yyInj"
      },
      "source": [
        "dime_r=PCA(n_components=4)     #choose the number of features for this study\n",
        "dime_r.fit(X_df_sd)\n",
        "\n",
        "dime_r_transformed=dime_r.transform(X_df_sd)   #transform the data using pca\n",
        "d     # transform the data back to dataframe\n",
        "# print(dime_r_transformed)\n",
        "x_train,x_test,y_train,y_test=train_test_split(dime_r_transformed,y_df,test_size=0.2,random_state=10)   #split test and train\n",
        "y_test=y_test.squeeze() #dataframe to series"
      ],
      "execution_count": null,
      "outputs": []
    },
    {
      "cell_type": "code",
      "metadata": {
        "colab": {
          "base_uri": "https://localhost:8080/"
        },
        "id": "6oSOYKr_VId2",
        "outputId": "05900371-349f-4ba6-ac4e-4e129e179ab3"
      },
      "source": [
        "knn=knn.fit(x_train,y_train)                       #fit the model to our train data\n",
        "y_predict_kn = knn.predict(x_test)         # predict the test data"
      ],
      "execution_count": null,
      "outputs": [
        {
          "output_type": "stream",
          "text": [
            "/usr/local/lib/python3.7/dist-packages/ipykernel_launcher.py:1: DataConversionWarning: A column-vector y was passed when a 1d array was expected. Please change the shape of y to (n_samples, ), for example using ravel().\n",
            "  \"\"\"Entry point for launching an IPython kernel.\n"
          ],
          "name": "stderr"
        }
      ]
    },
    {
      "cell_type": "code",
      "metadata": {
        "colab": {
          "base_uri": "https://localhost:8080/"
        },
        "id": "Mdks1M-SVv1W",
        "outputId": "88f99ed6-8ac9-4373-9ad3-dade16b4fe78"
      },
      "source": [
        "y_predict_kn"
      ],
      "execution_count": null,
      "outputs": [
        {
          "output_type": "execute_result",
          "data": {
            "text/plain": [
              "array([1, 0, 0, 1, 1, 1, 0, 1, 1, 0, 0, 1, 1, 1, 0, 0, 1, 0, 0, 0, 1, 0,\n",
              "       0, 1, 0, 1])"
            ]
          },
          "metadata": {
            "tags": []
          },
          "execution_count": 199
        }
      ]
    },
    {
      "cell_type": "code",
      "metadata": {
        "id": "GzU8bMXdTy_M",
        "colab": {
          "base_uri": "https://localhost:8080/"
        },
        "outputId": "74602256-ed00-4593-f5e3-1746d3b03bfe"
      },
      "source": [
        "errors = abs(y_predict_kn - y_test)# Print out the mean absolute error (mae)\n",
        "print('Mean Absolute Error:', round(np.mean(errors), 2))\n",
        "#https://towardsdatascience.com/random-forest-in-python-24d0893d51c0"
      ],
      "execution_count": null,
      "outputs": [
        {
          "output_type": "stream",
          "text": [
            "Mean Absolute Error: 0.04\n"
          ],
          "name": "stdout"
        }
      ]
    },
    {
      "cell_type": "code",
      "metadata": {
        "colab": {
          "base_uri": "https://localhost:8080/"
        },
        "id": "O4MYFmMuT2fb",
        "outputId": "757c1e4d-c9c2-49d1-8128-f71b0b64c115"
      },
      "source": [
        "print('\\n')\n",
        "# Accuracy on Train\n",
        "print(\"The Training Accuracy is: \", knn.score(x_train, y_train))\n",
        "\n",
        "# Accuracy on Test\n",
        "print(\"The Testing Accuracy is: \", knn.score(x_test, y_test))\n",
        "print('\\n')\n",
        "# Classification Report\n",
        "print(classification_report(y_test, y_predict_kn))"
      ],
      "execution_count": null,
      "outputs": [
        {
          "output_type": "stream",
          "text": [
            "\n",
            "\n",
            "The Training Accuracy is:  0.9801980198019802\n",
            "The Testing Accuracy is:  0.9615384615384616\n",
            "\n",
            "\n",
            "              precision    recall  f1-score   support\n",
            "\n",
            "           0       1.00      0.93      0.96        14\n",
            "           1       0.92      1.00      0.96        12\n",
            "\n",
            "    accuracy                           0.96        26\n",
            "   macro avg       0.96      0.96      0.96        26\n",
            "weighted avg       0.96      0.96      0.96        26\n",
            "\n"
          ],
          "name": "stdout"
        }
      ]
    },
    {
      "cell_type": "code",
      "metadata": {
        "colab": {
          "base_uri": "https://localhost:8080/"
        },
        "id": "9iwoa3-IT4yK",
        "outputId": "b329393d-a622-4c6c-968f-3703a08249dc"
      },
      "source": [
        "tn, fp, fn, tp=confusion_matrix(y_test, y_predict_kn).ravel()\n",
        "specificity=tn/(tn+fp)\n",
        "print(\"specificity\",specificity)\n",
        "sensitivity=tp/(tp+fn)\n",
        "print(\"sensitivity\",sensitivity)"
      ],
      "execution_count": null,
      "outputs": [
        {
          "output_type": "stream",
          "text": [
            "specificity 0.9285714285714286\n",
            "sensitivity 1.0\n"
          ],
          "name": "stdout"
        }
      ]
    },
    {
      "cell_type": "code",
      "metadata": {
        "colab": {
          "base_uri": "https://localhost:8080/",
          "height": 312
        },
        "id": "V-7hDfp44Wzp",
        "outputId": "2ae77dcd-d843-41b7-9c18-ec6ed9e7cdfb"
      },
      "source": [
        "import numpy as np\n",
        "from sklearn.metrics import roc_curve\n",
        "from sklearn.metrics import auc\n",
        "\n",
        "fpr, tpr, thresholds = roc_curve(y_test, predictions)\n",
        "roc_auc = auc(fpr, tpr)\n",
        "\n",
        "plt.plot(fpr, tpr, label='ROC curve (area = %0.3f)' % roc_auc)\n",
        "plt.plot([0, 1], [0, 1], 'k--')  # random predictions curve\n",
        "plt.xlim([0.0, 1.0])\n",
        "plt.ylim([0.0, 1.0])\n",
        "plt.xlabel('False Positive Rate or (1 - Specifity)')\n",
        "plt.ylabel('True Positive Rate or (Sensitivity)')\n",
        "plt.title('Receiver Operating Characteristic')\n",
        "plt.legend(loc=\"lower right\")\n",
        "#helped from stackoverflow.com"
      ],
      "execution_count": null,
      "outputs": [
        {
          "output_type": "execute_result",
          "data": {
            "text/plain": [
              "<matplotlib.legend.Legend at 0x7ff434c6d490>"
            ]
          },
          "metadata": {
            "tags": []
          },
          "execution_count": 203
        },
        {
          "output_type": "display_data",
          "data": {
            "image/png": "[encoded data removed]",
            "text/plain": [
              "<Figure size 432x288 with 1 Axes>"
            ]
          },
          "metadata": {
            "tags": [],
            "needs_background": "light"
          }
        }
      ]
    },
    {
      "cell_type": "markdown",
      "metadata": {
        "id": "yNL2K8Ggztb4"
      },
      "source": [
        "**LR using PCA**"
      ]
    },
    {
      "cell_type": "code",
      "metadata": {
        "id": "v4JH_F9RTP2U",
        "colab": {
          "base_uri": "https://localhost:8080/"
        },
        "outputId": "991270e2-5aa6-40b0-df34-c14f7a28ffbd"
      },
      "source": [
        "from sklearn.linear_model import LogisticRegression\n",
        "\n",
        "\n",
        "lr_classifier = LogisticRegression(random_state=10, solver = 'lbfgs')\n",
        "lr_classifier.fit(x_train, y_train)\n",
        "y_predict_lr = lr_classifier.predict(x_test)"
      ],
      "execution_count": null,
      "outputs": [
        {
          "output_type": "stream",
          "text": [
            "/usr/local/lib/python3.7/dist-packages/sklearn/utils/validation.py:760: DataConversionWarning: A column-vector y was passed when a 1d array was expected. Please change the shape of y to (n_samples, ), for example using ravel().\n",
            "  y = column_or_1d(y, warn=True)\n"
          ],
          "name": "stderr"
        }
      ]
    },
    {
      "cell_type": "code",
      "metadata": {
        "colab": {
          "base_uri": "https://localhost:8080/"
        },
        "id": "pmETOrZ0z3yp",
        "outputId": "a925b5c3-b866-4b65-e30d-6312bb4fe417"
      },
      "source": [
        "predictions = lr_classifier.predict(x_test)# Calculate the absolute errors\n",
        "errors = abs(predictions - y_test)# Print out the mean absolute error (mae)\n",
        "print('Mean Absolute Error:', round(np.mean(errors), 2))\n",
        "#https://towardsdatascience.com/random-forest-in-python-24d0893d51c0"
      ],
      "execution_count": null,
      "outputs": [
        {
          "output_type": "stream",
          "text": [
            "Mean Absolute Error: 0.08\n"
          ],
          "name": "stdout"
        }
      ]
    },
    {
      "cell_type": "code",
      "metadata": {
        "colab": {
          "base_uri": "https://localhost:8080/"
        },
        "id": "wqmG-EIGz5Hx",
        "outputId": "f03ed35f-ffca-4343-f052-86cb0ac2b5da"
      },
      "source": [
        "from sklearn.metrics import r2_score, explained_variance_score, confusion_matrix, accuracy_score, classification_report, log_loss\n",
        "print('\\n')\n",
        "# Accuracy on Train\n",
        "print(\"The Training Accuracy is: \", lr_classifier.score(x_train, y_train))\n",
        "\n",
        "# Accuracy on Test\n",
        "print(\"The Testing Accuracy is: \", lr_classifier.score(x_test, y_test))\n",
        "print('\\n')\n",
        "# Classification Report\n",
        "print(classification_report(y_test, predictions))"
      ],
      "execution_count": null,
      "outputs": [
        {
          "output_type": "stream",
          "text": [
            "\n",
            "\n",
            "The Training Accuracy is:  0.8514851485148515\n",
            "The Testing Accuracy is:  0.9230769230769231\n",
            "\n",
            "\n",
            "              precision    recall  f1-score   support\n",
            "\n",
            "           0       1.00      0.86      0.92        14\n",
            "           1       0.86      1.00      0.92        12\n",
            "\n",
            "    accuracy                           0.92        26\n",
            "   macro avg       0.93      0.93      0.92        26\n",
            "weighted avg       0.93      0.92      0.92        26\n",
            "\n"
          ],
          "name": "stdout"
        }
      ]
    },
    {
      "cell_type": "code",
      "metadata": {
        "colab": {
          "base_uri": "https://localhost:8080/"
        },
        "id": "_tPyTnYKz8Ak",
        "outputId": "6bb1484a-57f2-4d1a-b3b2-814cd0af31d0"
      },
      "source": [
        "tn, fp, fn, tp=confusion_matrix(y_test, predictions).ravel()\n",
        "specificity=tn/(tn+fp)\n",
        "print(\"specificity\",specificity)\n",
        "sensitivity=tp/(tp+fn)\n",
        "print(\"sensitivity\",sensitivity)"
      ],
      "execution_count": null,
      "outputs": [
        {
          "output_type": "stream",
          "text": [
            "specificity 0.8571428571428571\n",
            "sensitivity 1.0\n"
          ],
          "name": "stdout"
        }
      ]
    },
    {
      "cell_type": "code",
      "metadata": {
        "colab": {
          "base_uri": "https://localhost:8080/",
          "height": 312
        },
        "id": "fr9Udakc31ow",
        "outputId": "a1cae00e-6b3a-4eee-9db3-a579d1c22b67"
      },
      "source": [
        "import numpy as np\n",
        "from sklearn.metrics import roc_curve\n",
        "from sklearn.metrics import auc\n",
        "\n",
        "fpr, tpr, thresholds = roc_curve(y_test, predictions)\n",
        "roc_auc = auc(fpr, tpr)\n",
        "\n",
        "plt.plot(fpr, tpr, label='ROC curve (area = %0.3f)' % roc_auc)\n",
        "plt.plot([0, 1], [0, 1], 'k--')  # random predictions curve\n",
        "plt.xlim([0.0, 1.0])\n",
        "plt.ylim([0.0, 1.0])\n",
        "plt.xlabel('False Positive Rate or (1 - Specifity)')\n",
        "plt.ylabel('True Positive Rate or (Sensitivity)')\n",
        "plt.title('Receiver Operating Characteristic')\n",
        "plt.legend(loc=\"lower right\")\n",
        "#helped from stackoverflow.com"
      ],
      "execution_count": null,
      "outputs": [
        {
          "output_type": "execute_result",
          "data": {
            "text/plain": [
              "<matplotlib.legend.Legend at 0x7ff4348b8dd0>"
            ]
          },
          "metadata": {
            "tags": []
          },
          "execution_count": 208
        },
        {
          "output_type": "display_data",
          "data": {
            "image/png": "[encoded data removed]",
            "text/plain": [
              "<Figure size 432x288 with 1 Axes>"
            ]
          },
          "metadata": {
            "tags": [],
            "needs_background": "light"
          }
        }
      ]
    },
    {
      "cell_type": "markdown",
      "metadata": {
        "id": "rESCi3JrBY77"
      },
      "source": [
        "# **T test**\n",
        "We want to see if our models are  are statistically different. We choose to do the t test with f1."
      ]
    },
    {
      "cell_type": "code",
      "metadata": {
        "id": "n4g9GOg6CAJi",
        "colab": {
          "base_uri": "https://localhost:8080/"
        },
        "outputId": "e2613a45-aa43-4901-aa5c-3ed56441f9d5"
      },
      "source": [
        "X_df_sd = X_df_sd.to_numpy()\n",
        "y_df = y_df.to_numpy()\n",
        "#this part might be needed based on the environment you use to run this code\n",
        "!pip install mlxtend"
      ],
      "execution_count": null,
      "outputs": [
        {
          "output_type": "stream",
          "text": [
            "Requirement already satisfied: mlxtend in /usr/local/lib/python3.7/dist-packages (0.14.0)\n",
            "Requirement already satisfied: pandas>=0.17.1 in /usr/local/lib/python3.7/dist-packages (from mlxtend) (1.1.5)\n",
            "Requirement already satisfied: scikit-learn>=0.18 in /usr/local/lib/python3.7/dist-packages (from mlxtend) (0.22.2.post1)\n",
            "Requirement already satisfied: scipy>=0.17 in /usr/local/lib/python3.7/dist-packages (from mlxtend) (1.4.1)\n",
            "Requirement already satisfied: matplotlib>=1.5.1 in /usr/local/lib/python3.7/dist-packages (from mlxtend) (3.2.2)\n",
            "Requirement already satisfied: setuptools in /usr/local/lib/python3.7/dist-packages (from mlxtend) (54.2.0)\n",
            "Requirement already satisfied: numpy>=1.10.4 in /usr/local/lib/python3.7/dist-packages (from mlxtend) (1.19.5)\n",
            "Requirement already satisfied: pytz>=2017.2 in /usr/local/lib/python3.7/dist-packages (from pandas>=0.17.1->mlxtend) (2018.9)\n",
            "Requirement already satisfied: python-dateutil>=2.7.3 in /usr/local/lib/python3.7/dist-packages (from pandas>=0.17.1->mlxtend) (2.8.1)\n",
            "Requirement already satisfied: joblib>=0.11 in /usr/local/lib/python3.7/dist-packages (from scikit-learn>=0.18->mlxtend) (1.0.1)\n",
            "Requirement already satisfied: kiwisolver>=1.0.1 in /usr/local/lib/python3.7/dist-packages (from matplotlib>=1.5.1->mlxtend) (1.3.1)\n",
            "Requirement already satisfied: cycler>=0.10 in /usr/local/lib/python3.7/dist-packages (from matplotlib>=1.5.1->mlxtend) (0.10.0)\n",
            "Requirement already satisfied: pyparsing!=2.0.4,!=2.1.2,!=2.1.6,>=2.0.1 in /usr/local/lib/python3.7/dist-packages (from matplotlib>=1.5.1->mlxtend) (2.4.7)\n",
            "Requirement already satisfied: six>=1.5 in /usr/local/lib/python3.7/dist-packages (from python-dateutil>=2.7.3->pandas>=0.17.1->mlxtend) (1.15.0)\n"
          ],
          "name": "stdout"
        }
      ]
    },
    {
      "cell_type": "code",
      "metadata": {
        "id": "AdHrMNhtCD_6",
        "colab": {
          "base_uri": "https://localhost:8080/"
        },
        "outputId": "c9b0aab5-a8b4-4a4a-e737-db34bc573c19"
      },
      "source": [
        "from mlxtend.evaluate import paired_ttest_kfold_cv\n",
        "# check if difference between algorithms is real\n",
        "#comparing svm with rf\n",
        "t, p = paired_ttest_kfold_cv(estimator1= rf_classifier, \n",
        "                          estimator2=svm_classifier, \n",
        "                          X=X_df_sd, \n",
        "                          y=y_df.ravel(),\n",
        "                          cv=10,\n",
        "                          scoring='f1', \n",
        "                          shuffle=True,\n",
        "                          random_seed=10)\n",
        "print(f' P-value is = {p:.3f}')\n",
        "print(f' t-statistics is = {t:.3f}')\n",
        "\n",
        "if p <= 0.05:\n",
        "    print('Since p<0.05, We can reject the null-hypothesis that both models perform equally well on this dataset. We may conclude that the two algorithms are significantly different.')\n",
        "else:\n",
        "    print('Since p>0.05, we cannot reject the null hypothesis and may conclude that the performance of the two algorithms is not significantly different.')\n",
        "#https://docs.silverhammer.ai/generated/silverhammer.benchmark.statistics.paired_ttest_kfold_cv.html"
      ],
      "execution_count": null,
      "outputs": [
        {
          "output_type": "stream",
          "text": [
            " P-value is = 0.737\n",
            " t-statistics is = 0.346\n",
            "Since p>0.05, we cannot reject the null hypothesis and may conclude that the performance of the two algorithms is not significantly different.\n"
          ],
          "name": "stdout"
        }
      ]
    },
    {
      "cell_type": "code",
      "metadata": {
        "colab": {
          "base_uri": "https://localhost:8080/",
          "height": 249
        },
        "id": "n-WJqxlF7Adl",
        "outputId": "5801cf4c-3446-4cae-c932-ac9405830657"
      },
      "source": [
        "from mlxtend.evaluate import paired_ttest_kfold_cv\n",
        "# check if difference between algorithms is real\n",
        "#comparing lr with knn\n",
        "t, p = paired_ttest_kfold_cv(estimator1= lr_classifier, \n",
        "                          estimator2=knn, \n",
        "                          X=X_df_sd, \n",
        "                          y=y_df.ravel(),\n",
        "                          cv=10,\n",
        "                          scoring='f1', \n",
        "                          shuffle=True,\n",
        "                          random_seed=10)\n",
        "print(f' P-value is = {p:.3f}')\n",
        "print(f' t-statistics is = {t:.3f}')\n",
        "\n",
        "if p <= 0.05:\n",
        "    print('Since p<0.05, We can reject the null-hypothesis that both models perform equally well on this dataset. We may conclude that the two algorithms are significantly different.')\n",
        "else:\n",
        "    print('Since p>0.05, we cannot reject the null hypothesis and may conclude that the performance of the two algorithms is not significantly different.')\n",
        "#https://docs.silverhammer.ai/generated/silverhammer.benchmark.statistics.paired_ttest_kfold_cv.html"
      ],
      "execution_count": null,
      "outputs": [
        {
          "output_type": "error",
          "ename": "NameError",
          "evalue": "ignored",
          "traceback": [
            "\u001b[0;31m---------------------------------------------------------------------------\u001b[0m",
            "\u001b[0;31mNameError\u001b[0m                                 Traceback (most recent call last)",
            "\u001b[0;32m<ipython-input-1-b7b70a96b256>\u001b[0m in \u001b[0;36m<module>\u001b[0;34m()\u001b[0m\n\u001b[1;32m      1\u001b[0m \u001b[0;32mfrom\u001b[0m \u001b[0mmlxtend\u001b[0m\u001b[0;34m.\u001b[0m\u001b[0mevaluate\u001b[0m \u001b[0;32mimport\u001b[0m \u001b[0mpaired_ttest_kfold_cv\u001b[0m\u001b[0;34m\u001b[0m\u001b[0;34m\u001b[0m\u001b[0m\n\u001b[1;32m      2\u001b[0m \u001b[0;31m# check if difference between algorithms is real\u001b[0m\u001b[0;34m\u001b[0m\u001b[0;34m\u001b[0m\u001b[0;34m\u001b[0m\u001b[0m\n\u001b[0;32m----> 3\u001b[0;31m t, p = paired_ttest_kfold_cv(estimator1= lr_classifier, \n\u001b[0m\u001b[1;32m      4\u001b[0m                           \u001b[0mestimator2\u001b[0m\u001b[0;34m=\u001b[0m\u001b[0mknn\u001b[0m\u001b[0;34m,\u001b[0m\u001b[0;34m\u001b[0m\u001b[0;34m\u001b[0m\u001b[0m\n\u001b[1;32m      5\u001b[0m                           \u001b[0mX\u001b[0m\u001b[0;34m=\u001b[0m\u001b[0mX_df_sd\u001b[0m\u001b[0;34m,\u001b[0m\u001b[0;34m\u001b[0m\u001b[0;34m\u001b[0m\u001b[0m\n",
            "\u001b[0;31mNameError\u001b[0m: name 'lr_classifier' is not defined"
          ]
        }
      ]
    },
    {
      "cell_type": "markdown",
      "metadata": {
        "id": "iixr9ujHxzZA"
      },
      "source": [
        " We cannot reject the null hypothesis and may conclude that the performance of the two algorithms is not significantly different."
      ]
    },
    {
      "cell_type": "markdown",
      "metadata": {
        "id": "YTAsFqCzO0Gd"
      },
      "source": [
        "# Resources\n",
        "https://machinelearningmastery.com/smote-oversampling-for-imbalanced-classification/\n",
        "\n",
        "https://github.com/Pitsillides91/Python-Tutorials/blob/master/Introduction%20to%20ML%20-%20Logistic%20Regression%20Example/Introduction%20to%20Machine%20Learning%20-%20Logistic%20Regression%20Example%20(Complete).ipynb\n",
        "\n",
        "https://seaborn.pydata.org/\n",
        "\n",
        "https://scikit-learn.org/\n",
        "\n",
        "https://docs.scipy.org/doc/scipy/reference/stats.html\n",
        "\n",
        "https://pandas.pydata.org/\n",
        "\n",
        "https://docs.silverhammer.ai\n",
        "\n",
        "http://rasbt.github.io/mlxtend/user_guide/evaluate/paired_ttest_kfold_cv/\n",
        "\n",
        "https://pythonexamples.org/convert-pandas-dataframe-to-numpy-array/\n",
        "\n",
        "https://stackoverflow.com/\n",
        "\n",
        "https://towardsdatascience.com/\n",
        "\n",
        "https://scikit-learn.org/stable/\n",
        "\n",
        "https://pandas.pydata.org/pandas-docs/stable/reference/frame.html\n",
        "\n",
        "https://github.com/Pitsillides91/Python-Tutorials/blob/master/Introduction%20to%20ML%20-%20Logistic%20Regression%20Example/Introduction%20to%20Machine%20Learning%20-%20Logistic%20Regression%20Example%20(Complete).ipynb\n",
        "\n",
        "ECE720 project, Winter 2021, Reyhaneh Ababzadeh"
      ]
    }
  ]
}