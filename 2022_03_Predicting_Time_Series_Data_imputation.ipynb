{
  "cells": [
    {
      "cell_type": "markdown",
      "metadata": {
        "id": "view-in-github",
        "colab_type": "text"
      },
      "source": [
        "<a href=\"https://colab.research.google.com/github/rihannababzadeh/Machine-Learning-Projects/blob/main/2022_03_Predicting_Time_Series_Data_imputation.ipynb\" target=\"_parent\"><img src=\"https://colab.research.google.com/assets/colab-badge.svg\" alt=\"Open In Colab\"/></a>"
      ]
    },
    {
      "cell_type": "markdown",
      "metadata": {
        "id": "K332ybNbi6Qi"
      },
      "source": [
        "# Predicting and imputing Time Series Data\n",
        "> Paper: A multisource and multivariate dataset for indoor localization methods based on WLAN and geo-magnetic field fingerprinting -Ipin2016\n",
        "\n",
        ">Dataset: measure1_smartphone_sens"
      ]
    },
    {
      "cell_type": "code",
      "execution_count": null,
      "metadata": {
        "id": "vpYKlUYQi6RO"
      },
      "outputs": [],
      "source": [
        "import pandas as pd\n",
        "import numpy as np\n",
        "import matplotlib.pyplot as plt\n",
        "import seaborn as sns\n",
        "\n",
        "plt.rcParams['figure.figsize'] = (10, 5)\n",
        "plt.style.use('fivethirtyeight')"
      ]
    },
    {
      "cell_type": "code",
      "execution_count": null,
      "metadata": {
        "colab": {
          "base_uri": "https://localhost:8080/",
          "height": 264,
          "resources": {
            "http://localhost:8080/nbextensions/google.colab/files.js": {
              "data": "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",
              "headers": [
                [
                  "content-type",
                  "application/javascript"
                ]
              ],
              "ok": true,
              "status": 200,
              "status_text": "OK"
            }
          }
        },
        "id": "IxiFEnhTi6SF",
        "outputId": "30ff2679-1eca-463d-9f58-eb5725d8217a"
      },
      "outputs": [
        {
          "output_type": "display_data",
          "data": {
            "text/plain": [
              "<IPython.core.display.HTML object>"
            ],
            "text/html": [
              "\n",
              "     <input type=\"file\" id=\"files-13098d5a-0152-4484-a468-e4cc9cfd8ba7\" name=\"files[]\" multiple disabled\n",
              "        style=\"border:none\" />\n",
              "     <output id=\"result-13098d5a-0152-4484-a468-e4cc9cfd8ba7\">\n",
              "      Upload widget is only available when the cell has been executed in the\n",
              "      current browser session. Please rerun this cell to enable.\n",
              "      </output>\n",
              "      <script src=\"/nbextensions/google.colab/files.js\"></script> "
            ]
          },
          "metadata": {}
        },
        {
          "output_type": "stream",
          "name": "stdout",
          "text": [
            "Saving data1.csv to data1.csv\n"
          ]
        },
        {
          "output_type": "execute_result",
          "data": {
            "text/plain": [
              "      timestamp  AccelerationX  AccelerationY  AccelerationZ  MagneticFieldX  \\\n",
              "0  1.422629e+09         -3.577          2.104          9.078            -5.4   \n",
              "1  1.422629e+09         -3.424          2.927          9.374            -4.3   \n",
              "2  1.422629e+09         -2.505          2.908          8.867            -0.7   \n",
              "3  1.422629e+09         -5.473          1.472          9.394             0.3   \n",
              "4  1.422629e+09         -3.414          2.018          8.187             3.7   \n",
              "\n",
              "   MagneticFieldY  MagneticFieldZ  Z-AxisAgle(Azimuth)  X-AxisAngle(Pitch)  \\\n",
              "0           -17.9           -28.2              126.404             -12.169   \n",
              "1           -21.9           -26.9              134.694             -11.322   \n",
              "2           -24.4           -26.5              150.906             -17.523   \n",
              "3           -25.7           -26.9              138.022             -21.068   \n",
              "4           -29.6           -23.9              163.519             -12.814   \n",
              "\n",
              "   Y-AxisAngle(Roll)  GyroX  GyroY  GyroZ  \n",
              "0            -21.001    0.0    0.0    0.0  \n",
              "1            -25.898    0.0    0.0    0.0  \n",
              "2            -15.017    0.0    0.0    0.0  \n",
              "3            -23.941    0.0    0.0    0.0  \n",
              "4            -22.046    0.0    0.0    0.0  "
            ],
            "text/html": [
              "\n",
              "  <div id=\"df-98925aaf-4ce7-4f90-9787-d0407dbe6ecf\">\n",
              "    <div class=\"colab-df-container\">\n",
              "      <div>\n",
              "<style scoped>\n",
              "    .dataframe tbody tr th:only-of-type {\n",
              "        vertical-align: middle;\n",
              "    }\n",
              "\n",
              "    .dataframe tbody tr th {\n",
              "        vertical-align: top;\n",
              "    }\n",
              "\n",
              "    .dataframe thead th {\n",
              "        text-align: right;\n",
              "    }\n",
              "</style>\n",
              "<table border=\"1\" class=\"dataframe\">\n",
              "  <thead>\n",
              "    <tr style=\"text-align: right;\">\n",
              "      <th></th>\n",
              "      <th>timestamp</th>\n",
              "      <th>AccelerationX</th>\n",
              "      <th>AccelerationY</th>\n",
              "      <th>AccelerationZ</th>\n",
              "      <th>MagneticFieldX</th>\n",
              "      <th>MagneticFieldY</th>\n",
              "      <th>MagneticFieldZ</th>\n",
              "      <th>Z-AxisAgle(Azimuth)</th>\n",
              "      <th>X-AxisAngle(Pitch)</th>\n",
              "      <th>Y-AxisAngle(Roll)</th>\n",
              "      <th>GyroX</th>\n",
              "      <th>GyroY</th>\n",
              "      <th>GyroZ</th>\n",
              "    </tr>\n",
              "  </thead>\n",
              "  <tbody>\n",
              "    <tr>\n",
              "      <th>0</th>\n",
              "      <td>1.422629e+09</td>\n",
              "      <td>-3.577</td>\n",
              "      <td>2.104</td>\n",
              "      <td>9.078</td>\n",
              "      <td>-5.4</td>\n",
              "      <td>-17.9</td>\n",
              "      <td>-28.2</td>\n",
              "      <td>126.404</td>\n",
              "      <td>-12.169</td>\n",
              "      <td>-21.001</td>\n",
              "      <td>0.0</td>\n",
              "      <td>0.0</td>\n",
              "      <td>0.0</td>\n",
              "    </tr>\n",
              "    <tr>\n",
              "      <th>1</th>\n",
              "      <td>1.422629e+09</td>\n",
              "      <td>-3.424</td>\n",
              "      <td>2.927</td>\n",
              "      <td>9.374</td>\n",
              "      <td>-4.3</td>\n",
              "      <td>-21.9</td>\n",
              "      <td>-26.9</td>\n",
              "      <td>134.694</td>\n",
              "      <td>-11.322</td>\n",
              "      <td>-25.898</td>\n",
              "      <td>0.0</td>\n",
              "      <td>0.0</td>\n",
              "      <td>0.0</td>\n",
              "    </tr>\n",
              "    <tr>\n",
              "      <th>2</th>\n",
              "      <td>1.422629e+09</td>\n",
              "      <td>-2.505</td>\n",
              "      <td>2.908</td>\n",
              "      <td>8.867</td>\n",
              "      <td>-0.7</td>\n",
              "      <td>-24.4</td>\n",
              "      <td>-26.5</td>\n",
              "      <td>150.906</td>\n",
              "      <td>-17.523</td>\n",
              "      <td>-15.017</td>\n",
              "      <td>0.0</td>\n",
              "      <td>0.0</td>\n",
              "      <td>0.0</td>\n",
              "    </tr>\n",
              "    <tr>\n",
              "      <th>3</th>\n",
              "      <td>1.422629e+09</td>\n",
              "      <td>-5.473</td>\n",
              "      <td>1.472</td>\n",
              "      <td>9.394</td>\n",
              "      <td>0.3</td>\n",
              "      <td>-25.7</td>\n",
              "      <td>-26.9</td>\n",
              "      <td>138.022</td>\n",
              "      <td>-21.068</td>\n",
              "      <td>-23.941</td>\n",
              "      <td>0.0</td>\n",
              "      <td>0.0</td>\n",
              "      <td>0.0</td>\n",
              "    </tr>\n",
              "    <tr>\n",
              "      <th>4</th>\n",
              "      <td>1.422629e+09</td>\n",
              "      <td>-3.414</td>\n",
              "      <td>2.018</td>\n",
              "      <td>8.187</td>\n",
              "      <td>3.7</td>\n",
              "      <td>-29.6</td>\n",
              "      <td>-23.9</td>\n",
              "      <td>163.519</td>\n",
              "      <td>-12.814</td>\n",
              "      <td>-22.046</td>\n",
              "      <td>0.0</td>\n",
              "      <td>0.0</td>\n",
              "      <td>0.0</td>\n",
              "    </tr>\n",
              "  </tbody>\n",
              "</table>\n",
              "</div>\n",
              "      <button class=\"colab-df-convert\" onclick=\"convertToInteractive('df-98925aaf-4ce7-4f90-9787-d0407dbe6ecf')\"\n",
              "              title=\"Convert this dataframe to an interactive table.\"\n",
              "              style=\"display:none;\">\n",
              "        \n",
              "  <svg xmlns=\"http://www.w3.org/2000/svg\" height=\"24px\"viewBox=\"0 0 24 24\"\n",
              "       width=\"24px\">\n",
              "    <path d=\"M0 0h24v24H0V0z\" fill=\"none\"/>\n",
              "    <path d=\"M18.56 5.44l.94 2.06.94-2.06 2.06-.94-2.06-.94-.94-2.06-.94 2.06-2.06.94zm-11 1L8.5 8.5l.94-2.06 2.06-.94-2.06-.94L8.5 2.5l-.94 2.06-2.06.94zm10 10l.94 2.06.94-2.06 2.06-.94-2.06-.94-.94-2.06-.94 2.06-2.06.94z\"/><path d=\"M17.41 7.96l-1.37-1.37c-.4-.4-.92-.59-1.43-.59-.52 0-1.04.2-1.43.59L10.3 9.45l-7.72 7.72c-.78.78-.78 2.05 0 2.83L4 21.41c.39.39.9.59 1.41.59.51 0 1.02-.2 1.41-.59l7.78-7.78 2.81-2.81c.8-.78.8-2.07 0-2.86zM5.41 20L4 18.59l7.72-7.72 1.47 1.35L5.41 20z\"/>\n",
              "  </svg>\n",
              "      </button>\n",
              "      \n",
              "  <style>\n",
              "    .colab-df-container {\n",
              "      display:flex;\n",
              "      flex-wrap:wrap;\n",
              "      gap: 12px;\n",
              "    }\n",
              "\n",
              "    .colab-df-convert {\n",
              "      background-color: #E8F0FE;\n",
              "      border: none;\n",
              "      border-radius: 50%;\n",
              "      cursor: pointer;\n",
              "      display: none;\n",
              "      fill: #1967D2;\n",
              "      height: 32px;\n",
              "      padding: 0 0 0 0;\n",
              "      width: 32px;\n",
              "    }\n",
              "\n",
              "    .colab-df-convert:hover {\n",
              "      background-color: #E2EBFA;\n",
              "      box-shadow: 0px 1px 2px rgba(60, 64, 67, 0.3), 0px 1px 3px 1px rgba(60, 64, 67, 0.15);\n",
              "      fill: #174EA6;\n",
              "    }\n",
              "\n",
              "    [theme=dark] .colab-df-convert {\n",
              "      background-color: #3B4455;\n",
              "      fill: #D2E3FC;\n",
              "    }\n",
              "\n",
              "    [theme=dark] .colab-df-convert:hover {\n",
              "      background-color: #434B5C;\n",
              "      box-shadow: 0px 1px 3px 1px rgba(0, 0, 0, 0.15);\n",
              "      filter: drop-shadow(0px 1px 2px rgba(0, 0, 0, 0.3));\n",
              "      fill: #FFFFFF;\n",
              "    }\n",
              "  </style>\n",
              "\n",
              "      <script>\n",
              "        const buttonEl =\n",
              "          document.querySelector('#df-98925aaf-4ce7-4f90-9787-d0407dbe6ecf button.colab-df-convert');\n",
              "        buttonEl.style.display =\n",
              "          google.colab.kernel.accessAllowed ? 'block' : 'none';\n",
              "\n",
              "        async function convertToInteractive(key) {\n",
              "          const element = document.querySelector('#df-98925aaf-4ce7-4f90-9787-d0407dbe6ecf');\n",
              "          const dataTable =\n",
              "            await google.colab.kernel.invokeFunction('convertToInteractive',\n",
              "                                                     [key], {});\n",
              "          if (!dataTable) return;\n",
              "\n",
              "          const docLinkHtml = 'Like what you see? Visit the ' +\n",
              "            '<a target=\"_blank\" href=https://colab.research.google.com/notebooks/data_table.ipynb>data table notebook</a>'\n",
              "            + ' to learn more about interactive tables.';\n",
              "          element.innerHTML = '';\n",
              "          dataTable['output_type'] = 'display_data';\n",
              "          await google.colab.output.renderOutput(dataTable, element);\n",
              "          const docLink = document.createElement('div');\n",
              "          docLink.innerHTML = docLinkHtml;\n",
              "          element.appendChild(docLink);\n",
              "        }\n",
              "      </script>\n",
              "    </div>\n",
              "  </div>\n",
              "  "
            ]
          },
          "metadata": {},
          "execution_count": 28
        }
      ],
      "source": [
        "#loading the dataset with missing values\n",
        "from google.colab import files\n",
        "uploaded = files.upload()\n",
        "import io\n",
        "data = pd.read_csv(io.BytesIO(uploaded['data1.csv']))\n",
        "data.head()\n",
        "# in this file, I took one day as a sample"
      ]
    },
    {
      "cell_type": "code",
      "source": [
        "#loading the dataset with missing values\n",
        "from google.colab import files\n",
        "uploaded = files.upload()\n",
        "import io\n",
        "data = pd.read_csv(io.BytesIO(uploaded['data2.csv']))\n",
        "data.head()\n",
        "# in this file, I took one day as a sample"
      ],
      "metadata": {
        "colab": {
          "resources": {
            "http://localhost:8080/nbextensions/google.colab/files.js": {
              "data": "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",
              "ok": true,
              "headers": [
                [
                  "content-type",
                  "application/javascript"
                ]
              ],
              "status": 200,
              "status_text": "OK"
            }
          },
          "base_uri": "https://localhost:8080/",
          "height": 264
        },
        "id": "prk-vfucxeQk",
        "outputId": "1c058b73-35f3-4dc3-8d5f-24e607b18521"
      },
      "execution_count": null,
      "outputs": [
        {
          "output_type": "display_data",
          "data": {
            "text/plain": [
              "<IPython.core.display.HTML object>"
            ],
            "text/html": [
              "\n",
              "     <input type=\"file\" id=\"files-0631c7c7-2ae0-41f7-8805-15d59b11e1cc\" name=\"files[]\" multiple disabled\n",
              "        style=\"border:none\" />\n",
              "     <output id=\"result-0631c7c7-2ae0-41f7-8805-15d59b11e1cc\">\n",
              "      Upload widget is only available when the cell has been executed in the\n",
              "      current browser session. Please rerun this cell to enable.\n",
              "      </output>\n",
              "      <script src=\"/nbextensions/google.colab/files.js\"></script> "
            ]
          },
          "metadata": {}
        },
        {
          "output_type": "stream",
          "name": "stdout",
          "text": [
            "Saving data2.csv to data2 (1).csv\n"
          ]
        },
        {
          "output_type": "execute_result",
          "data": {
            "text/plain": [
              "    timestamp  AccelerationX  AccelerationY  AccelerationZ  MagneticFieldX  \\\n",
              "0  1422629483         -3.577          2.104          9.078            -5.4   \n",
              "1  1422629484         -3.424          2.927          9.374            -4.3   \n",
              "2  1422629484         -2.505          2.908          8.867            -0.7   \n",
              "3  1422629484         -5.473          1.472          9.394             0.3   \n",
              "4  1422629484         -3.414          2.018          8.187             3.7   \n",
              "\n",
              "   MagneticFieldY  MagneticFieldZ  Z-AxisAgle(Azimuth)  X-AxisAngle(Pitch)  \\\n",
              "0           -17.9           -28.2              126.404             -12.169   \n",
              "1           -21.9           -26.9              134.694             -11.322   \n",
              "2           -24.4           -26.5              150.906             -17.523   \n",
              "3           -25.7           -26.9              138.022             -21.068   \n",
              "4           -29.6           -23.9              163.519             -12.814   \n",
              "\n",
              "   Y-AxisAngle(Roll)  GyroX  GyroY  GyroZ  \n",
              "0            -21.001    0.0    0.0    0.0  \n",
              "1            -25.898    0.0    0.0    0.0  \n",
              "2            -15.017    0.0    0.0    0.0  \n",
              "3            -23.941    0.0    0.0    0.0  \n",
              "4            -22.046    0.0    0.0    0.0  "
            ],
            "text/html": [
              "\n",
              "  <div id=\"df-635084a8-cd0a-4228-a1e5-f6aa8637effc\">\n",
              "    <div class=\"colab-df-container\">\n",
              "      <div>\n",
              "<style scoped>\n",
              "    .dataframe tbody tr th:only-of-type {\n",
              "        vertical-align: middle;\n",
              "    }\n",
              "\n",
              "    .dataframe tbody tr th {\n",
              "        vertical-align: top;\n",
              "    }\n",
              "\n",
              "    .dataframe thead th {\n",
              "        text-align: right;\n",
              "    }\n",
              "</style>\n",
              "<table border=\"1\" class=\"dataframe\">\n",
              "  <thead>\n",
              "    <tr style=\"text-align: right;\">\n",
              "      <th></th>\n",
              "      <th>timestamp</th>\n",
              "      <th>AccelerationX</th>\n",
              "      <th>AccelerationY</th>\n",
              "      <th>AccelerationZ</th>\n",
              "      <th>MagneticFieldX</th>\n",
              "      <th>MagneticFieldY</th>\n",
              "      <th>MagneticFieldZ</th>\n",
              "      <th>Z-AxisAgle(Azimuth)</th>\n",
              "      <th>X-AxisAngle(Pitch)</th>\n",
              "      <th>Y-AxisAngle(Roll)</th>\n",
              "      <th>GyroX</th>\n",
              "      <th>GyroY</th>\n",
              "      <th>GyroZ</th>\n",
              "    </tr>\n",
              "  </thead>\n",
              "  <tbody>\n",
              "    <tr>\n",
              "      <th>0</th>\n",
              "      <td>1422629483</td>\n",
              "      <td>-3.577</td>\n",
              "      <td>2.104</td>\n",
              "      <td>9.078</td>\n",
              "      <td>-5.4</td>\n",
              "      <td>-17.9</td>\n",
              "      <td>-28.2</td>\n",
              "      <td>126.404</td>\n",
              "      <td>-12.169</td>\n",
              "      <td>-21.001</td>\n",
              "      <td>0.0</td>\n",
              "      <td>0.0</td>\n",
              "      <td>0.0</td>\n",
              "    </tr>\n",
              "    <tr>\n",
              "      <th>1</th>\n",
              "      <td>1422629484</td>\n",
              "      <td>-3.424</td>\n",
              "      <td>2.927</td>\n",
              "      <td>9.374</td>\n",
              "      <td>-4.3</td>\n",
              "      <td>-21.9</td>\n",
              "      <td>-26.9</td>\n",
              "      <td>134.694</td>\n",
              "      <td>-11.322</td>\n",
              "      <td>-25.898</td>\n",
              "      <td>0.0</td>\n",
              "      <td>0.0</td>\n",
              "      <td>0.0</td>\n",
              "    </tr>\n",
              "    <tr>\n",
              "      <th>2</th>\n",
              "      <td>1422629484</td>\n",
              "      <td>-2.505</td>\n",
              "      <td>2.908</td>\n",
              "      <td>8.867</td>\n",
              "      <td>-0.7</td>\n",
              "      <td>-24.4</td>\n",
              "      <td>-26.5</td>\n",
              "      <td>150.906</td>\n",
              "      <td>-17.523</td>\n",
              "      <td>-15.017</td>\n",
              "      <td>0.0</td>\n",
              "      <td>0.0</td>\n",
              "      <td>0.0</td>\n",
              "    </tr>\n",
              "    <tr>\n",
              "      <th>3</th>\n",
              "      <td>1422629484</td>\n",
              "      <td>-5.473</td>\n",
              "      <td>1.472</td>\n",
              "      <td>9.394</td>\n",
              "      <td>0.3</td>\n",
              "      <td>-25.7</td>\n",
              "      <td>-26.9</td>\n",
              "      <td>138.022</td>\n",
              "      <td>-21.068</td>\n",
              "      <td>-23.941</td>\n",
              "      <td>0.0</td>\n",
              "      <td>0.0</td>\n",
              "      <td>0.0</td>\n",
              "    </tr>\n",
              "    <tr>\n",
              "      <th>4</th>\n",
              "      <td>1422629484</td>\n",
              "      <td>-3.414</td>\n",
              "      <td>2.018</td>\n",
              "      <td>8.187</td>\n",
              "      <td>3.7</td>\n",
              "      <td>-29.6</td>\n",
              "      <td>-23.9</td>\n",
              "      <td>163.519</td>\n",
              "      <td>-12.814</td>\n",
              "      <td>-22.046</td>\n",
              "      <td>0.0</td>\n",
              "      <td>0.0</td>\n",
              "      <td>0.0</td>\n",
              "    </tr>\n",
              "  </tbody>\n",
              "</table>\n",
              "</div>\n",
              "      <button class=\"colab-df-convert\" onclick=\"convertToInteractive('df-635084a8-cd0a-4228-a1e5-f6aa8637effc')\"\n",
              "              title=\"Convert this dataframe to an interactive table.\"\n",
              "              style=\"display:none;\">\n",
              "        \n",
              "  <svg xmlns=\"http://www.w3.org/2000/svg\" height=\"24px\"viewBox=\"0 0 24 24\"\n",
              "       width=\"24px\">\n",
              "    <path d=\"M0 0h24v24H0V0z\" fill=\"none\"/>\n",
              "    <path d=\"M18.56 5.44l.94 2.06.94-2.06 2.06-.94-2.06-.94-.94-2.06-.94 2.06-2.06.94zm-11 1L8.5 8.5l.94-2.06 2.06-.94-2.06-.94L8.5 2.5l-.94 2.06-2.06.94zm10 10l.94 2.06.94-2.06 2.06-.94-2.06-.94-.94-2.06-.94 2.06-2.06.94z\"/><path d=\"M17.41 7.96l-1.37-1.37c-.4-.4-.92-.59-1.43-.59-.52 0-1.04.2-1.43.59L10.3 9.45l-7.72 7.72c-.78.78-.78 2.05 0 2.83L4 21.41c.39.39.9.59 1.41.59.51 0 1.02-.2 1.41-.59l7.78-7.78 2.81-2.81c.8-.78.8-2.07 0-2.86zM5.41 20L4 18.59l7.72-7.72 1.47 1.35L5.41 20z\"/>\n",
              "  </svg>\n",
              "      </button>\n",
              "      \n",
              "  <style>\n",
              "    .colab-df-container {\n",
              "      display:flex;\n",
              "      flex-wrap:wrap;\n",
              "      gap: 12px;\n",
              "    }\n",
              "\n",
              "    .colab-df-convert {\n",
              "      background-color: #E8F0FE;\n",
              "      border: none;\n",
              "      border-radius: 50%;\n",
              "      cursor: pointer;\n",
              "      display: none;\n",
              "      fill: #1967D2;\n",
              "      height: 32px;\n",
              "      padding: 0 0 0 0;\n",
              "      width: 32px;\n",
              "    }\n",
              "\n",
              "    .colab-df-convert:hover {\n",
              "      background-color: #E2EBFA;\n",
              "      box-shadow: 0px 1px 2px rgba(60, 64, 67, 0.3), 0px 1px 3px 1px rgba(60, 64, 67, 0.15);\n",
              "      fill: #174EA6;\n",
              "    }\n",
              "\n",
              "    [theme=dark] .colab-df-convert {\n",
              "      background-color: #3B4455;\n",
              "      fill: #D2E3FC;\n",
              "    }\n",
              "\n",
              "    [theme=dark] .colab-df-convert:hover {\n",
              "      background-color: #434B5C;\n",
              "      box-shadow: 0px 1px 3px 1px rgba(0, 0, 0, 0.15);\n",
              "      filter: drop-shadow(0px 1px 2px rgba(0, 0, 0, 0.3));\n",
              "      fill: #FFFFFF;\n",
              "    }\n",
              "  </style>\n",
              "\n",
              "      <script>\n",
              "        const buttonEl =\n",
              "          document.querySelector('#df-635084a8-cd0a-4228-a1e5-f6aa8637effc button.colab-df-convert');\n",
              "        buttonEl.style.display =\n",
              "          google.colab.kernel.accessAllowed ? 'block' : 'none';\n",
              "\n",
              "        async function convertToInteractive(key) {\n",
              "          const element = document.querySelector('#df-635084a8-cd0a-4228-a1e5-f6aa8637effc');\n",
              "          const dataTable =\n",
              "            await google.colab.kernel.invokeFunction('convertToInteractive',\n",
              "                                                     [key], {});\n",
              "          if (!dataTable) return;\n",
              "\n",
              "          const docLinkHtml = 'Like what you see? Visit the ' +\n",
              "            '<a target=\"_blank\" href=https://colab.research.google.com/notebooks/data_table.ipynb>data table notebook</a>'\n",
              "            + ' to learn more about interactive tables.';\n",
              "          element.innerHTML = '';\n",
              "          dataTable['output_type'] = 'display_data';\n",
              "          await google.colab.output.renderOutput(dataTable, element);\n",
              "          const docLink = document.createElement('div');\n",
              "          docLink.innerHTML = docLinkHtml;\n",
              "          element.appendChild(docLink);\n",
              "        }\n",
              "      </script>\n",
              "    </div>\n",
              "  </div>\n",
              "  "
            ]
          },
          "metadata": {},
          "execution_count": 48
        }
      ]
    },
    {
      "cell_type": "code",
      "execution_count": null,
      "metadata": {
        "id": "aayFb4gbYhKq"
      },
      "outputs": [],
      "source": [
        "# import pandas as pd\n",
        "# pd.options.mode.chained_assignment = None  # default='warn'\n",
        "\n",
        "# data.iloc[0]['timestamp'] =data.iloc[0]['timestamp']*0.001"
      ]
    },
    {
      "cell_type": "code",
      "execution_count": null,
      "metadata": {
        "colab": {
          "base_uri": "https://localhost:8080/"
        },
        "id": "EcxXyNceVc9k",
        "outputId": "787ef758-3acc-48c0-c092-0828a2c82506"
      },
      "outputs": [
        {
          "output_type": "execute_result",
          "data": {
            "text/plain": [
              "1422630051.0"
            ]
          },
          "metadata": {},
          "execution_count": 3
        }
      ],
      "source": [
        "data.loc[2161]['timestamp'] "
      ]
    },
    {
      "cell_type": "code",
      "execution_count": null,
      "metadata": {
        "id": "_m_08fGIsdOi"
      },
      "outputs": [],
      "source": [
        "res = data"
      ]
    },
    {
      "cell_type": "code",
      "execution_count": null,
      "metadata": {
        "id": "olDetwL0vTIR"
      },
      "outputs": [],
      "source": [
        "data = res"
      ]
    },
    {
      "cell_type": "code",
      "execution_count": null,
      "metadata": {
        "id": "MIo1bo3X4R5h",
        "colab": {
          "base_uri": "https://localhost:8080/",
          "height": 301
        },
        "outputId": "2cbac3ab-76f9-498c-a45a-b306f22dab42"
      },
      "outputs": [
        {
          "output_type": "execute_result",
          "data": {
            "text/plain": [
              "          timestamp  AccelerationX  AccelerationY  AccelerationZ  \\\n",
              "count  3.194000e+03    3074.000000    3074.000000    3074.000000   \n",
              "mean   1.422630e+09      -0.216811       2.073879       7.812379   \n",
              "std    2.564030e+02       2.116663       3.988977       3.183673   \n",
              "min    1.422629e+09     -11.563000     -14.702000      -3.285000   \n",
              "25%    1.422630e+09      -0.580000       2.525000       8.199250   \n",
              "50%    1.422630e+09      -0.225000       3.224000       8.943000   \n",
              "75%    1.422630e+09       0.311000       3.751000       9.317000   \n",
              "max    1.422630e+09      14.914000      12.781000      14.584000   \n",
              "\n",
              "       MagneticFieldX  MagneticFieldY  MagneticFieldZ  Z-AxisAgle(Azimuth)  \\\n",
              "count     3074.000000     3074.000000     3074.000000          3074.000000   \n",
              "mean       -14.604522       12.010020      -28.187964            56.673800   \n",
              "std         11.369340       15.613522       15.459060            56.427824   \n",
              "min        -45.000000      -72.300000      -42.300000             0.279000   \n",
              "25%        -19.300000        6.800000      -36.700000            32.875500   \n",
              "50%        -16.700000       13.100000      -33.600000            39.470500   \n",
              "75%        -14.300000       16.800000      -27.400000            49.824750   \n",
              "max         37.900000       53.100000       37.200000           359.857000   \n",
              "\n",
              "       X-AxisAngle(Pitch)  Y-AxisAngle(Roll)   GyroX   GyroY   GyroZ  \n",
              "count         3074.000000        3074.000000  3074.0  3074.0  3074.0  \n",
              "mean            -7.126666          -1.428257     0.0     0.0     0.0  \n",
              "std             40.231598          13.955526     0.0     0.0     0.0  \n",
              "min           -114.158000         -79.969000     0.0     0.0     0.0  \n",
              "25%            -22.816500          -3.359250     0.0     0.0     0.0  \n",
              "50%            -19.274000          -1.232500     0.0     0.0     0.0  \n",
              "75%            -14.826750           2.061500     0.0     0.0     0.0  \n",
              "max            158.389000          80.325000     0.0     0.0     0.0  "
            ],
            "text/html": [
              "\n",
              "  <div id=\"df-fe29cf9f-9b4f-4879-80a0-d12791599f0e\">\n",
              "    <div class=\"colab-df-container\">\n",
              "      <div>\n",
              "<style scoped>\n",
              "    .dataframe tbody tr th:only-of-type {\n",
              "        vertical-align: middle;\n",
              "    }\n",
              "\n",
              "    .dataframe tbody tr th {\n",
              "        vertical-align: top;\n",
              "    }\n",
              "\n",
              "    .dataframe thead th {\n",
              "        text-align: right;\n",
              "    }\n",
              "</style>\n",
              "<table border=\"1\" class=\"dataframe\">\n",
              "  <thead>\n",
              "    <tr style=\"text-align: right;\">\n",
              "      <th></th>\n",
              "      <th>timestamp</th>\n",
              "      <th>AccelerationX</th>\n",
              "      <th>AccelerationY</th>\n",
              "      <th>AccelerationZ</th>\n",
              "      <th>MagneticFieldX</th>\n",
              "      <th>MagneticFieldY</th>\n",
              "      <th>MagneticFieldZ</th>\n",
              "      <th>Z-AxisAgle(Azimuth)</th>\n",
              "      <th>X-AxisAngle(Pitch)</th>\n",
              "      <th>Y-AxisAngle(Roll)</th>\n",
              "      <th>GyroX</th>\n",
              "      <th>GyroY</th>\n",
              "      <th>GyroZ</th>\n",
              "    </tr>\n",
              "  </thead>\n",
              "  <tbody>\n",
              "    <tr>\n",
              "      <th>count</th>\n",
              "      <td>3.194000e+03</td>\n",
              "      <td>3074.000000</td>\n",
              "      <td>3074.000000</td>\n",
              "      <td>3074.000000</td>\n",
              "      <td>3074.000000</td>\n",
              "      <td>3074.000000</td>\n",
              "      <td>3074.000000</td>\n",
              "      <td>3074.000000</td>\n",
              "      <td>3074.000000</td>\n",
              "      <td>3074.000000</td>\n",
              "      <td>3074.0</td>\n",
              "      <td>3074.0</td>\n",
              "      <td>3074.0</td>\n",
              "    </tr>\n",
              "    <tr>\n",
              "      <th>mean</th>\n",
              "      <td>1.422630e+09</td>\n",
              "      <td>-0.216811</td>\n",
              "      <td>2.073879</td>\n",
              "      <td>7.812379</td>\n",
              "      <td>-14.604522</td>\n",
              "      <td>12.010020</td>\n",
              "      <td>-28.187964</td>\n",
              "      <td>56.673800</td>\n",
              "      <td>-7.126666</td>\n",
              "      <td>-1.428257</td>\n",
              "      <td>0.0</td>\n",
              "      <td>0.0</td>\n",
              "      <td>0.0</td>\n",
              "    </tr>\n",
              "    <tr>\n",
              "      <th>std</th>\n",
              "      <td>2.564030e+02</td>\n",
              "      <td>2.116663</td>\n",
              "      <td>3.988977</td>\n",
              "      <td>3.183673</td>\n",
              "      <td>11.369340</td>\n",
              "      <td>15.613522</td>\n",
              "      <td>15.459060</td>\n",
              "      <td>56.427824</td>\n",
              "      <td>40.231598</td>\n",
              "      <td>13.955526</td>\n",
              "      <td>0.0</td>\n",
              "      <td>0.0</td>\n",
              "      <td>0.0</td>\n",
              "    </tr>\n",
              "    <tr>\n",
              "      <th>min</th>\n",
              "      <td>1.422629e+09</td>\n",
              "      <td>-11.563000</td>\n",
              "      <td>-14.702000</td>\n",
              "      <td>-3.285000</td>\n",
              "      <td>-45.000000</td>\n",
              "      <td>-72.300000</td>\n",
              "      <td>-42.300000</td>\n",
              "      <td>0.279000</td>\n",
              "      <td>-114.158000</td>\n",
              "      <td>-79.969000</td>\n",
              "      <td>0.0</td>\n",
              "      <td>0.0</td>\n",
              "      <td>0.0</td>\n",
              "    </tr>\n",
              "    <tr>\n",
              "      <th>25%</th>\n",
              "      <td>1.422630e+09</td>\n",
              "      <td>-0.580000</td>\n",
              "      <td>2.525000</td>\n",
              "      <td>8.199250</td>\n",
              "      <td>-19.300000</td>\n",
              "      <td>6.800000</td>\n",
              "      <td>-36.700000</td>\n",
              "      <td>32.875500</td>\n",
              "      <td>-22.816500</td>\n",
              "      <td>-3.359250</td>\n",
              "      <td>0.0</td>\n",
              "      <td>0.0</td>\n",
              "      <td>0.0</td>\n",
              "    </tr>\n",
              "    <tr>\n",
              "      <th>50%</th>\n",
              "      <td>1.422630e+09</td>\n",
              "      <td>-0.225000</td>\n",
              "      <td>3.224000</td>\n",
              "      <td>8.943000</td>\n",
              "      <td>-16.700000</td>\n",
              "      <td>13.100000</td>\n",
              "      <td>-33.600000</td>\n",
              "      <td>39.470500</td>\n",
              "      <td>-19.274000</td>\n",
              "      <td>-1.232500</td>\n",
              "      <td>0.0</td>\n",
              "      <td>0.0</td>\n",
              "      <td>0.0</td>\n",
              "    </tr>\n",
              "    <tr>\n",
              "      <th>75%</th>\n",
              "      <td>1.422630e+09</td>\n",
              "      <td>0.311000</td>\n",
              "      <td>3.751000</td>\n",
              "      <td>9.317000</td>\n",
              "      <td>-14.300000</td>\n",
              "      <td>16.800000</td>\n",
              "      <td>-27.400000</td>\n",
              "      <td>49.824750</td>\n",
              "      <td>-14.826750</td>\n",
              "      <td>2.061500</td>\n",
              "      <td>0.0</td>\n",
              "      <td>0.0</td>\n",
              "      <td>0.0</td>\n",
              "    </tr>\n",
              "    <tr>\n",
              "      <th>max</th>\n",
              "      <td>1.422630e+09</td>\n",
              "      <td>14.914000</td>\n",
              "      <td>12.781000</td>\n",
              "      <td>14.584000</td>\n",
              "      <td>37.900000</td>\n",
              "      <td>53.100000</td>\n",
              "      <td>37.200000</td>\n",
              "      <td>359.857000</td>\n",
              "      <td>158.389000</td>\n",
              "      <td>80.325000</td>\n",
              "      <td>0.0</td>\n",
              "      <td>0.0</td>\n",
              "      <td>0.0</td>\n",
              "    </tr>\n",
              "  </tbody>\n",
              "</table>\n",
              "</div>\n",
              "      <button class=\"colab-df-convert\" onclick=\"convertToInteractive('df-fe29cf9f-9b4f-4879-80a0-d12791599f0e')\"\n",
              "              title=\"Convert this dataframe to an interactive table.\"\n",
              "              style=\"display:none;\">\n",
              "        \n",
              "  <svg xmlns=\"http://www.w3.org/2000/svg\" height=\"24px\"viewBox=\"0 0 24 24\"\n",
              "       width=\"24px\">\n",
              "    <path d=\"M0 0h24v24H0V0z\" fill=\"none\"/>\n",
              "    <path d=\"M18.56 5.44l.94 2.06.94-2.06 2.06-.94-2.06-.94-.94-2.06-.94 2.06-2.06.94zm-11 1L8.5 8.5l.94-2.06 2.06-.94-2.06-.94L8.5 2.5l-.94 2.06-2.06.94zm10 10l.94 2.06.94-2.06 2.06-.94-2.06-.94-.94-2.06-.94 2.06-2.06.94z\"/><path d=\"M17.41 7.96l-1.37-1.37c-.4-.4-.92-.59-1.43-.59-.52 0-1.04.2-1.43.59L10.3 9.45l-7.72 7.72c-.78.78-.78 2.05 0 2.83L4 21.41c.39.39.9.59 1.41.59.51 0 1.02-.2 1.41-.59l7.78-7.78 2.81-2.81c.8-.78.8-2.07 0-2.86zM5.41 20L4 18.59l7.72-7.72 1.47 1.35L5.41 20z\"/>\n",
              "  </svg>\n",
              "      </button>\n",
              "      \n",
              "  <style>\n",
              "    .colab-df-container {\n",
              "      display:flex;\n",
              "      flex-wrap:wrap;\n",
              "      gap: 12px;\n",
              "    }\n",
              "\n",
              "    .colab-df-convert {\n",
              "      background-color: #E8F0FE;\n",
              "      border: none;\n",
              "      border-radius: 50%;\n",
              "      cursor: pointer;\n",
              "      display: none;\n",
              "      fill: #1967D2;\n",
              "      height: 32px;\n",
              "      padding: 0 0 0 0;\n",
              "      width: 32px;\n",
              "    }\n",
              "\n",
              "    .colab-df-convert:hover {\n",
              "      background-color: #E2EBFA;\n",
              "      box-shadow: 0px 1px 2px rgba(60, 64, 67, 0.3), 0px 1px 3px 1px rgba(60, 64, 67, 0.15);\n",
              "      fill: #174EA6;\n",
              "    }\n",
              "\n",
              "    [theme=dark] .colab-df-convert {\n",
              "      background-color: #3B4455;\n",
              "      fill: #D2E3FC;\n",
              "    }\n",
              "\n",
              "    [theme=dark] .colab-df-convert:hover {\n",
              "      background-color: #434B5C;\n",
              "      box-shadow: 0px 1px 3px 1px rgba(0, 0, 0, 0.15);\n",
              "      filter: drop-shadow(0px 1px 2px rgba(0, 0, 0, 0.3));\n",
              "      fill: #FFFFFF;\n",
              "    }\n",
              "  </style>\n",
              "\n",
              "      <script>\n",
              "        const buttonEl =\n",
              "          document.querySelector('#df-fe29cf9f-9b4f-4879-80a0-d12791599f0e button.colab-df-convert');\n",
              "        buttonEl.style.display =\n",
              "          google.colab.kernel.accessAllowed ? 'block' : 'none';\n",
              "\n",
              "        async function convertToInteractive(key) {\n",
              "          const element = document.querySelector('#df-fe29cf9f-9b4f-4879-80a0-d12791599f0e');\n",
              "          const dataTable =\n",
              "            await google.colab.kernel.invokeFunction('convertToInteractive',\n",
              "                                                     [key], {});\n",
              "          if (!dataTable) return;\n",
              "\n",
              "          const docLinkHtml = 'Like what you see? Visit the ' +\n",
              "            '<a target=\"_blank\" href=https://colab.research.google.com/notebooks/data_table.ipynb>data table notebook</a>'\n",
              "            + ' to learn more about interactive tables.';\n",
              "          element.innerHTML = '';\n",
              "          dataTable['output_type'] = 'display_data';\n",
              "          await google.colab.output.renderOutput(dataTable, element);\n",
              "          const docLink = document.createElement('div');\n",
              "          docLink.innerHTML = docLinkHtml;\n",
              "          element.appendChild(docLink);\n",
              "        }\n",
              "      </script>\n",
              "    </div>\n",
              "  </div>\n",
              "  "
            ]
          },
          "metadata": {},
          "execution_count": 5
        }
      ],
      "source": [
        "data.describe()  # Getting a grasp of our numerical value statistical properties. "
      ]
    },
    {
      "cell_type": "code",
      "source": [
        "#deleting constant columns\n",
        "data = data.drop(['GyroX', 'GyroY','GyroZ'], axis = 1)"
      ],
      "metadata": {
        "id": "UBCnuQy0cj4B"
      },
      "execution_count": null,
      "outputs": []
    },
    {
      "cell_type": "code",
      "execution_count": null,
      "metadata": {
        "colab": {
          "base_uri": "https://localhost:8080/"
        },
        "id": "Bqa2niCWNxEL",
        "outputId": "a7db155d-022e-4c5e-f2f5-d3bf7aa14604"
      },
      "outputs": [
        {
          "output_type": "stream",
          "name": "stdout",
          "text": [
            "timestamp              120\n",
            "AccelerationX          120\n",
            "AccelerationY          120\n",
            "AccelerationZ          120\n",
            "MagneticFieldX         120\n",
            "MagneticFieldY         120\n",
            "MagneticFieldZ         120\n",
            "Z-AxisAgle(Azimuth)    120\n",
            "X-AxisAngle(Pitch)     120\n",
            "Y-AxisAngle(Roll)      120\n",
            "GyroX                  120\n",
            "GyroY                  120\n",
            "GyroZ                  120\n",
            "dtype: int64\n"
          ]
        }
      ],
      "source": [
        "# Count the missing values of each time series\n",
        "missing_values = data.isnull().sum()\n",
        "print(missing_values)"
      ]
    },
    {
      "cell_type": "code",
      "execution_count": null,
      "metadata": {
        "id": "5pvCqiCM6Sqe"
      },
      "outputs": [],
      "source": [
        "#Xtimestamp = data.iloc[:,0].values  # Converting column to a numpy array.\n",
        "#Xacc = data.iloc[:,1].values"
      ]
    },
    {
      "cell_type": "code",
      "source": [
        "pip install missingno"
      ],
      "metadata": {
        "colab": {
          "base_uri": "https://localhost:8080/"
        },
        "id": "vUo1SWmerLo-",
        "outputId": "8393e72d-c035-49cb-de65-599919818789"
      },
      "execution_count": null,
      "outputs": [
        {
          "output_type": "stream",
          "name": "stdout",
          "text": [
            "Requirement already satisfied: missingno in /usr/local/lib/python3.7/dist-packages (0.5.1)\n",
            "Requirement already satisfied: seaborn in /usr/local/lib/python3.7/dist-packages (from missingno) (0.11.2)\n",
            "Requirement already satisfied: numpy in /usr/local/lib/python3.7/dist-packages (from missingno) (1.21.5)\n",
            "Requirement already satisfied: scipy in /usr/local/lib/python3.7/dist-packages (from missingno) (1.4.1)\n",
            "Requirement already satisfied: matplotlib in /usr/local/lib/python3.7/dist-packages (from missingno) (3.2.2)\n",
            "Requirement already satisfied: kiwisolver>=1.0.1 in /usr/local/lib/python3.7/dist-packages (from matplotlib->missingno) (1.4.0)\n",
            "Requirement already satisfied: python-dateutil>=2.1 in /usr/local/lib/python3.7/dist-packages (from matplotlib->missingno) (2.8.2)\n",
            "Requirement already satisfied: pyparsing!=2.0.4,!=2.1.2,!=2.1.6,>=2.0.1 in /usr/local/lib/python3.7/dist-packages (from matplotlib->missingno) (3.0.7)\n",
            "Requirement already satisfied: cycler>=0.10 in /usr/local/lib/python3.7/dist-packages (from matplotlib->missingno) (0.11.0)\n",
            "Requirement already satisfied: typing-extensions in /usr/local/lib/python3.7/dist-packages (from kiwisolver>=1.0.1->matplotlib->missingno) (3.10.0.2)\n",
            "Requirement already satisfied: six>=1.5 in /usr/local/lib/python3.7/dist-packages (from python-dateutil>=2.1->matplotlib->missingno) (1.15.0)\n",
            "Requirement already satisfied: pandas>=0.23 in /usr/local/lib/python3.7/dist-packages (from seaborn->missingno) (1.3.5)\n",
            "Requirement already satisfied: pytz>=2017.3 in /usr/local/lib/python3.7/dist-packages (from pandas>=0.23->seaborn->missingno) (2018.9)\n"
          ]
        }
      ]
    },
    {
      "cell_type": "code",
      "source": [
        "import missingno as msno"
      ],
      "metadata": {
        "id": "4iqE2P73rUAK"
      },
      "execution_count": null,
      "outputs": []
    },
    {
      "cell_type": "code",
      "source": [
        "msno.matrix(data)\n",
        "#each white line represents missing observations and the lines are visualized in the order they appear in the dataset, top to bottom"
      ],
      "metadata": {
        "colab": {
          "base_uri": "https://localhost:8080/",
          "height": 734
        },
        "id": "mtHV4nHNrVQx",
        "outputId": "abcfe3e3-0e92-43af-b921-c1e70728a419"
      },
      "execution_count": null,
      "outputs": [
        {
          "output_type": "execute_result",
          "data": {
            "text/plain": [
              "<matplotlib.axes._subplots.AxesSubplot at 0x7ff3c608a790>"
            ]
          },
          "metadata": {},
          "execution_count": 10
        },
        {
          "output_type": "display_data",
          "data": {
            "text/plain": [
              "<Figure size 1800x720 with 2 Axes>"
            ],
            "image/png": "[encoded data removed]"
          },
          "metadata": {
            "needs_background": "light"
          }
        }
      ]
    },
    {
      "cell_type": "code",
      "source": [
        "msno.heatmap(data, cmap='rainbow');"
      ],
      "metadata": {
        "colab": {
          "base_uri": "https://localhost:8080/",
          "height": 817
        },
        "id": "FNf0KGznrkcH",
        "outputId": "165733c9-be27-480c-e038-18439ab03068"
      },
      "execution_count": null,
      "outputs": [
        {
          "output_type": "display_data",
          "data": {
            "text/plain": [
              "<Figure size 1440x864 with 2 Axes>"
            ],
            "image/png": "[encoded data removed]"
          },
          "metadata": {
            "needs_background": "light"
          }
        }
      ]
    },
    {
      "cell_type": "code",
      "source": [
        "msno.bar(data)"
      ],
      "metadata": {
        "colab": {
          "base_uri": "https://localhost:8080/",
          "height": 765
        },
        "id": "i3WRAJ83r1RM",
        "outputId": "b8066a1a-9b6d-4023-d748-35dbd0ac67a7"
      },
      "execution_count": null,
      "outputs": [
        {
          "output_type": "execute_result",
          "data": {
            "text/plain": [
              "<matplotlib.axes._subplots.AxesSubplot at 0x7ff3c3a59a10>"
            ]
          },
          "metadata": {},
          "execution_count": 12
        },
        {
          "output_type": "display_data",
          "data": {
            "text/plain": [
              "<Figure size 1800x720 with 3 Axes>"
            ],
            "image/png": "[encoded data removed]"
          },
          "metadata": {
            "needs_background": "light"
          }
        }
      ]
    },
    {
      "cell_type": "markdown",
      "source": [
        "In Missing Not At Random case, there will be a systematic relationship between missing values and some unobserved factors."
      ],
      "metadata": {
        "id": "IDEAy2Q5sYrL"
      }
    },
    {
      "cell_type": "markdown",
      "source": [
        "# MICE"
      ],
      "metadata": {
        "id": "XfGDmCU1NZA3"
      }
    },
    {
      "cell_type": "code",
      "source": [
        "from sklearn.experimental import enable_iterative_imputer\n",
        "from sklearn.impute import IterativeImputer"
      ],
      "metadata": {
        "id": "YGR_Ch45NfmR"
      },
      "execution_count": null,
      "outputs": []
    },
    {
      "cell_type": "code",
      "source": [
        "#we can try lr and other methods\n",
        "from sklearn.linear_model import Lasso\n",
        "lr = Lasso()"
      ],
      "metadata": {
        "id": "ZO9FTHzof3Mm"
      },
      "execution_count": null,
      "outputs": []
    },
    {
      "cell_type": "code",
      "source": [
        "#estimator can be null (default is BaysianRidge)\n",
        "imp = IterativeImputer(estimator=lr,verbose=2, max_iter=100, tol=1e-10, n_nearest_features=2 ,initial_strategy='median',imputation_order='roman')"
      ],
      "metadata": {
        "id": "ToFxBBzQhDJB"
      },
      "execution_count": null,
      "outputs": []
    },
    {
      "cell_type": "code",
      "source": [
        "newData = imp.fit_transform(data)"
      ],
      "metadata": {
        "colab": {
          "base_uri": "https://localhost:8080/"
        },
        "id": "ZQvmOetZTK6i",
        "outputId": "d4b9fced-0b9e-42cf-d49e-a3e227894fbf"
      },
      "execution_count": null,
      "outputs": [
        {
          "output_type": "stream",
          "name": "stdout",
          "text": [
            "[IterativeImputer] Completing matrix with shape (3194, 10)\n",
            "[IterativeImputer] Ending imputation round 1/100, elapsed time 0.02\n",
            "[IterativeImputer] Change: 220.32812548102717, scaled tolerance: 0.1422630155 \n",
            "[IterativeImputer] Ending imputation round 2/100, elapsed time 0.04\n",
            "[IterativeImputer] Change: 44.215738300004226, scaled tolerance: 0.1422630155 \n",
            "[IterativeImputer] Ending imputation round 3/100, elapsed time 0.06\n",
            "[IterativeImputer] Change: 17.408812328062332, scaled tolerance: 0.1422630155 \n",
            "[IterativeImputer] Ending imputation round 4/100, elapsed time 0.08\n",
            "[IterativeImputer] Change: 2.5885743430357397, scaled tolerance: 0.1422630155 \n",
            "[IterativeImputer] Ending imputation round 5/100, elapsed time 0.11\n",
            "[IterativeImputer] Change: 2.3338777988419466, scaled tolerance: 0.1422630155 \n",
            "[IterativeImputer] Ending imputation round 6/100, elapsed time 0.15\n",
            "[IterativeImputer] Change: 2.917243941038896, scaled tolerance: 0.1422630155 \n",
            "[IterativeImputer] Ending imputation round 7/100, elapsed time 0.18\n",
            "[IterativeImputer] Change: 0.26212721490216423, scaled tolerance: 0.1422630155 \n",
            "[IterativeImputer] Ending imputation round 8/100, elapsed time 0.21\n",
            "[IterativeImputer] Change: 1.4693338366618327, scaled tolerance: 0.1422630155 \n",
            "[IterativeImputer] Ending imputation round 9/100, elapsed time 0.23\n",
            "[IterativeImputer] Change: 0.15407547998482893, scaled tolerance: 0.1422630155 \n",
            "[IterativeImputer] Ending imputation round 10/100, elapsed time 0.27\n",
            "[IterativeImputer] Change: 0.21884202719185153, scaled tolerance: 0.1422630155 \n",
            "[IterativeImputer] Ending imputation round 11/100, elapsed time 0.30\n",
            "[IterativeImputer] Change: 0.017456725274318186, scaled tolerance: 0.1422630155 \n",
            "[IterativeImputer] Early stopping criterion reached.\n"
          ]
        }
      ]
    },
    {
      "cell_type": "code",
      "source": [
        "newData"
      ],
      "metadata": {
        "colab": {
          "base_uri": "https://localhost:8080/"
        },
        "id": "wAH_tUsmaHQb",
        "outputId": "d48c649e-20db-4c46-8eb8-a028816534f5"
      },
      "execution_count": null,
      "outputs": [
        {
          "output_type": "execute_result",
          "data": {
            "text/plain": [
              "array([[ 1.42262948e+09, -3.57700000e+00,  2.10400000e+00, ...,\n",
              "         1.26404000e+02, -1.21690000e+01, -2.10010000e+01],\n",
              "       [ 1.42262948e+09, -3.42400000e+00,  2.92700000e+00, ...,\n",
              "         1.34694000e+02, -1.13220000e+01, -2.58980000e+01],\n",
              "       [ 1.42262948e+09, -2.50500000e+00,  2.90800000e+00, ...,\n",
              "         1.50906000e+02, -1.75230000e+01, -1.50170000e+01],\n",
              "       ...,\n",
              "       [ 1.42263016e+09, -3.11700000e+00,  5.43600000e+00, ...,\n",
              "         3.05850000e+01, -3.82050000e+01, -2.12370000e+01],\n",
              "       [ 1.42263016e+09, -2.86800000e+00,  5.80000000e+00, ...,\n",
              "         3.27150000e+01, -3.30990000e+01, -1.82490000e+01],\n",
              "       [ 1.42263016e+09, -2.20800000e+00,  5.58000000e+00, ...,\n",
              "         3.28200000e+01, -3.40410000e+01, -1.63700000e+01]])"
            ]
          },
          "metadata": {},
          "execution_count": 37
        }
      ]
    },
    {
      "cell_type": "code",
      "source": [
        "imputed = pd.DataFrame(newData, columns = ['timestamp',\t'AccelerationX',\t'AccelerationY', \t'AccelerationZ', \t'MagneticFieldX', \t'MagneticFieldY', 'MagneticFieldZ',\t'Z-AxisAgle(Azimuth)', 'X-AxisAngle(Pitch)', \t'Y-AxisAngle(Roll)])'])"
      ],
      "metadata": {
        "id": "wdWAhVwFbR29"
      },
      "execution_count": null,
      "outputs": []
    },
    {
      "cell_type": "code",
      "execution_count": null,
      "metadata": {
        "colab": {
          "base_uri": "https://localhost:8080/"
        },
        "outputId": "6cc3a067-c594-4f29-d494-a27b389e61f1",
        "id": "ORe8MSmFZ6dx"
      },
      "outputs": [
        {
          "output_type": "stream",
          "name": "stdout",
          "text": [
            "timestamp              0\n",
            "AccelerationX          0\n",
            "AccelerationY          0\n",
            "AccelerationZ          0\n",
            "MagneticFieldX         0\n",
            "MagneticFieldY         0\n",
            "MagneticFieldZ         0\n",
            "Z-AxisAgle(Azimuth)    0\n",
            "X-AxisAngle(Pitch)     0\n",
            "Y-AxisAngle(Roll)])    0\n",
            "dtype: int64\n"
          ]
        }
      ],
      "source": [
        "# Count the missing values of each time series\n",
        "missing_values = imputed.isnull().sum()\n",
        "print(missing_values)"
      ]
    },
    {
      "cell_type": "code",
      "source": [
        "imputed.loc[2170]['AccelerationY'] "
      ],
      "metadata": {
        "colab": {
          "base_uri": "https://localhost:8080/"
        },
        "id": "nDQqH4TVgId0",
        "outputId": "9f3b9b20-d251-431b-c7dc-3a857ca79b64"
      },
      "execution_count": null,
      "outputs": [
        {
          "output_type": "execute_result",
          "data": {
            "text/plain": [
              "2.0741909248406354"
            ]
          },
          "metadata": {},
          "execution_count": 44
        }
      ]
    },
    {
      "cell_type": "code",
      "execution_count": null,
      "metadata": {
        "colab": {
          "base_uri": "https://localhost:8080/"
        },
        "outputId": "1aa3d2fa-d0c3-42f3-d0d8-9016759395cb",
        "id": "fG7FB-FJcM-M"
      },
      "outputs": [
        {
          "output_type": "execute_result",
          "data": {
            "text/plain": [
              "1422629840.7177403"
            ]
          },
          "metadata": {},
          "execution_count": 47
        }
      ],
      "source": [
        "imputed.loc[2170]['timestamp'] "
      ]
    },
    {
      "cell_type": "code",
      "source": [
        "imputed.cov()"
      ],
      "metadata": {
        "colab": {
          "base_uri": "https://localhost:8080/",
          "height": 364
        },
        "id": "StgtF1Oaa1AD",
        "outputId": "a919f871-b12f-4cbf-fcde-32d184238ac5"
      },
      "execution_count": null,
      "outputs": [
        {
          "output_type": "execute_result",
          "data": {
            "text/plain": [
              "                        timestamp  AccelerationX  AccelerationY  \\\n",
              "timestamp            64057.923396      63.102161    -260.034590   \n",
              "AccelerationX           63.102161       4.311886      -0.051488   \n",
              "AccelerationY         -260.034590      -0.051488      15.313935   \n",
              "AccelerationZ         -381.277637       0.065066      10.324743   \n",
              "MagneticFieldX         637.677172     -12.232569     -15.474731   \n",
              "MagneticFieldY         485.500319       7.904489     -41.666309   \n",
              "MagneticFieldZ         993.989368       6.586289     -48.287803   \n",
              "Z-AxisAgle(Azimuth)   2277.162224      -4.662338     -62.921308   \n",
              "X-AxisAngle(Pitch)    2982.920851     -10.360796    -144.219042   \n",
              "Y-AxisAngle(Roll)])    310.792248      27.376110       0.646673   \n",
              "\n",
              "                     AccelerationZ  MagneticFieldX  MagneticFieldY  \\\n",
              "timestamp              -381.277637      637.677172      485.500319   \n",
              "AccelerationX             0.065066      -12.232569        7.904489   \n",
              "AccelerationY            10.324743      -15.474731      -41.666309   \n",
              "AccelerationZ             9.754849      -13.480669      -24.758646   \n",
              "MagneticFieldX          -13.480669      124.403936        9.890222   \n",
              "MagneticFieldY          -24.758646        9.890222      234.620192   \n",
              "MagneticFieldZ          -37.827885       20.678558      106.433736   \n",
              "Z-AxisAgle(Azimuth)     -54.677033      291.546477     -112.326366   \n",
              "X-AxisAngle(Pitch)     -106.272012      199.040577      370.927719   \n",
              "Y-AxisAngle(Roll)])       1.455696      -86.109185       49.301801   \n",
              "\n",
              "                     MagneticFieldZ  Z-AxisAgle(Azimuth)  X-AxisAngle(Pitch)  \\\n",
              "timestamp                993.989368          2277.162224         2982.920851   \n",
              "AccelerationX              6.586289            -4.662338          -10.360796   \n",
              "AccelerationY            -48.287803           -62.921308         -144.219042   \n",
              "AccelerationZ            -37.827885           -54.677033         -106.272012   \n",
              "MagneticFieldX            20.678558           291.546477          199.040577   \n",
              "MagneticFieldY           106.433736          -112.326366          370.927719   \n",
              "MagneticFieldZ           230.001057           204.521430          449.760715   \n",
              "Z-AxisAgle(Azimuth)      204.521430          3064.433866          637.983733   \n",
              "X-AxisAngle(Pitch)       449.760715           637.983733         1557.751639   \n",
              "Y-AxisAngle(Roll)])       40.757932           -35.491589          -85.593145   \n",
              "\n",
              "                     Y-AxisAngle(Roll)])  \n",
              "timestamp                     310.792248  \n",
              "AccelerationX                  27.376110  \n",
              "AccelerationY                   0.646673  \n",
              "AccelerationZ                   1.455696  \n",
              "MagneticFieldX                -86.109185  \n",
              "MagneticFieldY                 49.301801  \n",
              "MagneticFieldZ                 40.757932  \n",
              "Z-AxisAgle(Azimuth)           -35.491589  \n",
              "X-AxisAngle(Pitch)            -85.593145  \n",
              "Y-AxisAngle(Roll)])           187.437317  "
            ],
            "text/html": [
              "\n",
              "  <div id=\"df-b35d4478-360e-499e-b86b-1b36480d125f\">\n",
              "    <div class=\"colab-df-container\">\n",
              "      <div>\n",
              "<style scoped>\n",
              "    .dataframe tbody tr th:only-of-type {\n",
              "        vertical-align: middle;\n",
              "    }\n",
              "\n",
              "    .dataframe tbody tr th {\n",
              "        vertical-align: top;\n",
              "    }\n",
              "\n",
              "    .dataframe thead th {\n",
              "        text-align: right;\n",
              "    }\n",
              "</style>\n",
              "<table border=\"1\" class=\"dataframe\">\n",
              "  <thead>\n",
              "    <tr style=\"text-align: right;\">\n",
              "      <th></th>\n",
              "      <th>timestamp</th>\n",
              "      <th>AccelerationX</th>\n",
              "      <th>AccelerationY</th>\n",
              "      <th>AccelerationZ</th>\n",
              "      <th>MagneticFieldX</th>\n",
              "      <th>MagneticFieldY</th>\n",
              "      <th>MagneticFieldZ</th>\n",
              "      <th>Z-AxisAgle(Azimuth)</th>\n",
              "      <th>X-AxisAngle(Pitch)</th>\n",
              "      <th>Y-AxisAngle(Roll)])</th>\n",
              "    </tr>\n",
              "  </thead>\n",
              "  <tbody>\n",
              "    <tr>\n",
              "      <th>timestamp</th>\n",
              "      <td>64057.923396</td>\n",
              "      <td>63.102161</td>\n",
              "      <td>-260.034590</td>\n",
              "      <td>-381.277637</td>\n",
              "      <td>637.677172</td>\n",
              "      <td>485.500319</td>\n",
              "      <td>993.989368</td>\n",
              "      <td>2277.162224</td>\n",
              "      <td>2982.920851</td>\n",
              "      <td>310.792248</td>\n",
              "    </tr>\n",
              "    <tr>\n",
              "      <th>AccelerationX</th>\n",
              "      <td>63.102161</td>\n",
              "      <td>4.311886</td>\n",
              "      <td>-0.051488</td>\n",
              "      <td>0.065066</td>\n",
              "      <td>-12.232569</td>\n",
              "      <td>7.904489</td>\n",
              "      <td>6.586289</td>\n",
              "      <td>-4.662338</td>\n",
              "      <td>-10.360796</td>\n",
              "      <td>27.376110</td>\n",
              "    </tr>\n",
              "    <tr>\n",
              "      <th>AccelerationY</th>\n",
              "      <td>-260.034590</td>\n",
              "      <td>-0.051488</td>\n",
              "      <td>15.313935</td>\n",
              "      <td>10.324743</td>\n",
              "      <td>-15.474731</td>\n",
              "      <td>-41.666309</td>\n",
              "      <td>-48.287803</td>\n",
              "      <td>-62.921308</td>\n",
              "      <td>-144.219042</td>\n",
              "      <td>0.646673</td>\n",
              "    </tr>\n",
              "    <tr>\n",
              "      <th>AccelerationZ</th>\n",
              "      <td>-381.277637</td>\n",
              "      <td>0.065066</td>\n",
              "      <td>10.324743</td>\n",
              "      <td>9.754849</td>\n",
              "      <td>-13.480669</td>\n",
              "      <td>-24.758646</td>\n",
              "      <td>-37.827885</td>\n",
              "      <td>-54.677033</td>\n",
              "      <td>-106.272012</td>\n",
              "      <td>1.455696</td>\n",
              "    </tr>\n",
              "    <tr>\n",
              "      <th>MagneticFieldX</th>\n",
              "      <td>637.677172</td>\n",
              "      <td>-12.232569</td>\n",
              "      <td>-15.474731</td>\n",
              "      <td>-13.480669</td>\n",
              "      <td>124.403936</td>\n",
              "      <td>9.890222</td>\n",
              "      <td>20.678558</td>\n",
              "      <td>291.546477</td>\n",
              "      <td>199.040577</td>\n",
              "      <td>-86.109185</td>\n",
              "    </tr>\n",
              "    <tr>\n",
              "      <th>MagneticFieldY</th>\n",
              "      <td>485.500319</td>\n",
              "      <td>7.904489</td>\n",
              "      <td>-41.666309</td>\n",
              "      <td>-24.758646</td>\n",
              "      <td>9.890222</td>\n",
              "      <td>234.620192</td>\n",
              "      <td>106.433736</td>\n",
              "      <td>-112.326366</td>\n",
              "      <td>370.927719</td>\n",
              "      <td>49.301801</td>\n",
              "    </tr>\n",
              "    <tr>\n",
              "      <th>MagneticFieldZ</th>\n",
              "      <td>993.989368</td>\n",
              "      <td>6.586289</td>\n",
              "      <td>-48.287803</td>\n",
              "      <td>-37.827885</td>\n",
              "      <td>20.678558</td>\n",
              "      <td>106.433736</td>\n",
              "      <td>230.001057</td>\n",
              "      <td>204.521430</td>\n",
              "      <td>449.760715</td>\n",
              "      <td>40.757932</td>\n",
              "    </tr>\n",
              "    <tr>\n",
              "      <th>Z-AxisAgle(Azimuth)</th>\n",
              "      <td>2277.162224</td>\n",
              "      <td>-4.662338</td>\n",
              "      <td>-62.921308</td>\n",
              "      <td>-54.677033</td>\n",
              "      <td>291.546477</td>\n",
              "      <td>-112.326366</td>\n",
              "      <td>204.521430</td>\n",
              "      <td>3064.433866</td>\n",
              "      <td>637.983733</td>\n",
              "      <td>-35.491589</td>\n",
              "    </tr>\n",
              "    <tr>\n",
              "      <th>X-AxisAngle(Pitch)</th>\n",
              "      <td>2982.920851</td>\n",
              "      <td>-10.360796</td>\n",
              "      <td>-144.219042</td>\n",
              "      <td>-106.272012</td>\n",
              "      <td>199.040577</td>\n",
              "      <td>370.927719</td>\n",
              "      <td>449.760715</td>\n",
              "      <td>637.983733</td>\n",
              "      <td>1557.751639</td>\n",
              "      <td>-85.593145</td>\n",
              "    </tr>\n",
              "    <tr>\n",
              "      <th>Y-AxisAngle(Roll)])</th>\n",
              "      <td>310.792248</td>\n",
              "      <td>27.376110</td>\n",
              "      <td>0.646673</td>\n",
              "      <td>1.455696</td>\n",
              "      <td>-86.109185</td>\n",
              "      <td>49.301801</td>\n",
              "      <td>40.757932</td>\n",
              "      <td>-35.491589</td>\n",
              "      <td>-85.593145</td>\n",
              "      <td>187.437317</td>\n",
              "    </tr>\n",
              "  </tbody>\n",
              "</table>\n",
              "</div>\n",
              "      <button class=\"colab-df-convert\" onclick=\"convertToInteractive('df-b35d4478-360e-499e-b86b-1b36480d125f')\"\n",
              "              title=\"Convert this dataframe to an interactive table.\"\n",
              "              style=\"display:none;\">\n",
              "        \n",
              "  <svg xmlns=\"http://www.w3.org/2000/svg\" height=\"24px\"viewBox=\"0 0 24 24\"\n",
              "       width=\"24px\">\n",
              "    <path d=\"M0 0h24v24H0V0z\" fill=\"none\"/>\n",
              "    <path d=\"M18.56 5.44l.94 2.06.94-2.06 2.06-.94-2.06-.94-.94-2.06-.94 2.06-2.06.94zm-11 1L8.5 8.5l.94-2.06 2.06-.94-2.06-.94L8.5 2.5l-.94 2.06-2.06.94zm10 10l.94 2.06.94-2.06 2.06-.94-2.06-.94-.94-2.06-.94 2.06-2.06.94z\"/><path d=\"M17.41 7.96l-1.37-1.37c-.4-.4-.92-.59-1.43-.59-.52 0-1.04.2-1.43.59L10.3 9.45l-7.72 7.72c-.78.78-.78 2.05 0 2.83L4 21.41c.39.39.9.59 1.41.59.51 0 1.02-.2 1.41-.59l7.78-7.78 2.81-2.81c.8-.78.8-2.07 0-2.86zM5.41 20L4 18.59l7.72-7.72 1.47 1.35L5.41 20z\"/>\n",
              "  </svg>\n",
              "      </button>\n",
              "      \n",
              "  <style>\n",
              "    .colab-df-container {\n",
              "      display:flex;\n",
              "      flex-wrap:wrap;\n",
              "      gap: 12px;\n",
              "    }\n",
              "\n",
              "    .colab-df-convert {\n",
              "      background-color: #E8F0FE;\n",
              "      border: none;\n",
              "      border-radius: 50%;\n",
              "      cursor: pointer;\n",
              "      display: none;\n",
              "      fill: #1967D2;\n",
              "      height: 32px;\n",
              "      padding: 0 0 0 0;\n",
              "      width: 32px;\n",
              "    }\n",
              "\n",
              "    .colab-df-convert:hover {\n",
              "      background-color: #E2EBFA;\n",
              "      box-shadow: 0px 1px 2px rgba(60, 64, 67, 0.3), 0px 1px 3px 1px rgba(60, 64, 67, 0.15);\n",
              "      fill: #174EA6;\n",
              "    }\n",
              "\n",
              "    [theme=dark] .colab-df-convert {\n",
              "      background-color: #3B4455;\n",
              "      fill: #D2E3FC;\n",
              "    }\n",
              "\n",
              "    [theme=dark] .colab-df-convert:hover {\n",
              "      background-color: #434B5C;\n",
              "      box-shadow: 0px 1px 3px 1px rgba(0, 0, 0, 0.15);\n",
              "      filter: drop-shadow(0px 1px 2px rgba(0, 0, 0, 0.3));\n",
              "      fill: #FFFFFF;\n",
              "    }\n",
              "  </style>\n",
              "\n",
              "      <script>\n",
              "        const buttonEl =\n",
              "          document.querySelector('#df-b35d4478-360e-499e-b86b-1b36480d125f button.colab-df-convert');\n",
              "        buttonEl.style.display =\n",
              "          google.colab.kernel.accessAllowed ? 'block' : 'none';\n",
              "\n",
              "        async function convertToInteractive(key) {\n",
              "          const element = document.querySelector('#df-b35d4478-360e-499e-b86b-1b36480d125f');\n",
              "          const dataTable =\n",
              "            await google.colab.kernel.invokeFunction('convertToInteractive',\n",
              "                                                     [key], {});\n",
              "          if (!dataTable) return;\n",
              "\n",
              "          const docLinkHtml = 'Like what you see? Visit the ' +\n",
              "            '<a target=\"_blank\" href=https://colab.research.google.com/notebooks/data_table.ipynb>data table notebook</a>'\n",
              "            + ' to learn more about interactive tables.';\n",
              "          element.innerHTML = '';\n",
              "          dataTable['output_type'] = 'display_data';\n",
              "          await google.colab.output.renderOutput(dataTable, element);\n",
              "          const docLink = document.createElement('div');\n",
              "          docLink.innerHTML = docLinkHtml;\n",
              "          element.appendChild(docLink);\n",
              "        }\n",
              "      </script>\n",
              "    </div>\n",
              "  </div>\n",
              "  "
            ]
          },
          "metadata": {},
          "execution_count": 40
        }
      ]
    },
    {
      "cell_type": "code",
      "source": [
        "data.cov()"
      ],
      "metadata": {
        "colab": {
          "base_uri": "https://localhost:8080/",
          "height": 364
        },
        "id": "bhrTGbUnb3Gv",
        "outputId": "c7dbf919-8b79-48a2-e591-2afa2cdad1fb"
      },
      "execution_count": null,
      "outputs": [
        {
          "output_type": "execute_result",
          "data": {
            "text/plain": [
              "                        timestamp  AccelerationX  AccelerationY  \\\n",
              "timestamp            66559.372425      65.566287    -270.188887   \n",
              "AccelerationX           65.566287       4.480264      -0.053499   \n",
              "AccelerationY         -270.188887      -0.053499      15.911941   \n",
              "AccelerationZ         -396.166451       0.067607      10.727922   \n",
              "MagneticFieldX         662.578338     -12.710249     -16.079016   \n",
              "MagneticFieldY         504.459005       8.213158     -43.293370   \n",
              "MagneticFieldZ        1032.804451       6.843482     -50.173432   \n",
              "Z-AxisAgle(Azimuth)   2366.084949      -4.844401     -65.378372   \n",
              "X-AxisAngle(Pitch)    3099.403302     -10.765383    -149.850765   \n",
              "Y-AxisAngle(Roll)      322.928618      28.445142       0.671925   \n",
              "\n",
              "                     AccelerationZ  MagneticFieldX  MagneticFieldY  \\\n",
              "timestamp              -396.166451      662.578338      504.459005   \n",
              "AccelerationX             0.067607      -12.710249        8.213158   \n",
              "AccelerationY            10.727922      -16.079016      -43.293370   \n",
              "AccelerationZ            10.135773      -14.007086      -25.725465   \n",
              "MagneticFieldX          -14.007086      129.261883       10.276433   \n",
              "MagneticFieldY          -25.725465       10.276433      243.782060   \n",
              "MagneticFieldZ          -39.305055       21.486052      110.589951   \n",
              "Z-AxisAgle(Azimuth)     -56.812160      302.931305     -116.712687   \n",
              "X-AxisAngle(Pitch)     -110.421911      206.813069      385.412368   \n",
              "Y-AxisAngle(Roll)         1.512541      -89.471731       51.227025   \n",
              "\n",
              "                     MagneticFieldZ  Z-AxisAgle(Azimuth)  X-AxisAngle(Pitch)  \\\n",
              "timestamp               1032.804451          2366.084949         3099.403302   \n",
              "AccelerationX              6.843482            -4.844401          -10.765383   \n",
              "AccelerationY            -50.173432           -65.378372         -149.850765   \n",
              "AccelerationZ            -39.305055           -56.812160         -110.421911   \n",
              "MagneticFieldX            21.486052           302.931305          206.813069   \n",
              "MagneticFieldY           110.589951          -116.712687          385.412368   \n",
              "MagneticFieldZ           238.982550           212.507948          467.323776   \n",
              "Z-AxisAgle(Azimuth)      212.507948          3184.099360          662.896863   \n",
              "X-AxisAngle(Pitch)       467.323776           662.896863         1618.581511   \n",
              "Y-AxisAngle(Roll)         42.349521           -36.877528          -88.935539   \n",
              "\n",
              "                     Y-AxisAngle(Roll)  \n",
              "timestamp                   322.928618  \n",
              "AccelerationX                28.445142  \n",
              "AccelerationY                 0.671925  \n",
              "AccelerationZ                 1.512541  \n",
              "MagneticFieldX              -89.471731  \n",
              "MagneticFieldY               51.227025  \n",
              "MagneticFieldZ               42.349521  \n",
              "Z-AxisAgle(Azimuth)         -36.877528  \n",
              "X-AxisAngle(Pitch)          -88.935539  \n",
              "Y-AxisAngle(Roll)           194.756705  "
            ],
            "text/html": [
              "\n",
              "  <div id=\"df-42452a89-3b1f-433f-b093-128c2bb6acdb\">\n",
              "    <div class=\"colab-df-container\">\n",
              "      <div>\n",
              "<style scoped>\n",
              "    .dataframe tbody tr th:only-of-type {\n",
              "        vertical-align: middle;\n",
              "    }\n",
              "\n",
              "    .dataframe tbody tr th {\n",
              "        vertical-align: top;\n",
              "    }\n",
              "\n",
              "    .dataframe thead th {\n",
              "        text-align: right;\n",
              "    }\n",
              "</style>\n",
              "<table border=\"1\" class=\"dataframe\">\n",
              "  <thead>\n",
              "    <tr style=\"text-align: right;\">\n",
              "      <th></th>\n",
              "      <th>timestamp</th>\n",
              "      <th>AccelerationX</th>\n",
              "      <th>AccelerationY</th>\n",
              "      <th>AccelerationZ</th>\n",
              "      <th>MagneticFieldX</th>\n",
              "      <th>MagneticFieldY</th>\n",
              "      <th>MagneticFieldZ</th>\n",
              "      <th>Z-AxisAgle(Azimuth)</th>\n",
              "      <th>X-AxisAngle(Pitch)</th>\n",
              "      <th>Y-AxisAngle(Roll)</th>\n",
              "    </tr>\n",
              "  </thead>\n",
              "  <tbody>\n",
              "    <tr>\n",
              "      <th>timestamp</th>\n",
              "      <td>66559.372425</td>\n",
              "      <td>65.566287</td>\n",
              "      <td>-270.188887</td>\n",
              "      <td>-396.166451</td>\n",
              "      <td>662.578338</td>\n",
              "      <td>504.459005</td>\n",
              "      <td>1032.804451</td>\n",
              "      <td>2366.084949</td>\n",
              "      <td>3099.403302</td>\n",
              "      <td>322.928618</td>\n",
              "    </tr>\n",
              "    <tr>\n",
              "      <th>AccelerationX</th>\n",
              "      <td>65.566287</td>\n",
              "      <td>4.480264</td>\n",
              "      <td>-0.053499</td>\n",
              "      <td>0.067607</td>\n",
              "      <td>-12.710249</td>\n",
              "      <td>8.213158</td>\n",
              "      <td>6.843482</td>\n",
              "      <td>-4.844401</td>\n",
              "      <td>-10.765383</td>\n",
              "      <td>28.445142</td>\n",
              "    </tr>\n",
              "    <tr>\n",
              "      <th>AccelerationY</th>\n",
              "      <td>-270.188887</td>\n",
              "      <td>-0.053499</td>\n",
              "      <td>15.911941</td>\n",
              "      <td>10.727922</td>\n",
              "      <td>-16.079016</td>\n",
              "      <td>-43.293370</td>\n",
              "      <td>-50.173432</td>\n",
              "      <td>-65.378372</td>\n",
              "      <td>-149.850765</td>\n",
              "      <td>0.671925</td>\n",
              "    </tr>\n",
              "    <tr>\n",
              "      <th>AccelerationZ</th>\n",
              "      <td>-396.166451</td>\n",
              "      <td>0.067607</td>\n",
              "      <td>10.727922</td>\n",
              "      <td>10.135773</td>\n",
              "      <td>-14.007086</td>\n",
              "      <td>-25.725465</td>\n",
              "      <td>-39.305055</td>\n",
              "      <td>-56.812160</td>\n",
              "      <td>-110.421911</td>\n",
              "      <td>1.512541</td>\n",
              "    </tr>\n",
              "    <tr>\n",
              "      <th>MagneticFieldX</th>\n",
              "      <td>662.578338</td>\n",
              "      <td>-12.710249</td>\n",
              "      <td>-16.079016</td>\n",
              "      <td>-14.007086</td>\n",
              "      <td>129.261883</td>\n",
              "      <td>10.276433</td>\n",
              "      <td>21.486052</td>\n",
              "      <td>302.931305</td>\n",
              "      <td>206.813069</td>\n",
              "      <td>-89.471731</td>\n",
              "    </tr>\n",
              "    <tr>\n",
              "      <th>MagneticFieldY</th>\n",
              "      <td>504.459005</td>\n",
              "      <td>8.213158</td>\n",
              "      <td>-43.293370</td>\n",
              "      <td>-25.725465</td>\n",
              "      <td>10.276433</td>\n",
              "      <td>243.782060</td>\n",
              "      <td>110.589951</td>\n",
              "      <td>-116.712687</td>\n",
              "      <td>385.412368</td>\n",
              "      <td>51.227025</td>\n",
              "    </tr>\n",
              "    <tr>\n",
              "      <th>MagneticFieldZ</th>\n",
              "      <td>1032.804451</td>\n",
              "      <td>6.843482</td>\n",
              "      <td>-50.173432</td>\n",
              "      <td>-39.305055</td>\n",
              "      <td>21.486052</td>\n",
              "      <td>110.589951</td>\n",
              "      <td>238.982550</td>\n",
              "      <td>212.507948</td>\n",
              "      <td>467.323776</td>\n",
              "      <td>42.349521</td>\n",
              "    </tr>\n",
              "    <tr>\n",
              "      <th>Z-AxisAgle(Azimuth)</th>\n",
              "      <td>2366.084949</td>\n",
              "      <td>-4.844401</td>\n",
              "      <td>-65.378372</td>\n",
              "      <td>-56.812160</td>\n",
              "      <td>302.931305</td>\n",
              "      <td>-116.712687</td>\n",
              "      <td>212.507948</td>\n",
              "      <td>3184.099360</td>\n",
              "      <td>662.896863</td>\n",
              "      <td>-36.877528</td>\n",
              "    </tr>\n",
              "    <tr>\n",
              "      <th>X-AxisAngle(Pitch)</th>\n",
              "      <td>3099.403302</td>\n",
              "      <td>-10.765383</td>\n",
              "      <td>-149.850765</td>\n",
              "      <td>-110.421911</td>\n",
              "      <td>206.813069</td>\n",
              "      <td>385.412368</td>\n",
              "      <td>467.323776</td>\n",
              "      <td>662.896863</td>\n",
              "      <td>1618.581511</td>\n",
              "      <td>-88.935539</td>\n",
              "    </tr>\n",
              "    <tr>\n",
              "      <th>Y-AxisAngle(Roll)</th>\n",
              "      <td>322.928618</td>\n",
              "      <td>28.445142</td>\n",
              "      <td>0.671925</td>\n",
              "      <td>1.512541</td>\n",
              "      <td>-89.471731</td>\n",
              "      <td>51.227025</td>\n",
              "      <td>42.349521</td>\n",
              "      <td>-36.877528</td>\n",
              "      <td>-88.935539</td>\n",
              "      <td>194.756705</td>\n",
              "    </tr>\n",
              "  </tbody>\n",
              "</table>\n",
              "</div>\n",
              "      <button class=\"colab-df-convert\" onclick=\"convertToInteractive('df-42452a89-3b1f-433f-b093-128c2bb6acdb')\"\n",
              "              title=\"Convert this dataframe to an interactive table.\"\n",
              "              style=\"display:none;\">\n",
              "        \n",
              "  <svg xmlns=\"http://www.w3.org/2000/svg\" height=\"24px\"viewBox=\"0 0 24 24\"\n",
              "       width=\"24px\">\n",
              "    <path d=\"M0 0h24v24H0V0z\" fill=\"none\"/>\n",
              "    <path d=\"M18.56 5.44l.94 2.06.94-2.06 2.06-.94-2.06-.94-.94-2.06-.94 2.06-2.06.94zm-11 1L8.5 8.5l.94-2.06 2.06-.94-2.06-.94L8.5 2.5l-.94 2.06-2.06.94zm10 10l.94 2.06.94-2.06 2.06-.94-2.06-.94-.94-2.06-.94 2.06-2.06.94z\"/><path d=\"M17.41 7.96l-1.37-1.37c-.4-.4-.92-.59-1.43-.59-.52 0-1.04.2-1.43.59L10.3 9.45l-7.72 7.72c-.78.78-.78 2.05 0 2.83L4 21.41c.39.39.9.59 1.41.59.51 0 1.02-.2 1.41-.59l7.78-7.78 2.81-2.81c.8-.78.8-2.07 0-2.86zM5.41 20L4 18.59l7.72-7.72 1.47 1.35L5.41 20z\"/>\n",
              "  </svg>\n",
              "      </button>\n",
              "      \n",
              "  <style>\n",
              "    .colab-df-container {\n",
              "      display:flex;\n",
              "      flex-wrap:wrap;\n",
              "      gap: 12px;\n",
              "    }\n",
              "\n",
              "    .colab-df-convert {\n",
              "      background-color: #E8F0FE;\n",
              "      border: none;\n",
              "      border-radius: 50%;\n",
              "      cursor: pointer;\n",
              "      display: none;\n",
              "      fill: #1967D2;\n",
              "      height: 32px;\n",
              "      padding: 0 0 0 0;\n",
              "      width: 32px;\n",
              "    }\n",
              "\n",
              "    .colab-df-convert:hover {\n",
              "      background-color: #E2EBFA;\n",
              "      box-shadow: 0px 1px 2px rgba(60, 64, 67, 0.3), 0px 1px 3px 1px rgba(60, 64, 67, 0.15);\n",
              "      fill: #174EA6;\n",
              "    }\n",
              "\n",
              "    [theme=dark] .colab-df-convert {\n",
              "      background-color: #3B4455;\n",
              "      fill: #D2E3FC;\n",
              "    }\n",
              "\n",
              "    [theme=dark] .colab-df-convert:hover {\n",
              "      background-color: #434B5C;\n",
              "      box-shadow: 0px 1px 3px 1px rgba(0, 0, 0, 0.15);\n",
              "      filter: drop-shadow(0px 1px 2px rgba(0, 0, 0, 0.3));\n",
              "      fill: #FFFFFF;\n",
              "    }\n",
              "  </style>\n",
              "\n",
              "      <script>\n",
              "        const buttonEl =\n",
              "          document.querySelector('#df-42452a89-3b1f-433f-b093-128c2bb6acdb button.colab-df-convert');\n",
              "        buttonEl.style.display =\n",
              "          google.colab.kernel.accessAllowed ? 'block' : 'none';\n",
              "\n",
              "        async function convertToInteractive(key) {\n",
              "          const element = document.querySelector('#df-42452a89-3b1f-433f-b093-128c2bb6acdb');\n",
              "          const dataTable =\n",
              "            await google.colab.kernel.invokeFunction('convertToInteractive',\n",
              "                                                     [key], {});\n",
              "          if (!dataTable) return;\n",
              "\n",
              "          const docLinkHtml = 'Like what you see? Visit the ' +\n",
              "            '<a target=\"_blank\" href=https://colab.research.google.com/notebooks/data_table.ipynb>data table notebook</a>'\n",
              "            + ' to learn more about interactive tables.';\n",
              "          element.innerHTML = '';\n",
              "          dataTable['output_type'] = 'display_data';\n",
              "          await google.colab.output.renderOutput(dataTable, element);\n",
              "          const docLink = document.createElement('div');\n",
              "          docLink.innerHTML = docLinkHtml;\n",
              "          element.appendChild(docLink);\n",
              "        }\n",
              "      </script>\n",
              "    </div>\n",
              "  </div>\n",
              "  "
            ]
          },
          "metadata": {},
          "execution_count": 41
        }
      ]
    },
    {
      "cell_type": "code",
      "source": [
        "imputed.corr()"
      ],
      "metadata": {
        "colab": {
          "base_uri": "https://localhost:8080/",
          "height": 364
        },
        "id": "lvSDGSqecEN-",
        "outputId": "157d667d-c0d6-4eab-e2a0-0a6477792fee"
      },
      "execution_count": null,
      "outputs": [
        {
          "output_type": "execute_result",
          "data": {
            "text/plain": [
              "                     timestamp  AccelerationX  AccelerationY  AccelerationZ  \\\n",
              "timestamp             1.000000       0.119989      -0.262405      -0.479322   \n",
              "AccelerationX         0.119989       1.000000      -0.006525       0.009839   \n",
              "AccelerationY        -0.262405      -0.006525       1.000000       0.844811   \n",
              "AccelerationZ        -0.479322       0.009839       0.844811       1.000000   \n",
              "MagneticFieldX        0.223439      -0.528111      -0.354521      -0.386951   \n",
              "MagneticFieldY        0.125784       0.248610      -0.695187      -0.517651   \n",
              "MagneticFieldZ        0.258405       0.209264      -0.813698      -0.798684   \n",
              "Z-AxisAgle(Azimuth)   0.161417      -0.040500      -0.290515      -0.316296   \n",
              "X-AxisAngle(Pitch)    0.296220      -0.126323      -0.933700      -0.862073   \n",
              "Y-AxisAngle(Roll)])   0.089788       0.962966       0.011906       0.033873   \n",
              "\n",
              "                     MagneticFieldX  MagneticFieldY  MagneticFieldZ  \\\n",
              "timestamp                  0.223439        0.125784        0.258405   \n",
              "AccelerationX             -0.528111        0.248610        0.209264   \n",
              "AccelerationY             -0.354521       -0.695187       -0.813698   \n",
              "AccelerationZ             -0.386951       -0.517651       -0.798684   \n",
              "MagneticFieldX             1.000000        0.057924        0.122278   \n",
              "MagneticFieldY             0.057924        1.000000        0.458302   \n",
              "MagneticFieldZ             0.122278        0.458302        1.000000   \n",
              "Z-AxisAgle(Azimuth)        0.472196       -0.132373        0.243678   \n",
              "X-AxisAngle(Pitch)         0.452148        0.613603        0.751407   \n",
              "Y-AxisAngle(Roll)])       -0.563861        0.235177        0.196401   \n",
              "\n",
              "                     Z-AxisAgle(Azimuth)  X-AxisAngle(Pitch)  \\\n",
              "timestamp                       0.161417            0.296220   \n",
              "AccelerationX                  -0.040500           -0.126323   \n",
              "AccelerationY                  -0.290515           -0.933700   \n",
              "AccelerationZ                  -0.316296           -0.862073   \n",
              "MagneticFieldX                  0.472196            0.452148   \n",
              "MagneticFieldY                 -0.132373            0.613603   \n",
              "MagneticFieldZ                  0.243678            0.751407   \n",
              "Z-AxisAgle(Azimuth)             1.000000            0.292040   \n",
              "X-AxisAngle(Pitch)              0.292040            1.000000   \n",
              "Y-AxisAngle(Roll)])            -0.046779           -0.158319   \n",
              "\n",
              "                     Y-AxisAngle(Roll)])  \n",
              "timestamp                       0.089788  \n",
              "AccelerationX                   0.962966  \n",
              "AccelerationY                   0.011906  \n",
              "AccelerationZ                   0.033873  \n",
              "MagneticFieldX                 -0.563861  \n",
              "MagneticFieldY                  0.235177  \n",
              "MagneticFieldZ                  0.196401  \n",
              "Z-AxisAgle(Azimuth)            -0.046779  \n",
              "X-AxisAngle(Pitch)             -0.158319  \n",
              "Y-AxisAngle(Roll)])             1.000000  "
            ],
            "text/html": [
              "\n",
              "  <div id=\"df-387e9d7c-ac5a-424b-9f0f-294b4eeb92a8\">\n",
              "    <div class=\"colab-df-container\">\n",
              "      <div>\n",
              "<style scoped>\n",
              "    .dataframe tbody tr th:only-of-type {\n",
              "        vertical-align: middle;\n",
              "    }\n",
              "\n",
              "    .dataframe tbody tr th {\n",
              "        vertical-align: top;\n",
              "    }\n",
              "\n",
              "    .dataframe thead th {\n",
              "        text-align: right;\n",
              "    }\n",
              "</style>\n",
              "<table border=\"1\" class=\"dataframe\">\n",
              "  <thead>\n",
              "    <tr style=\"text-align: right;\">\n",
              "      <th></th>\n",
              "      <th>timestamp</th>\n",
              "      <th>AccelerationX</th>\n",
              "      <th>AccelerationY</th>\n",
              "      <th>AccelerationZ</th>\n",
              "      <th>MagneticFieldX</th>\n",
              "      <th>MagneticFieldY</th>\n",
              "      <th>MagneticFieldZ</th>\n",
              "      <th>Z-AxisAgle(Azimuth)</th>\n",
              "      <th>X-AxisAngle(Pitch)</th>\n",
              "      <th>Y-AxisAngle(Roll)])</th>\n",
              "    </tr>\n",
              "  </thead>\n",
              "  <tbody>\n",
              "    <tr>\n",
              "      <th>timestamp</th>\n",
              "      <td>1.000000</td>\n",
              "      <td>0.119989</td>\n",
              "      <td>-0.262405</td>\n",
              "      <td>-0.479322</td>\n",
              "      <td>0.223439</td>\n",
              "      <td>0.125784</td>\n",
              "      <td>0.258405</td>\n",
              "      <td>0.161417</td>\n",
              "      <td>0.296220</td>\n",
              "      <td>0.089788</td>\n",
              "    </tr>\n",
              "    <tr>\n",
              "      <th>AccelerationX</th>\n",
              "      <td>0.119989</td>\n",
              "      <td>1.000000</td>\n",
              "      <td>-0.006525</td>\n",
              "      <td>0.009839</td>\n",
              "      <td>-0.528111</td>\n",
              "      <td>0.248610</td>\n",
              "      <td>0.209264</td>\n",
              "      <td>-0.040500</td>\n",
              "      <td>-0.126323</td>\n",
              "      <td>0.962966</td>\n",
              "    </tr>\n",
              "    <tr>\n",
              "      <th>AccelerationY</th>\n",
              "      <td>-0.262405</td>\n",
              "      <td>-0.006525</td>\n",
              "      <td>1.000000</td>\n",
              "      <td>0.844811</td>\n",
              "      <td>-0.354521</td>\n",
              "      <td>-0.695187</td>\n",
              "      <td>-0.813698</td>\n",
              "      <td>-0.290515</td>\n",
              "      <td>-0.933700</td>\n",
              "      <td>0.011906</td>\n",
              "    </tr>\n",
              "    <tr>\n",
              "      <th>AccelerationZ</th>\n",
              "      <td>-0.479322</td>\n",
              "      <td>0.009839</td>\n",
              "      <td>0.844811</td>\n",
              "      <td>1.000000</td>\n",
              "      <td>-0.386951</td>\n",
              "      <td>-0.517651</td>\n",
              "      <td>-0.798684</td>\n",
              "      <td>-0.316296</td>\n",
              "      <td>-0.862073</td>\n",
              "      <td>0.033873</td>\n",
              "    </tr>\n",
              "    <tr>\n",
              "      <th>MagneticFieldX</th>\n",
              "      <td>0.223439</td>\n",
              "      <td>-0.528111</td>\n",
              "      <td>-0.354521</td>\n",
              "      <td>-0.386951</td>\n",
              "      <td>1.000000</td>\n",
              "      <td>0.057924</td>\n",
              "      <td>0.122278</td>\n",
              "      <td>0.472196</td>\n",
              "      <td>0.452148</td>\n",
              "      <td>-0.563861</td>\n",
              "    </tr>\n",
              "    <tr>\n",
              "      <th>MagneticFieldY</th>\n",
              "      <td>0.125784</td>\n",
              "      <td>0.248610</td>\n",
              "      <td>-0.695187</td>\n",
              "      <td>-0.517651</td>\n",
              "      <td>0.057924</td>\n",
              "      <td>1.000000</td>\n",
              "      <td>0.458302</td>\n",
              "      <td>-0.132373</td>\n",
              "      <td>0.613603</td>\n",
              "      <td>0.235177</td>\n",
              "    </tr>\n",
              "    <tr>\n",
              "      <th>MagneticFieldZ</th>\n",
              "      <td>0.258405</td>\n",
              "      <td>0.209264</td>\n",
              "      <td>-0.813698</td>\n",
              "      <td>-0.798684</td>\n",
              "      <td>0.122278</td>\n",
              "      <td>0.458302</td>\n",
              "      <td>1.000000</td>\n",
              "      <td>0.243678</td>\n",
              "      <td>0.751407</td>\n",
              "      <td>0.196401</td>\n",
              "    </tr>\n",
              "    <tr>\n",
              "      <th>Z-AxisAgle(Azimuth)</th>\n",
              "      <td>0.161417</td>\n",
              "      <td>-0.040500</td>\n",
              "      <td>-0.290515</td>\n",
              "      <td>-0.316296</td>\n",
              "      <td>0.472196</td>\n",
              "      <td>-0.132373</td>\n",
              "      <td>0.243678</td>\n",
              "      <td>1.000000</td>\n",
              "      <td>0.292040</td>\n",
              "      <td>-0.046779</td>\n",
              "    </tr>\n",
              "    <tr>\n",
              "      <th>X-AxisAngle(Pitch)</th>\n",
              "      <td>0.296220</td>\n",
              "      <td>-0.126323</td>\n",
              "      <td>-0.933700</td>\n",
              "      <td>-0.862073</td>\n",
              "      <td>0.452148</td>\n",
              "      <td>0.613603</td>\n",
              "      <td>0.751407</td>\n",
              "      <td>0.292040</td>\n",
              "      <td>1.000000</td>\n",
              "      <td>-0.158319</td>\n",
              "    </tr>\n",
              "    <tr>\n",
              "      <th>Y-AxisAngle(Roll)])</th>\n",
              "      <td>0.089788</td>\n",
              "      <td>0.962966</td>\n",
              "      <td>0.011906</td>\n",
              "      <td>0.033873</td>\n",
              "      <td>-0.563861</td>\n",
              "      <td>0.235177</td>\n",
              "      <td>0.196401</td>\n",
              "      <td>-0.046779</td>\n",
              "      <td>-0.158319</td>\n",
              "      <td>1.000000</td>\n",
              "    </tr>\n",
              "  </tbody>\n",
              "</table>\n",
              "</div>\n",
              "      <button class=\"colab-df-convert\" onclick=\"convertToInteractive('df-387e9d7c-ac5a-424b-9f0f-294b4eeb92a8')\"\n",
              "              title=\"Convert this dataframe to an interactive table.\"\n",
              "              style=\"display:none;\">\n",
              "        \n",
              "  <svg xmlns=\"http://www.w3.org/2000/svg\" height=\"24px\"viewBox=\"0 0 24 24\"\n",
              "       width=\"24px\">\n",
              "    <path d=\"M0 0h24v24H0V0z\" fill=\"none\"/>\n",
              "    <path d=\"M18.56 5.44l.94 2.06.94-2.06 2.06-.94-2.06-.94-.94-2.06-.94 2.06-2.06.94zm-11 1L8.5 8.5l.94-2.06 2.06-.94-2.06-.94L8.5 2.5l-.94 2.06-2.06.94zm10 10l.94 2.06.94-2.06 2.06-.94-2.06-.94-.94-2.06-.94 2.06-2.06.94z\"/><path d=\"M17.41 7.96l-1.37-1.37c-.4-.4-.92-.59-1.43-.59-.52 0-1.04.2-1.43.59L10.3 9.45l-7.72 7.72c-.78.78-.78 2.05 0 2.83L4 21.41c.39.39.9.59 1.41.59.51 0 1.02-.2 1.41-.59l7.78-7.78 2.81-2.81c.8-.78.8-2.07 0-2.86zM5.41 20L4 18.59l7.72-7.72 1.47 1.35L5.41 20z\"/>\n",
              "  </svg>\n",
              "      </button>\n",
              "      \n",
              "  <style>\n",
              "    .colab-df-container {\n",
              "      display:flex;\n",
              "      flex-wrap:wrap;\n",
              "      gap: 12px;\n",
              "    }\n",
              "\n",
              "    .colab-df-convert {\n",
              "      background-color: #E8F0FE;\n",
              "      border: none;\n",
              "      border-radius: 50%;\n",
              "      cursor: pointer;\n",
              "      display: none;\n",
              "      fill: #1967D2;\n",
              "      height: 32px;\n",
              "      padding: 0 0 0 0;\n",
              "      width: 32px;\n",
              "    }\n",
              "\n",
              "    .colab-df-convert:hover {\n",
              "      background-color: #E2EBFA;\n",
              "      box-shadow: 0px 1px 2px rgba(60, 64, 67, 0.3), 0px 1px 3px 1px rgba(60, 64, 67, 0.15);\n",
              "      fill: #174EA6;\n",
              "    }\n",
              "\n",
              "    [theme=dark] .colab-df-convert {\n",
              "      background-color: #3B4455;\n",
              "      fill: #D2E3FC;\n",
              "    }\n",
              "\n",
              "    [theme=dark] .colab-df-convert:hover {\n",
              "      background-color: #434B5C;\n",
              "      box-shadow: 0px 1px 3px 1px rgba(0, 0, 0, 0.15);\n",
              "      filter: drop-shadow(0px 1px 2px rgba(0, 0, 0, 0.3));\n",
              "      fill: #FFFFFF;\n",
              "    }\n",
              "  </style>\n",
              "\n",
              "      <script>\n",
              "        const buttonEl =\n",
              "          document.querySelector('#df-387e9d7c-ac5a-424b-9f0f-294b4eeb92a8 button.colab-df-convert');\n",
              "        buttonEl.style.display =\n",
              "          google.colab.kernel.accessAllowed ? 'block' : 'none';\n",
              "\n",
              "        async function convertToInteractive(key) {\n",
              "          const element = document.querySelector('#df-387e9d7c-ac5a-424b-9f0f-294b4eeb92a8');\n",
              "          const dataTable =\n",
              "            await google.colab.kernel.invokeFunction('convertToInteractive',\n",
              "                                                     [key], {});\n",
              "          if (!dataTable) return;\n",
              "\n",
              "          const docLinkHtml = 'Like what you see? Visit the ' +\n",
              "            '<a target=\"_blank\" href=https://colab.research.google.com/notebooks/data_table.ipynb>data table notebook</a>'\n",
              "            + ' to learn more about interactive tables.';\n",
              "          element.innerHTML = '';\n",
              "          dataTable['output_type'] = 'display_data';\n",
              "          await google.colab.output.renderOutput(dataTable, element);\n",
              "          const docLink = document.createElement('div');\n",
              "          docLink.innerHTML = docLinkHtml;\n",
              "          element.appendChild(docLink);\n",
              "        }\n",
              "      </script>\n",
              "    </div>\n",
              "  </div>\n",
              "  "
            ]
          },
          "metadata": {},
          "execution_count": 24
        }
      ]
    },
    {
      "cell_type": "code",
      "source": [
        "data.corr()"
      ],
      "metadata": {
        "colab": {
          "base_uri": "https://localhost:8080/",
          "height": 364
        },
        "id": "O4NlG2XzcLd7",
        "outputId": "9b1da4dc-0939-4b6f-d28c-c2c62e9b19b3"
      },
      "execution_count": null,
      "outputs": [
        {
          "output_type": "execute_result",
          "data": {
            "text/plain": [
              "                     timestamp  AccelerationX  AccelerationY  AccelerationZ  \\\n",
              "timestamp             1.000000       0.120067      -0.262544      -0.482330   \n",
              "AccelerationX         0.120067       1.000000      -0.006336       0.010033   \n",
              "AccelerationY        -0.262544      -0.006336       1.000000       0.844745   \n",
              "AccelerationZ        -0.482330       0.010033       0.844745       1.000000   \n",
              "MagneticFieldX        0.225890      -0.528162      -0.354538      -0.386976   \n",
              "MagneticFieldY        0.125233       0.248518      -0.695119      -0.517528   \n",
              "MagneticFieldZ        0.258959       0.209142      -0.813634      -0.798614   \n",
              "Z-AxisAgle(Azimuth)   0.162530      -0.040560      -0.290455      -0.316242   \n",
              "X-AxisAngle(Pitch)    0.298611      -0.126418      -0.933749      -0.862104   \n",
              "Y-AxisAngle(Roll)     0.089692       0.962964       0.012070       0.034043   \n",
              "\n",
              "                     MagneticFieldX  MagneticFieldY  MagneticFieldZ  \\\n",
              "timestamp                  0.225890        0.125233        0.258959   \n",
              "AccelerationX             -0.528162        0.248518        0.209142   \n",
              "AccelerationY             -0.354538       -0.695119       -0.813634   \n",
              "AccelerationZ             -0.386976       -0.517528       -0.798614   \n",
              "MagneticFieldX             1.000000        0.057890        0.122247   \n",
              "MagneticFieldY             0.057890        1.000000        0.458175   \n",
              "MagneticFieldZ             0.122247        0.458175        1.000000   \n",
              "Z-AxisAgle(Azimuth)        0.472189       -0.132472        0.243612   \n",
              "X-AxisAngle(Pitch)         0.452143        0.613561        0.751394   \n",
              "Y-AxisAngle(Roll)         -0.563903        0.235100        0.196300   \n",
              "\n",
              "                     Z-AxisAgle(Azimuth)  X-AxisAngle(Pitch)  \\\n",
              "timestamp                       0.162530            0.298611   \n",
              "AccelerationX                  -0.040560           -0.126418   \n",
              "AccelerationY                  -0.290455           -0.933749   \n",
              "AccelerationZ                  -0.316242           -0.862104   \n",
              "MagneticFieldX                  0.472189            0.452143   \n",
              "MagneticFieldY                 -0.132472            0.613561   \n",
              "MagneticFieldZ                  0.243612            0.751394   \n",
              "Z-AxisAgle(Azimuth)             1.000000            0.292002   \n",
              "X-AxisAngle(Pitch)              0.292002            1.000000   \n",
              "Y-AxisAngle(Roll)              -0.046830           -0.158402   \n",
              "\n",
              "                     Y-AxisAngle(Roll)  \n",
              "timestamp                     0.089692  \n",
              "AccelerationX                 0.962964  \n",
              "AccelerationY                 0.012070  \n",
              "AccelerationZ                 0.034043  \n",
              "MagneticFieldX               -0.563903  \n",
              "MagneticFieldY                0.235100  \n",
              "MagneticFieldZ                0.196300  \n",
              "Z-AxisAgle(Azimuth)          -0.046830  \n",
              "X-AxisAngle(Pitch)           -0.158402  \n",
              "Y-AxisAngle(Roll)             1.000000  "
            ],
            "text/html": [
              "\n",
              "  <div id=\"df-dddedc8a-6ddc-4222-901b-23376143dfe8\">\n",
              "    <div class=\"colab-df-container\">\n",
              "      <div>\n",
              "<style scoped>\n",
              "    .dataframe tbody tr th:only-of-type {\n",
              "        vertical-align: middle;\n",
              "    }\n",
              "\n",
              "    .dataframe tbody tr th {\n",
              "        vertical-align: top;\n",
              "    }\n",
              "\n",
              "    .dataframe thead th {\n",
              "        text-align: right;\n",
              "    }\n",
              "</style>\n",
              "<table border=\"1\" class=\"dataframe\">\n",
              "  <thead>\n",
              "    <tr style=\"text-align: right;\">\n",
              "      <th></th>\n",
              "      <th>timestamp</th>\n",
              "      <th>AccelerationX</th>\n",
              "      <th>AccelerationY</th>\n",
              "      <th>AccelerationZ</th>\n",
              "      <th>MagneticFieldX</th>\n",
              "      <th>MagneticFieldY</th>\n",
              "      <th>MagneticFieldZ</th>\n",
              "      <th>Z-AxisAgle(Azimuth)</th>\n",
              "      <th>X-AxisAngle(Pitch)</th>\n",
              "      <th>Y-AxisAngle(Roll)</th>\n",
              "    </tr>\n",
              "  </thead>\n",
              "  <tbody>\n",
              "    <tr>\n",
              "      <th>timestamp</th>\n",
              "      <td>1.000000</td>\n",
              "      <td>0.120067</td>\n",
              "      <td>-0.262544</td>\n",
              "      <td>-0.482330</td>\n",
              "      <td>0.225890</td>\n",
              "      <td>0.125233</td>\n",
              "      <td>0.258959</td>\n",
              "      <td>0.162530</td>\n",
              "      <td>0.298611</td>\n",
              "      <td>0.089692</td>\n",
              "    </tr>\n",
              "    <tr>\n",
              "      <th>AccelerationX</th>\n",
              "      <td>0.120067</td>\n",
              "      <td>1.000000</td>\n",
              "      <td>-0.006336</td>\n",
              "      <td>0.010033</td>\n",
              "      <td>-0.528162</td>\n",
              "      <td>0.248518</td>\n",
              "      <td>0.209142</td>\n",
              "      <td>-0.040560</td>\n",
              "      <td>-0.126418</td>\n",
              "      <td>0.962964</td>\n",
              "    </tr>\n",
              "    <tr>\n",
              "      <th>AccelerationY</th>\n",
              "      <td>-0.262544</td>\n",
              "      <td>-0.006336</td>\n",
              "      <td>1.000000</td>\n",
              "      <td>0.844745</td>\n",
              "      <td>-0.354538</td>\n",
              "      <td>-0.695119</td>\n",
              "      <td>-0.813634</td>\n",
              "      <td>-0.290455</td>\n",
              "      <td>-0.933749</td>\n",
              "      <td>0.012070</td>\n",
              "    </tr>\n",
              "    <tr>\n",
              "      <th>AccelerationZ</th>\n",
              "      <td>-0.482330</td>\n",
              "      <td>0.010033</td>\n",
              "      <td>0.844745</td>\n",
              "      <td>1.000000</td>\n",
              "      <td>-0.386976</td>\n",
              "      <td>-0.517528</td>\n",
              "      <td>-0.798614</td>\n",
              "      <td>-0.316242</td>\n",
              "      <td>-0.862104</td>\n",
              "      <td>0.034043</td>\n",
              "    </tr>\n",
              "    <tr>\n",
              "      <th>MagneticFieldX</th>\n",
              "      <td>0.225890</td>\n",
              "      <td>-0.528162</td>\n",
              "      <td>-0.354538</td>\n",
              "      <td>-0.386976</td>\n",
              "      <td>1.000000</td>\n",
              "      <td>0.057890</td>\n",
              "      <td>0.122247</td>\n",
              "      <td>0.472189</td>\n",
              "      <td>0.452143</td>\n",
              "      <td>-0.563903</td>\n",
              "    </tr>\n",
              "    <tr>\n",
              "      <th>MagneticFieldY</th>\n",
              "      <td>0.125233</td>\n",
              "      <td>0.248518</td>\n",
              "      <td>-0.695119</td>\n",
              "      <td>-0.517528</td>\n",
              "      <td>0.057890</td>\n",
              "      <td>1.000000</td>\n",
              "      <td>0.458175</td>\n",
              "      <td>-0.132472</td>\n",
              "      <td>0.613561</td>\n",
              "      <td>0.235100</td>\n",
              "    </tr>\n",
              "    <tr>\n",
              "      <th>MagneticFieldZ</th>\n",
              "      <td>0.258959</td>\n",
              "      <td>0.209142</td>\n",
              "      <td>-0.813634</td>\n",
              "      <td>-0.798614</td>\n",
              "      <td>0.122247</td>\n",
              "      <td>0.458175</td>\n",
              "      <td>1.000000</td>\n",
              "      <td>0.243612</td>\n",
              "      <td>0.751394</td>\n",
              "      <td>0.196300</td>\n",
              "    </tr>\n",
              "    <tr>\n",
              "      <th>Z-AxisAgle(Azimuth)</th>\n",
              "      <td>0.162530</td>\n",
              "      <td>-0.040560</td>\n",
              "      <td>-0.290455</td>\n",
              "      <td>-0.316242</td>\n",
              "      <td>0.472189</td>\n",
              "      <td>-0.132472</td>\n",
              "      <td>0.243612</td>\n",
              "      <td>1.000000</td>\n",
              "      <td>0.292002</td>\n",
              "      <td>-0.046830</td>\n",
              "    </tr>\n",
              "    <tr>\n",
              "      <th>X-AxisAngle(Pitch)</th>\n",
              "      <td>0.298611</td>\n",
              "      <td>-0.126418</td>\n",
              "      <td>-0.933749</td>\n",
              "      <td>-0.862104</td>\n",
              "      <td>0.452143</td>\n",
              "      <td>0.613561</td>\n",
              "      <td>0.751394</td>\n",
              "      <td>0.292002</td>\n",
              "      <td>1.000000</td>\n",
              "      <td>-0.158402</td>\n",
              "    </tr>\n",
              "    <tr>\n",
              "      <th>Y-AxisAngle(Roll)</th>\n",
              "      <td>0.089692</td>\n",
              "      <td>0.962964</td>\n",
              "      <td>0.012070</td>\n",
              "      <td>0.034043</td>\n",
              "      <td>-0.563903</td>\n",
              "      <td>0.235100</td>\n",
              "      <td>0.196300</td>\n",
              "      <td>-0.046830</td>\n",
              "      <td>-0.158402</td>\n",
              "      <td>1.000000</td>\n",
              "    </tr>\n",
              "  </tbody>\n",
              "</table>\n",
              "</div>\n",
              "      <button class=\"colab-df-convert\" onclick=\"convertToInteractive('df-dddedc8a-6ddc-4222-901b-23376143dfe8')\"\n",
              "              title=\"Convert this dataframe to an interactive table.\"\n",
              "              style=\"display:none;\">\n",
              "        \n",
              "  <svg xmlns=\"http://www.w3.org/2000/svg\" height=\"24px\"viewBox=\"0 0 24 24\"\n",
              "       width=\"24px\">\n",
              "    <path d=\"M0 0h24v24H0V0z\" fill=\"none\"/>\n",
              "    <path d=\"M18.56 5.44l.94 2.06.94-2.06 2.06-.94-2.06-.94-.94-2.06-.94 2.06-2.06.94zm-11 1L8.5 8.5l.94-2.06 2.06-.94-2.06-.94L8.5 2.5l-.94 2.06-2.06.94zm10 10l.94 2.06.94-2.06 2.06-.94-2.06-.94-.94-2.06-.94 2.06-2.06.94z\"/><path d=\"M17.41 7.96l-1.37-1.37c-.4-.4-.92-.59-1.43-.59-.52 0-1.04.2-1.43.59L10.3 9.45l-7.72 7.72c-.78.78-.78 2.05 0 2.83L4 21.41c.39.39.9.59 1.41.59.51 0 1.02-.2 1.41-.59l7.78-7.78 2.81-2.81c.8-.78.8-2.07 0-2.86zM5.41 20L4 18.59l7.72-7.72 1.47 1.35L5.41 20z\"/>\n",
              "  </svg>\n",
              "      </button>\n",
              "      \n",
              "  <style>\n",
              "    .colab-df-container {\n",
              "      display:flex;\n",
              "      flex-wrap:wrap;\n",
              "      gap: 12px;\n",
              "    }\n",
              "\n",
              "    .colab-df-convert {\n",
              "      background-color: #E8F0FE;\n",
              "      border: none;\n",
              "      border-radius: 50%;\n",
              "      cursor: pointer;\n",
              "      display: none;\n",
              "      fill: #1967D2;\n",
              "      height: 32px;\n",
              "      padding: 0 0 0 0;\n",
              "      width: 32px;\n",
              "    }\n",
              "\n",
              "    .colab-df-convert:hover {\n",
              "      background-color: #E2EBFA;\n",
              "      box-shadow: 0px 1px 2px rgba(60, 64, 67, 0.3), 0px 1px 3px 1px rgba(60, 64, 67, 0.15);\n",
              "      fill: #174EA6;\n",
              "    }\n",
              "\n",
              "    [theme=dark] .colab-df-convert {\n",
              "      background-color: #3B4455;\n",
              "      fill: #D2E3FC;\n",
              "    }\n",
              "\n",
              "    [theme=dark] .colab-df-convert:hover {\n",
              "      background-color: #434B5C;\n",
              "      box-shadow: 0px 1px 3px 1px rgba(0, 0, 0, 0.15);\n",
              "      filter: drop-shadow(0px 1px 2px rgba(0, 0, 0, 0.3));\n",
              "      fill: #FFFFFF;\n",
              "    }\n",
              "  </style>\n",
              "\n",
              "      <script>\n",
              "        const buttonEl =\n",
              "          document.querySelector('#df-dddedc8a-6ddc-4222-901b-23376143dfe8 button.colab-df-convert');\n",
              "        buttonEl.style.display =\n",
              "          google.colab.kernel.accessAllowed ? 'block' : 'none';\n",
              "\n",
              "        async function convertToInteractive(key) {\n",
              "          const element = document.querySelector('#df-dddedc8a-6ddc-4222-901b-23376143dfe8');\n",
              "          const dataTable =\n",
              "            await google.colab.kernel.invokeFunction('convertToInteractive',\n",
              "                                                     [key], {});\n",
              "          if (!dataTable) return;\n",
              "\n",
              "          const docLinkHtml = 'Like what you see? Visit the ' +\n",
              "            '<a target=\"_blank\" href=https://colab.research.google.com/notebooks/data_table.ipynb>data table notebook</a>'\n",
              "            + ' to learn more about interactive tables.';\n",
              "          element.innerHTML = '';\n",
              "          dataTable['output_type'] = 'display_data';\n",
              "          await google.colab.output.renderOutput(dataTable, element);\n",
              "          const docLink = document.createElement('div');\n",
              "          docLink.innerHTML = docLinkHtml;\n",
              "          element.appendChild(docLink);\n",
              "        }\n",
              "      </script>\n",
              "    </div>\n",
              "  </div>\n",
              "  "
            ]
          },
          "metadata": {},
          "execution_count": 25
        }
      ]
    },
    {
      "cell_type": "markdown",
      "metadata": {
        "id": "VMAAQZdqmmIk"
      },
      "source": [
        "#Generating missing values- another way\n",
        "The mechanisms generating missing values can be various but usually they are classified into three main categories defined by (Rubin 1976): missing completely at random (MCAR), missing at random (MAR) and missing not at random (MNAR). The first two are also qualified as ignorable missing values mechanisms, for instance in likelihood-based approaches to handle missing values, whereas the MNAR mechanism generates nonignorable missing values. \n",
        "Code is derived from https://github.com/BorisMuzellec/MissingDataOT"
      ]
    },
    {
      "cell_type": "markdown",
      "metadata": {
        "id": "MCKHwqghgOMC"
      },
      "source": [
        "\n",
        "###MCAR\n",
        "\n",
        "Missing Completely At Random values are generated using only the desired proportion of missing values p_miss, i.e. each value have the same probability p_miss of being missing. Therefore, we generate missing values using a Bernoulli distribution of parameter p_miss.\n"
      ]
    },
    {
      "cell_type": "code",
      "execution_count": null,
      "metadata": {
        "id": "v9dn5KAQWT0w",
        "colab": {
          "base_uri": "https://localhost:8080/"
        },
        "outputId": "c8f80245-fd03-4127-a9af-28afc171a749"
      },
      "outputs": [
        {
          "output_type": "stream",
          "name": "stdout",
          "text": [
            "Collecting utils\n",
            "  Downloading utils-1.0.1-py2.py3-none-any.whl (21 kB)\n",
            "Installing collected packages: utils\n",
            "Successfully installed utils-1.0.1\n"
          ]
        }
      ],
      "source": [
        "!pip install utils"
      ]
    },
    {
      "cell_type": "code",
      "execution_count": null,
      "metadata": {
        "id": "BDWnS1p1WDlp"
      },
      "outputs": [],
      "source": [
        "import torch\n",
        "from utils import *\n",
        "import tensorflow as tensor"
      ]
    },
    {
      "cell_type": "code",
      "execution_count": null,
      "metadata": {
        "id": "9RRFs28rXDna"
      },
      "outputs": [],
      "source": [
        "X = data\n",
        "timestamp = X[\"timestamp\"]#saving the timestamp column\n",
        "X=X.drop(columns=[\"timestamp\" , \"GyroX\" , \"GyroY\" ,\"GyroZ\"], axis=1) #assuming that timestamps are not missing! and deleting constant columns"
      ]
    },
    {
      "cell_type": "code",
      "execution_count": null,
      "metadata": {
        "id": "eiyT7zp6dtJ5"
      },
      "outputs": [],
      "source": [
        "X"
      ]
    },
    {
      "cell_type": "code",
      "execution_count": null,
      "metadata": {
        "id": "scCZeYZPYAcP"
      },
      "outputs": [],
      "source": [
        "import math\n"
      ]
    },
    {
      "cell_type": "code",
      "execution_count": null,
      "metadata": {
        "id": "X8AzkOcVWv5X"
      },
      "outputs": [],
      "source": [
        "Xtr = torch.as_tensor(np.array(X).astype('float')) #convert to tensor object to prepare for the function\n",
        "Xtr"
      ]
    },
    {
      "cell_type": "code",
      "execution_count": null,
      "metadata": {
        "id": "RJoTWz__QWhQ"
      },
      "outputs": [],
      "source": [
        "#X: the initial data (can be only complete for now) as a matrix or data.frame\n",
        "#p_miss: proportion of missing values to generate for variables which will have missing values\n",
        "#mecha: one of \"MCAR\", \"MAR\", \"MNAR\" (default: “MCAR”)\n",
        "\n",
        "def produce_NA(X, p_miss, mecha=\"MCAR\", opt=None, p_obs=None, q=None):    \n",
        "    to_torch = torch.is_tensor(X) ## output a pytorch tensor, or a numpy array\n",
        "    if not to_torch:\n",
        "        X = X.astype(np.float32)\n",
        "        X = torch.from_numpy(X)\n",
        "    \n",
        "    if mecha == \"MAR\":\n",
        "        mask = MAR_mask(X, p_miss, p_obs).double()\n",
        "    elif mecha == \"MNAR\" and opt == \"logistic\":\n",
        "        mask = MNAR_mask_logistic(X, p_miss, p_obs).double()\n",
        "    elif mecha == \"MNAR\" and opt == \"quantile\":\n",
        "        mask = MNAR_mask_quantiles(X, p_miss, q, 1-p_obs).double()\n",
        "    elif mecha == \"MNAR\" and opt == \"selfmasked\":\n",
        "        mask = MNAR_self_mask_logistic(X, p_miss).double()\n",
        "    else:\n",
        "        mask = (torch.rand(X.shape) < p_miss).double()\n",
        "    \n",
        "    X_nas = X.clone()\n",
        "    X_nas[mask.bool()] = np.nan\n",
        "    \n",
        "    return {'X_init': X.double(), 'X_incomp': X_nas.double(), 'mask': mask}\n",
        "#X_init: the initial data\n",
        "#X_incomp: the data with the newly generated missing values\n",
        "#mask: a matrix indexing the generated missing values"
      ]
    },
    {
      "cell_type": "code",
      "execution_count": null,
      "metadata": {
        "id": "HDeBDOqUR9q4"
      },
      "outputs": [],
      "source": [
        "X_miss_mcar = produce_NA(Xtr, p_miss=0.4, mecha=\"MCAR\")\n",
        "\n",
        "X_mcar = X_miss_mcar['X_incomp'] #the new dataset\n",
        "R_mcar = X_miss_mcar['mask']\n",
        "\n",
        "print(\"Percentage of newly generated missing values: \", (R_mcar.sum()).numpy()/np.prod(R_mcar.size())*100, \" %\")"
      ]
    },
    {
      "cell_type": "code",
      "execution_count": null,
      "metadata": {
        "id": "ylpBbQO_dqNa"
      },
      "outputs": [],
      "source": [
        "X_miss_mcar['mask'] #matrix indexing the generated missing values"
      ]
    },
    {
      "cell_type": "code",
      "execution_count": null,
      "metadata": {
        "id": "VPrZSbXCYLdl"
      },
      "outputs": [],
      "source": [
        "X_mcar"
      ]
    },
    {
      "cell_type": "code",
      "execution_count": null,
      "metadata": {
        "id": "lsBzoASPXjrK"
      },
      "outputs": [],
      "source": [
        "X_miss = X_mcar.numpy()#tensor to numpy"
      ]
    },
    {
      "cell_type": "code",
      "execution_count": null,
      "metadata": {
        "id": "irR46Us3ekb2"
      },
      "outputs": [],
      "source": [
        "X_miss"
      ]
    },
    {
      "cell_type": "code",
      "execution_count": null,
      "metadata": {
        "id": "gZg1SfGNZHn6"
      },
      "outputs": [],
      "source": [
        "#Xpd = pd.DataFrame(X_miss) #numpy to dataframe\n",
        "Xpd=pd.DataFrame(data=X_miss, columns=X.columns) #numpy to dataframe\n",
        "Xpd"
      ]
    },
    {
      "cell_type": "code",
      "execution_count": null,
      "metadata": {
        "id": "zbYo687KQKbL"
      },
      "outputs": [],
      "source": [
        "# Count the missing values of each time series\n",
        "missing_values = Xpd.isnull().sum()\n",
        "print(missing_values)"
      ]
    },
    {
      "cell_type": "code",
      "execution_count": null,
      "metadata": {
        "id": "ktFP03PqR8Ru"
      },
      "outputs": [],
      "source": [
        "# Visualize the dataset\n",
        "Xpd.plot(legend=False);\n",
        "plt.tight_layout();\n",
        "\n",
        "# Count the missing values of each time series\n",
        "missing_values = Xpd.isnull().sum()\n",
        "print(missing_values)"
      ]
    },
    {
      "cell_type": "markdown",
      "metadata": {
        "id": "eLLFKuQ1R8R3"
      },
      "source": [
        "### Imputing missing values\n",
        "When you have missing data points, how can you fill them in?\n",
        "\n",
        "In this exercise, you'll practice using different interpolation methods to fill in some missing values, visualizing the result each time. But first, you will create the function (```interpolate_and_plot()```) you'll use to interpolate missing data points and plot them."
      ]
    },
    {
      "cell_type": "code",
      "execution_count": null,
      "metadata": {
        "id": "32nKbs-zR8R4"
      },
      "outputs": [],
      "source": [
        "# Create a function we'll use to interpolate and plot\n",
        "def interpolate_and_plot(Xpd, interpolation):\n",
        "    \n",
        "    # Create a boolean mask for missing values\n",
        "    missing_values = Xpd.isna()\n",
        "    \n",
        "    # Interpolate the missing values\n",
        "    Xpd_interp = Xpd.interpolate(interpolation)\n",
        "    \n",
        "    # Plot the results, highlighting the interpolated values in black\n",
        "    fig, ax = plt.subplots(figsize=(10, 5))\n",
        "    Xpd_interp.plot(color='k', alpha=0.6, ax=ax, legend=False);\n",
        "    \n",
        "    # Note plot the interpolated values on top in red\n",
        "    Xpd_interp[missing_values].plot(ax=ax, color='r', lw=3, legend=False);"
      ]
    },
    {
      "cell_type": "code",
      "execution_count": null,
      "metadata": {
        "id": "dnXoJXPQR8SL"
      },
      "outputs": [],
      "source": [
        "# Interpolate using the latest non-missing value\n",
        "interpolation_type = 'quadratic' #try linear or zero or quadratic\n",
        "interpolate_and_plot(Xpd, interpolation_type)"
      ]
    },
    {
      "cell_type": "markdown",
      "metadata": {
        "id": "z_b87FftVgqS"
      },
      "source": [
        "MICE"
      ]
    },
    {
      "cell_type": "code",
      "execution_count": null,
      "metadata": {
        "id": "vUqXXk7ymZav",
        "colab": {
          "base_uri": "https://localhost:8080/"
        },
        "outputId": "b01dfef7-2033-426d-bcb2-2202e1b8aff7"
      },
      "outputs": [
        {
          "output_type": "stream",
          "name": "stdout",
          "text": [
            "Requirement already satisfied: autoimpute in /usr/local/lib/python3.7/dist-packages (0.12.3)\n",
            "Requirement already satisfied: numpy in /usr/local/lib/python3.7/dist-packages (from autoimpute) (1.21.5)\n",
            "Requirement already satisfied: statsmodels in /usr/local/lib/python3.7/dist-packages (from autoimpute) (0.10.2)\n",
            "Requirement already satisfied: scipy in /usr/local/lib/python3.7/dist-packages (from autoimpute) (1.4.1)\n",
            "Requirement already satisfied: seaborn in /usr/local/lib/python3.7/dist-packages (from autoimpute) (0.11.2)\n",
            "Requirement already satisfied: pymc3 in /usr/local/lib/python3.7/dist-packages (from autoimpute) (3.11.4)\n",
            "Requirement already satisfied: missingno in /usr/local/lib/python3.7/dist-packages (from autoimpute) (0.5.1)\n",
            "Requirement already satisfied: pandas in /usr/local/lib/python3.7/dist-packages (from autoimpute) (1.3.5)\n",
            "Requirement already satisfied: scikit-learn in /usr/local/lib/python3.7/dist-packages (from autoimpute) (1.0.2)\n",
            "Requirement already satisfied: xgboost in /usr/local/lib/python3.7/dist-packages (from autoimpute) (0.90)\n",
            "Requirement already satisfied: matplotlib in /usr/local/lib/python3.7/dist-packages (from missingno->autoimpute) (3.2.2)\n",
            "Requirement already satisfied: cycler>=0.10 in /usr/local/lib/python3.7/dist-packages (from matplotlib->missingno->autoimpute) (0.11.0)\n",
            "Requirement already satisfied: pyparsing!=2.0.4,!=2.1.2,!=2.1.6,>=2.0.1 in /usr/local/lib/python3.7/dist-packages (from matplotlib->missingno->autoimpute) (3.0.7)\n",
            "Requirement already satisfied: python-dateutil>=2.1 in /usr/local/lib/python3.7/dist-packages (from matplotlib->missingno->autoimpute) (2.8.2)\n",
            "Requirement already satisfied: kiwisolver>=1.0.1 in /usr/local/lib/python3.7/dist-packages (from matplotlib->missingno->autoimpute) (1.4.0)\n",
            "Requirement already satisfied: typing-extensions in /usr/local/lib/python3.7/dist-packages (from kiwisolver>=1.0.1->matplotlib->missingno->autoimpute) (3.10.0.2)\n",
            "Requirement already satisfied: six>=1.5 in /usr/local/lib/python3.7/dist-packages (from python-dateutil>=2.1->matplotlib->missingno->autoimpute) (1.15.0)\n",
            "Requirement already satisfied: pytz>=2017.3 in /usr/local/lib/python3.7/dist-packages (from pandas->autoimpute) (2018.9)\n",
            "Requirement already satisfied: patsy>=0.5.1 in /usr/local/lib/python3.7/dist-packages (from pymc3->autoimpute) (0.5.2)\n",
            "Requirement already satisfied: fastprogress>=0.2.0 in /usr/local/lib/python3.7/dist-packages (from pymc3->autoimpute) (1.0.2)\n",
            "Requirement already satisfied: semver>=2.13.0 in /usr/local/lib/python3.7/dist-packages (from pymc3->autoimpute) (2.13.0)\n",
            "Requirement already satisfied: theano-pymc==1.1.2 in /usr/local/lib/python3.7/dist-packages (from pymc3->autoimpute) (1.1.2)\n",
            "Requirement already satisfied: dill in /usr/local/lib/python3.7/dist-packages (from pymc3->autoimpute) (0.3.4)\n",
            "Requirement already satisfied: arviz>=0.11.0 in /usr/local/lib/python3.7/dist-packages (from pymc3->autoimpute) (0.11.4)\n",
            "Requirement already satisfied: cachetools>=4.2.1 in /usr/local/lib/python3.7/dist-packages (from pymc3->autoimpute) (4.2.4)\n",
            "Requirement already satisfied: filelock in /usr/local/lib/python3.7/dist-packages (from theano-pymc==1.1.2->pymc3->autoimpute) (3.6.0)\n",
            "Requirement already satisfied: setuptools>=38.4 in /usr/local/lib/python3.7/dist-packages (from arviz>=0.11.0->pymc3->autoimpute) (57.4.0)\n",
            "Requirement already satisfied: xarray>=0.16.1 in /usr/local/lib/python3.7/dist-packages (from arviz>=0.11.0->pymc3->autoimpute) (0.18.2)\n",
            "Requirement already satisfied: netcdf4 in /usr/local/lib/python3.7/dist-packages (from arviz>=0.11.0->pymc3->autoimpute) (1.5.8)\n",
            "Requirement already satisfied: packaging in /usr/local/lib/python3.7/dist-packages (from arviz>=0.11.0->pymc3->autoimpute) (21.3)\n",
            "Requirement already satisfied: cftime in /usr/local/lib/python3.7/dist-packages (from netcdf4->arviz>=0.11.0->pymc3->autoimpute) (1.6.0)\n",
            "Requirement already satisfied: joblib>=0.11 in /usr/local/lib/python3.7/dist-packages (from scikit-learn->autoimpute) (1.1.0)\n",
            "Requirement already satisfied: threadpoolctl>=2.0.0 in /usr/local/lib/python3.7/dist-packages (from scikit-learn->autoimpute) (3.1.0)\n"
          ]
        }
      ],
      "source": [
        "pip install autoimpute"
      ]
    },
    {
      "cell_type": "code",
      "source": [
        "pd.DataFrame(data.isnull().sum(), columns=[\"records missing\"]).T"
      ],
      "metadata": {
        "colab": {
          "base_uri": "https://localhost:8080/",
          "height": 81
        },
        "id": "qyE6_v-7mA7z",
        "outputId": "5ea32c4f-ac40-4ec2-8e77-5563d53d3a44"
      },
      "execution_count": null,
      "outputs": [
        {
          "output_type": "execute_result",
          "data": {
            "text/plain": [
              "                 timestamp  AccelerationX  AccelerationY  AccelerationZ  \\\n",
              "records missing        120            120            120            120   \n",
              "\n",
              "                 MagneticFieldX  MagneticFieldY  MagneticFieldZ  \\\n",
              "records missing             120             120             120   \n",
              "\n",
              "                 Z-AxisAgle(Azimuth)  X-AxisAngle(Pitch)  Y-AxisAngle(Roll)  \n",
              "records missing                  120                 120                120  "
            ],
            "text/html": [
              "\n",
              "  <div id=\"df-0c20abbd-b5e1-463c-a5a4-b863e81c91a4\">\n",
              "    <div class=\"colab-df-container\">\n",
              "      <div>\n",
              "<style scoped>\n",
              "    .dataframe tbody tr th:only-of-type {\n",
              "        vertical-align: middle;\n",
              "    }\n",
              "\n",
              "    .dataframe tbody tr th {\n",
              "        vertical-align: top;\n",
              "    }\n",
              "\n",
              "    .dataframe thead th {\n",
              "        text-align: right;\n",
              "    }\n",
              "</style>\n",
              "<table border=\"1\" class=\"dataframe\">\n",
              "  <thead>\n",
              "    <tr style=\"text-align: right;\">\n",
              "      <th></th>\n",
              "      <th>timestamp</th>\n",
              "      <th>AccelerationX</th>\n",
              "      <th>AccelerationY</th>\n",
              "      <th>AccelerationZ</th>\n",
              "      <th>MagneticFieldX</th>\n",
              "      <th>MagneticFieldY</th>\n",
              "      <th>MagneticFieldZ</th>\n",
              "      <th>Z-AxisAgle(Azimuth)</th>\n",
              "      <th>X-AxisAngle(Pitch)</th>\n",
              "      <th>Y-AxisAngle(Roll)</th>\n",
              "    </tr>\n",
              "  </thead>\n",
              "  <tbody>\n",
              "    <tr>\n",
              "      <th>records missing</th>\n",
              "      <td>120</td>\n",
              "      <td>120</td>\n",
              "      <td>120</td>\n",
              "      <td>120</td>\n",
              "      <td>120</td>\n",
              "      <td>120</td>\n",
              "      <td>120</td>\n",
              "      <td>120</td>\n",
              "      <td>120</td>\n",
              "      <td>120</td>\n",
              "    </tr>\n",
              "  </tbody>\n",
              "</table>\n",
              "</div>\n",
              "      <button class=\"colab-df-convert\" onclick=\"convertToInteractive('df-0c20abbd-b5e1-463c-a5a4-b863e81c91a4')\"\n",
              "              title=\"Convert this dataframe to an interactive table.\"\n",
              "              style=\"display:none;\">\n",
              "        \n",
              "  <svg xmlns=\"http://www.w3.org/2000/svg\" height=\"24px\"viewBox=\"0 0 24 24\"\n",
              "       width=\"24px\">\n",
              "    <path d=\"M0 0h24v24H0V0z\" fill=\"none\"/>\n",
              "    <path d=\"M18.56 5.44l.94 2.06.94-2.06 2.06-.94-2.06-.94-.94-2.06-.94 2.06-2.06.94zm-11 1L8.5 8.5l.94-2.06 2.06-.94-2.06-.94L8.5 2.5l-.94 2.06-2.06.94zm10 10l.94 2.06.94-2.06 2.06-.94-2.06-.94-.94-2.06-.94 2.06-2.06.94z\"/><path d=\"M17.41 7.96l-1.37-1.37c-.4-.4-.92-.59-1.43-.59-.52 0-1.04.2-1.43.59L10.3 9.45l-7.72 7.72c-.78.78-.78 2.05 0 2.83L4 21.41c.39.39.9.59 1.41.59.51 0 1.02-.2 1.41-.59l7.78-7.78 2.81-2.81c.8-.78.8-2.07 0-2.86zM5.41 20L4 18.59l7.72-7.72 1.47 1.35L5.41 20z\"/>\n",
              "  </svg>\n",
              "      </button>\n",
              "      \n",
              "  <style>\n",
              "    .colab-df-container {\n",
              "      display:flex;\n",
              "      flex-wrap:wrap;\n",
              "      gap: 12px;\n",
              "    }\n",
              "\n",
              "    .colab-df-convert {\n",
              "      background-color: #E8F0FE;\n",
              "      border: none;\n",
              "      border-radius: 50%;\n",
              "      cursor: pointer;\n",
              "      display: none;\n",
              "      fill: #1967D2;\n",
              "      height: 32px;\n",
              "      padding: 0 0 0 0;\n",
              "      width: 32px;\n",
              "    }\n",
              "\n",
              "    .colab-df-convert:hover {\n",
              "      background-color: #E2EBFA;\n",
              "      box-shadow: 0px 1px 2px rgba(60, 64, 67, 0.3), 0px 1px 3px 1px rgba(60, 64, 67, 0.15);\n",
              "      fill: #174EA6;\n",
              "    }\n",
              "\n",
              "    [theme=dark] .colab-df-convert {\n",
              "      background-color: #3B4455;\n",
              "      fill: #D2E3FC;\n",
              "    }\n",
              "\n",
              "    [theme=dark] .colab-df-convert:hover {\n",
              "      background-color: #434B5C;\n",
              "      box-shadow: 0px 1px 3px 1px rgba(0, 0, 0, 0.15);\n",
              "      filter: drop-shadow(0px 1px 2px rgba(0, 0, 0, 0.3));\n",
              "      fill: #FFFFFF;\n",
              "    }\n",
              "  </style>\n",
              "\n",
              "      <script>\n",
              "        const buttonEl =\n",
              "          document.querySelector('#df-0c20abbd-b5e1-463c-a5a4-b863e81c91a4 button.colab-df-convert');\n",
              "        buttonEl.style.display =\n",
              "          google.colab.kernel.accessAllowed ? 'block' : 'none';\n",
              "\n",
              "        async function convertToInteractive(key) {\n",
              "          const element = document.querySelector('#df-0c20abbd-b5e1-463c-a5a4-b863e81c91a4');\n",
              "          const dataTable =\n",
              "            await google.colab.kernel.invokeFunction('convertToInteractive',\n",
              "                                                     [key], {});\n",
              "          if (!dataTable) return;\n",
              "\n",
              "          const docLinkHtml = 'Like what you see? Visit the ' +\n",
              "            '<a target=\"_blank\" href=https://colab.research.google.com/notebooks/data_table.ipynb>data table notebook</a>'\n",
              "            + ' to learn more about interactive tables.';\n",
              "          element.innerHTML = '';\n",
              "          dataTable['output_type'] = 'display_data';\n",
              "          await google.colab.output.renderOutput(dataTable, element);\n",
              "          const docLink = document.createElement('div');\n",
              "          docLink.innerHTML = docLinkHtml;\n",
              "          element.appendChild(docLink);\n",
              "        }\n",
              "      </script>\n",
              "    </div>\n",
              "  </div>\n",
              "  "
            ]
          },
          "metadata": {},
          "execution_count": 99
        }
      ]
    },
    {
      "cell_type": "code",
      "execution_count": null,
      "metadata": {
        "id": "k0b_f0uhmx01"
      },
      "outputs": [],
      "source": [
        "# simple example using default instance of MiceImputer\n",
        "from autoimpute.imputations import MiceImputer"
      ]
    },
    {
      "cell_type": "code",
      "execution_count": null,
      "metadata": {
        "id": "VD3Ylukdm7b8",
        "colab": {
          "base_uri": "https://localhost:8080/",
          "height": 742
        },
        "outputId": "4a9eb0cd-559e-428f-985a-0eac94d343ac"
      },
      "outputs": [
        {
          "output_type": "stream",
          "name": "stderr",
          "text": [
            "/usr/local/lib/python3.7/dist-packages/autoimpute/imputations/series/pmm.py:169: FutureWarning: In v4.0, pm.sample will return an `arviz.InferenceData` object instead of a `MultiTrace` by default. You can pass return_inferencedata=True or return_inferencedata=False to be safe and silence this warning.\n",
            "  **self.sample_kwargs\n",
            "Auto-assigning NUTS sampler...\n",
            "Initializing NUTS using jitter+adapt_diag...\n",
            "Sequential sampling (2 chains in 1 job)\n",
            "NUTS: [σ, beta, alpha]\n"
          ]
        },
        {
          "output_type": "display_data",
          "data": {
            "text/plain": [
              "<IPython.core.display.HTML object>"
            ],
            "text/html": [
              "\n",
              "<style>\n",
              "    /* Turns off some styling */\n",
              "    progress {\n",
              "        /* gets rid of default border in Firefox and Opera. */\n",
              "        border: none;\n",
              "        /* Needs to be in here for Safari polyfill so background images work as expected. */\n",
              "        background-size: auto;\n",
              "    }\n",
              "    .progress-bar-interrupted, .progress-bar-interrupted::-webkit-progress-bar {\n",
              "        background: #F44336;\n",
              "    }\n",
              "</style>\n"
            ]
          },
          "metadata": {}
        },
        {
          "output_type": "display_data",
          "data": {
            "text/plain": [
              "<IPython.core.display.HTML object>"
            ],
            "text/html": [
              "\n",
              "    <div>\n",
              "      <progress value='0' class='progress-bar-interrupted' max='2000' style='width:300px; height:20px; vertical-align: middle;'></progress>\n",
              "      Interrupted\n",
              "    </div>\n",
              "    "
            ]
          },
          "metadata": {}
        },
        {
          "output_type": "stream",
          "name": "stderr",
          "text": [
            "/usr/local/lib/python3.7/dist-packages/pymc3/step_methods/hmc/quadpotential.py:224: RuntimeWarning: divide by zero encountered in true_divide\n",
            "  np.divide(1, self._stds, out=self._inv_stds)\n",
            "/usr/local/lib/python3.7/dist-packages/pymc3/step_methods/hmc/quadpotential.py:203: RuntimeWarning: invalid value encountered in multiply\n",
            "  return np.multiply(self._var, x, out=out)\n"
          ]
        },
        {
          "output_type": "error",
          "ename": "ValueError",
          "evalue": "ignored",
          "traceback": [
            "\u001b[0;31m---------------------------------------------------------------------------\u001b[0m",
            "\u001b[0;31mValueError\u001b[0m                                Traceback (most recent call last)",
            "\u001b[0;32m<ipython-input-299-5a138b444d88>\u001b[0m in \u001b[0;36m<module>\u001b[0;34m()\u001b[0m\n\u001b[1;32m      1\u001b[0m \u001b[0;31m# simple example using default instance of SingleImputer\u001b[0m\u001b[0;34m\u001b[0m\u001b[0;34m\u001b[0m\u001b[0;34m\u001b[0m\u001b[0m\n\u001b[1;32m      2\u001b[0m \u001b[0mmi\u001b[0m \u001b[0;34m=\u001b[0m \u001b[0mMultipleImputer\u001b[0m\u001b[0;34m(\u001b[0m\u001b[0mreturn_list\u001b[0m\u001b[0;34m=\u001b[0m\u001b[0;32mTrue\u001b[0m\u001b[0;34m)\u001b[0m\u001b[0;34m\u001b[0m\u001b[0;34m\u001b[0m\u001b[0m\n\u001b[0;32m----> 3\u001b[0;31m \u001b[0mmi_data_full\u001b[0m \u001b[0;34m=\u001b[0m \u001b[0mmi\u001b[0m\u001b[0;34m.\u001b[0m\u001b[0mfit_transform\u001b[0m\u001b[0;34m(\u001b[0m\u001b[0mdata\u001b[0m\u001b[0;34m)\u001b[0m\u001b[0;34m\u001b[0m\u001b[0;34m\u001b[0m\u001b[0m\n\u001b[0m",
            "\u001b[0;32m/usr/local/lib/python3.7/dist-packages/autoimpute/imputations/dataframe/multiple_imputer.py\u001b[0m in \u001b[0;36mfit_transform\u001b[0;34m(self, X, y, **trans_kwargs)\u001b[0m\n\u001b[1;32m    240\u001b[0m     \u001b[0;32mdef\u001b[0m \u001b[0mfit_transform\u001b[0m\u001b[0;34m(\u001b[0m\u001b[0mself\u001b[0m\u001b[0;34m,\u001b[0m \u001b[0mX\u001b[0m\u001b[0;34m,\u001b[0m \u001b[0my\u001b[0m\u001b[0;34m=\u001b[0m\u001b[0;32mNone\u001b[0m\u001b[0;34m,\u001b[0m \u001b[0;34m**\u001b[0m\u001b[0mtrans_kwargs\u001b[0m\u001b[0;34m)\u001b[0m\u001b[0;34m:\u001b[0m\u001b[0;34m\u001b[0m\u001b[0;34m\u001b[0m\u001b[0m\n\u001b[1;32m    241\u001b[0m         \u001b[0;34m\"\"\"Convenience method to fit then transform the same dataset.\"\"\"\u001b[0m\u001b[0;34m\u001b[0m\u001b[0;34m\u001b[0m\u001b[0m\n\u001b[0;32m--> 242\u001b[0;31m         \u001b[0;32mreturn\u001b[0m \u001b[0mself\u001b[0m\u001b[0;34m.\u001b[0m\u001b[0mfit\u001b[0m\u001b[0;34m(\u001b[0m\u001b[0mX\u001b[0m\u001b[0;34m,\u001b[0m \u001b[0my\u001b[0m\u001b[0;34m)\u001b[0m\u001b[0;34m.\u001b[0m\u001b[0mtransform\u001b[0m\u001b[0;34m(\u001b[0m\u001b[0mX\u001b[0m\u001b[0;34m,\u001b[0m \u001b[0;34m**\u001b[0m\u001b[0mtrans_kwargs\u001b[0m\u001b[0;34m)\u001b[0m\u001b[0;34m\u001b[0m\u001b[0;34m\u001b[0m\u001b[0m\n\u001b[0m",
            "\u001b[0;32m/usr/local/lib/python3.7/dist-packages/autoimpute/utils/checks.py\u001b[0m in \u001b[0;36mwrapper\u001b[0;34m(d, *args, **kwargs)\u001b[0m\n\u001b[1;32m     59\u001b[0m             \u001b[0merr\u001b[0m \u001b[0;34m=\u001b[0m \u001b[0;34mf\"Neither {d_err} nor {a_err} are of type pd.DataFrame\"\u001b[0m\u001b[0;34m\u001b[0m\u001b[0;34m\u001b[0m\u001b[0m\n\u001b[1;32m     60\u001b[0m             \u001b[0;32mraise\u001b[0m \u001b[0mTypeError\u001b[0m\u001b[0;34m(\u001b[0m\u001b[0merr\u001b[0m\u001b[0;34m)\u001b[0m\u001b[0;34m\u001b[0m\u001b[0;34m\u001b[0m\u001b[0m\n\u001b[0;32m---> 61\u001b[0;31m         \u001b[0;32mreturn\u001b[0m \u001b[0mfunc\u001b[0m\u001b[0;34m(\u001b[0m\u001b[0md\u001b[0m\u001b[0;34m,\u001b[0m \u001b[0;34m*\u001b[0m\u001b[0margs\u001b[0m\u001b[0;34m,\u001b[0m \u001b[0;34m**\u001b[0m\u001b[0mkwargs\u001b[0m\u001b[0;34m)\u001b[0m\u001b[0;34m\u001b[0m\u001b[0;34m\u001b[0m\u001b[0m\n\u001b[0m\u001b[1;32m     62\u001b[0m     \u001b[0;32mreturn\u001b[0m \u001b[0mwrapper\u001b[0m\u001b[0;34m\u001b[0m\u001b[0;34m\u001b[0m\u001b[0m\n\u001b[1;32m     63\u001b[0m \u001b[0;34m\u001b[0m\u001b[0m\n",
            "\u001b[0;32m/usr/local/lib/python3.7/dist-packages/autoimpute/utils/checks.py\u001b[0m in \u001b[0;36mwrapper\u001b[0;34m(d, *args, **kwargs)\u001b[0m\n\u001b[1;32m    124\u001b[0m \u001b[0;34m\u001b[0m\u001b[0m\n\u001b[1;32m    125\u001b[0m         \u001b[0;31m# return func if no missingness violations detected, then return wrap\u001b[0m\u001b[0;34m\u001b[0m\u001b[0;34m\u001b[0m\u001b[0;34m\u001b[0m\u001b[0m\n\u001b[0;32m--> 126\u001b[0;31m         \u001b[0;32mreturn\u001b[0m \u001b[0mfunc\u001b[0m\u001b[0;34m(\u001b[0m\u001b[0md\u001b[0m\u001b[0;34m,\u001b[0m \u001b[0;34m*\u001b[0m\u001b[0margs\u001b[0m\u001b[0;34m,\u001b[0m \u001b[0;34m**\u001b[0m\u001b[0mkwargs\u001b[0m\u001b[0;34m)\u001b[0m\u001b[0;34m\u001b[0m\u001b[0;34m\u001b[0m\u001b[0m\n\u001b[0m\u001b[1;32m    127\u001b[0m     \u001b[0;32mreturn\u001b[0m \u001b[0mwrapper\u001b[0m\u001b[0;34m\u001b[0m\u001b[0;34m\u001b[0m\u001b[0m\n\u001b[1;32m    128\u001b[0m \u001b[0;34m\u001b[0m\u001b[0m\n",
            "\u001b[0;32m/usr/local/lib/python3.7/dist-packages/autoimpute/utils/checks.py\u001b[0m in \u001b[0;36mwrapper\u001b[0;34m(d, *args, **kwargs)\u001b[0m\n\u001b[1;32m    171\u001b[0m             \u001b[0merr\u001b[0m \u001b[0;34m=\u001b[0m \u001b[0;34mf\"All values missing in column(s) {nc}. Should be removed.\"\u001b[0m\u001b[0;34m\u001b[0m\u001b[0;34m\u001b[0m\u001b[0m\n\u001b[1;32m    172\u001b[0m             \u001b[0;32mraise\u001b[0m \u001b[0mValueError\u001b[0m\u001b[0;34m(\u001b[0m\u001b[0merr\u001b[0m\u001b[0;34m)\u001b[0m\u001b[0;34m\u001b[0m\u001b[0;34m\u001b[0m\u001b[0m\n\u001b[0;32m--> 173\u001b[0;31m         \u001b[0;32mreturn\u001b[0m \u001b[0mfunc\u001b[0m\u001b[0;34m(\u001b[0m\u001b[0md\u001b[0m\u001b[0;34m,\u001b[0m \u001b[0;34m*\u001b[0m\u001b[0margs\u001b[0m\u001b[0;34m,\u001b[0m \u001b[0;34m**\u001b[0m\u001b[0mkwargs\u001b[0m\u001b[0;34m)\u001b[0m\u001b[0;34m\u001b[0m\u001b[0;34m\u001b[0m\u001b[0m\n\u001b[0m\u001b[1;32m    174\u001b[0m     \u001b[0;32mreturn\u001b[0m \u001b[0mwrapper\u001b[0m\u001b[0;34m\u001b[0m\u001b[0;34m\u001b[0m\u001b[0m\n\u001b[1;32m    175\u001b[0m \u001b[0;34m\u001b[0m\u001b[0m\n",
            "\u001b[0;32m/usr/local/lib/python3.7/dist-packages/autoimpute/imputations/dataframe/multiple_imputer.py\u001b[0m in \u001b[0;36mtransform\u001b[0;34m(self, X, **trans_kwargs)\u001b[0m\n\u001b[1;32m    235\u001b[0m                    for i in self.statistics_.items())\n\u001b[1;32m    236\u001b[0m         \u001b[0;32mif\u001b[0m \u001b[0mself\u001b[0m\u001b[0;34m.\u001b[0m\u001b[0mreturn_list\u001b[0m\u001b[0;34m:\u001b[0m\u001b[0;34m\u001b[0m\u001b[0;34m\u001b[0m\u001b[0m\n\u001b[0;32m--> 237\u001b[0;31m             \u001b[0mimputed\u001b[0m \u001b[0;34m=\u001b[0m \u001b[0mlist\u001b[0m\u001b[0;34m(\u001b[0m\u001b[0mimputed\u001b[0m\u001b[0;34m)\u001b[0m\u001b[0;34m\u001b[0m\u001b[0;34m\u001b[0m\u001b[0m\n\u001b[0m\u001b[1;32m    238\u001b[0m         \u001b[0;32mreturn\u001b[0m \u001b[0mimputed\u001b[0m\u001b[0;34m\u001b[0m\u001b[0;34m\u001b[0m\u001b[0m\n\u001b[1;32m    239\u001b[0m \u001b[0;34m\u001b[0m\u001b[0m\n",
            "\u001b[0;32m/usr/local/lib/python3.7/dist-packages/autoimpute/imputations/dataframe/multiple_imputer.py\u001b[0m in \u001b[0;36m<genexpr>\u001b[0;34m(.0)\u001b[0m\n\u001b[1;32m    233\u001b[0m         \u001b[0;31m# sequential only for now\u001b[0m\u001b[0;34m\u001b[0m\u001b[0;34m\u001b[0m\u001b[0;34m\u001b[0m\u001b[0m\n\u001b[1;32m    234\u001b[0m         imputed = ((i[0], i[1].transform(X, **trans_kwargs))\n\u001b[0;32m--> 235\u001b[0;31m                    for i in self.statistics_.items())\n\u001b[0m\u001b[1;32m    236\u001b[0m         \u001b[0;32mif\u001b[0m \u001b[0mself\u001b[0m\u001b[0;34m.\u001b[0m\u001b[0mreturn_list\u001b[0m\u001b[0;34m:\u001b[0m\u001b[0;34m\u001b[0m\u001b[0;34m\u001b[0m\u001b[0m\n\u001b[1;32m    237\u001b[0m             \u001b[0mimputed\u001b[0m \u001b[0;34m=\u001b[0m \u001b[0mlist\u001b[0m\u001b[0;34m(\u001b[0m\u001b[0mimputed\u001b[0m\u001b[0;34m)\u001b[0m\u001b[0;34m\u001b[0m\u001b[0;34m\u001b[0m\u001b[0m\n",
            "\u001b[0;32m/usr/local/lib/python3.7/dist-packages/autoimpute/utils/checks.py\u001b[0m in \u001b[0;36mwrapper\u001b[0;34m(d, *args, **kwargs)\u001b[0m\n\u001b[1;32m     59\u001b[0m             \u001b[0merr\u001b[0m \u001b[0;34m=\u001b[0m \u001b[0;34mf\"Neither {d_err} nor {a_err} are of type pd.DataFrame\"\u001b[0m\u001b[0;34m\u001b[0m\u001b[0;34m\u001b[0m\u001b[0m\n\u001b[1;32m     60\u001b[0m             \u001b[0;32mraise\u001b[0m \u001b[0mTypeError\u001b[0m\u001b[0;34m(\u001b[0m\u001b[0merr\u001b[0m\u001b[0;34m)\u001b[0m\u001b[0;34m\u001b[0m\u001b[0;34m\u001b[0m\u001b[0m\n\u001b[0;32m---> 61\u001b[0;31m         \u001b[0;32mreturn\u001b[0m \u001b[0mfunc\u001b[0m\u001b[0;34m(\u001b[0m\u001b[0md\u001b[0m\u001b[0;34m,\u001b[0m \u001b[0;34m*\u001b[0m\u001b[0margs\u001b[0m\u001b[0;34m,\u001b[0m \u001b[0;34m**\u001b[0m\u001b[0mkwargs\u001b[0m\u001b[0;34m)\u001b[0m\u001b[0;34m\u001b[0m\u001b[0;34m\u001b[0m\u001b[0m\n\u001b[0m\u001b[1;32m     62\u001b[0m     \u001b[0;32mreturn\u001b[0m \u001b[0mwrapper\u001b[0m\u001b[0;34m\u001b[0m\u001b[0;34m\u001b[0m\u001b[0m\n\u001b[1;32m     63\u001b[0m \u001b[0;34m\u001b[0m\u001b[0m\n",
            "\u001b[0;32m/usr/local/lib/python3.7/dist-packages/autoimpute/utils/checks.py\u001b[0m in \u001b[0;36mwrapper\u001b[0;34m(d, *args, **kwargs)\u001b[0m\n\u001b[1;32m    124\u001b[0m \u001b[0;34m\u001b[0m\u001b[0m\n\u001b[1;32m    125\u001b[0m         \u001b[0;31m# return func if no missingness violations detected, then return wrap\u001b[0m\u001b[0;34m\u001b[0m\u001b[0;34m\u001b[0m\u001b[0;34m\u001b[0m\u001b[0m\n\u001b[0;32m--> 126\u001b[0;31m         \u001b[0;32mreturn\u001b[0m \u001b[0mfunc\u001b[0m\u001b[0;34m(\u001b[0m\u001b[0md\u001b[0m\u001b[0;34m,\u001b[0m \u001b[0;34m*\u001b[0m\u001b[0margs\u001b[0m\u001b[0;34m,\u001b[0m \u001b[0;34m**\u001b[0m\u001b[0mkwargs\u001b[0m\u001b[0;34m)\u001b[0m\u001b[0;34m\u001b[0m\u001b[0;34m\u001b[0m\u001b[0m\n\u001b[0m\u001b[1;32m    127\u001b[0m     \u001b[0;32mreturn\u001b[0m \u001b[0mwrapper\u001b[0m\u001b[0;34m\u001b[0m\u001b[0;34m\u001b[0m\u001b[0m\n\u001b[1;32m    128\u001b[0m \u001b[0;34m\u001b[0m\u001b[0m\n",
            "\u001b[0;32m/usr/local/lib/python3.7/dist-packages/autoimpute/utils/checks.py\u001b[0m in \u001b[0;36mwrapper\u001b[0;34m(d, *args, **kwargs)\u001b[0m\n\u001b[1;32m    171\u001b[0m             \u001b[0merr\u001b[0m \u001b[0;34m=\u001b[0m \u001b[0;34mf\"All values missing in column(s) {nc}. Should be removed.\"\u001b[0m\u001b[0;34m\u001b[0m\u001b[0;34m\u001b[0m\u001b[0m\n\u001b[1;32m    172\u001b[0m             \u001b[0;32mraise\u001b[0m \u001b[0mValueError\u001b[0m\u001b[0;34m(\u001b[0m\u001b[0merr\u001b[0m\u001b[0;34m)\u001b[0m\u001b[0;34m\u001b[0m\u001b[0;34m\u001b[0m\u001b[0m\n\u001b[0;32m--> 173\u001b[0;31m         \u001b[0;32mreturn\u001b[0m \u001b[0mfunc\u001b[0m\u001b[0;34m(\u001b[0m\u001b[0md\u001b[0m\u001b[0;34m,\u001b[0m \u001b[0;34m*\u001b[0m\u001b[0margs\u001b[0m\u001b[0;34m,\u001b[0m \u001b[0;34m**\u001b[0m\u001b[0mkwargs\u001b[0m\u001b[0;34m)\u001b[0m\u001b[0;34m\u001b[0m\u001b[0;34m\u001b[0m\u001b[0m\n\u001b[0m\u001b[1;32m    174\u001b[0m     \u001b[0;32mreturn\u001b[0m \u001b[0mwrapper\u001b[0m\u001b[0;34m\u001b[0m\u001b[0;34m\u001b[0m\u001b[0m\n\u001b[1;32m    175\u001b[0m \u001b[0;34m\u001b[0m\u001b[0m\n",
            "\u001b[0;32m/usr/local/lib/python3.7/dist-packages/autoimpute/imputations/dataframe/single_imputer.py\u001b[0m in \u001b[0;36mtransform\u001b[0;34m(self, X, imp_ixs, **trans_kwargs)\u001b[0m\n\u001b[1;32m    296\u001b[0m                 \u001b[0mX\u001b[0m\u001b[0;34m.\u001b[0m\u001b[0mloc\u001b[0m\u001b[0;34m[\u001b[0m\u001b[0mimp_ix\u001b[0m\u001b[0;34m,\u001b[0m \u001b[0mcolumn\u001b[0m\u001b[0;34m]\u001b[0m \u001b[0;34m=\u001b[0m \u001b[0mimputer\u001b[0m\u001b[0;34m.\u001b[0m\u001b[0mimpute\u001b[0m\u001b[0;34m(\u001b[0m\u001b[0mx_\u001b[0m\u001b[0;34m,\u001b[0m \u001b[0mk\u001b[0m\u001b[0;34m=\u001b[0m\u001b[0mk\u001b[0m\u001b[0;34m)\u001b[0m\u001b[0;34m\u001b[0m\u001b[0;34m\u001b[0m\u001b[0m\n\u001b[1;32m    297\u001b[0m             \u001b[0;32melse\u001b[0m\u001b[0;34m:\u001b[0m\u001b[0;34m\u001b[0m\u001b[0;34m\u001b[0m\u001b[0m\n\u001b[0;32m--> 298\u001b[0;31m                 \u001b[0mX\u001b[0m\u001b[0;34m.\u001b[0m\u001b[0mloc\u001b[0m\u001b[0;34m[\u001b[0m\u001b[0mimp_ix\u001b[0m\u001b[0;34m,\u001b[0m \u001b[0mcolumn\u001b[0m\u001b[0;34m]\u001b[0m \u001b[0;34m=\u001b[0m \u001b[0mimputer\u001b[0m\u001b[0;34m.\u001b[0m\u001b[0mimpute\u001b[0m\u001b[0;34m(\u001b[0m\u001b[0mx_\u001b[0m\u001b[0;34m)\u001b[0m\u001b[0;34m\u001b[0m\u001b[0;34m\u001b[0m\u001b[0m\n\u001b[0m\u001b[1;32m    299\u001b[0m         \u001b[0;32mreturn\u001b[0m \u001b[0mX\u001b[0m\u001b[0;34m\u001b[0m\u001b[0;34m\u001b[0m\u001b[0m\n\u001b[1;32m    300\u001b[0m \u001b[0;34m\u001b[0m\u001b[0m\n",
            "\u001b[0;32m/usr/local/lib/python3.7/dist-packages/autoimpute/imputations/series/default.py\u001b[0m in \u001b[0;36mimpute\u001b[0;34m(self, X)\u001b[0m\n\u001b[1;32m    398\u001b[0m     \u001b[0;32mdef\u001b[0m \u001b[0mimpute\u001b[0m\u001b[0;34m(\u001b[0m\u001b[0mself\u001b[0m\u001b[0;34m,\u001b[0m \u001b[0mX\u001b[0m\u001b[0;34m)\u001b[0m\u001b[0;34m:\u001b[0m\u001b[0;34m\u001b[0m\u001b[0;34m\u001b[0m\u001b[0m\n\u001b[1;32m    399\u001b[0m         \u001b[0;34m\"\"\"Defer transform to the DefaultBaseImputer.\"\"\"\u001b[0m\u001b[0;34m\u001b[0m\u001b[0;34m\u001b[0m\u001b[0m\n\u001b[0;32m--> 400\u001b[0;31m         \u001b[0mX_\u001b[0m \u001b[0;34m=\u001b[0m \u001b[0msuper\u001b[0m\u001b[0;34m(\u001b[0m\u001b[0;34m)\u001b[0m\u001b[0;34m.\u001b[0m\u001b[0mimpute\u001b[0m\u001b[0;34m(\u001b[0m\u001b[0mX\u001b[0m\u001b[0;34m)\u001b[0m\u001b[0;34m\u001b[0m\u001b[0;34m\u001b[0m\u001b[0m\n\u001b[0m\u001b[1;32m    401\u001b[0m         \u001b[0;32mreturn\u001b[0m \u001b[0mX_\u001b[0m\u001b[0;34m\u001b[0m\u001b[0;34m\u001b[0m\u001b[0m\n",
            "\u001b[0;32m/usr/local/lib/python3.7/dist-packages/autoimpute/imputations/series/default.py\u001b[0m in \u001b[0;36mimpute\u001b[0;34m(self, X)\u001b[0m\n\u001b[1;32m    212\u001b[0m         \u001b[0;31m# ensure that param is not none, which indicates time series column\u001b[0m\u001b[0;34m\u001b[0m\u001b[0;34m\u001b[0m\u001b[0;34m\u001b[0m\u001b[0m\n\u001b[1;32m    213\u001b[0m         \u001b[0;32mif\u001b[0m \u001b[0mimp\u001b[0m\u001b[0;34m:\u001b[0m\u001b[0;34m\u001b[0m\u001b[0;34m\u001b[0m\u001b[0m\n\u001b[0;32m--> 214\u001b[0;31m             \u001b[0mX_\u001b[0m \u001b[0;34m=\u001b[0m \u001b[0mimp\u001b[0m\u001b[0;34m.\u001b[0m\u001b[0mimpute\u001b[0m\u001b[0;34m(\u001b[0m\u001b[0mX\u001b[0m\u001b[0;34m)\u001b[0m\u001b[0;34m\u001b[0m\u001b[0;34m\u001b[0m\u001b[0m\n\u001b[0m\u001b[1;32m    215\u001b[0m             \u001b[0;32mreturn\u001b[0m \u001b[0mX_\u001b[0m\u001b[0;34m\u001b[0m\u001b[0;34m\u001b[0m\u001b[0m\n\u001b[1;32m    216\u001b[0m \u001b[0;34m\u001b[0m\u001b[0m\n",
            "\u001b[0;32m/usr/local/lib/python3.7/dist-packages/autoimpute/imputations/series/pmm.py\u001b[0m in \u001b[0;36mimpute\u001b[0;34m(self, X)\u001b[0m\n\u001b[1;32m    167\u001b[0m                 \u001b[0mtune\u001b[0m\u001b[0;34m=\u001b[0m\u001b[0mself\u001b[0m\u001b[0;34m.\u001b[0m\u001b[0mtune\u001b[0m\u001b[0;34m,\u001b[0m\u001b[0;34m\u001b[0m\u001b[0;34m\u001b[0m\u001b[0m\n\u001b[1;32m    168\u001b[0m                 \u001b[0minit\u001b[0m\u001b[0;34m=\u001b[0m\u001b[0mself\u001b[0m\u001b[0;34m.\u001b[0m\u001b[0minit\u001b[0m\u001b[0;34m,\u001b[0m\u001b[0;34m\u001b[0m\u001b[0;34m\u001b[0m\u001b[0m\n\u001b[0;32m--> 169\u001b[0;31m                 \u001b[0;34m**\u001b[0m\u001b[0mself\u001b[0m\u001b[0;34m.\u001b[0m\u001b[0msample_kwargs\u001b[0m\u001b[0;34m\u001b[0m\u001b[0;34m\u001b[0m\u001b[0m\n\u001b[0m\u001b[1;32m    170\u001b[0m             )\n\u001b[1;32m    171\u001b[0m         \u001b[0mself\u001b[0m\u001b[0;34m.\u001b[0m\u001b[0mtrace_\u001b[0m \u001b[0;34m=\u001b[0m \u001b[0mtr\u001b[0m\u001b[0;34m\u001b[0m\u001b[0;34m\u001b[0m\u001b[0m\n",
            "\u001b[0;32m/usr/local/lib/python3.7/dist-packages/pymc3/sampling.py\u001b[0m in \u001b[0;36msample\u001b[0;34m(draws, step, init, n_init, start, trace, chain_idx, chains, cores, tune, progressbar, model, random_seed, discard_tuned_samples, compute_convergence_checks, callback, jitter_max_retries, return_inferencedata, idata_kwargs, mp_ctx, pickle_backend, **kwargs)\u001b[0m\n\u001b[1;32m    595\u001b[0m             \u001b[0m_log\u001b[0m\u001b[0;34m.\u001b[0m\u001b[0minfo\u001b[0m\u001b[0;34m(\u001b[0m\u001b[0;34mf\"Sequential sampling ({chains} chains in 1 job)\"\u001b[0m\u001b[0;34m)\u001b[0m\u001b[0;34m\u001b[0m\u001b[0;34m\u001b[0m\u001b[0m\n\u001b[1;32m    596\u001b[0m             \u001b[0m_print_step_hierarchy\u001b[0m\u001b[0;34m(\u001b[0m\u001b[0mstep\u001b[0m\u001b[0;34m)\u001b[0m\u001b[0;34m\u001b[0m\u001b[0;34m\u001b[0m\u001b[0m\n\u001b[0;32m--> 597\u001b[0;31m             \u001b[0mtrace\u001b[0m \u001b[0;34m=\u001b[0m \u001b[0m_sample_many\u001b[0m\u001b[0;34m(\u001b[0m\u001b[0;34m**\u001b[0m\u001b[0msample_args\u001b[0m\u001b[0;34m)\u001b[0m\u001b[0;34m\u001b[0m\u001b[0;34m\u001b[0m\u001b[0m\n\u001b[0m\u001b[1;32m    598\u001b[0m \u001b[0;34m\u001b[0m\u001b[0m\n\u001b[1;32m    599\u001b[0m     \u001b[0mt_sampling\u001b[0m \u001b[0;34m=\u001b[0m \u001b[0mtime\u001b[0m\u001b[0;34m.\u001b[0m\u001b[0mtime\u001b[0m\u001b[0;34m(\u001b[0m\u001b[0;34m)\u001b[0m \u001b[0;34m-\u001b[0m \u001b[0mt_start\u001b[0m\u001b[0;34m\u001b[0m\u001b[0;34m\u001b[0m\u001b[0m\n",
            "\u001b[0;32m/usr/local/lib/python3.7/dist-packages/pymc3/sampling.py\u001b[0m in \u001b[0;36m_sample_many\u001b[0;34m(draws, chain, chains, start, random_seed, step, callback, **kwargs)\u001b[0m\n\u001b[1;32m    718\u001b[0m             \u001b[0mrandom_seed\u001b[0m\u001b[0;34m=\u001b[0m\u001b[0mrandom_seed\u001b[0m\u001b[0;34m[\u001b[0m\u001b[0mi\u001b[0m\u001b[0;34m]\u001b[0m\u001b[0;34m,\u001b[0m\u001b[0;34m\u001b[0m\u001b[0;34m\u001b[0m\u001b[0m\n\u001b[1;32m    719\u001b[0m             \u001b[0mcallback\u001b[0m\u001b[0;34m=\u001b[0m\u001b[0mcallback\u001b[0m\u001b[0;34m,\u001b[0m\u001b[0;34m\u001b[0m\u001b[0;34m\u001b[0m\u001b[0m\n\u001b[0;32m--> 720\u001b[0;31m             \u001b[0;34m**\u001b[0m\u001b[0mkwargs\u001b[0m\u001b[0;34m,\u001b[0m\u001b[0;34m\u001b[0m\u001b[0;34m\u001b[0m\u001b[0m\n\u001b[0m\u001b[1;32m    721\u001b[0m         )\n\u001b[1;32m    722\u001b[0m         \u001b[0;32mif\u001b[0m \u001b[0mtrace\u001b[0m \u001b[0;32mis\u001b[0m \u001b[0;32mNone\u001b[0m\u001b[0;34m:\u001b[0m\u001b[0;34m\u001b[0m\u001b[0;34m\u001b[0m\u001b[0m\n",
            "\u001b[0;32m/usr/local/lib/python3.7/dist-packages/pymc3/sampling.py\u001b[0m in \u001b[0;36m_sample\u001b[0;34m(chain, progressbar, random_seed, start, draws, step, trace, tune, model, callback, **kwargs)\u001b[0m\n\u001b[1;32m    853\u001b[0m     \u001b[0;32mtry\u001b[0m\u001b[0;34m:\u001b[0m\u001b[0;34m\u001b[0m\u001b[0;34m\u001b[0m\u001b[0m\n\u001b[1;32m    854\u001b[0m         \u001b[0mstrace\u001b[0m \u001b[0;34m=\u001b[0m \u001b[0;32mNone\u001b[0m\u001b[0;34m\u001b[0m\u001b[0;34m\u001b[0m\u001b[0m\n\u001b[0;32m--> 855\u001b[0;31m         \u001b[0;32mfor\u001b[0m \u001b[0mit\u001b[0m\u001b[0;34m,\u001b[0m \u001b[0;34m(\u001b[0m\u001b[0mstrace\u001b[0m\u001b[0;34m,\u001b[0m \u001b[0mdiverging\u001b[0m\u001b[0;34m)\u001b[0m \u001b[0;32min\u001b[0m \u001b[0menumerate\u001b[0m\u001b[0;34m(\u001b[0m\u001b[0msampling\u001b[0m\u001b[0;34m)\u001b[0m\u001b[0;34m:\u001b[0m\u001b[0;34m\u001b[0m\u001b[0;34m\u001b[0m\u001b[0m\n\u001b[0m\u001b[1;32m    856\u001b[0m             \u001b[0;32mif\u001b[0m \u001b[0mit\u001b[0m \u001b[0;34m>=\u001b[0m \u001b[0mskip_first\u001b[0m \u001b[0;32mand\u001b[0m \u001b[0mdiverging\u001b[0m\u001b[0;34m:\u001b[0m\u001b[0;34m\u001b[0m\u001b[0;34m\u001b[0m\u001b[0m\n\u001b[1;32m    857\u001b[0m                 \u001b[0m_pbar_data\u001b[0m\u001b[0;34m[\u001b[0m\u001b[0;34m\"divergences\"\u001b[0m\u001b[0;34m]\u001b[0m \u001b[0;34m+=\u001b[0m \u001b[0;36m1\u001b[0m\u001b[0;34m\u001b[0m\u001b[0;34m\u001b[0m\u001b[0m\n",
            "\u001b[0;32m/usr/local/lib/python3.7/dist-packages/fastprogress/fastprogress.py\u001b[0m in \u001b[0;36m__iter__\u001b[0;34m(self)\u001b[0m\n\u001b[1;32m     45\u001b[0m         \u001b[0;32mexcept\u001b[0m \u001b[0mException\u001b[0m \u001b[0;32mas\u001b[0m \u001b[0me\u001b[0m\u001b[0;34m:\u001b[0m\u001b[0;34m\u001b[0m\u001b[0;34m\u001b[0m\u001b[0m\n\u001b[1;32m     46\u001b[0m             \u001b[0mself\u001b[0m\u001b[0;34m.\u001b[0m\u001b[0mon_interrupt\u001b[0m\u001b[0;34m(\u001b[0m\u001b[0;34m)\u001b[0m\u001b[0;34m\u001b[0m\u001b[0;34m\u001b[0m\u001b[0m\n\u001b[0;32m---> 47\u001b[0;31m             \u001b[0;32mraise\u001b[0m \u001b[0me\u001b[0m\u001b[0;34m\u001b[0m\u001b[0;34m\u001b[0m\u001b[0m\n\u001b[0m\u001b[1;32m     48\u001b[0m \u001b[0;34m\u001b[0m\u001b[0m\n\u001b[1;32m     49\u001b[0m     \u001b[0;32mdef\u001b[0m \u001b[0mupdate\u001b[0m\u001b[0;34m(\u001b[0m\u001b[0mself\u001b[0m\u001b[0;34m,\u001b[0m \u001b[0mval\u001b[0m\u001b[0;34m)\u001b[0m\u001b[0;34m:\u001b[0m\u001b[0;34m\u001b[0m\u001b[0;34m\u001b[0m\u001b[0m\n",
            "\u001b[0;32m/usr/local/lib/python3.7/dist-packages/fastprogress/fastprogress.py\u001b[0m in \u001b[0;36m__iter__\u001b[0;34m(self)\u001b[0m\n\u001b[1;32m     39\u001b[0m         \u001b[0;32mif\u001b[0m \u001b[0mself\u001b[0m\u001b[0;34m.\u001b[0m\u001b[0mtotal\u001b[0m \u001b[0;34m!=\u001b[0m \u001b[0;36m0\u001b[0m\u001b[0;34m:\u001b[0m \u001b[0mself\u001b[0m\u001b[0;34m.\u001b[0m\u001b[0mupdate\u001b[0m\u001b[0;34m(\u001b[0m\u001b[0;36m0\u001b[0m\u001b[0;34m)\u001b[0m\u001b[0;34m\u001b[0m\u001b[0;34m\u001b[0m\u001b[0m\n\u001b[1;32m     40\u001b[0m         \u001b[0;32mtry\u001b[0m\u001b[0;34m:\u001b[0m\u001b[0;34m\u001b[0m\u001b[0;34m\u001b[0m\u001b[0m\n\u001b[0;32m---> 41\u001b[0;31m             \u001b[0;32mfor\u001b[0m \u001b[0mi\u001b[0m\u001b[0;34m,\u001b[0m\u001b[0mo\u001b[0m \u001b[0;32min\u001b[0m \u001b[0menumerate\u001b[0m\u001b[0;34m(\u001b[0m\u001b[0mself\u001b[0m\u001b[0;34m.\u001b[0m\u001b[0mgen\u001b[0m\u001b[0;34m)\u001b[0m\u001b[0;34m:\u001b[0m\u001b[0;34m\u001b[0m\u001b[0;34m\u001b[0m\u001b[0m\n\u001b[0m\u001b[1;32m     42\u001b[0m                 \u001b[0;32mif\u001b[0m \u001b[0mi\u001b[0m \u001b[0;34m>=\u001b[0m \u001b[0mself\u001b[0m\u001b[0;34m.\u001b[0m\u001b[0mtotal\u001b[0m\u001b[0;34m:\u001b[0m \u001b[0;32mbreak\u001b[0m\u001b[0;34m\u001b[0m\u001b[0;34m\u001b[0m\u001b[0m\n\u001b[1;32m     43\u001b[0m                 \u001b[0;32myield\u001b[0m \u001b[0mo\u001b[0m\u001b[0;34m\u001b[0m\u001b[0;34m\u001b[0m\u001b[0m\n",
            "\u001b[0;32m/usr/local/lib/python3.7/dist-packages/pymc3/sampling.py\u001b[0m in \u001b[0;36m_iter_sample\u001b[0;34m(draws, step, start, trace, chain, tune, model, random_seed, callback)\u001b[0m\n\u001b[1;32m   1008\u001b[0m                 \u001b[0mstep\u001b[0m \u001b[0;34m=\u001b[0m \u001b[0mstop_tuning\u001b[0m\u001b[0;34m(\u001b[0m\u001b[0mstep\u001b[0m\u001b[0;34m)\u001b[0m\u001b[0;34m\u001b[0m\u001b[0;34m\u001b[0m\u001b[0m\n\u001b[1;32m   1009\u001b[0m             \u001b[0;32mif\u001b[0m \u001b[0mstep\u001b[0m\u001b[0;34m.\u001b[0m\u001b[0mgenerates_stats\u001b[0m\u001b[0;34m:\u001b[0m\u001b[0;34m\u001b[0m\u001b[0;34m\u001b[0m\u001b[0m\n\u001b[0;32m-> 1010\u001b[0;31m                 \u001b[0mpoint\u001b[0m\u001b[0;34m,\u001b[0m \u001b[0mstats\u001b[0m \u001b[0;34m=\u001b[0m \u001b[0mstep\u001b[0m\u001b[0;34m.\u001b[0m\u001b[0mstep\u001b[0m\u001b[0;34m(\u001b[0m\u001b[0mpoint\u001b[0m\u001b[0;34m)\u001b[0m\u001b[0;34m\u001b[0m\u001b[0;34m\u001b[0m\u001b[0m\n\u001b[0m\u001b[1;32m   1011\u001b[0m                 \u001b[0;32mif\u001b[0m \u001b[0mstrace\u001b[0m\u001b[0;34m.\u001b[0m\u001b[0msupports_sampler_stats\u001b[0m\u001b[0;34m:\u001b[0m\u001b[0;34m\u001b[0m\u001b[0;34m\u001b[0m\u001b[0m\n\u001b[1;32m   1012\u001b[0m                     \u001b[0mstrace\u001b[0m\u001b[0;34m.\u001b[0m\u001b[0mrecord\u001b[0m\u001b[0;34m(\u001b[0m\u001b[0mpoint\u001b[0m\u001b[0;34m,\u001b[0m \u001b[0mstats\u001b[0m\u001b[0;34m)\u001b[0m\u001b[0;34m\u001b[0m\u001b[0;34m\u001b[0m\u001b[0m\n",
            "\u001b[0;32m/usr/local/lib/python3.7/dist-packages/pymc3/step_methods/arraystep.py\u001b[0m in \u001b[0;36mstep\u001b[0;34m(self, point)\u001b[0m\n\u001b[1;32m    274\u001b[0m \u001b[0;34m\u001b[0m\u001b[0m\n\u001b[1;32m    275\u001b[0m         \u001b[0;32mif\u001b[0m \u001b[0mself\u001b[0m\u001b[0;34m.\u001b[0m\u001b[0mgenerates_stats\u001b[0m\u001b[0;34m:\u001b[0m\u001b[0;34m\u001b[0m\u001b[0;34m\u001b[0m\u001b[0m\n\u001b[0;32m--> 276\u001b[0;31m             \u001b[0mapoint\u001b[0m\u001b[0;34m,\u001b[0m \u001b[0mstats\u001b[0m \u001b[0;34m=\u001b[0m \u001b[0mself\u001b[0m\u001b[0;34m.\u001b[0m\u001b[0mastep\u001b[0m\u001b[0;34m(\u001b[0m\u001b[0marray\u001b[0m\u001b[0;34m)\u001b[0m\u001b[0;34m\u001b[0m\u001b[0;34m\u001b[0m\u001b[0m\n\u001b[0m\u001b[1;32m    277\u001b[0m             \u001b[0mpoint\u001b[0m \u001b[0;34m=\u001b[0m \u001b[0mself\u001b[0m\u001b[0;34m.\u001b[0m\u001b[0m_logp_dlogp_func\u001b[0m\u001b[0;34m.\u001b[0m\u001b[0marray_to_full_dict\u001b[0m\u001b[0;34m(\u001b[0m\u001b[0mapoint\u001b[0m\u001b[0;34m)\u001b[0m\u001b[0;34m\u001b[0m\u001b[0;34m\u001b[0m\u001b[0m\n\u001b[1;32m    278\u001b[0m             \u001b[0;32mreturn\u001b[0m \u001b[0mpoint\u001b[0m\u001b[0;34m,\u001b[0m \u001b[0mstats\u001b[0m\u001b[0;34m\u001b[0m\u001b[0;34m\u001b[0m\u001b[0m\n",
            "\u001b[0;32m/usr/local/lib/python3.7/dist-packages/pymc3/step_methods/hmc/base_hmc.py\u001b[0m in \u001b[0;36mastep\u001b[0;34m(self, q0)\u001b[0m\n\u001b[1;32m    145\u001b[0m                 \u001b[0;34m(\u001b[0m\u001b[0mnp\u001b[0m\u001b[0;34m.\u001b[0m\u001b[0mabs\u001b[0m\u001b[0;34m(\u001b[0m\u001b[0mcheck_test_point\u001b[0m\u001b[0;34m)\u001b[0m \u001b[0;34m>=\u001b[0m \u001b[0;36m1e20\u001b[0m\u001b[0;34m)\u001b[0m \u001b[0;34m|\u001b[0m \u001b[0mnp\u001b[0m\u001b[0;34m.\u001b[0m\u001b[0misnan\u001b[0m\u001b[0;34m(\u001b[0m\u001b[0mcheck_test_point\u001b[0m\u001b[0;34m)\u001b[0m\u001b[0;34m\u001b[0m\u001b[0;34m\u001b[0m\u001b[0m\n\u001b[1;32m    146\u001b[0m             ]\n\u001b[0;32m--> 147\u001b[0;31m             \u001b[0mself\u001b[0m\u001b[0;34m.\u001b[0m\u001b[0mpotential\u001b[0m\u001b[0;34m.\u001b[0m\u001b[0mraise_ok\u001b[0m\u001b[0;34m(\u001b[0m\u001b[0mself\u001b[0m\u001b[0;34m.\u001b[0m\u001b[0m_logp_dlogp_func\u001b[0m\u001b[0;34m.\u001b[0m\u001b[0m_ordering\u001b[0m\u001b[0;34m.\u001b[0m\u001b[0mvmap\u001b[0m\u001b[0;34m)\u001b[0m\u001b[0;34m\u001b[0m\u001b[0;34m\u001b[0m\u001b[0m\n\u001b[0m\u001b[1;32m    148\u001b[0m             message_energy = (\n\u001b[1;32m    149\u001b[0m                 \u001b[0;34m\"Bad initial energy, check any log probabilities that \"\u001b[0m\u001b[0;34m\u001b[0m\u001b[0;34m\u001b[0m\u001b[0m\n",
            "\u001b[0;32m/usr/local/lib/python3.7/dist-packages/pymc3/step_methods/hmc/quadpotential.py\u001b[0m in \u001b[0;36mraise_ok\u001b[0;34m(self, vmap)\u001b[0m\n\u001b[1;32m    270\u001b[0m                     \u001b[0;34m\"The derivative of RV `{}`.ravel()[{}] is zero.\"\u001b[0m\u001b[0;34m.\u001b[0m\u001b[0mformat\u001b[0m\u001b[0;34m(\u001b[0m\u001b[0;34m*\u001b[0m\u001b[0mname_slc\u001b[0m\u001b[0;34m[\u001b[0m\u001b[0mii\u001b[0m\u001b[0;34m]\u001b[0m\u001b[0;34m)\u001b[0m\u001b[0;34m\u001b[0m\u001b[0;34m\u001b[0m\u001b[0m\n\u001b[1;32m    271\u001b[0m                 )\n\u001b[0;32m--> 272\u001b[0;31m             \u001b[0;32mraise\u001b[0m \u001b[0mValueError\u001b[0m\u001b[0;34m(\u001b[0m\u001b[0;34m\"\\n\"\u001b[0m\u001b[0;34m.\u001b[0m\u001b[0mjoin\u001b[0m\u001b[0;34m(\u001b[0m\u001b[0merrmsg\u001b[0m\u001b[0;34m)\u001b[0m\u001b[0;34m)\u001b[0m\u001b[0;34m\u001b[0m\u001b[0;34m\u001b[0m\u001b[0m\n\u001b[0m\u001b[1;32m    273\u001b[0m \u001b[0;34m\u001b[0m\u001b[0m\n\u001b[1;32m    274\u001b[0m         \u001b[0;32mif\u001b[0m \u001b[0mnp\u001b[0m\u001b[0;34m.\u001b[0m\u001b[0many\u001b[0m\u001b[0;34m(\u001b[0m\u001b[0;34m~\u001b[0m\u001b[0mnp\u001b[0m\u001b[0;34m.\u001b[0m\u001b[0misfinite\u001b[0m\u001b[0;34m(\u001b[0m\u001b[0mself\u001b[0m\u001b[0;34m.\u001b[0m\u001b[0m_stds\u001b[0m\u001b[0;34m)\u001b[0m\u001b[0;34m)\u001b[0m\u001b[0;34m:\u001b[0m\u001b[0;34m\u001b[0m\u001b[0;34m\u001b[0m\u001b[0m\n",
            "\u001b[0;31mValueError\u001b[0m: Mass matrix contains zeros on the diagonal. \nThe derivative of RV `beta`.ravel()[0] is zero.\nThe derivative of RV `beta`.ravel()[1] is zero.\nThe derivative of RV `beta`.ravel()[2] is zero.\nThe derivative of RV `beta`.ravel()[3] is zero.\nThe derivative of RV `beta`.ravel()[4] is zero.\nThe derivative of RV `beta`.ravel()[5] is zero.\nThe derivative of RV `beta`.ravel()[6] is zero.\nThe derivative of RV `beta`.ravel()[7] is zero.\nThe derivative of RV `beta`.ravel()[8] is zero.\nThe derivative of RV `alpha`.ravel()[0] is zero."
          ]
        }
      ],
      "source": [
        "# simple example using default instance of SingleImputer\n",
        "mi = MultipleImputer(return_list=True)\n",
        "mi_data_full = mi.fit_transform(data)"
      ]
    },
    {
      "cell_type": "code",
      "source": [
        "# print the results\n",
        "print_header(\"Results from MultipleImputer running PMM on column y five times\")\n"
      ],
      "metadata": {
        "colab": {
          "base_uri": "https://localhost:8080/",
          "height": 173
        },
        "id": "bczT6Q4TL_ll",
        "outputId": "89a19bbe-14b6-4009-cba6-eef28b744611"
      },
      "execution_count": null,
      "outputs": [
        {
          "output_type": "error",
          "ename": "AttributeError",
          "evalue": "ignored",
          "traceback": [
            "\u001b[0;31m---------------------------------------------------------------------------\u001b[0m",
            "\u001b[0;31mAttributeError\u001b[0m                            Traceback (most recent call last)",
            "\u001b[0;32m<ipython-input-92-0a31f9a44117>\u001b[0m in \u001b[0;36m<module>\u001b[0;34m()\u001b[0m\n\u001b[0;32m----> 1\u001b[0;31m \u001b[0mpd\u001b[0m\u001b[0;34m.\u001b[0m\u001b[0mDataFrame\u001b[0m\u001b[0;34m(\u001b[0m\u001b[0mimp\u001b[0m\u001b[0;34m.\u001b[0m\u001b[0misnull\u001b[0m\u001b[0;34m(\u001b[0m\u001b[0;34m)\u001b[0m\u001b[0;34m.\u001b[0m\u001b[0msum\u001b[0m\u001b[0;34m(\u001b[0m\u001b[0;34m)\u001b[0m\u001b[0;34m,\u001b[0m \u001b[0mcolumns\u001b[0m\u001b[0;34m=\u001b[0m\u001b[0;34m[\u001b[0m\u001b[0;34m\"records missing\"\u001b[0m\u001b[0;34m]\u001b[0m\u001b[0;34m)\u001b[0m\u001b[0;34m.\u001b[0m\u001b[0mT\u001b[0m\u001b[0;34m\u001b[0m\u001b[0;34m\u001b[0m\u001b[0m\n\u001b[0m",
            "\u001b[0;31mAttributeError\u001b[0m: 'generator' object has no attribute 'isnull'"
          ]
        }
      ]
    },
    {
      "cell_type": "code",
      "execution_count": null,
      "metadata": {
        "id": "e1bIc3YMsrnp",
        "colab": {
          "base_uri": "https://localhost:8080/",
          "height": 300
        },
        "outputId": "149de2b1-0ead-445a-f821-12d83642f265"
      },
      "outputs": [
        {
          "output_type": "error",
          "ename": "ValueError",
          "evalue": "ignored",
          "traceback": [
            "\u001b[0;31m---------------------------------------------------------------------------\u001b[0m",
            "\u001b[0;31mValueError\u001b[0m                                Traceback (most recent call last)",
            "\u001b[0;32m<ipython-input-90-c4e838d9a29c>\u001b[0m in \u001b[0;36m<module>\u001b[0;34m()\u001b[0m\n\u001b[0;32m----> 1\u001b[0;31m \u001b[0mtransformed\u001b[0m\u001b[0;34m=\u001b[0m\u001b[0mpd\u001b[0m\u001b[0;34m.\u001b[0m\u001b[0mDataFrame\u001b[0m\u001b[0;34m(\u001b[0m\u001b[0mdata\u001b[0m\u001b[0;34m=\u001b[0m\u001b[0mimp\u001b[0m\u001b[0;34m,\u001b[0m \u001b[0mcolumns\u001b[0m\u001b[0;34m=\u001b[0m\u001b[0mdata\u001b[0m\u001b[0;34m.\u001b[0m\u001b[0mcolumns\u001b[0m\u001b[0;34m)\u001b[0m \u001b[0;31m#numpy to dataframe\u001b[0m\u001b[0;34m\u001b[0m\u001b[0;34m\u001b[0m\u001b[0m\n\u001b[0m",
            "\u001b[0;32m/usr/local/lib/python3.7/dist-packages/pandas/core/frame.py\u001b[0m in \u001b[0;36m__init__\u001b[0;34m(self, data, index, columns, dtype, copy)\u001b[0m\n\u001b[1;32m    728\u001b[0m         \u001b[0;32melse\u001b[0m\u001b[0;34m:\u001b[0m\u001b[0;34m\u001b[0m\u001b[0;34m\u001b[0m\u001b[0m\n\u001b[1;32m    729\u001b[0m             \u001b[0;32mif\u001b[0m \u001b[0mindex\u001b[0m \u001b[0;32mis\u001b[0m \u001b[0;32mNone\u001b[0m \u001b[0;32mor\u001b[0m \u001b[0mcolumns\u001b[0m \u001b[0;32mis\u001b[0m \u001b[0;32mNone\u001b[0m\u001b[0;34m:\u001b[0m\u001b[0;34m\u001b[0m\u001b[0;34m\u001b[0m\u001b[0m\n\u001b[0;32m--> 730\u001b[0;31m                 \u001b[0;32mraise\u001b[0m \u001b[0mValueError\u001b[0m\u001b[0;34m(\u001b[0m\u001b[0;34m\"DataFrame constructor not properly called!\"\u001b[0m\u001b[0;34m)\u001b[0m\u001b[0;34m\u001b[0m\u001b[0;34m\u001b[0m\u001b[0m\n\u001b[0m\u001b[1;32m    731\u001b[0m \u001b[0;34m\u001b[0m\u001b[0m\n\u001b[1;32m    732\u001b[0m             \u001b[0;31m# Argument 1 to \"ensure_index\" has incompatible type \"Collection[Any]\";\u001b[0m\u001b[0;34m\u001b[0m\u001b[0;34m\u001b[0m\u001b[0;34m\u001b[0m\u001b[0m\n",
            "\u001b[0;31mValueError\u001b[0m: DataFrame constructor not properly called!"
          ]
        }
      ],
      "source": [
        "transformed=pd.DataFrame(data=imp, columns=data.columns) #numpy to dataframe"
      ]
    },
    {
      "cell_type": "code",
      "source": [
        "imputed.loc[2163]"
      ],
      "metadata": {
        "colab": {
          "base_uri": "https://localhost:8080/"
        },
        "id": "H4eKaWiyiJUK",
        "outputId": "a982822b-a54f-4f50-e3b8-fe9f4e2dc7ab"
      },
      "execution_count": null,
      "outputs": [
        {
          "output_type": "execute_result",
          "data": {
            "text/plain": [
              "timestamp              1.422630e+09\n",
              "AccelerationX         -2.168107e-01\n",
              "AccelerationY          2.073879e+00\n",
              "AccelerationZ          7.812379e+00\n",
              "MagneticFieldX        -1.460452e+01\n",
              "MagneticFieldY         1.201002e+01\n",
              "MagneticFieldZ        -2.818796e+01\n",
              "Z-AxisAgle(Azimuth)    5.667380e+01\n",
              "X-AxisAngle(Pitch)    -7.126666e+00\n",
              "Y-AxisAngle(Roll)])   -1.428257e+00\n",
              "Name: 2163, dtype: float64"
            ]
          },
          "metadata": {},
          "execution_count": 80
        }
      ]
    },
    {
      "cell_type": "code",
      "source": [
        "transformed.loc[21603]\n"
      ],
      "metadata": {
        "colab": {
          "base_uri": "https://localhost:8080/",
          "height": 523
        },
        "id": "KtmQ0Ug_iOdI",
        "outputId": "fc9e12a8-471d-498d-e0a2-fa9d09b5197a"
      },
      "execution_count": null,
      "outputs": [
        {
          "output_type": "error",
          "ename": "KeyError",
          "evalue": "ignored",
          "traceback": [
            "\u001b[0;31m---------------------------------------------------------------------------\u001b[0m",
            "\u001b[0;31mKeyError\u001b[0m                                  Traceback (most recent call last)",
            "\u001b[0;32m/usr/local/lib/python3.7/dist-packages/pandas/core/indexes/base.py\u001b[0m in \u001b[0;36mget_loc\u001b[0;34m(self, key, method, tolerance)\u001b[0m\n\u001b[1;32m   3360\u001b[0m             \u001b[0;32mtry\u001b[0m\u001b[0;34m:\u001b[0m\u001b[0;34m\u001b[0m\u001b[0;34m\u001b[0m\u001b[0m\n\u001b[0;32m-> 3361\u001b[0;31m                 \u001b[0;32mreturn\u001b[0m \u001b[0mself\u001b[0m\u001b[0;34m.\u001b[0m\u001b[0m_engine\u001b[0m\u001b[0;34m.\u001b[0m\u001b[0mget_loc\u001b[0m\u001b[0;34m(\u001b[0m\u001b[0mcasted_key\u001b[0m\u001b[0;34m)\u001b[0m\u001b[0;34m\u001b[0m\u001b[0;34m\u001b[0m\u001b[0m\n\u001b[0m\u001b[1;32m   3362\u001b[0m             \u001b[0;32mexcept\u001b[0m \u001b[0mKeyError\u001b[0m \u001b[0;32mas\u001b[0m \u001b[0merr\u001b[0m\u001b[0;34m:\u001b[0m\u001b[0;34m\u001b[0m\u001b[0;34m\u001b[0m\u001b[0m\n",
            "\u001b[0;32m/usr/local/lib/python3.7/dist-packages/pandas/_libs/index.pyx\u001b[0m in \u001b[0;36mpandas._libs.index.IndexEngine.get_loc\u001b[0;34m()\u001b[0m\n",
            "\u001b[0;32m/usr/local/lib/python3.7/dist-packages/pandas/_libs/index.pyx\u001b[0m in \u001b[0;36mpandas._libs.index.IndexEngine.get_loc\u001b[0;34m()\u001b[0m\n",
            "\u001b[0;32mpandas/_libs/hashtable_class_helper.pxi\u001b[0m in \u001b[0;36mpandas._libs.hashtable.PyObjectHashTable.get_item\u001b[0;34m()\u001b[0m\n",
            "\u001b[0;32mpandas/_libs/hashtable_class_helper.pxi\u001b[0m in \u001b[0;36mpandas._libs.hashtable.PyObjectHashTable.get_item\u001b[0;34m()\u001b[0m\n",
            "\u001b[0;31mKeyError\u001b[0m: 2160",
            "\nThe above exception was the direct cause of the following exception:\n",
            "\u001b[0;31mKeyError\u001b[0m                                  Traceback (most recent call last)",
            "\u001b[0;32m<ipython-input-82-865e42e6f295>\u001b[0m in \u001b[0;36m<module>\u001b[0;34m()\u001b[0m\n\u001b[0;32m----> 1\u001b[0;31m \u001b[0mtransformed\u001b[0m\u001b[0;34m.\u001b[0m\u001b[0mloc\u001b[0m\u001b[0;34m[\u001b[0m\u001b[0;36m2160\u001b[0m\u001b[0;34m]\u001b[0m\u001b[0;34m\u001b[0m\u001b[0;34m\u001b[0m\u001b[0m\n\u001b[0m",
            "\u001b[0;32m/usr/local/lib/python3.7/dist-packages/pandas/core/indexing.py\u001b[0m in \u001b[0;36m__getitem__\u001b[0;34m(self, key)\u001b[0m\n\u001b[1;32m    929\u001b[0m \u001b[0;34m\u001b[0m\u001b[0m\n\u001b[1;32m    930\u001b[0m             \u001b[0mmaybe_callable\u001b[0m \u001b[0;34m=\u001b[0m \u001b[0mcom\u001b[0m\u001b[0;34m.\u001b[0m\u001b[0mapply_if_callable\u001b[0m\u001b[0;34m(\u001b[0m\u001b[0mkey\u001b[0m\u001b[0;34m,\u001b[0m \u001b[0mself\u001b[0m\u001b[0;34m.\u001b[0m\u001b[0mobj\u001b[0m\u001b[0;34m)\u001b[0m\u001b[0;34m\u001b[0m\u001b[0;34m\u001b[0m\u001b[0m\n\u001b[0;32m--> 931\u001b[0;31m             \u001b[0;32mreturn\u001b[0m \u001b[0mself\u001b[0m\u001b[0;34m.\u001b[0m\u001b[0m_getitem_axis\u001b[0m\u001b[0;34m(\u001b[0m\u001b[0mmaybe_callable\u001b[0m\u001b[0;34m,\u001b[0m \u001b[0maxis\u001b[0m\u001b[0;34m=\u001b[0m\u001b[0maxis\u001b[0m\u001b[0;34m)\u001b[0m\u001b[0;34m\u001b[0m\u001b[0;34m\u001b[0m\u001b[0m\n\u001b[0m\u001b[1;32m    932\u001b[0m \u001b[0;34m\u001b[0m\u001b[0m\n\u001b[1;32m    933\u001b[0m     \u001b[0;32mdef\u001b[0m \u001b[0m_is_scalar_access\u001b[0m\u001b[0;34m(\u001b[0m\u001b[0mself\u001b[0m\u001b[0;34m,\u001b[0m \u001b[0mkey\u001b[0m\u001b[0;34m:\u001b[0m \u001b[0mtuple\u001b[0m\u001b[0;34m)\u001b[0m\u001b[0;34m:\u001b[0m\u001b[0;34m\u001b[0m\u001b[0;34m\u001b[0m\u001b[0m\n",
            "\u001b[0;32m/usr/local/lib/python3.7/dist-packages/pandas/core/indexing.py\u001b[0m in \u001b[0;36m_getitem_axis\u001b[0;34m(self, key, axis)\u001b[0m\n\u001b[1;32m   1162\u001b[0m         \u001b[0;31m# fall thru to straight lookup\u001b[0m\u001b[0;34m\u001b[0m\u001b[0;34m\u001b[0m\u001b[0;34m\u001b[0m\u001b[0m\n\u001b[1;32m   1163\u001b[0m         \u001b[0mself\u001b[0m\u001b[0;34m.\u001b[0m\u001b[0m_validate_key\u001b[0m\u001b[0;34m(\u001b[0m\u001b[0mkey\u001b[0m\u001b[0;34m,\u001b[0m \u001b[0maxis\u001b[0m\u001b[0;34m)\u001b[0m\u001b[0;34m\u001b[0m\u001b[0;34m\u001b[0m\u001b[0m\n\u001b[0;32m-> 1164\u001b[0;31m         \u001b[0;32mreturn\u001b[0m \u001b[0mself\u001b[0m\u001b[0;34m.\u001b[0m\u001b[0m_get_label\u001b[0m\u001b[0;34m(\u001b[0m\u001b[0mkey\u001b[0m\u001b[0;34m,\u001b[0m \u001b[0maxis\u001b[0m\u001b[0;34m=\u001b[0m\u001b[0maxis\u001b[0m\u001b[0;34m)\u001b[0m\u001b[0;34m\u001b[0m\u001b[0;34m\u001b[0m\u001b[0m\n\u001b[0m\u001b[1;32m   1165\u001b[0m \u001b[0;34m\u001b[0m\u001b[0m\n\u001b[1;32m   1166\u001b[0m     \u001b[0;32mdef\u001b[0m \u001b[0m_get_slice_axis\u001b[0m\u001b[0;34m(\u001b[0m\u001b[0mself\u001b[0m\u001b[0;34m,\u001b[0m \u001b[0mslice_obj\u001b[0m\u001b[0;34m:\u001b[0m \u001b[0mslice\u001b[0m\u001b[0;34m,\u001b[0m \u001b[0maxis\u001b[0m\u001b[0;34m:\u001b[0m \u001b[0mint\u001b[0m\u001b[0;34m)\u001b[0m\u001b[0;34m:\u001b[0m\u001b[0;34m\u001b[0m\u001b[0;34m\u001b[0m\u001b[0m\n",
            "\u001b[0;32m/usr/local/lib/python3.7/dist-packages/pandas/core/indexing.py\u001b[0m in \u001b[0;36m_get_label\u001b[0;34m(self, label, axis)\u001b[0m\n\u001b[1;32m   1111\u001b[0m     \u001b[0;32mdef\u001b[0m \u001b[0m_get_label\u001b[0m\u001b[0;34m(\u001b[0m\u001b[0mself\u001b[0m\u001b[0;34m,\u001b[0m \u001b[0mlabel\u001b[0m\u001b[0;34m,\u001b[0m \u001b[0maxis\u001b[0m\u001b[0;34m:\u001b[0m \u001b[0mint\u001b[0m\u001b[0;34m)\u001b[0m\u001b[0;34m:\u001b[0m\u001b[0;34m\u001b[0m\u001b[0;34m\u001b[0m\u001b[0m\n\u001b[1;32m   1112\u001b[0m         \u001b[0;31m# GH#5667 this will fail if the label is not present in the axis.\u001b[0m\u001b[0;34m\u001b[0m\u001b[0;34m\u001b[0m\u001b[0;34m\u001b[0m\u001b[0m\n\u001b[0;32m-> 1113\u001b[0;31m         \u001b[0;32mreturn\u001b[0m \u001b[0mself\u001b[0m\u001b[0;34m.\u001b[0m\u001b[0mobj\u001b[0m\u001b[0;34m.\u001b[0m\u001b[0mxs\u001b[0m\u001b[0;34m(\u001b[0m\u001b[0mlabel\u001b[0m\u001b[0;34m,\u001b[0m \u001b[0maxis\u001b[0m\u001b[0;34m=\u001b[0m\u001b[0maxis\u001b[0m\u001b[0;34m)\u001b[0m\u001b[0;34m\u001b[0m\u001b[0;34m\u001b[0m\u001b[0m\n\u001b[0m\u001b[1;32m   1114\u001b[0m \u001b[0;34m\u001b[0m\u001b[0m\n\u001b[1;32m   1115\u001b[0m     \u001b[0;32mdef\u001b[0m \u001b[0m_handle_lowerdim_multi_index_axis0\u001b[0m\u001b[0;34m(\u001b[0m\u001b[0mself\u001b[0m\u001b[0;34m,\u001b[0m \u001b[0mtup\u001b[0m\u001b[0;34m:\u001b[0m \u001b[0mtuple\u001b[0m\u001b[0;34m)\u001b[0m\u001b[0;34m:\u001b[0m\u001b[0;34m\u001b[0m\u001b[0;34m\u001b[0m\u001b[0m\n",
            "\u001b[0;32m/usr/local/lib/python3.7/dist-packages/pandas/core/generic.py\u001b[0m in \u001b[0;36mxs\u001b[0;34m(self, key, axis, level, drop_level)\u001b[0m\n\u001b[1;32m   3774\u001b[0m                 \u001b[0;32mraise\u001b[0m \u001b[0mTypeError\u001b[0m\u001b[0;34m(\u001b[0m\u001b[0;34mf\"Expected label or tuple of labels, got {key}\"\u001b[0m\u001b[0;34m)\u001b[0m \u001b[0;32mfrom\u001b[0m \u001b[0me\u001b[0m\u001b[0;34m\u001b[0m\u001b[0;34m\u001b[0m\u001b[0m\n\u001b[1;32m   3775\u001b[0m         \u001b[0;32melse\u001b[0m\u001b[0;34m:\u001b[0m\u001b[0;34m\u001b[0m\u001b[0;34m\u001b[0m\u001b[0m\n\u001b[0;32m-> 3776\u001b[0;31m             \u001b[0mloc\u001b[0m \u001b[0;34m=\u001b[0m \u001b[0mindex\u001b[0m\u001b[0;34m.\u001b[0m\u001b[0mget_loc\u001b[0m\u001b[0;34m(\u001b[0m\u001b[0mkey\u001b[0m\u001b[0;34m)\u001b[0m\u001b[0;34m\u001b[0m\u001b[0;34m\u001b[0m\u001b[0m\n\u001b[0m\u001b[1;32m   3777\u001b[0m \u001b[0;34m\u001b[0m\u001b[0m\n\u001b[1;32m   3778\u001b[0m             \u001b[0;32mif\u001b[0m \u001b[0misinstance\u001b[0m\u001b[0;34m(\u001b[0m\u001b[0mloc\u001b[0m\u001b[0;34m,\u001b[0m \u001b[0mnp\u001b[0m\u001b[0;34m.\u001b[0m\u001b[0mndarray\u001b[0m\u001b[0;34m)\u001b[0m\u001b[0;34m:\u001b[0m\u001b[0;34m\u001b[0m\u001b[0;34m\u001b[0m\u001b[0m\n",
            "\u001b[0;32m/usr/local/lib/python3.7/dist-packages/pandas/core/indexes/base.py\u001b[0m in \u001b[0;36mget_loc\u001b[0;34m(self, key, method, tolerance)\u001b[0m\n\u001b[1;32m   3361\u001b[0m                 \u001b[0;32mreturn\u001b[0m \u001b[0mself\u001b[0m\u001b[0;34m.\u001b[0m\u001b[0m_engine\u001b[0m\u001b[0;34m.\u001b[0m\u001b[0mget_loc\u001b[0m\u001b[0;34m(\u001b[0m\u001b[0mcasted_key\u001b[0m\u001b[0;34m)\u001b[0m\u001b[0;34m\u001b[0m\u001b[0;34m\u001b[0m\u001b[0m\n\u001b[1;32m   3362\u001b[0m             \u001b[0;32mexcept\u001b[0m \u001b[0mKeyError\u001b[0m \u001b[0;32mas\u001b[0m \u001b[0merr\u001b[0m\u001b[0;34m:\u001b[0m\u001b[0;34m\u001b[0m\u001b[0;34m\u001b[0m\u001b[0m\n\u001b[0;32m-> 3363\u001b[0;31m                 \u001b[0;32mraise\u001b[0m \u001b[0mKeyError\u001b[0m\u001b[0;34m(\u001b[0m\u001b[0mkey\u001b[0m\u001b[0;34m)\u001b[0m \u001b[0;32mfrom\u001b[0m \u001b[0merr\u001b[0m\u001b[0;34m\u001b[0m\u001b[0;34m\u001b[0m\u001b[0m\n\u001b[0m\u001b[1;32m   3364\u001b[0m \u001b[0;34m\u001b[0m\u001b[0m\n\u001b[1;32m   3365\u001b[0m         \u001b[0;32mif\u001b[0m \u001b[0mis_scalar\u001b[0m\u001b[0;34m(\u001b[0m\u001b[0mkey\u001b[0m\u001b[0;34m)\u001b[0m \u001b[0;32mand\u001b[0m \u001b[0misna\u001b[0m\u001b[0;34m(\u001b[0m\u001b[0mkey\u001b[0m\u001b[0;34m)\u001b[0m \u001b[0;32mand\u001b[0m \u001b[0;32mnot\u001b[0m \u001b[0mself\u001b[0m\u001b[0;34m.\u001b[0m\u001b[0mhasnans\u001b[0m\u001b[0;34m:\u001b[0m\u001b[0;34m\u001b[0m\u001b[0;34m\u001b[0m\u001b[0m\n",
            "\u001b[0;31mKeyError\u001b[0m: 2160"
          ]
        }
      ]
    },
    {
      "cell_type": "markdown",
      "metadata": {
        "id": "l-9DkGRuu2y6"
      },
      "source": [
        "another try"
      ]
    },
    {
      "cell_type": "code",
      "execution_count": null,
      "metadata": {
        "id": "2gp9T8Tct7rB"
      },
      "outputs": [],
      "source": [
        "from autoimpute.imputations import SingleImputer, MultipleImputer, MiceImputer\n",
        "si = SingleImputer() # pass through data once\n",
        "mi = MultipleImputer() # pass through data multiple times\n",
        "mice = MiceImputer() # pass through data multiple times and iteratively optimize imputations in each column"
      ]
    },
    {
      "cell_type": "code",
      "execution_count": null,
      "metadata": {
        "id": "EdCPgiVhvX53"
      },
      "outputs": [],
      "source": [
        "#dataframe to narray\n",
        "#nXpd = Xpd.to_numpy()"
      ]
    },
    {
      "cell_type": "code",
      "execution_count": null,
      "metadata": {
        "id": "4fqXU79sx2VW"
      },
      "outputs": [],
      "source": [
        "#nXpd"
      ]
    },
    {
      "cell_type": "code",
      "execution_count": null,
      "metadata": {
        "id": "x1hRIdzLu5wi"
      },
      "outputs": [],
      "source": [
        "# simple example using default instance of MiceImputer\n",
        "#imp = MiceImputer()\n",
        "\n",
        "# fit transform returns a generator by default, calculating each imputation method lazily\n",
        "#nXpd_filled = imp.fit_transform(Xpd)"
      ]
    },
    {
      "cell_type": "code",
      "execution_count": null,
      "metadata": {
        "id": "8GLQGtaryRQz"
      },
      "outputs": [],
      "source": [
        "#nXpd_filled"
      ]
    },
    {
      "cell_type": "code",
      "execution_count": null,
      "metadata": {
        "id": "sj5rJArcw9k5"
      },
      "outputs": [],
      "source": [
        "#transformed=pd.DataFrame(data=nXpd_filled, columns=X.columns) #generator object to dataframe"
      ]
    },
    {
      "cell_type": "markdown",
      "metadata": {
        "id": "L9KeR_jCi6Td"
      },
      "source": [
        "### Visualizing predicted values\n",
        "When dealing with time series data, it's useful to visualize model predictions on top of the \"actual\" values that are used to test the model.\n",
        "\n",
        "In this exercise, after splitting the data (stored in the variables ```X``` and ```y```) into training and test sets, you'll build a model and then visualize the model's predictions on top of the testing data in order to estimate the model's performance."
      ]
    },
    {
      "cell_type": "code",
      "execution_count": null,
      "metadata": {
        "id": "TfMrGALni6Tm"
      },
      "outputs": [],
      "source": [
        "from sklearn.model_selection import train_test_split\n",
        "from sklearn.metrics import r2_score\n",
        "\n",
        "# Split our data into training and test sets\n",
        "X_train, X_test, y_train, y_test = train_test_split(X, y, train_size=0.8,\n",
        "                                                   shuffle=False, random_state=1)\n",
        "\n",
        "# Fit our model and generate predictions\n",
        "model = Ridge()\n",
        "model.fit(X_train, y_train)\n",
        "predictions = model.predict(X_test)\n",
        "score = r2_score(y_test, predictions)\n",
        "print(score)"
      ]
    },
    {
      "cell_type": "code",
      "execution_count": null,
      "metadata": {
        "id": "1nRVab-di6Tu"
      },
      "outputs": [],
      "source": [
        "# Visualize our predictions along with the \"true\" values, and print the score\n",
        "fig, ax = plt.subplots(figsize=(15, 5))\n",
        "ax.plot(range(len(y_test)), y_test, color='k', lw=3);\n",
        "ax.plot(range(len(predictions)), predictions, color='r', lw=2);"
      ]
    },
    {
      "cell_type": "markdown",
      "metadata": {
        "id": "dnxorvfhi6Tx"
      },
      "source": [
        "## Advanced time series prediction\n",
        "- Data is messy\n",
        "    - Real-world data is often messy\n",
        "    - The two most common problems are missing data and outliers\n",
        "    - This often happens because of human error, machine error malfunction, database failure, etc..\n",
        "    - Visualizing your raw data makes it easier to spot these problems\n",
        "- Interpolation: using time to fill in missing data\n",
        "    - A common way to deal with missing data is to interpolate missing values\n",
        "    - With timeseries data, you can use time to assist in interpolation.\n",
        "    - In this case, interpolation means using the known values on either side of a gap in the data to make assumptions about what's missing\n",
        "- Using a rolling window to transform data\n",
        "    - Another common use of rolling windows is to transform the data\n",
        "- Finding outliers in your data\n",
        "    - Outliers are datapoints that are significantly statistically different from the dataset.\n",
        "    - They can have negative effects on the predictive power of your model, biasing it away from its \"true\" value\n",
        "    - One solution is to remove or replace outliers with a more representative value\n",
        "> Note: Be very careful about doing this - often it is difficult to determine what is a legitimately extreme value vs an abberation."
      ]
    },
    {
      "cell_type": "markdown",
      "metadata": {
        "id": "8hzjMX0Qi6Tz"
      },
      "source": [
        "### Visualizing messy data\n",
        "Let's take a look at a new dataset - this one is a bit less-clean than what you've seen before.\n",
        "\n",
        "As always, you'll first start by visualizing the raw data. Take a close look and try to find datapoints that could be problematic for fitting models."
      ]
    },
    {
      "cell_type": "code",
      "execution_count": null,
      "metadata": {
        "id": "w30C_7Sbi6T2"
      },
      "outputs": [],
      "source": [
        "prices = pd.read_csv('./dataset/prices_null.csv', index_col=0, parse_dates=True)"
      ]
    },
    {
      "cell_type": "code",
      "execution_count": null,
      "metadata": {
        "id": "N_rCqZp-i6US"
      },
      "outputs": [],
      "source": [
        "# Visualize the dataset\n",
        "prices.plot(legend=False);\n",
        "plt.tight_layout();\n",
        "\n",
        "# Count the missing values of each time series\n",
        "missing_values = prices.isnull().sum()\n",
        "print(missing_values)"
      ]
    },
    {
      "cell_type": "markdown",
      "metadata": {
        "id": "GEs_TjcSi6Ui"
      },
      "source": [
        "### Transforming raw data\n",
        "In the last chapter, you calculated the rolling mean. In this exercise, you will define a function that calculates the percent change of the latest data point from the mean of a window of previous data points. This function will help you calculate the percent change over a rolling window.\n",
        "\n",
        "This is a more stable kind of time series that is often useful in machine learning."
      ]
    },
    {
      "cell_type": "code",
      "execution_count": null,
      "metadata": {
        "id": "NZKslkVoi6Uk"
      },
      "outputs": [],
      "source": [
        "# Your custom function\n",
        "def percent_change(series):\n",
        "    # Collect all *but* the last value of this window, then the final value\n",
        "    previous_values = series[:-1]\n",
        "    last_value = series[-1]\n",
        "    \n",
        "    # Calculate the % difference between the last value and the mean of earlier values\n",
        "    percent_change = (last_value - np.mean(previous_values)) / np.mean(previous_values)\n",
        "    return percent_change\n",
        "\n",
        "# Apply your custom function and plot\n",
        "prices_perc = prices.rolling(20).apply(percent_change)\n",
        "prices_perc.loc[\"2014\":\"2015\"].plot();"
      ]
    },
    {
      "cell_type": "markdown",
      "metadata": {
        "id": "rzUep46ki6Um"
      },
      "source": [
        "### Handling outliers\n",
        "In this exercise, you'll handle outliers - data points that are so different from the rest of your data, that you treat them differently from other \"normal-looking\" data points. You'll use the output from the previous exercise (percent change over time) to detect the outliers. First you will write a function that replaces outlier data points with the median value from the entire time series."
      ]
    },
    {
      "cell_type": "code",
      "execution_count": null,
      "metadata": {
        "id": "RJTp_36Vi6Up"
      },
      "outputs": [],
      "source": [
        "def replace_outliers(series):\n",
        "    # Calculate the absolute difference of each timepoint from the series mean\n",
        "    absolute_differences_from_mean = np.abs(series - np.mean(series))\n",
        "    \n",
        "    # Calculate a mask for the difference that are > 3 standard deviations from zero\n",
        "    this_mask = absolute_differences_from_mean > (np.std(series) * 3)\n",
        "    \n",
        "    # Replace these values with the median across the data\n",
        "    series[this_mask] = np.nanmedian(series)\n",
        "    return series\n",
        "\n",
        "# Apply your preprocessing functino to the timeseries and plot the results\n",
        "prices_perc = prices_perc.apply(replace_outliers)\n",
        "prices_perc.loc[\"2014\":\"2015\"].plot();"
      ]
    },
    {
      "cell_type": "markdown",
      "metadata": {
        "id": "inyM8CuSi6Ur"
      },
      "source": [
        "## Creating features over time\n",
        "- Calculating \"date-based\" features\n",
        "    - Thus far we've focused on calculating \"statistical\" features - these are features that correspond statistical properties of the data, like \"mean\" , \"standard deviation\", etc\n",
        "    - However, don't forget the timeseries data oftenhas more \"human\" features associated with it, like days of the week, holidays, etc.\n",
        "    - These features are often useful when dealing with timeseries data that spans multiple years (such as stock value over time)"
      ]
    },
    {
      "cell_type": "markdown",
      "metadata": {
        "id": "__pUB497i6Ut"
      },
      "source": [
        "### Engineering multiple rolling features at once\n",
        "Now that you've practiced some simple feature engineering, let's move on to something more complex. You'll calculate a collection of features for your time series data and visualize what they look like over time. This process resembles how many other time series models operate."
      ]
    },
    {
      "cell_type": "code",
      "execution_count": null,
      "metadata": {
        "id": "RW4VKOrxi6Uu"
      },
      "outputs": [],
      "source": [
        "# Define a rolling window with Pandas, excluding the right-most datapoint of the window\n",
        "prices_perc_rolling = prices_perc['EBAY'].rolling(20, min_periods=5, closed='right')\n",
        "\n",
        "# Define the features you'll calculate for each window\n",
        "features_to_calculate = [np.min, np.max, np.mean, np.std]\n",
        "\n",
        "# Calculate these features for your rolling window object\n",
        "features = prices_perc_rolling.aggregate(features_to_calculate)\n",
        "\n",
        "# Plot the results\n",
        "ax = features.loc[:\"2011-01\"].plot();\n",
        "prices_perc['EBAY'].loc[:\"2011-01\"].plot(ax=ax, color='k', alpha=0.2, lw=3);\n",
        "ax.legend(loc=(1.01, 0.6));"
      ]
    },
    {
      "cell_type": "markdown",
      "metadata": {
        "id": "wOIqGYo3i6Uw"
      },
      "source": [
        "### Percentiles and partial functions\n",
        "In this exercise, you'll practice how to pre-choose arguments of a function so that you can pre-configure how it runs. You'll use this to calculate several percentiles of your data using the same ```percentile()``` function in numpy."
      ]
    },
    {
      "cell_type": "code",
      "execution_count": null,
      "metadata": {
        "id": "F6P_8sAdi6Ux"
      },
      "outputs": [],
      "source": [
        "from functools import partial\n",
        "percentiles = [1, 10, 25, 50, 75, 90, 99]\n",
        "\n",
        "# Use a list comprehension to create a partial function for each quantile\n",
        "percentile_functions = [partial(np.percentile, q=percentile) for percentile in percentiles]\n",
        "\n",
        "# Calculate each of these quantiles on the data using a rolling window\n",
        "prices_perc_rolling = prices_perc['EBAY'].rolling(20, min_periods=5, closed='right')\n",
        "features_percentiles = prices_perc_rolling.aggregate(percentile_functions)\n",
        "\n",
        "# Plot a subset of the result\n",
        "ax = features_percentiles.loc[:\"2011-01\"].plot(cmap=plt.cm.viridis);\n",
        "ax.legend(percentiles, loc=(1.01, 0.5));\n",
        "plt.savefig('../images/price_percentile.png')"
      ]
    },
    {
      "cell_type": "markdown",
      "metadata": {
        "id": "E-oDsi5Hi6Uz"
      },
      "source": [
        "### Using \"date\" information\n",
        "It's easy to think of timestamps as pure numbers, but don't forget they generally correspond to things that happen in the real world. That means there's often extra information encoded in the data such as \"is it a weekday?\" or \"is it a holiday?\". This information is often useful in predicting timeseries data."
      ]
    },
    {
      "cell_type": "code",
      "execution_count": null,
      "metadata": {
        "id": "-YYHre1oi6U6"
      },
      "outputs": [],
      "source": [
        "# Extract date features from the data, add them as columns\n",
        "prices_perc['day_of_week'] = prices_perc.index.dayofweek\n",
        "prices_perc['week_of_year'] = prices_perc.index.weekofyear\n",
        "prices_perc['month_of_year'] = prices_perc.index.month\n",
        "\n",
        "# Print prices_perc\n",
        "print(prices_perc)"
      ]
    }
  ],
  "metadata": {
    "colab": {
      "provenance": [],
      "collapsed_sections": [
        "MCKHwqghgOMC",
        "L9KeR_jCi6Td",
        "8hzjMX0Qi6Tz",
        "GEs_TjcSi6Ui",
        "rzUep46ki6Um",
        "__pUB497i6Ut",
        "wOIqGYo3i6Uw",
        "E-oDsi5Hi6Uz"
      ],
      "include_colab_link": true
    },
    "kernelspec": {
      "display_name": "Python 3",
      "language": "python",
      "name": "python3"
    },
    "language_info": {
      "codemirror_mode": {
        "name": "ipython",
        "version": 3
      },
      "file_extension": ".py",
      "mimetype": "text/x-python",
      "name": "python",
      "nbconvert_exporter": "python",
      "pygments_lexer": "ipython3",
      "version": "3.7.6"
    }
  },
  "nbformat": 4,
  "nbformat_minor": 0
}