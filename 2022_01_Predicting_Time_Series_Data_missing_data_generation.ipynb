{
  "cells": [
    {
      "cell_type": "markdown",
      "metadata": {
        "id": "view-in-github",
        "colab_type": "text"
      },
      "source": [
        "<a href=\"https://colab.research.google.com/github/rihannababzadeh/Machine-Learning-Projects/blob/main/2022_01_Predicting_Time_Series_Data_missing_data_generation.ipynb\" target=\"_parent\"><img src=\"https://colab.research.google.com/assets/colab-badge.svg\" alt=\"Open In Colab\"/></a>"
      ]
    },
    {
      "cell_type": "markdown",
      "metadata": {
        "id": "K332ybNbi6Qi"
      },
      "source": [
        "# Predicting and imputing Time Series Data\n",
        "> Paper: A multisource and multivariate dataset for indoor localization methods based on WLAN and geo-magnetic field fingerprinting -Ipin2016\n",
        "\n",
        ">Dataset: measure1_smartphone_sens"
      ]
    },
    {
      "cell_type": "code",
      "execution_count": null,
      "metadata": {
        "id": "vpYKlUYQi6RO"
      },
      "outputs": [],
      "source": [
        "import pandas as pd\n",
        "import numpy as np\n",
        "import matplotlib.pyplot as plt\n",
        "import seaborn as sns\n",
        "\n",
        "plt.rcParams['figure.figsize'] = (10, 5)\n",
        "plt.style.use('fivethirtyeight')"
      ]
    },
    {
      "cell_type": "code",
      "execution_count": null,
      "metadata": {
        "colab": {
          "base_uri": "https://localhost:8080/",
          "height": 273,
          "resources": {
            "http://localhost:8080/nbextensions/google.colab/files.js": {
              "data": "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",
              "headers": [
                [
                  "content-type",
                  "application/javascript"
                ]
              ],
              "ok": true,
              "status": 200,
              "status_text": "OK"
            }
          }
        },
        "id": "IxiFEnhTi6SF",
        "outputId": "f9a352b6-b435-4b6f-f43c-ecf1ef0b3ba8"
      },
      "outputs": [
        {
          "output_type": "display_data",
          "data": {
            "text/plain": [
              "<IPython.core.display.HTML object>"
            ],
            "text/html": [
              "\n",
              "     <input type=\"file\" id=\"files-c1b1e01f-702f-4114-aa47-061f385176ba\" name=\"files[]\" multiple disabled\n",
              "        style=\"border:none\" />\n",
              "     <output id=\"result-c1b1e01f-702f-4114-aa47-061f385176ba\">\n",
              "      Upload widget is only available when the cell has been executed in the\n",
              "      current browser session. Please rerun this cell to enable.\n",
              "      </output>\n",
              "      <script src=\"/nbextensions/google.colab/files.js\"></script> "
            ]
          },
          "metadata": {}
        },
        {
          "output_type": "stream",
          "name": "stdout",
          "text": [
            "Saving one_day.csv to one_day.csv\n"
          ]
        },
        {
          "output_type": "execute_result",
          "data": {
            "text/plain": [
              "    timestamp   AccelerationX   AccelerationY   AccelerationZ  \\\n",
              "0  1422629483          -3.577           2.104           9.078   \n",
              "1  1422629484          -3.424           2.927           9.374   \n",
              "2  1422629484          -2.505           2.908           8.867   \n",
              "3  1422629484          -5.473           1.472           9.394   \n",
              "4  1422629484          -3.414           2.018           8.187   \n",
              "\n",
              "    MagneticFieldX   MagneticFieldY   MagneticFieldZ   Z-AxisAgle(Azimuth)  \\\n",
              "0             -5.4            -17.9            -28.2               126.404   \n",
              "1             -4.3            -21.9            -26.9               134.694   \n",
              "2             -0.7            -24.4            -26.5               150.906   \n",
              "3              0.3            -25.7            -26.9               138.022   \n",
              "4              3.7            -29.6            -23.9               163.519   \n",
              "\n",
              "    X-AxisAngle(Pitch)   Y-AxisAngle(Roll)   GyroX   GyroY   GyroZ  \n",
              "0              -12.169             -21.001       0       0       0  \n",
              "1              -11.322             -25.898       0       0       0  \n",
              "2              -17.523             -15.017       0       0       0  \n",
              "3              -21.068             -23.941       0       0       0  \n",
              "4              -12.814             -22.046       0       0       0  "
            ],
            "text/html": [
              "\n",
              "  <div id=\"df-6940f9cc-8447-429c-b99f-1da73f66e5fe\">\n",
              "    <div class=\"colab-df-container\">\n",
              "      <div>\n",
              "<style scoped>\n",
              "    .dataframe tbody tr th:only-of-type {\n",
              "        vertical-align: middle;\n",
              "    }\n",
              "\n",
              "    .dataframe tbody tr th {\n",
              "        vertical-align: top;\n",
              "    }\n",
              "\n",
              "    .dataframe thead th {\n",
              "        text-align: right;\n",
              "    }\n",
              "</style>\n",
              "<table border=\"1\" class=\"dataframe\">\n",
              "  <thead>\n",
              "    <tr style=\"text-align: right;\">\n",
              "      <th></th>\n",
              "      <th>timestamp</th>\n",
              "      <th>AccelerationX</th>\n",
              "      <th>AccelerationY</th>\n",
              "      <th>AccelerationZ</th>\n",
              "      <th>MagneticFieldX</th>\n",
              "      <th>MagneticFieldY</th>\n",
              "      <th>MagneticFieldZ</th>\n",
              "      <th>Z-AxisAgle(Azimuth)</th>\n",
              "      <th>X-AxisAngle(Pitch)</th>\n",
              "      <th>Y-AxisAngle(Roll)</th>\n",
              "      <th>GyroX</th>\n",
              "      <th>GyroY</th>\n",
              "      <th>GyroZ</th>\n",
              "    </tr>\n",
              "  </thead>\n",
              "  <tbody>\n",
              "    <tr>\n",
              "      <th>0</th>\n",
              "      <td>1422629483</td>\n",
              "      <td>-3.577</td>\n",
              "      <td>2.104</td>\n",
              "      <td>9.078</td>\n",
              "      <td>-5.4</td>\n",
              "      <td>-17.9</td>\n",
              "      <td>-28.2</td>\n",
              "      <td>126.404</td>\n",
              "      <td>-12.169</td>\n",
              "      <td>-21.001</td>\n",
              "      <td>0</td>\n",
              "      <td>0</td>\n",
              "      <td>0</td>\n",
              "    </tr>\n",
              "    <tr>\n",
              "      <th>1</th>\n",
              "      <td>1422629484</td>\n",
              "      <td>-3.424</td>\n",
              "      <td>2.927</td>\n",
              "      <td>9.374</td>\n",
              "      <td>-4.3</td>\n",
              "      <td>-21.9</td>\n",
              "      <td>-26.9</td>\n",
              "      <td>134.694</td>\n",
              "      <td>-11.322</td>\n",
              "      <td>-25.898</td>\n",
              "      <td>0</td>\n",
              "      <td>0</td>\n",
              "      <td>0</td>\n",
              "    </tr>\n",
              "    <tr>\n",
              "      <th>2</th>\n",
              "      <td>1422629484</td>\n",
              "      <td>-2.505</td>\n",
              "      <td>2.908</td>\n",
              "      <td>8.867</td>\n",
              "      <td>-0.7</td>\n",
              "      <td>-24.4</td>\n",
              "      <td>-26.5</td>\n",
              "      <td>150.906</td>\n",
              "      <td>-17.523</td>\n",
              "      <td>-15.017</td>\n",
              "      <td>0</td>\n",
              "      <td>0</td>\n",
              "      <td>0</td>\n",
              "    </tr>\n",
              "    <tr>\n",
              "      <th>3</th>\n",
              "      <td>1422629484</td>\n",
              "      <td>-5.473</td>\n",
              "      <td>1.472</td>\n",
              "      <td>9.394</td>\n",
              "      <td>0.3</td>\n",
              "      <td>-25.7</td>\n",
              "      <td>-26.9</td>\n",
              "      <td>138.022</td>\n",
              "      <td>-21.068</td>\n",
              "      <td>-23.941</td>\n",
              "      <td>0</td>\n",
              "      <td>0</td>\n",
              "      <td>0</td>\n",
              "    </tr>\n",
              "    <tr>\n",
              "      <th>4</th>\n",
              "      <td>1422629484</td>\n",
              "      <td>-3.414</td>\n",
              "      <td>2.018</td>\n",
              "      <td>8.187</td>\n",
              "      <td>3.7</td>\n",
              "      <td>-29.6</td>\n",
              "      <td>-23.9</td>\n",
              "      <td>163.519</td>\n",
              "      <td>-12.814</td>\n",
              "      <td>-22.046</td>\n",
              "      <td>0</td>\n",
              "      <td>0</td>\n",
              "      <td>0</td>\n",
              "    </tr>\n",
              "  </tbody>\n",
              "</table>\n",
              "</div>\n",
              "      <button class=\"colab-df-convert\" onclick=\"convertToInteractive('df-6940f9cc-8447-429c-b99f-1da73f66e5fe')\"\n",
              "              title=\"Convert this dataframe to an interactive table.\"\n",
              "              style=\"display:none;\">\n",
              "        \n",
              "  <svg xmlns=\"http://www.w3.org/2000/svg\" height=\"24px\"viewBox=\"0 0 24 24\"\n",
              "       width=\"24px\">\n",
              "    <path d=\"M0 0h24v24H0V0z\" fill=\"none\"/>\n",
              "    <path d=\"M18.56 5.44l.94 2.06.94-2.06 2.06-.94-2.06-.94-.94-2.06-.94 2.06-2.06.94zm-11 1L8.5 8.5l.94-2.06 2.06-.94-2.06-.94L8.5 2.5l-.94 2.06-2.06.94zm10 10l.94 2.06.94-2.06 2.06-.94-2.06-.94-.94-2.06-.94 2.06-2.06.94z\"/><path d=\"M17.41 7.96l-1.37-1.37c-.4-.4-.92-.59-1.43-.59-.52 0-1.04.2-1.43.59L10.3 9.45l-7.72 7.72c-.78.78-.78 2.05 0 2.83L4 21.41c.39.39.9.59 1.41.59.51 0 1.02-.2 1.41-.59l7.78-7.78 2.81-2.81c.8-.78.8-2.07 0-2.86zM5.41 20L4 18.59l7.72-7.72 1.47 1.35L5.41 20z\"/>\n",
              "  </svg>\n",
              "      </button>\n",
              "      \n",
              "  <style>\n",
              "    .colab-df-container {\n",
              "      display:flex;\n",
              "      flex-wrap:wrap;\n",
              "      gap: 12px;\n",
              "    }\n",
              "\n",
              "    .colab-df-convert {\n",
              "      background-color: #E8F0FE;\n",
              "      border: none;\n",
              "      border-radius: 50%;\n",
              "      cursor: pointer;\n",
              "      display: none;\n",
              "      fill: #1967D2;\n",
              "      height: 32px;\n",
              "      padding: 0 0 0 0;\n",
              "      width: 32px;\n",
              "    }\n",
              "\n",
              "    .colab-df-convert:hover {\n",
              "      background-color: #E2EBFA;\n",
              "      box-shadow: 0px 1px 2px rgba(60, 64, 67, 0.3), 0px 1px 3px 1px rgba(60, 64, 67, 0.15);\n",
              "      fill: #174EA6;\n",
              "    }\n",
              "\n",
              "    [theme=dark] .colab-df-convert {\n",
              "      background-color: #3B4455;\n",
              "      fill: #D2E3FC;\n",
              "    }\n",
              "\n",
              "    [theme=dark] .colab-df-convert:hover {\n",
              "      background-color: #434B5C;\n",
              "      box-shadow: 0px 1px 3px 1px rgba(0, 0, 0, 0.15);\n",
              "      filter: drop-shadow(0px 1px 2px rgba(0, 0, 0, 0.3));\n",
              "      fill: #FFFFFF;\n",
              "    }\n",
              "  </style>\n",
              "\n",
              "      <script>\n",
              "        const buttonEl =\n",
              "          document.querySelector('#df-6940f9cc-8447-429c-b99f-1da73f66e5fe button.colab-df-convert');\n",
              "        buttonEl.style.display =\n",
              "          google.colab.kernel.accessAllowed ? 'block' : 'none';\n",
              "\n",
              "        async function convertToInteractive(key) {\n",
              "          const element = document.querySelector('#df-6940f9cc-8447-429c-b99f-1da73f66e5fe');\n",
              "          const dataTable =\n",
              "            await google.colab.kernel.invokeFunction('convertToInteractive',\n",
              "                                                     [key], {});\n",
              "          if (!dataTable) return;\n",
              "\n",
              "          const docLinkHtml = 'Like what you see? Visit the ' +\n",
              "            '<a target=\"_blank\" href=https://colab.research.google.com/notebooks/data_table.ipynb>data table notebook</a>'\n",
              "            + ' to learn more about interactive tables.';\n",
              "          element.innerHTML = '';\n",
              "          dataTable['output_type'] = 'display_data';\n",
              "          await google.colab.output.renderOutput(dataTable, element);\n",
              "          const docLink = document.createElement('div');\n",
              "          docLink.innerHTML = docLinkHtml;\n",
              "          element.appendChild(docLink);\n",
              "        }\n",
              "      </script>\n",
              "    </div>\n",
              "  </div>\n",
              "  "
            ]
          },
          "metadata": {},
          "execution_count": 2
        }
      ],
      "source": [
        "from google.colab import files\n",
        "uploaded = files.upload()\n",
        "import io\n",
        "data = pd.read_csv(io.BytesIO(uploaded['one_day.csv']))\n",
        "data.head()\n",
        "# in this file, I took one day as a sample"
      ]
    },
    {
      "cell_type": "code",
      "execution_count": null,
      "metadata": {
        "id": "aayFb4gbYhKq"
      },
      "outputs": [],
      "source": [
        "# import pandas as pd\n",
        "# pd.options.mode.chained_assignment = None  # default='warn'\n",
        "\n",
        "# data.iloc[0]['timestamp'] =data.iloc[0]['timestamp']*0.001"
      ]
    },
    {
      "cell_type": "code",
      "execution_count": null,
      "metadata": {
        "colab": {
          "base_uri": "https://localhost:8080/"
        },
        "id": "EcxXyNceVc9k",
        "outputId": "1258150e-a9f2-471c-e5d1-9c9c04a58d86"
      },
      "outputs": [
        {
          "output_type": "execute_result",
          "data": {
            "text/plain": [
              "1422629484.0"
            ]
          },
          "metadata": {},
          "execution_count": 3
        }
      ],
      "source": [
        "data.loc[4]['timestamp'] "
      ]
    },
    {
      "cell_type": "code",
      "execution_count": null,
      "metadata": {
        "id": "_m_08fGIsdOi"
      },
      "outputs": [],
      "source": [
        "res = data"
      ]
    },
    {
      "cell_type": "code",
      "execution_count": null,
      "metadata": {
        "id": "olDetwL0vTIR"
      },
      "outputs": [],
      "source": [
        "data = res"
      ]
    },
    {
      "cell_type": "code",
      "execution_count": null,
      "metadata": {
        "id": "MIo1bo3X4R5h"
      },
      "outputs": [],
      "source": [
        "#data.describe()  # Getting a grasp of our numerical value statistical properties. "
      ]
    },
    {
      "cell_type": "code",
      "execution_count": null,
      "metadata": {
        "id": "kCSi-rOwi6SP"
      },
      "outputs": [],
      "source": [
        "# Plot the raw values over time\n",
        "#data.plot();"
      ]
    },
    {
      "cell_type": "code",
      "execution_count": null,
      "metadata": {
        "colab": {
          "base_uri": "https://localhost:8080/"
        },
        "id": "Bqa2niCWNxEL",
        "outputId": "90f4a612-c8ea-4fef-d35d-17b1b4d28334"
      },
      "outputs": [
        {
          "output_type": "stream",
          "name": "stdout",
          "text": [
            "timestamp               0\n",
            " AccelerationX          0\n",
            " AccelerationY          0\n",
            " AccelerationZ          0\n",
            " MagneticFieldX         0\n",
            " MagneticFieldY         0\n",
            " MagneticFieldZ         0\n",
            " Z-AxisAgle(Azimuth)    0\n",
            " X-AxisAngle(Pitch)     0\n",
            " Y-AxisAngle(Roll)      0\n",
            " GyroX                  0\n",
            " GyroY                  0\n",
            " GyroZ                  0\n",
            "dtype: int64\n"
          ]
        }
      ],
      "source": [
        "# Count the missing values of each time series\n",
        "missing_values = data.isnull().sum()\n",
        "print(missing_values)"
      ]
    },
    {
      "cell_type": "code",
      "execution_count": null,
      "metadata": {
        "id": "5pvCqiCM6Sqe"
      },
      "outputs": [],
      "source": [
        "#Xtimestamp = data.iloc[:,0].values  # Converting column to a numpy array.\n",
        "#Xacc = data.iloc[:,1].values"
      ]
    },
    {
      "cell_type": "code",
      "execution_count": null,
      "metadata": {
        "id": "Bkwe8yL26wFH"
      },
      "outputs": [],
      "source": [
        "#Xtimestamp"
      ]
    },
    {
      "cell_type": "markdown",
      "metadata": {
        "id": "2Oc86bw9N7bu"
      },
      "source": [
        "We can see that there is no missing data.\n",
        "\n"
      ]
    },
    {
      "cell_type": "markdown",
      "metadata": {
        "id": "Iwxi0PDEOd6W"
      },
      "source": [
        "Here we try to generate bad and good periods using exp "
      ]
    },
    {
      "cell_type": "code",
      "execution_count": null,
      "metadata": {
        "colab": {
          "base_uri": "https://localhost:8080/"
        },
        "id": "Ef_YfOpFkRnZ",
        "outputId": "76cef668-5f46-410a-ef55-1100f5a68072"
      },
      "outputs": [
        {
          "output_type": "execute_result",
          "data": {
            "text/plain": [
              "3194"
            ]
          },
          "metadata": {},
          "execution_count": 8
        }
      ],
      "source": [
        "data.shape[0]"
      ]
    },
    {
      "cell_type": "code",
      "execution_count": null,
      "metadata": {
        "colab": {
          "base_uri": "https://localhost:8080/"
        },
        "id": "bbkKaHGYZFcE",
        "outputId": "5cda3979-0cc4-4918-9406-dccfcd6f2e1d"
      },
      "outputs": [
        {
          "output_type": "execute_result",
          "data": {
            "text/plain": [
              "3194"
            ]
          },
          "metadata": {},
          "execution_count": 9
        }
      ],
      "source": [
        "count = data.shape[0]\n",
        "count"
      ]
    },
    {
      "cell_type": "code",
      "execution_count": null,
      "metadata": {
        "colab": {
          "base_uri": "https://localhost:8080/",
          "height": 407
        },
        "id": "V-2gnG2c2VDV",
        "outputId": "6ed592f3-fd14-4a91-fea9-af8c5eca39db"
      },
      "outputs": [
        {
          "output_type": "stream",
          "name": "stdout",
          "text": [
            "5.621106533604986\n",
            "[ 0.4052507   0.59238824  1.68652879  1.75804845  2.50296051  4.76909222\n",
            "  5.05834553 10.53769075 13.85219303 15.0485671 ]\n",
            "[1.49967843e+00 1.80830192e+00 5.40070116e+00 5.80110520e+00\n",
            " 1.22186138e+01 1.17812246e+02 1.57330004e+02 3.77103831e+04\n",
            " 1.03736358e+06 3.43170267e+06]\n"
          ]
        },
        {
          "output_type": "display_data",
          "data": {
            "text/plain": [
              "<Figure size 432x288 with 1 Axes>"
            ],
            "image/png": "[encoded data removed]"
          },
          "metadata": {
            "needs_background": "light"
          }
        }
      ],
      "source": [
        "#use this if you want to set the upper bound\n",
        "from matplotlib import pyplot as plt \n",
        "length=50\n",
        "beta = -length/np.log(1 - 0.999)\n",
        "a = (np.random.exponential(beta, 10))\n",
        "#print(a)\n",
        "print(np.average(a))\n",
        "#np.max(a)\n",
        "a=np.sort(a)\n",
        "#sns.kdeplot(a)\n",
        "print(a)\n",
        "y=np.exp(a)\n",
        "print(y)\n",
        "\n",
        "plt.plot(a, y, color='black', marker=\"o\")\n",
        "plt.title(\"numpy.exp()\")\n",
        "plt.xlabel(\"X-axis\")\n",
        "plt.ylabel(\"Y-axis\")\n",
        "plt.show()"
      ]
    },
    {
      "cell_type": "code",
      "execution_count": null,
      "metadata": {
        "colab": {
          "base_uri": "https://localhost:8080/"
        },
        "id": "KFPfS_yGaU_6",
        "outputId": "22b17bde-d0c1-4b1a-ef3f-8f0ed8130874"
      },
      "outputs": [
        {
          "output_type": "stream",
          "name": "stdout",
          "text": [
            "511.9330660708777\n",
            "[ 567.84216869  870.57462079  338.24407384  465.52242834  752.23442106\n",
            "  211.4364288   148.14113637   11.00693559  130.40801735    8.12674891\n",
            " 1599.3368789   356.3386048   783.78747822 1540.42440324   89.80069274\n",
            "  317.70401949]\n"
          ]
        }
      ],
      "source": [
        "#use this if you want to set the average\n",
        "\n",
        "#duration of good period\n",
        "a= (np.random.exponential(600, size=16))\n",
        "#a=np.sort(a)\n",
        "print(np.average(a))\n",
        "print(a)"
      ]
    },
    {
      "cell_type": "code",
      "execution_count": null,
      "metadata": {
        "colab": {
          "base_uri": "https://localhost:8080/"
        },
        "id": "aLPZuzdPQumt",
        "outputId": "d65b4b66-b91d-4994-8c1c-3d0fef25a0aa"
      },
      "outputs": [
        {
          "output_type": "stream",
          "name": "stdout",
          "text": [
            "6.914731313638535\n",
            "[11.71767191  4.33393499 12.31680678  0.33484989  0.72754561  1.50535742\n",
            "  3.34986005  6.12960668  0.32539936 10.14626495 10.27614148  8.99752192\n",
            "  5.27845022  6.69434057 13.76451329 14.73743589]\n"
          ]
        }
      ],
      "source": [
        "#duration of bad period\n",
        "\n",
        "b= (np.random.exponential(5, size=16))\n",
        "#a=np.sort(a)\n",
        "print(np.average(b))\n",
        "print(b)"
      ]
    },
    {
      "cell_type": "code",
      "execution_count": null,
      "metadata": {
        "colab": {
          "base_uri": "https://localhost:8080/"
        },
        "id": "A_1yX2Xx74wl",
        "outputId": "b3057024-6f1b-466b-cde5-115aa0cdeb9d"
      },
      "outputs": [
        {
          "output_type": "stream",
          "name": "stdout",
          "text": [
            "[567.8421686948337, 11.717671912976243, 870.5746207903394, 4.333934989060786, 338.24407384015234, 12.316806781473314, 465.5224283358402, 0.3348498936372619, 752.23442105856, 0.7275456102219585, 211.43642880306666, 1.5053574171413127, 148.14113636724352, 3.3498600543766184, 11.006935585962974, 6.129606675906486, 130.40801735060512, 0.3253993580449901, 8.126748912564947, 10.146264949898072, 1599.3368788975017, 10.276141483218634, 356.33860480345896, 8.997521923954098, 783.7874782241795, 5.278450221910394, 1540.424403238983, 6.694340565679086, 89.80069273873312, 13.764513288581954, 317.7040194920173, 14.737435892135355]\n"
          ]
        }
      ],
      "source": [
        "#creating a list combining good and bad periods\n",
        "sec=[]\n",
        "#a= [1,2,3,4,5]\n",
        "#b= [6,7,8,9,10]\n",
        "for i in range (0,len(a)):\n",
        "  sec.append(a[i])\n",
        "  sec.append(b[i])\n",
        "print(sec)\n",
        "#consider similar timestamp"
      ]
    },
    {
      "cell_type": "code",
      "execution_count": null,
      "metadata": {
        "colab": {
          "base_uri": "https://localhost:8080/"
        },
        "id": "JOJAez1qmQJE",
        "outputId": "c15cda7c-9486-4bdb-8824-e32f5766a99a"
      },
      "outputs": [
        {
          "output_type": "execute_result",
          "data": {
            "text/plain": [
              "32"
            ]
          },
          "metadata": {},
          "execution_count": 14
        }
      ],
      "source": [
        "len(sec)"
      ]
    },
    {
      "cell_type": "code",
      "execution_count": null,
      "metadata": {
        "colab": {
          "base_uri": "https://localhost:8080/"
        },
        "id": "Xifrvm_66l9w",
        "outputId": "15e8eff3-ae5e-43e6-af25-6e6928f87db6"
      },
      "outputs": [
        {
          "output_type": "stream",
          "name": "stdout",
          "text": [
            "reached index in random 0 number 567.8421686948337\n",
            "good period of 567.8421686948337\n",
            "row 0\n",
            "current timestamp 1422629483.0\n",
            "last timestamp limit 1422630050.8421688\n",
            "current row 0\n",
            "reached last timestamp in the period row 2159 0\n",
            "last reached row 2159\n",
            "reached index in random 1 number 11.717671912976243\n",
            "bad period of 11.717671912976243\n",
            "row 2159\n",
            "current timestamp 1422630051.0\n",
            "last timestamp limit 1422630062.5598407\n",
            "current row 2159\n",
            "dropped 1422630051.0\n",
            "dropped 1422630051.0\n",
            "dropped 1422630051.0\n",
            "dropped 1422630051.0\n",
            "dropped 1422630051.0\n",
            "dropped 1422630051.0\n",
            "dropped 1422630051.0\n",
            "dropped 1422630051.0\n",
            "dropped 1422630051.0\n",
            "dropped 1422630051.0\n",
            "dropped 1422630052.0\n",
            "dropped 1422630052.0\n",
            "dropped 1422630052.0\n",
            "dropped 1422630052.0\n",
            "dropped 1422630052.0\n",
            "dropped 1422630052.0\n",
            "dropped 1422630052.0\n",
            "dropped 1422630052.0\n",
            "dropped 1422630052.0\n",
            "dropped 1422630052.0\n",
            "dropped 1422630053.0\n",
            "dropped 1422630053.0\n",
            "dropped 1422630053.0\n",
            "dropped 1422630053.0\n",
            "dropped 1422630053.0\n",
            "dropped 1422630053.0\n",
            "dropped 1422630053.0\n",
            "dropped 1422630053.0\n",
            "dropped 1422630053.0\n",
            "dropped 1422630053.0\n",
            "dropped 1422630054.0\n",
            "dropped 1422630054.0\n",
            "dropped 1422630054.0\n",
            "dropped 1422630054.0\n",
            "dropped 1422630054.0\n",
            "dropped 1422630054.0\n",
            "dropped 1422630054.0\n",
            "dropped 1422630054.0\n",
            "dropped 1422630054.0\n",
            "dropped 1422630054.0\n",
            "dropped 1422630055.0\n",
            "dropped 1422630055.0\n",
            "dropped 1422630055.0\n",
            "dropped 1422630055.0\n",
            "dropped 1422630055.0\n",
            "dropped 1422630055.0\n",
            "dropped 1422630055.0\n",
            "dropped 1422630055.0\n",
            "dropped 1422630055.0\n",
            "dropped 1422630055.0\n",
            "dropped 1422630056.0\n",
            "dropped 1422630056.0\n",
            "dropped 1422630056.0\n",
            "dropped 1422630056.0\n",
            "dropped 1422630056.0\n",
            "dropped 1422630056.0\n",
            "dropped 1422630056.0\n",
            "dropped 1422630056.0\n",
            "dropped 1422630056.0\n",
            "dropped 1422630056.0\n",
            "dropped 1422630057.0\n",
            "dropped 1422630057.0\n",
            "dropped 1422630057.0\n",
            "dropped 1422630057.0\n",
            "dropped 1422630057.0\n",
            "dropped 1422630057.0\n",
            "dropped 1422630057.0\n",
            "dropped 1422630057.0\n",
            "dropped 1422630057.0\n",
            "dropped 1422630057.0\n",
            "dropped 1422630058.0\n",
            "dropped 1422630058.0\n",
            "dropped 1422630058.0\n",
            "dropped 1422630058.0\n",
            "dropped 1422630058.0\n",
            "dropped 1422630058.0\n",
            "dropped 1422630058.0\n",
            "dropped 1422630058.0\n",
            "dropped 1422630058.0\n",
            "dropped 1422630058.0\n",
            "dropped 1422630059.0\n",
            "dropped 1422630059.0\n",
            "dropped 1422630059.0\n",
            "dropped 1422630059.0\n",
            "dropped 1422630059.0\n",
            "dropped 1422630059.0\n",
            "dropped 1422630059.0\n",
            "dropped 1422630059.0\n",
            "dropped 1422630059.0\n",
            "dropped 1422630059.0\n",
            "dropped 1422630060.0\n",
            "dropped 1422630060.0\n",
            "dropped 1422630060.0\n",
            "dropped 1422630060.0\n",
            "dropped 1422630060.0\n",
            "dropped 1422630060.0\n",
            "dropped 1422630060.0\n",
            "dropped 1422630060.0\n",
            "dropped 1422630060.0\n",
            "dropped 1422630060.0\n",
            "dropped 1422630061.0\n",
            "dropped 1422630061.0\n",
            "dropped 1422630061.0\n",
            "dropped 1422630061.0\n",
            "dropped 1422630061.0\n",
            "dropped 1422630061.0\n",
            "dropped 1422630061.0\n",
            "dropped 1422630061.0\n",
            "dropped 1422630061.0\n",
            "dropped 1422630061.0\n",
            "dropped 1422630062.0\n",
            "dropped 1422630062.0\n",
            "dropped 1422630062.0\n",
            "dropped 1422630062.0\n",
            "dropped 1422630062.0\n",
            "dropped 1422630062.0\n",
            "dropped 1422630062.0\n",
            "dropped 1422630062.0\n",
            "dropped 1422630062.0\n",
            "dropped 1422630062.0\n",
            "reached last timestamp in the period row 2279 2159\n",
            "last reached row 2279\n",
            "reached index in random 2 number 870.5746207903394\n",
            "good period of 870.5746207903394\n",
            "row 2279\n",
            "current timestamp 1422630063.0\n",
            "last timestamp limit 1422630933.1344614\n",
            "current row 2279\n",
            "last reached row 3193\n",
            "reached index in random 3 number 4.333934989060786\n",
            "bad period of 4.333934989060786\n",
            "End of process at 3193\n"
          ]
        }
      ],
      "source": [
        "data = res\n",
        "drop_list = []\n",
        "count = data.shape[0] #length of data (number of rows)\n",
        "#last_deleted_index=0\n",
        "row=0\n",
        "#get the random number\n",
        "last_stamp = data.loc[0][\"timestamp\"] #init with the first timestamp\n",
        "\n",
        "for j in range (0,len(sec)): #check random numbers  \n",
        "  print(\"reached index in random\",j,\"number\",sec[j])\n",
        "  if(j%2==0):\n",
        "    gp = sec[j] #the duration of good period  gp : [2.5 s] \"timestamp[12.1]\"\n",
        "    bp=0\n",
        "    print(\"good period of\",sec[j])\n",
        "  else:\n",
        "    bp = sec[j] #the duration of bad period\n",
        "    gp=0\n",
        "    print(\"bad period of\",sec[j])\n",
        " # while row < count:#iterating in the data and checking timestamps\n",
        "  if row >= count-1:\n",
        "   print(\"End of process at\", row)\n",
        "   break #end the loop\n",
        "  print(\"row\",row) \n",
        "  timestamp = data.loc[row][\"timestamp\"] #saving the current timestamp   []\n",
        "  print(\"current timestamp\",data.loc[row][\"timestamp\"])\n",
        "  last_stamp = last_stamp+gp+bp #this is time, not index Last_stamp = Last_stamp+gp+bp #intit last_stamp with the first timestamp\n",
        "  print(\"last timestamp limit\",last_stamp)\n",
        "  if timestamp <= data.loc[count-1][\"timestamp\"]:#if we have not reached the last timestamp\n",
        "     #last_index = df.index[df[last_stamp]].tolist() #what is the index of the last timestamp to be deleted?\n",
        "    # if bp == 0: #good period\n",
        "    # row = last_index+row+1 #a fresh new row! we are done with data before this\n",
        "    #bad period\n",
        "     print(\"current row\",row)\n",
        "     for k in range(row,count): #from the current row to the last index [1,2,2,2,2,3,3,4,4,5] bad period is 2\n",
        "        if data.loc[k][\"timestamp\"] <= last_stamp: #if we have not reached the last timestamp in this period\n",
        "          if gp == 0 and bp>0: #bad period\n",
        "            print(\"dropped\",data.loc[k][\"timestamp\"])\n",
        "            drop_list.append(data.loc[k][\"timestamp\"])\n",
        "            data = data.drop(k)\n",
        "        else:\n",
        "          print(\"reached last timestamp in the period row\",k, row)\n",
        "          break    \n",
        "     row = k #the last deleted index+1 is row now\n",
        "     print(\"last reached row\",row)\n",
        "  else:\n",
        "      print(\"reached the end of the list\")\n",
        "      break\n",
        "#have two behaviours for odd and even index\n",
        "#if a[j]+ in range (0,count): #if random number is in the correct range"
      ]
    },
    {
      "cell_type": "code",
      "execution_count": null,
      "metadata": {
        "id": "SgoAEzbXkvb8",
        "colab": {
          "base_uri": "https://localhost:8080/"
        },
        "outputId": "7eabef9c-e985-414d-8bc4-2e384ea5d086"
      },
      "outputs": [
        {
          "output_type": "execute_result",
          "data": {
            "text/plain": [
              "3074"
            ]
          },
          "metadata": {},
          "execution_count": 16
        }
      ],
      "source": [
        "data.shape[0]"
      ]
    },
    {
      "cell_type": "code",
      "execution_count": null,
      "metadata": {
        "id": "fSQCqXA_m3Fx",
        "colab": {
          "base_uri": "https://localhost:8080/"
        },
        "outputId": "991826e1-e8b4-4c8d-8671-95556e9d3a38"
      },
      "outputs": [
        {
          "output_type": "execute_result",
          "data": {
            "text/plain": [
              "120"
            ]
          },
          "metadata": {},
          "execution_count": 17
        }
      ],
      "source": [
        "len(drop_list)"
      ]
    },
    {
      "cell_type": "code",
      "execution_count": null,
      "metadata": {
        "id": "UNeAoFaHYhMG",
        "colab": {
          "base_uri": "https://localhost:8080/",
          "height": 488
        },
        "outputId": "076cae07-c414-4944-8829-1e9ebf32736e"
      },
      "outputs": [
        {
          "output_type": "execute_result",
          "data": {
            "text/plain": [
              "       timestamp   AccelerationX   AccelerationY   AccelerationZ  \\\n",
              "0     1422629483          -3.577           2.104           9.078   \n",
              "1     1422629484          -3.424           2.927           9.374   \n",
              "2     1422629484          -2.505           2.908           8.867   \n",
              "3     1422629484          -5.473           1.472           9.394   \n",
              "4     1422629484          -3.414           2.018           8.187   \n",
              "...          ...             ...             ...             ...   \n",
              "3189  1422630155          -1.614           4.460           8.484   \n",
              "3190  1422630155          -3.347           5.714           6.444   \n",
              "3191  1422630155          -3.117           5.436           7.737   \n",
              "3192  1422630155          -2.868           5.800           7.900   \n",
              "3193  1422630155          -2.208           5.580           8.264   \n",
              "\n",
              "       MagneticFieldX   MagneticFieldY   MagneticFieldZ   Z-AxisAgle(Azimuth)  \\\n",
              "0                -5.4            -17.9            -28.2               126.404   \n",
              "1                -4.3            -21.9            -26.9               134.694   \n",
              "2                -0.7            -24.4            -26.5               150.906   \n",
              "3                 0.3            -25.7            -26.9               138.022   \n",
              "4                 3.7            -29.6            -23.9               163.519   \n",
              "...               ...              ...              ...                   ...   \n",
              "3189             -7.2              6.8            -41.9                24.752   \n",
              "3190             -1.0              1.3            -41.9                30.585   \n",
              "3191             -1.0              1.3            -41.9                30.585   \n",
              "3192             -2.8              1.8            -41.9                32.715   \n",
              "3193             -4.7              2.2            -41.9                32.820   \n",
              "\n",
              "       X-AxisAngle(Pitch)   Y-AxisAngle(Roll)   GyroX   GyroY   GyroZ  \n",
              "0                 -12.169             -21.001       0       0       0  \n",
              "1                 -11.322             -25.898       0       0       0  \n",
              "2                 -17.523             -15.017       0       0       0  \n",
              "3                 -21.068             -23.941       0       0       0  \n",
              "4                 -12.814             -22.046       0       0       0  \n",
              "...                   ...                 ...     ...     ...     ...  \n",
              "3189              -28.245              -6.688       0       0       0  \n",
              "3190              -38.205             -21.237       0       0       0  \n",
              "3191              -38.205             -21.237       0       0       0  \n",
              "3192              -33.099             -18.249       0       0       0  \n",
              "3193              -34.041             -16.370       0       0       0  \n",
              "\n",
              "[3074 rows x 13 columns]"
            ],
            "text/html": [
              "\n",
              "  <div id=\"df-5f78c120-8b55-43c0-9d43-db11e32b962b\">\n",
              "    <div class=\"colab-df-container\">\n",
              "      <div>\n",
              "<style scoped>\n",
              "    .dataframe tbody tr th:only-of-type {\n",
              "        vertical-align: middle;\n",
              "    }\n",
              "\n",
              "    .dataframe tbody tr th {\n",
              "        vertical-align: top;\n",
              "    }\n",
              "\n",
              "    .dataframe thead th {\n",
              "        text-align: right;\n",
              "    }\n",
              "</style>\n",
              "<table border=\"1\" class=\"dataframe\">\n",
              "  <thead>\n",
              "    <tr style=\"text-align: right;\">\n",
              "      <th></th>\n",
              "      <th>timestamp</th>\n",
              "      <th>AccelerationX</th>\n",
              "      <th>AccelerationY</th>\n",
              "      <th>AccelerationZ</th>\n",
              "      <th>MagneticFieldX</th>\n",
              "      <th>MagneticFieldY</th>\n",
              "      <th>MagneticFieldZ</th>\n",
              "      <th>Z-AxisAgle(Azimuth)</th>\n",
              "      <th>X-AxisAngle(Pitch)</th>\n",
              "      <th>Y-AxisAngle(Roll)</th>\n",
              "      <th>GyroX</th>\n",
              "      <th>GyroY</th>\n",
              "      <th>GyroZ</th>\n",
              "    </tr>\n",
              "  </thead>\n",
              "  <tbody>\n",
              "    <tr>\n",
              "      <th>0</th>\n",
              "      <td>1422629483</td>\n",
              "      <td>-3.577</td>\n",
              "      <td>2.104</td>\n",
              "      <td>9.078</td>\n",
              "      <td>-5.4</td>\n",
              "      <td>-17.9</td>\n",
              "      <td>-28.2</td>\n",
              "      <td>126.404</td>\n",
              "      <td>-12.169</td>\n",
              "      <td>-21.001</td>\n",
              "      <td>0</td>\n",
              "      <td>0</td>\n",
              "      <td>0</td>\n",
              "    </tr>\n",
              "    <tr>\n",
              "      <th>1</th>\n",
              "      <td>1422629484</td>\n",
              "      <td>-3.424</td>\n",
              "      <td>2.927</td>\n",
              "      <td>9.374</td>\n",
              "      <td>-4.3</td>\n",
              "      <td>-21.9</td>\n",
              "      <td>-26.9</td>\n",
              "      <td>134.694</td>\n",
              "      <td>-11.322</td>\n",
              "      <td>-25.898</td>\n",
              "      <td>0</td>\n",
              "      <td>0</td>\n",
              "      <td>0</td>\n",
              "    </tr>\n",
              "    <tr>\n",
              "      <th>2</th>\n",
              "      <td>1422629484</td>\n",
              "      <td>-2.505</td>\n",
              "      <td>2.908</td>\n",
              "      <td>8.867</td>\n",
              "      <td>-0.7</td>\n",
              "      <td>-24.4</td>\n",
              "      <td>-26.5</td>\n",
              "      <td>150.906</td>\n",
              "      <td>-17.523</td>\n",
              "      <td>-15.017</td>\n",
              "      <td>0</td>\n",
              "      <td>0</td>\n",
              "      <td>0</td>\n",
              "    </tr>\n",
              "    <tr>\n",
              "      <th>3</th>\n",
              "      <td>1422629484</td>\n",
              "      <td>-5.473</td>\n",
              "      <td>1.472</td>\n",
              "      <td>9.394</td>\n",
              "      <td>0.3</td>\n",
              "      <td>-25.7</td>\n",
              "      <td>-26.9</td>\n",
              "      <td>138.022</td>\n",
              "      <td>-21.068</td>\n",
              "      <td>-23.941</td>\n",
              "      <td>0</td>\n",
              "      <td>0</td>\n",
              "      <td>0</td>\n",
              "    </tr>\n",
              "    <tr>\n",
              "      <th>4</th>\n",
              "      <td>1422629484</td>\n",
              "      <td>-3.414</td>\n",
              "      <td>2.018</td>\n",
              "      <td>8.187</td>\n",
              "      <td>3.7</td>\n",
              "      <td>-29.6</td>\n",
              "      <td>-23.9</td>\n",
              "      <td>163.519</td>\n",
              "      <td>-12.814</td>\n",
              "      <td>-22.046</td>\n",
              "      <td>0</td>\n",
              "      <td>0</td>\n",
              "      <td>0</td>\n",
              "    </tr>\n",
              "    <tr>\n",
              "      <th>...</th>\n",
              "      <td>...</td>\n",
              "      <td>...</td>\n",
              "      <td>...</td>\n",
              "      <td>...</td>\n",
              "      <td>...</td>\n",
              "      <td>...</td>\n",
              "      <td>...</td>\n",
              "      <td>...</td>\n",
              "      <td>...</td>\n",
              "      <td>...</td>\n",
              "      <td>...</td>\n",
              "      <td>...</td>\n",
              "      <td>...</td>\n",
              "    </tr>\n",
              "    <tr>\n",
              "      <th>3189</th>\n",
              "      <td>1422630155</td>\n",
              "      <td>-1.614</td>\n",
              "      <td>4.460</td>\n",
              "      <td>8.484</td>\n",
              "      <td>-7.2</td>\n",
              "      <td>6.8</td>\n",
              "      <td>-41.9</td>\n",
              "      <td>24.752</td>\n",
              "      <td>-28.245</td>\n",
              "      <td>-6.688</td>\n",
              "      <td>0</td>\n",
              "      <td>0</td>\n",
              "      <td>0</td>\n",
              "    </tr>\n",
              "    <tr>\n",
              "      <th>3190</th>\n",
              "      <td>1422630155</td>\n",
              "      <td>-3.347</td>\n",
              "      <td>5.714</td>\n",
              "      <td>6.444</td>\n",
              "      <td>-1.0</td>\n",
              "      <td>1.3</td>\n",
              "      <td>-41.9</td>\n",
              "      <td>30.585</td>\n",
              "      <td>-38.205</td>\n",
              "      <td>-21.237</td>\n",
              "      <td>0</td>\n",
              "      <td>0</td>\n",
              "      <td>0</td>\n",
              "    </tr>\n",
              "    <tr>\n",
              "      <th>3191</th>\n",
              "      <td>1422630155</td>\n",
              "      <td>-3.117</td>\n",
              "      <td>5.436</td>\n",
              "      <td>7.737</td>\n",
              "      <td>-1.0</td>\n",
              "      <td>1.3</td>\n",
              "      <td>-41.9</td>\n",
              "      <td>30.585</td>\n",
              "      <td>-38.205</td>\n",
              "      <td>-21.237</td>\n",
              "      <td>0</td>\n",
              "      <td>0</td>\n",
              "      <td>0</td>\n",
              "    </tr>\n",
              "    <tr>\n",
              "      <th>3192</th>\n",
              "      <td>1422630155</td>\n",
              "      <td>-2.868</td>\n",
              "      <td>5.800</td>\n",
              "      <td>7.900</td>\n",
              "      <td>-2.8</td>\n",
              "      <td>1.8</td>\n",
              "      <td>-41.9</td>\n",
              "      <td>32.715</td>\n",
              "      <td>-33.099</td>\n",
              "      <td>-18.249</td>\n",
              "      <td>0</td>\n",
              "      <td>0</td>\n",
              "      <td>0</td>\n",
              "    </tr>\n",
              "    <tr>\n",
              "      <th>3193</th>\n",
              "      <td>1422630155</td>\n",
              "      <td>-2.208</td>\n",
              "      <td>5.580</td>\n",
              "      <td>8.264</td>\n",
              "      <td>-4.7</td>\n",
              "      <td>2.2</td>\n",
              "      <td>-41.9</td>\n",
              "      <td>32.820</td>\n",
              "      <td>-34.041</td>\n",
              "      <td>-16.370</td>\n",
              "      <td>0</td>\n",
              "      <td>0</td>\n",
              "      <td>0</td>\n",
              "    </tr>\n",
              "  </tbody>\n",
              "</table>\n",
              "<p>3074 rows × 13 columns</p>\n",
              "</div>\n",
              "      <button class=\"colab-df-convert\" onclick=\"convertToInteractive('df-5f78c120-8b55-43c0-9d43-db11e32b962b')\"\n",
              "              title=\"Convert this dataframe to an interactive table.\"\n",
              "              style=\"display:none;\">\n",
              "        \n",
              "  <svg xmlns=\"http://www.w3.org/2000/svg\" height=\"24px\"viewBox=\"0 0 24 24\"\n",
              "       width=\"24px\">\n",
              "    <path d=\"M0 0h24v24H0V0z\" fill=\"none\"/>\n",
              "    <path d=\"M18.56 5.44l.94 2.06.94-2.06 2.06-.94-2.06-.94-.94-2.06-.94 2.06-2.06.94zm-11 1L8.5 8.5l.94-2.06 2.06-.94-2.06-.94L8.5 2.5l-.94 2.06-2.06.94zm10 10l.94 2.06.94-2.06 2.06-.94-2.06-.94-.94-2.06-.94 2.06-2.06.94z\"/><path d=\"M17.41 7.96l-1.37-1.37c-.4-.4-.92-.59-1.43-.59-.52 0-1.04.2-1.43.59L10.3 9.45l-7.72 7.72c-.78.78-.78 2.05 0 2.83L4 21.41c.39.39.9.59 1.41.59.51 0 1.02-.2 1.41-.59l7.78-7.78 2.81-2.81c.8-.78.8-2.07 0-2.86zM5.41 20L4 18.59l7.72-7.72 1.47 1.35L5.41 20z\"/>\n",
              "  </svg>\n",
              "      </button>\n",
              "      \n",
              "  <style>\n",
              "    .colab-df-container {\n",
              "      display:flex;\n",
              "      flex-wrap:wrap;\n",
              "      gap: 12px;\n",
              "    }\n",
              "\n",
              "    .colab-df-convert {\n",
              "      background-color: #E8F0FE;\n",
              "      border: none;\n",
              "      border-radius: 50%;\n",
              "      cursor: pointer;\n",
              "      display: none;\n",
              "      fill: #1967D2;\n",
              "      height: 32px;\n",
              "      padding: 0 0 0 0;\n",
              "      width: 32px;\n",
              "    }\n",
              "\n",
              "    .colab-df-convert:hover {\n",
              "      background-color: #E2EBFA;\n",
              "      box-shadow: 0px 1px 2px rgba(60, 64, 67, 0.3), 0px 1px 3px 1px rgba(60, 64, 67, 0.15);\n",
              "      fill: #174EA6;\n",
              "    }\n",
              "\n",
              "    [theme=dark] .colab-df-convert {\n",
              "      background-color: #3B4455;\n",
              "      fill: #D2E3FC;\n",
              "    }\n",
              "\n",
              "    [theme=dark] .colab-df-convert:hover {\n",
              "      background-color: #434B5C;\n",
              "      box-shadow: 0px 1px 3px 1px rgba(0, 0, 0, 0.15);\n",
              "      filter: drop-shadow(0px 1px 2px rgba(0, 0, 0, 0.3));\n",
              "      fill: #FFFFFF;\n",
              "    }\n",
              "  </style>\n",
              "\n",
              "      <script>\n",
              "        const buttonEl =\n",
              "          document.querySelector('#df-5f78c120-8b55-43c0-9d43-db11e32b962b button.colab-df-convert');\n",
              "        buttonEl.style.display =\n",
              "          google.colab.kernel.accessAllowed ? 'block' : 'none';\n",
              "\n",
              "        async function convertToInteractive(key) {\n",
              "          const element = document.querySelector('#df-5f78c120-8b55-43c0-9d43-db11e32b962b');\n",
              "          const dataTable =\n",
              "            await google.colab.kernel.invokeFunction('convertToInteractive',\n",
              "                                                     [key], {});\n",
              "          if (!dataTable) return;\n",
              "\n",
              "          const docLinkHtml = 'Like what you see? Visit the ' +\n",
              "            '<a target=\"_blank\" href=https://colab.research.google.com/notebooks/data_table.ipynb>data table notebook</a>'\n",
              "            + ' to learn more about interactive tables.';\n",
              "          element.innerHTML = '';\n",
              "          dataTable['output_type'] = 'display_data';\n",
              "          await google.colab.output.renderOutput(dataTable, element);\n",
              "          const docLink = document.createElement('div');\n",
              "          docLink.innerHTML = docLinkHtml;\n",
              "          element.appendChild(docLink);\n",
              "        }\n",
              "      </script>\n",
              "    </div>\n",
              "  </div>\n",
              "  "
            ]
          },
          "metadata": {},
          "execution_count": 18
        }
      ],
      "source": [
        "data"
      ]
    },
    {
      "cell_type": "code",
      "source": [
        "from google.colab import files\n",
        "data.to_csv('data.csv')\n",
        "files.download('data.csv')"
      ],
      "metadata": {
        "colab": {
          "base_uri": "https://localhost:8080/",
          "height": 17
        },
        "id": "gLqvg0yu-NIQ",
        "outputId": "839740cc-9d12-4659-deb1-2c3657cc30bf"
      },
      "execution_count": null,
      "outputs": [
        {
          "output_type": "display_data",
          "data": {
            "text/plain": [
              "<IPython.core.display.Javascript object>"
            ],
            "application/javascript": [
              "\n",
              "    async function download(id, filename, size) {\n",
              "      if (!google.colab.kernel.accessAllowed) {\n",
              "        return;\n",
              "      }\n",
              "      const div = document.createElement('div');\n",
              "      const label = document.createElement('label');\n",
              "      label.textContent = `Downloading \"${filename}\": `;\n",
              "      div.appendChild(label);\n",
              "      const progress = document.createElement('progress');\n",
              "      progress.max = size;\n",
              "      div.appendChild(progress);\n",
              "      document.body.appendChild(div);\n",
              "\n",
              "      const buffers = [];\n",
              "      let downloaded = 0;\n",
              "\n",
              "      const channel = await google.colab.kernel.comms.open(id);\n",
              "      // Send a message to notify the kernel that we're ready.\n",
              "      channel.send({})\n",
              "\n",
              "      for await (const message of channel.messages) {\n",
              "        // Send a message to notify the kernel that we're ready.\n",
              "        channel.send({})\n",
              "        if (message.buffers) {\n",
              "          for (const buffer of message.buffers) {\n",
              "            buffers.push(buffer);\n",
              "            downloaded += buffer.byteLength;\n",
              "            progress.value = downloaded;\n",
              "          }\n",
              "        }\n",
              "      }\n",
              "      const blob = new Blob(buffers, {type: 'application/binary'});\n",
              "      const a = document.createElement('a');\n",
              "      a.href = window.URL.createObjectURL(blob);\n",
              "      a.download = filename;\n",
              "      div.appendChild(a);\n",
              "      a.click();\n",
              "      div.remove();\n",
              "    }\n",
              "  "
            ]
          },
          "metadata": {}
        },
        {
          "output_type": "display_data",
          "data": {
            "text/plain": [
              "<IPython.core.display.Javascript object>"
            ],
            "application/javascript": [
              "download(\"download_40f8990d-dd7d-488d-8471-20b27893e381\", \"data.csv\", 241012)"
            ]
          },
          "metadata": {}
        }
      ]
    },
    {
      "cell_type": "code",
      "source": [
        "import pandas as pd\n",
        "import numpy as np\n",
        "from google.colab import files\n",
        "np.savetxt(\"data.csv\", data, delimiter=\",\")\n",
        "files.download('data.csv')"
      ],
      "metadata": {
        "colab": {
          "base_uri": "https://localhost:8080/",
          "height": 17
        },
        "id": "xlctn805Fb5W",
        "outputId": "1b3ea59d-8fd6-4c40-e656-7b88babdcb31"
      },
      "execution_count": null,
      "outputs": [
        {
          "output_type": "display_data",
          "data": {
            "text/plain": [
              "<IPython.core.display.Javascript object>"
            ],
            "application/javascript": [
              "\n",
              "    async function download(id, filename, size) {\n",
              "      if (!google.colab.kernel.accessAllowed) {\n",
              "        return;\n",
              "      }\n",
              "      const div = document.createElement('div');\n",
              "      const label = document.createElement('label');\n",
              "      label.textContent = `Downloading \"${filename}\": `;\n",
              "      div.appendChild(label);\n",
              "      const progress = document.createElement('progress');\n",
              "      progress.max = size;\n",
              "      div.appendChild(progress);\n",
              "      document.body.appendChild(div);\n",
              "\n",
              "      const buffers = [];\n",
              "      let downloaded = 0;\n",
              "\n",
              "      const channel = await google.colab.kernel.comms.open(id);\n",
              "      // Send a message to notify the kernel that we're ready.\n",
              "      channel.send({})\n",
              "\n",
              "      for await (const message of channel.messages) {\n",
              "        // Send a message to notify the kernel that we're ready.\n",
              "        channel.send({})\n",
              "        if (message.buffers) {\n",
              "          for (const buffer of message.buffers) {\n",
              "            buffers.push(buffer);\n",
              "            downloaded += buffer.byteLength;\n",
              "            progress.value = downloaded;\n",
              "          }\n",
              "        }\n",
              "      }\n",
              "      const blob = new Blob(buffers, {type: 'application/binary'});\n",
              "      const a = document.createElement('a');\n",
              "      a.href = window.URL.createObjectURL(blob);\n",
              "      a.download = filename;\n",
              "      div.appendChild(a);\n",
              "      a.click();\n",
              "      div.remove();\n",
              "    }\n",
              "  "
            ]
          },
          "metadata": {}
        },
        {
          "output_type": "display_data",
          "data": {
            "text/plain": [
              "<IPython.core.display.Javascript object>"
            ],
            "application/javascript": [
              "download(\"download_b3fa6aa3-83b5-403a-9762-ca955d57bbc5\", \"data.csv\", 1012387)"
            ]
          },
          "metadata": {}
        }
      ]
    },
    {
      "cell_type": "markdown",
      "metadata": {
        "id": "AXIGHi0jlzWD"
      },
      "source": [
        "If we want to have burst for a few seconds and rows are selected using exp random:"
      ]
    },
    {
      "cell_type": "code",
      "execution_count": null,
      "metadata": {
        "id": "zLOsIVAtOT--"
      },
      "outputs": [],
      "source": [
        "data = res\n",
        "drop_list = []\n",
        "#second =1 #means the burst will last for two seconds\n",
        "for j in range (0,len(a)): #check random numbers\n",
        "    print(\"reached index in random\",j,\"number\",a[j])\n",
        "    if a[j] in range (0,count): #if random number is in the correct range\n",
        "      row = a[j]\n",
        "      if row not in drop_list:\n",
        "        time = data.loc[row][\"timestamp\"]\n",
        "        print(\"timestamp for\",a[j],time)\n",
        "        #print(\"timestamp for\",a[j],data.iloc[row][\"timestamp\"])\n",
        "        for i in range(0,count):#count is the number of rows\n",
        "          #print(\"reached here for checking again\",drop_list)\n",
        "          if i not in drop_list:\n",
        "          #print(droplist)\n",
        "            if (data.loc[i][\"timestamp\"] == time+second) or (data.loc[i][\"timestamp\"] == time):\n",
        "              print(\"intentional time+1 is \",time+second)\n",
        "              print(\"intentional time is \",time)\n",
        "              print(i,\"row timestamp is\", data.loc[i][\"timestamp\"])\n",
        "              #data = data[data.index != i] #delete that row from the dataset (two seconds)\n",
        "              drop_list.append(i)\n",
        "              data = data.drop(i)\n",
        "              #print(i,\"added to droplist with timestamp \")\n",
        "print(drop_list)           "
      ]
    },
    {
      "cell_type": "code",
      "execution_count": null,
      "metadata": {
        "id": "RZ-BBY3JDqBi"
      },
      "outputs": [],
      "source": [
        "len(drop_list)#number of deleted rows"
      ]
    },
    {
      "cell_type": "markdown",
      "metadata": {
        "id": "VMAAQZdqmmIk"
      },
      "source": [
        "#Generating missing values- another way\n",
        "The mechanisms generating missing values can be various but usually they are classified into three main categories defined by (Rubin 1976): missing completely at random (MCAR), missing at random (MAR) and missing not at random (MNAR). The first two are also qualified as ignorable missing values mechanisms, for instance in likelihood-based approaches to handle missing values, whereas the MNAR mechanism generates nonignorable missing values. \n",
        "Code is derived from https://github.com/BorisMuzellec/MissingDataOT"
      ]
    },
    {
      "cell_type": "markdown",
      "metadata": {
        "id": "MCKHwqghgOMC"
      },
      "source": [
        "\n",
        "###MCAR\n",
        "\n",
        "Missing Completely At Random values are generated using only the desired proportion of missing values p_miss, i.e. each value have the same probability p_miss of being missing. Therefore, we generate missing values using a Bernoulli distribution of parameter p_miss.\n"
      ]
    },
    {
      "cell_type": "code",
      "execution_count": null,
      "metadata": {
        "id": "v9dn5KAQWT0w",
        "colab": {
          "base_uri": "https://localhost:8080/"
        },
        "outputId": "c8f80245-fd03-4127-a9af-28afc171a749"
      },
      "outputs": [
        {
          "output_type": "stream",
          "name": "stdout",
          "text": [
            "Collecting utils\n",
            "  Downloading utils-1.0.1-py2.py3-none-any.whl (21 kB)\n",
            "Installing collected packages: utils\n",
            "Successfully installed utils-1.0.1\n"
          ]
        }
      ],
      "source": [
        "!pip install utils"
      ]
    },
    {
      "cell_type": "code",
      "execution_count": null,
      "metadata": {
        "id": "BDWnS1p1WDlp"
      },
      "outputs": [],
      "source": [
        "import torch\n",
        "from utils import *\n",
        "import tensorflow as tensor"
      ]
    },
    {
      "cell_type": "code",
      "execution_count": null,
      "metadata": {
        "id": "9RRFs28rXDna"
      },
      "outputs": [],
      "source": [
        "X = data\n",
        "timestamp = X[\"timestamp\"]#saving the timestamp column\n",
        "X=X.drop(columns=[\"timestamp\" , \"GyroX\" , \"GyroY\" ,\"GyroZ\"], axis=1) #assuming that timestamps are not missing! and deleting constant columns"
      ]
    },
    {
      "cell_type": "code",
      "execution_count": null,
      "metadata": {
        "id": "eiyT7zp6dtJ5"
      },
      "outputs": [],
      "source": [
        "X"
      ]
    },
    {
      "cell_type": "code",
      "execution_count": null,
      "metadata": {
        "id": "scCZeYZPYAcP"
      },
      "outputs": [],
      "source": [
        "import math\n"
      ]
    },
    {
      "cell_type": "code",
      "execution_count": null,
      "metadata": {
        "id": "X8AzkOcVWv5X"
      },
      "outputs": [],
      "source": [
        "Xtr = torch.as_tensor(np.array(X).astype('float')) #convert to tensor object to prepare for the function\n",
        "Xtr"
      ]
    },
    {
      "cell_type": "code",
      "execution_count": null,
      "metadata": {
        "id": "RJoTWz__QWhQ"
      },
      "outputs": [],
      "source": [
        "#X: the initial data (can be only complete for now) as a matrix or data.frame\n",
        "#p_miss: proportion of missing values to generate for variables which will have missing values\n",
        "#mecha: one of \"MCAR\", \"MAR\", \"MNAR\" (default: “MCAR”)\n",
        "\n",
        "def produce_NA(X, p_miss, mecha=\"MCAR\", opt=None, p_obs=None, q=None):    \n",
        "    to_torch = torch.is_tensor(X) ## output a pytorch tensor, or a numpy array\n",
        "    if not to_torch:\n",
        "        X = X.astype(np.float32)\n",
        "        X = torch.from_numpy(X)\n",
        "    \n",
        "    if mecha == \"MAR\":\n",
        "        mask = MAR_mask(X, p_miss, p_obs).double()\n",
        "    elif mecha == \"MNAR\" and opt == \"logistic\":\n",
        "        mask = MNAR_mask_logistic(X, p_miss, p_obs).double()\n",
        "    elif mecha == \"MNAR\" and opt == \"quantile\":\n",
        "        mask = MNAR_mask_quantiles(X, p_miss, q, 1-p_obs).double()\n",
        "    elif mecha == \"MNAR\" and opt == \"selfmasked\":\n",
        "        mask = MNAR_self_mask_logistic(X, p_miss).double()\n",
        "    else:\n",
        "        mask = (torch.rand(X.shape) < p_miss).double()\n",
        "    \n",
        "    X_nas = X.clone()\n",
        "    X_nas[mask.bool()] = np.nan\n",
        "    \n",
        "    return {'X_init': X.double(), 'X_incomp': X_nas.double(), 'mask': mask}\n",
        "#X_init: the initial data\n",
        "#X_incomp: the data with the newly generated missing values\n",
        "#mask: a matrix indexing the generated missing values"
      ]
    },
    {
      "cell_type": "code",
      "execution_count": null,
      "metadata": {
        "id": "HDeBDOqUR9q4"
      },
      "outputs": [],
      "source": [
        "X_miss_mcar = produce_NA(Xtr, p_miss=0.4, mecha=\"MCAR\")\n",
        "\n",
        "X_mcar = X_miss_mcar['X_incomp'] #the new dataset\n",
        "R_mcar = X_miss_mcar['mask']\n",
        "\n",
        "print(\"Percentage of newly generated missing values: \", (R_mcar.sum()).numpy()/np.prod(R_mcar.size())*100, \" %\")"
      ]
    },
    {
      "cell_type": "code",
      "execution_count": null,
      "metadata": {
        "id": "ylpBbQO_dqNa"
      },
      "outputs": [],
      "source": [
        "X_miss_mcar['mask'] #matrix indexing the generated missing values"
      ]
    },
    {
      "cell_type": "code",
      "execution_count": null,
      "metadata": {
        "id": "VPrZSbXCYLdl"
      },
      "outputs": [],
      "source": [
        "X_mcar"
      ]
    },
    {
      "cell_type": "code",
      "execution_count": null,
      "metadata": {
        "id": "lsBzoASPXjrK"
      },
      "outputs": [],
      "source": [
        "X_miss = X_mcar.numpy()#tensor to numpy"
      ]
    },
    {
      "cell_type": "code",
      "execution_count": null,
      "metadata": {
        "id": "irR46Us3ekb2"
      },
      "outputs": [],
      "source": [
        "X_miss"
      ]
    },
    {
      "cell_type": "code",
      "execution_count": null,
      "metadata": {
        "id": "gZg1SfGNZHn6"
      },
      "outputs": [],
      "source": [
        "#Xpd = pd.DataFrame(X_miss) #numpy to dataframe\n",
        "Xpd=pd.DataFrame(data=X_miss, columns=X.columns) #numpy to dataframe\n",
        "Xpd"
      ]
    },
    {
      "cell_type": "code",
      "execution_count": null,
      "metadata": {
        "id": "zbYo687KQKbL"
      },
      "outputs": [],
      "source": [
        "# Count the missing values of each time series\n",
        "missing_values = Xpd.isnull().sum()\n",
        "print(missing_values)"
      ]
    },
    {
      "cell_type": "code",
      "execution_count": null,
      "metadata": {
        "id": "ktFP03PqR8Ru"
      },
      "outputs": [],
      "source": [
        "# Visualize the dataset\n",
        "Xpd.plot(legend=False);\n",
        "plt.tight_layout();\n",
        "\n",
        "# Count the missing values of each time series\n",
        "missing_values = Xpd.isnull().sum()\n",
        "print(missing_values)"
      ]
    },
    {
      "cell_type": "markdown",
      "metadata": {
        "id": "eLLFKuQ1R8R3"
      },
      "source": [
        "### Imputing missing values\n",
        "When you have missing data points, how can you fill them in?\n",
        "\n",
        "In this exercise, you'll practice using different interpolation methods to fill in some missing values, visualizing the result each time. But first, you will create the function (```interpolate_and_plot()```) you'll use to interpolate missing data points and plot them."
      ]
    },
    {
      "cell_type": "code",
      "execution_count": null,
      "metadata": {
        "id": "32nKbs-zR8R4"
      },
      "outputs": [],
      "source": [
        "# Create a function we'll use to interpolate and plot\n",
        "def interpolate_and_plot(Xpd, interpolation):\n",
        "    \n",
        "    # Create a boolean mask for missing values\n",
        "    missing_values = Xpd.isna()\n",
        "    \n",
        "    # Interpolate the missing values\n",
        "    Xpd_interp = Xpd.interpolate(interpolation)\n",
        "    \n",
        "    # Plot the results, highlighting the interpolated values in black\n",
        "    fig, ax = plt.subplots(figsize=(10, 5))\n",
        "    Xpd_interp.plot(color='k', alpha=0.6, ax=ax, legend=False);\n",
        "    \n",
        "    # Note plot the interpolated values on top in red\n",
        "    Xpd_interp[missing_values].plot(ax=ax, color='r', lw=3, legend=False);"
      ]
    },
    {
      "cell_type": "code",
      "execution_count": null,
      "metadata": {
        "id": "dnXoJXPQR8SL"
      },
      "outputs": [],
      "source": [
        "# Interpolate using the latest non-missing value\n",
        "interpolation_type = 'quadratic' #try linear or zero or quadratic\n",
        "interpolate_and_plot(Xpd, interpolation_type)"
      ]
    },
    {
      "cell_type": "markdown",
      "metadata": {
        "id": "z_b87FftVgqS"
      },
      "source": [
        "MICE"
      ]
    },
    {
      "cell_type": "code",
      "execution_count": null,
      "metadata": {
        "id": "vUqXXk7ymZav"
      },
      "outputs": [],
      "source": [
        "pip install autoimpute"
      ]
    },
    {
      "cell_type": "code",
      "execution_count": null,
      "metadata": {
        "id": "k0b_f0uhmx01"
      },
      "outputs": [],
      "source": [
        "# simple example using default instance of MiceImputer\n",
        "from autoimpute.imputations import SingleImputer, MultipleImputer, MiceImputer"
      ]
    },
    {
      "cell_type": "code",
      "execution_count": null,
      "metadata": {
        "id": "VD3Ylukdm7b8"
      },
      "outputs": [],
      "source": [
        "# simple example using default instance of MiceImputer\n",
        "imp = MiceImputer()\n",
        "\n",
        "# fit transform returns a generator by default, calculating each imputation method lazily\n",
        "imp.fit(Xpd)"
      ]
    },
    {
      "cell_type": "code",
      "execution_count": null,
      "metadata": {
        "id": "t5GdYgUErpEb"
      },
      "outputs": [],
      "source": [
        "from sklearn.experimental import enable_iterative_imputer\n",
        "from sklearn.impute import IterativeImputer\n",
        "imp_mean = IterativeImputer(random_state=0)\n",
        "imp_mean.fit(Xpd)\n",
        "#IterativeImputer(random_state=0)\n",
        "Xpd_filled = imp_mean.transform(Xpd)"
      ]
    },
    {
      "cell_type": "code",
      "execution_count": null,
      "metadata": {
        "id": "e1bIc3YMsrnp"
      },
      "outputs": [],
      "source": [
        "transformed=pd.DataFrame(data=Xpd_filled, columns=X.columns) #numpy to dataframe"
      ]
    },
    {
      "cell_type": "code",
      "execution_count": null,
      "metadata": {
        "id": "tNhkj2gssw4o"
      },
      "outputs": [],
      "source": [
        "transformed #this is the dataset after imputation"
      ]
    },
    {
      "cell_type": "code",
      "execution_count": null,
      "metadata": {
        "id": "08yCykEotHnm"
      },
      "outputs": [],
      "source": [
        "data"
      ]
    },
    {
      "cell_type": "code",
      "execution_count": null,
      "metadata": {
        "id": "YXViXKiprdMJ"
      },
      "outputs": [],
      "source": [
        "Xpd_filled"
      ]
    },
    {
      "cell_type": "markdown",
      "metadata": {
        "id": "l-9DkGRuu2y6"
      },
      "source": [
        "another try"
      ]
    },
    {
      "cell_type": "code",
      "execution_count": null,
      "metadata": {
        "id": "2gp9T8Tct7rB"
      },
      "outputs": [],
      "source": [
        "from autoimpute.imputations import SingleImputer, MultipleImputer, MiceImputer\n",
        "si = SingleImputer() # pass through data once\n",
        "mi = MultipleImputer() # pass through data multiple times\n",
        "mice = MiceImputer() # pass through data multiple times and iteratively optimize imputations in each column"
      ]
    },
    {
      "cell_type": "code",
      "execution_count": null,
      "metadata": {
        "id": "EdCPgiVhvX53"
      },
      "outputs": [],
      "source": [
        "#dataframe to narray\n",
        "#nXpd = Xpd.to_numpy()"
      ]
    },
    {
      "cell_type": "code",
      "execution_count": null,
      "metadata": {
        "id": "4fqXU79sx2VW"
      },
      "outputs": [],
      "source": [
        "#nXpd"
      ]
    },
    {
      "cell_type": "code",
      "execution_count": null,
      "metadata": {
        "id": "x1hRIdzLu5wi"
      },
      "outputs": [],
      "source": [
        "# simple example using default instance of MiceImputer\n",
        "#imp = MiceImputer()\n",
        "\n",
        "# fit transform returns a generator by default, calculating each imputation method lazily\n",
        "#nXpd_filled = imp.fit_transform(Xpd)"
      ]
    },
    {
      "cell_type": "code",
      "execution_count": null,
      "metadata": {
        "id": "8GLQGtaryRQz"
      },
      "outputs": [],
      "source": [
        "#nXpd_filled"
      ]
    },
    {
      "cell_type": "code",
      "execution_count": null,
      "metadata": {
        "id": "sj5rJArcw9k5"
      },
      "outputs": [],
      "source": [
        "#transformed=pd.DataFrame(data=nXpd_filled, columns=X.columns) #generator object to dataframe"
      ]
    },
    {
      "cell_type": "markdown",
      "metadata": {
        "id": "L9KeR_jCi6Td"
      },
      "source": [
        "### Visualizing predicted values\n",
        "When dealing with time series data, it's useful to visualize model predictions on top of the \"actual\" values that are used to test the model.\n",
        "\n",
        "In this exercise, after splitting the data (stored in the variables ```X``` and ```y```) into training and test sets, you'll build a model and then visualize the model's predictions on top of the testing data in order to estimate the model's performance."
      ]
    },
    {
      "cell_type": "code",
      "execution_count": null,
      "metadata": {
        "id": "TfMrGALni6Tm"
      },
      "outputs": [],
      "source": [
        "from sklearn.model_selection import train_test_split\n",
        "from sklearn.metrics import r2_score\n",
        "\n",
        "# Split our data into training and test sets\n",
        "X_train, X_test, y_train, y_test = train_test_split(X, y, train_size=0.8,\n",
        "                                                   shuffle=False, random_state=1)\n",
        "\n",
        "# Fit our model and generate predictions\n",
        "model = Ridge()\n",
        "model.fit(X_train, y_train)\n",
        "predictions = model.predict(X_test)\n",
        "score = r2_score(y_test, predictions)\n",
        "print(score)"
      ]
    },
    {
      "cell_type": "code",
      "execution_count": null,
      "metadata": {
        "id": "1nRVab-di6Tu"
      },
      "outputs": [],
      "source": [
        "# Visualize our predictions along with the \"true\" values, and print the score\n",
        "fig, ax = plt.subplots(figsize=(15, 5))\n",
        "ax.plot(range(len(y_test)), y_test, color='k', lw=3);\n",
        "ax.plot(range(len(predictions)), predictions, color='r', lw=2);"
      ]
    },
    {
      "cell_type": "markdown",
      "metadata": {
        "id": "dnxorvfhi6Tx"
      },
      "source": [
        "## Advanced time series prediction\n",
        "- Data is messy\n",
        "    - Real-world data is often messy\n",
        "    - The two most common problems are missing data and outliers\n",
        "    - This often happens because of human error, machine error malfunction, database failure, etc..\n",
        "    - Visualizing your raw data makes it easier to spot these problems\n",
        "- Interpolation: using time to fill in missing data\n",
        "    - A common way to deal with missing data is to interpolate missing values\n",
        "    - With timeseries data, you can use time to assist in interpolation.\n",
        "    - In this case, interpolation means using the known values on either side of a gap in the data to make assumptions about what's missing\n",
        "- Using a rolling window to transform data\n",
        "    - Another common use of rolling windows is to transform the data\n",
        "- Finding outliers in your data\n",
        "    - Outliers are datapoints that are significantly statistically different from the dataset.\n",
        "    - They can have negative effects on the predictive power of your model, biasing it away from its \"true\" value\n",
        "    - One solution is to remove or replace outliers with a more representative value\n",
        "> Note: Be very careful about doing this - often it is difficult to determine what is a legitimately extreme value vs an abberation."
      ]
    },
    {
      "cell_type": "markdown",
      "metadata": {
        "id": "8hzjMX0Qi6Tz"
      },
      "source": [
        "### Visualizing messy data\n",
        "Let's take a look at a new dataset - this one is a bit less-clean than what you've seen before.\n",
        "\n",
        "As always, you'll first start by visualizing the raw data. Take a close look and try to find datapoints that could be problematic for fitting models."
      ]
    },
    {
      "cell_type": "code",
      "execution_count": null,
      "metadata": {
        "id": "w30C_7Sbi6T2"
      },
      "outputs": [],
      "source": [
        "prices = pd.read_csv('./dataset/prices_null.csv', index_col=0, parse_dates=True)"
      ]
    },
    {
      "cell_type": "code",
      "execution_count": null,
      "metadata": {
        "id": "N_rCqZp-i6US"
      },
      "outputs": [],
      "source": [
        "# Visualize the dataset\n",
        "prices.plot(legend=False);\n",
        "plt.tight_layout();\n",
        "\n",
        "# Count the missing values of each time series\n",
        "missing_values = prices.isnull().sum()\n",
        "print(missing_values)"
      ]
    },
    {
      "cell_type": "markdown",
      "metadata": {
        "id": "GEs_TjcSi6Ui"
      },
      "source": [
        "### Transforming raw data\n",
        "In the last chapter, you calculated the rolling mean. In this exercise, you will define a function that calculates the percent change of the latest data point from the mean of a window of previous data points. This function will help you calculate the percent change over a rolling window.\n",
        "\n",
        "This is a more stable kind of time series that is often useful in machine learning."
      ]
    },
    {
      "cell_type": "code",
      "execution_count": null,
      "metadata": {
        "id": "NZKslkVoi6Uk"
      },
      "outputs": [],
      "source": [
        "# Your custom function\n",
        "def percent_change(series):\n",
        "    # Collect all *but* the last value of this window, then the final value\n",
        "    previous_values = series[:-1]\n",
        "    last_value = series[-1]\n",
        "    \n",
        "    # Calculate the % difference between the last value and the mean of earlier values\n",
        "    percent_change = (last_value - np.mean(previous_values)) / np.mean(previous_values)\n",
        "    return percent_change\n",
        "\n",
        "# Apply your custom function and plot\n",
        "prices_perc = prices.rolling(20).apply(percent_change)\n",
        "prices_perc.loc[\"2014\":\"2015\"].plot();"
      ]
    },
    {
      "cell_type": "markdown",
      "metadata": {
        "id": "rzUep46ki6Um"
      },
      "source": [
        "### Handling outliers\n",
        "In this exercise, you'll handle outliers - data points that are so different from the rest of your data, that you treat them differently from other \"normal-looking\" data points. You'll use the output from the previous exercise (percent change over time) to detect the outliers. First you will write a function that replaces outlier data points with the median value from the entire time series."
      ]
    },
    {
      "cell_type": "code",
      "execution_count": null,
      "metadata": {
        "id": "RJTp_36Vi6Up"
      },
      "outputs": [],
      "source": [
        "def replace_outliers(series):\n",
        "    # Calculate the absolute difference of each timepoint from the series mean\n",
        "    absolute_differences_from_mean = np.abs(series - np.mean(series))\n",
        "    \n",
        "    # Calculate a mask for the difference that are > 3 standard deviations from zero\n",
        "    this_mask = absolute_differences_from_mean > (np.std(series) * 3)\n",
        "    \n",
        "    # Replace these values with the median across the data\n",
        "    series[this_mask] = np.nanmedian(series)\n",
        "    return series\n",
        "\n",
        "# Apply your preprocessing functino to the timeseries and plot the results\n",
        "prices_perc = prices_perc.apply(replace_outliers)\n",
        "prices_perc.loc[\"2014\":\"2015\"].plot();"
      ]
    },
    {
      "cell_type": "markdown",
      "metadata": {
        "id": "inyM8CuSi6Ur"
      },
      "source": [
        "## Creating features over time\n",
        "- Calculating \"date-based\" features\n",
        "    - Thus far we've focused on calculating \"statistical\" features - these are features that correspond statistical properties of the data, like \"mean\" , \"standard deviation\", etc\n",
        "    - However, don't forget the timeseries data oftenhas more \"human\" features associated with it, like days of the week, holidays, etc.\n",
        "    - These features are often useful when dealing with timeseries data that spans multiple years (such as stock value over time)"
      ]
    },
    {
      "cell_type": "markdown",
      "metadata": {
        "id": "__pUB497i6Ut"
      },
      "source": [
        "### Engineering multiple rolling features at once\n",
        "Now that you've practiced some simple feature engineering, let's move on to something more complex. You'll calculate a collection of features for your time series data and visualize what they look like over time. This process resembles how many other time series models operate."
      ]
    },
    {
      "cell_type": "code",
      "execution_count": null,
      "metadata": {
        "id": "RW4VKOrxi6Uu"
      },
      "outputs": [],
      "source": [
        "# Define a rolling window with Pandas, excluding the right-most datapoint of the window\n",
        "prices_perc_rolling = prices_perc['EBAY'].rolling(20, min_periods=5, closed='right')\n",
        "\n",
        "# Define the features you'll calculate for each window\n",
        "features_to_calculate = [np.min, np.max, np.mean, np.std]\n",
        "\n",
        "# Calculate these features for your rolling window object\n",
        "features = prices_perc_rolling.aggregate(features_to_calculate)\n",
        "\n",
        "# Plot the results\n",
        "ax = features.loc[:\"2011-01\"].plot();\n",
        "prices_perc['EBAY'].loc[:\"2011-01\"].plot(ax=ax, color='k', alpha=0.2, lw=3);\n",
        "ax.legend(loc=(1.01, 0.6));"
      ]
    },
    {
      "cell_type": "markdown",
      "metadata": {
        "id": "wOIqGYo3i6Uw"
      },
      "source": [
        "### Percentiles and partial functions\n",
        "In this exercise, you'll practice how to pre-choose arguments of a function so that you can pre-configure how it runs. You'll use this to calculate several percentiles of your data using the same ```percentile()``` function in numpy."
      ]
    },
    {
      "cell_type": "code",
      "execution_count": null,
      "metadata": {
        "id": "F6P_8sAdi6Ux"
      },
      "outputs": [],
      "source": [
        "from functools import partial\n",
        "percentiles = [1, 10, 25, 50, 75, 90, 99]\n",
        "\n",
        "# Use a list comprehension to create a partial function for each quantile\n",
        "percentile_functions = [partial(np.percentile, q=percentile) for percentile in percentiles]\n",
        "\n",
        "# Calculate each of these quantiles on the data using a rolling window\n",
        "prices_perc_rolling = prices_perc['EBAY'].rolling(20, min_periods=5, closed='right')\n",
        "features_percentiles = prices_perc_rolling.aggregate(percentile_functions)\n",
        "\n",
        "# Plot a subset of the result\n",
        "ax = features_percentiles.loc[:\"2011-01\"].plot(cmap=plt.cm.viridis);\n",
        "ax.legend(percentiles, loc=(1.01, 0.5));\n",
        "plt.savefig('../images/price_percentile.png')"
      ]
    },
    {
      "cell_type": "markdown",
      "metadata": {
        "id": "E-oDsi5Hi6Uz"
      },
      "source": [
        "### Using \"date\" information\n",
        "It's easy to think of timestamps as pure numbers, but don't forget they generally correspond to things that happen in the real world. That means there's often extra information encoded in the data such as \"is it a weekday?\" or \"is it a holiday?\". This information is often useful in predicting timeseries data."
      ]
    },
    {
      "cell_type": "code",
      "execution_count": null,
      "metadata": {
        "id": "-YYHre1oi6U6"
      },
      "outputs": [],
      "source": [
        "# Extract date features from the data, add them as columns\n",
        "prices_perc['day_of_week'] = prices_perc.index.dayofweek\n",
        "prices_perc['week_of_year'] = prices_perc.index.weekofyear\n",
        "prices_perc['month_of_year'] = prices_perc.index.month\n",
        "\n",
        "# Print prices_perc\n",
        "print(prices_perc)"
      ]
    }
  ],
  "metadata": {
    "colab": {
      "provenance": [],
      "include_colab_link": true
    },
    "kernelspec": {
      "display_name": "Python 3",
      "language": "python",
      "name": "python3"
    },
    "language_info": {
      "codemirror_mode": {
        "name": "ipython",
        "version": 3
      },
      "file_extension": ".py",
      "mimetype": "text/x-python",
      "name": "python",
      "nbconvert_exporter": "python",
      "pygments_lexer": "ipython3",
      "version": "3.7.6"
    }
  },
  "nbformat": 4,
  "nbformat_minor": 0
}